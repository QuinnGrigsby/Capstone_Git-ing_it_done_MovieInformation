{
 "cells": [
  {
   "cell_type": "markdown",
   "metadata": {},
   "source": [
    "# Importing libraries"
   ]
  },
  {
   "cell_type": "code",
   "execution_count": 1,
   "metadata": {},
   "outputs": [],
   "source": [
    "import pandas as pd\n",
    "import matplotlib.pyplot as plt\n",
    "import scipy as stats\n",
    "import seaborn as sns\n",
    "import zipfile\n",
    "import sqlite3"
   ]
  },
  {
   "cell_type": "markdown",
   "metadata": {},
   "source": [
    "# Opening data files, cleaning and assigning to dataframes so team is working from the same dataset"
   ]
  },
  {
   "cell_type": "code",
   "execution_count": 2,
   "metadata": {
    "scrolled": true
   },
   "outputs": [
    {
     "name": "stdout",
     "output_type": "stream",
     "text": [
      "                                            title      studio  domestic_gross  \\\n",
      "0                                     Toy Story 3          BV     415000000.0   \n",
      "1                      Alice in Wonderland (2010)          BV     334200000.0   \n",
      "2     Harry Potter and the Deathly Hallows Part 1          WB     296000000.0   \n",
      "3                                       Inception          WB     292600000.0   \n",
      "4                             Shrek Forever After        P/DW     238700000.0   \n",
      "...                                           ...         ...             ...   \n",
      "3382                                    The Quake       Magn.          6200.0   \n",
      "3383                  Edward II (2018 re-release)          FM          4800.0   \n",
      "3384                                     El Pacto        Sony          2500.0   \n",
      "3385                                     The Swan  Synergetic          2400.0   \n",
      "3386                            An Actor Prepares       Grav.          1700.0   \n",
      "\n",
      "     foreign_gross  year  \n",
      "0        652000000  2010  \n",
      "1        691300000  2010  \n",
      "2        664300000  2010  \n",
      "3        535700000  2010  \n",
      "4        513900000  2010  \n",
      "...            ...   ...  \n",
      "3382           NaN  2018  \n",
      "3383           NaN  2018  \n",
      "3384           NaN  2018  \n",
      "3385           NaN  2018  \n",
      "3386           NaN  2018  \n",
      "\n",
      "[3387 rows x 5 columns]\n"
     ]
    }
   ],
   "source": [
    "movie_gross_data = pd.read_csv(\"zippedData/bom.movie_gross.csv.gz\")\n",
    "print(movie_gross_data)"
   ]
  },
  {
   "cell_type": "code",
   "execution_count": 3,
   "metadata": {},
   "outputs": [
    {
     "name": "stdout",
     "output_type": "stream",
     "text": [
      "       Unnamed: 0            genre_ids      id original_language  \\\n",
      "0               0      [12, 14, 10751]   12444                en   \n",
      "1               1  [14, 12, 16, 10751]   10191                en   \n",
      "2               2        [12, 28, 878]   10138                en   \n",
      "3               3      [16, 35, 10751]     862                en   \n",
      "4               4        [28, 878, 12]   27205                en   \n",
      "...           ...                  ...     ...               ...   \n",
      "26512       26512             [27, 18]  488143                en   \n",
      "26513       26513             [18, 53]  485975                en   \n",
      "26514       26514         [14, 28, 12]  381231                en   \n",
      "26515       26515      [10751, 12, 28]  366854                en   \n",
      "26516       26516             [53, 27]  309885                en   \n",
      "\n",
      "                                     original_title  popularity release_date  \\\n",
      "0      Harry Potter and the Deathly Hallows: Part 1      33.533   2010-11-19   \n",
      "1                          How to Train Your Dragon      28.734   2010-03-26   \n",
      "2                                        Iron Man 2      28.515   2010-05-07   \n",
      "3                                         Toy Story      28.005   1995-11-22   \n",
      "4                                         Inception      27.920   2010-07-16   \n",
      "...                                             ...         ...          ...   \n",
      "26512                         Laboratory Conditions       0.600   2018-10-13   \n",
      "26513                               _EXHIBIT_84xxx_       0.600   2018-05-01   \n",
      "26514                                  The Last One       0.600   2018-10-01   \n",
      "26515                                  Trailer Made       0.600   2018-06-22   \n",
      "26516                                    The Church       0.600   2018-10-05   \n",
      "\n",
      "                                              title  vote_average  vote_count  \n",
      "0      Harry Potter and the Deathly Hallows: Part 1           7.7       10788  \n",
      "1                          How to Train Your Dragon           7.7        7610  \n",
      "2                                        Iron Man 2           6.8       12368  \n",
      "3                                         Toy Story           7.9       10174  \n",
      "4                                         Inception           8.3       22186  \n",
      "...                                             ...           ...         ...  \n",
      "26512                         Laboratory Conditions           0.0           1  \n",
      "26513                               _EXHIBIT_84xxx_           0.0           1  \n",
      "26514                                  The Last One           0.0           1  \n",
      "26515                                  Trailer Made           0.0           1  \n",
      "26516                                    The Church           0.0           1  \n",
      "\n",
      "[26517 rows x 10 columns]\n"
     ]
    }
   ],
   "source": [
    "movie_popularity = pd.read_csv(\"zippedData/tmdb.movies.csv.gz\")\n",
    "print(movie_popularity)"
   ]
  },
  {
   "cell_type": "code",
   "execution_count": 4,
   "metadata": {},
   "outputs": [
    {
     "name": "stdout",
     "output_type": "stream",
     "text": [
      "                                            title      studio  domestic_gross  \\\n",
      "0                                     Toy Story 3          BV     415000000.0   \n",
      "1                      Alice in Wonderland (2010)          BV     334200000.0   \n",
      "2     Harry Potter and the Deathly Hallows Part 1          WB     296000000.0   \n",
      "3                                       Inception          WB     292600000.0   \n",
      "4                             Shrek Forever After        P/DW     238700000.0   \n",
      "...                                           ...         ...             ...   \n",
      "3382                                    The Quake       Magn.          6200.0   \n",
      "3383                  Edward II (2018 re-release)          FM          4800.0   \n",
      "3384                                     El Pacto        Sony          2500.0   \n",
      "3385                                     The Swan  Synergetic          2400.0   \n",
      "3386                            An Actor Prepares       Grav.          1700.0   \n",
      "\n",
      "     foreign_gross  year  \n",
      "0        652000000  2010  \n",
      "1        691300000  2010  \n",
      "2        664300000  2010  \n",
      "3        535700000  2010  \n",
      "4        513900000  2010  \n",
      "...            ...   ...  \n",
      "3382             0  2018  \n",
      "3383             0  2018  \n",
      "3384             0  2018  \n",
      "3385             0  2018  \n",
      "3386             0  2018  \n",
      "\n",
      "[3382 rows x 5 columns]\n"
     ]
    }
   ],
   "source": [
    "#cleaning \n",
    "movie_gross_data = pd.read_csv(\"zippedData/bom.movie_gross.csv.gz\")\n",
    "movie_gross_data[\"foreign_gross\"].fillna(0, inplace = True)\n",
    "movie_gross_data[\"domestic_gross\"].fillna(0, inplace = True)\n",
    "movie_gross_data.dropna(inplace = True)\n",
    "print(movie_gross_data)"
   ]
  },
  {
   "cell_type": "code",
   "execution_count": 5,
   "metadata": {},
   "outputs": [],
   "source": [
    "#cleaning \n",
    "movie_gross_data[\"domestic_gross\"].replace(',','', regex = True, inplace = True)\n",
    "movie_gross_data[\"foreign_gross\"].replace(',','', regex = True, inplace = True)"
   ]
  },
  {
   "cell_type": "code",
   "execution_count": 6,
   "metadata": {},
   "outputs": [
    {
     "name": "stdout",
     "output_type": "stream",
     "text": [
      "                                            title      studio  domestic_gross  \\\n",
      "0                                     Toy Story 3          BV     415000000.0   \n",
      "1                      Alice in Wonderland (2010)          BV     334200000.0   \n",
      "2     Harry Potter and the Deathly Hallows Part 1          WB     296000000.0   \n",
      "3                                       Inception          WB     292600000.0   \n",
      "4                             Shrek Forever After        P/DW     238700000.0   \n",
      "...                                           ...         ...             ...   \n",
      "3382                                    The Quake       Magn.          6200.0   \n",
      "3383                  Edward II (2018 re-release)          FM          4800.0   \n",
      "3384                                     El Pacto        Sony          2500.0   \n",
      "3385                                     The Swan  Synergetic          2400.0   \n",
      "3386                            An Actor Prepares       Grav.          1700.0   \n",
      "\n",
      "     foreign_gross  year   total_gross  \n",
      "0        652000000  2010  1.067000e+09  \n",
      "1        691300000  2010  1.025500e+09  \n",
      "2        664300000  2010  9.603000e+08  \n",
      "3        535700000  2010  8.283000e+08  \n",
      "4        513900000  2010  7.526000e+08  \n",
      "...            ...   ...           ...  \n",
      "3382             0  2018  6.200000e+03  \n",
      "3383             0  2018  4.800000e+03  \n",
      "3384             0  2018  2.500000e+03  \n",
      "3385             0  2018  2.400000e+03  \n",
      "3386             0  2018  1.700000e+03  \n",
      "\n",
      "[3382 rows x 6 columns]\n"
     ]
    }
   ],
   "source": [
    "movie_gross_data[\"total_gross\"] = movie_gross_data[\"foreign_gross\"].astype(float) + movie_gross_data[\"domestic_gross\"].astype(float)\n",
    "print(movie_gross_data)"
   ]
  },
  {
   "cell_type": "markdown",
   "metadata": {},
   "source": [
    "Using zipfile to unzip imdb database and creating connection to the database"
   ]
  },
  {
   "cell_type": "code",
   "execution_count": 7,
   "metadata": {},
   "outputs": [],
   "source": [
    "with zipfile.ZipFile(\"zippedData/im.db.zip\", \"r\") as zObject:\n",
    "        zObject.extractall()"
   ]
  },
  {
   "cell_type": "code",
   "execution_count": 8,
   "metadata": {},
   "outputs": [],
   "source": [
    "conn = sqlite3.connect(\"im.db\")\n",
    "cur = conn.cursor()"
   ]
  },
  {
   "cell_type": "markdown",
   "metadata": {},
   "source": [
    "Ensuring database is pulling correctly by running simple queries, analyzing columns to see where movie_basics and movie_ratings tables join"
   ]
  },
  {
   "cell_type": "code",
   "execution_count": 9,
   "metadata": {},
   "outputs": [
    {
     "data": {
      "text/html": [
       "<div>\n",
       "<style scoped>\n",
       "    .dataframe tbody tr th:only-of-type {\n",
       "        vertical-align: middle;\n",
       "    }\n",
       "\n",
       "    .dataframe tbody tr th {\n",
       "        vertical-align: top;\n",
       "    }\n",
       "\n",
       "    .dataframe thead th {\n",
       "        text-align: right;\n",
       "    }\n",
       "</style>\n",
       "<table border=\"1\" class=\"dataframe\">\n",
       "  <thead>\n",
       "    <tr style=\"text-align: right;\">\n",
       "      <th></th>\n",
       "      <th>movie_id</th>\n",
       "      <th>primary_title</th>\n",
       "      <th>original_title</th>\n",
       "      <th>start_year</th>\n",
       "      <th>runtime_minutes</th>\n",
       "      <th>genres</th>\n",
       "    </tr>\n",
       "  </thead>\n",
       "  <tbody>\n",
       "    <tr>\n",
       "      <th>0</th>\n",
       "      <td>tt0187902</td>\n",
       "      <td>How Huang Fei-hong Rescued the Orphan from the...</td>\n",
       "      <td>How Huang Fei-hong Rescued the Orphan from the...</td>\n",
       "      <td>2011</td>\n",
       "      <td>NaN</td>\n",
       "      <td>None</td>\n",
       "    </tr>\n",
       "    <tr>\n",
       "      <th>1</th>\n",
       "      <td>tt0364201</td>\n",
       "      <td>Aman Ke Farishtey</td>\n",
       "      <td>Aman Ke Farishtey</td>\n",
       "      <td>2016</td>\n",
       "      <td>137.0</td>\n",
       "      <td>Action</td>\n",
       "    </tr>\n",
       "    <tr>\n",
       "      <th>2</th>\n",
       "      <td>tt6848590</td>\n",
       "      <td>Moonshine Meat Market Mayhem</td>\n",
       "      <td>Moonshine Meat Market Mayhem</td>\n",
       "      <td>2016</td>\n",
       "      <td>NaN</td>\n",
       "      <td>Action,Adult,Comedy</td>\n",
       "    </tr>\n",
       "    <tr>\n",
       "      <th>3</th>\n",
       "      <td>tt10097958</td>\n",
       "      <td>Gripped: Climbing Killer Pillar</td>\n",
       "      <td>Gripped: Climbing Killer Pillar</td>\n",
       "      <td>2019</td>\n",
       "      <td>NaN</td>\n",
       "      <td>Action,Adventure</td>\n",
       "    </tr>\n",
       "    <tr>\n",
       "      <th>4</th>\n",
       "      <td>tt0448694</td>\n",
       "      <td>Puss in Boots</td>\n",
       "      <td>Puss in Boots</td>\n",
       "      <td>2011</td>\n",
       "      <td>90.0</td>\n",
       "      <td>Action,Adventure,Animation</td>\n",
       "    </tr>\n",
       "  </tbody>\n",
       "</table>\n",
       "</div>"
      ],
      "text/plain": [
       "     movie_id                                      primary_title  \\\n",
       "0   tt0187902  How Huang Fei-hong Rescued the Orphan from the...   \n",
       "1   tt0364201                                  Aman Ke Farishtey   \n",
       "2   tt6848590                       Moonshine Meat Market Mayhem   \n",
       "3  tt10097958                    Gripped: Climbing Killer Pillar   \n",
       "4   tt0448694                                      Puss in Boots   \n",
       "\n",
       "                                      original_title  start_year  \\\n",
       "0  How Huang Fei-hong Rescued the Orphan from the...        2011   \n",
       "1                                  Aman Ke Farishtey        2016   \n",
       "2                       Moonshine Meat Market Mayhem        2016   \n",
       "3                    Gripped: Climbing Killer Pillar        2019   \n",
       "4                                      Puss in Boots        2011   \n",
       "\n",
       "   runtime_minutes                      genres  \n",
       "0              NaN                        None  \n",
       "1            137.0                      Action  \n",
       "2              NaN         Action,Adult,Comedy  \n",
       "3              NaN            Action,Adventure  \n",
       "4             90.0  Action,Adventure,Animation  "
      ]
     },
     "execution_count": 9,
     "metadata": {},
     "output_type": "execute_result"
    }
   ],
   "source": [
    "pd.read_sql(\"\"\"\n",
    "SELECT *\n",
    "FROM movie_basics\n",
    "GROUP BY genres\n",
    ";\n",
    "\"\"\", conn).head()"
   ]
  },
  {
   "cell_type": "code",
   "execution_count": 10,
   "metadata": {
    "scrolled": true
   },
   "outputs": [
    {
     "data": {
      "text/html": [
       "<div>\n",
       "<style scoped>\n",
       "    .dataframe tbody tr th:only-of-type {\n",
       "        vertical-align: middle;\n",
       "    }\n",
       "\n",
       "    .dataframe tbody tr th {\n",
       "        vertical-align: top;\n",
       "    }\n",
       "\n",
       "    .dataframe thead th {\n",
       "        text-align: right;\n",
       "    }\n",
       "</style>\n",
       "<table border=\"1\" class=\"dataframe\">\n",
       "  <thead>\n",
       "    <tr style=\"text-align: right;\">\n",
       "      <th></th>\n",
       "      <th>movie_id</th>\n",
       "      <th>averagerating</th>\n",
       "      <th>numvotes</th>\n",
       "    </tr>\n",
       "  </thead>\n",
       "  <tbody>\n",
       "    <tr>\n",
       "      <th>0</th>\n",
       "      <td>tt10356526</td>\n",
       "      <td>8.3</td>\n",
       "      <td>31</td>\n",
       "    </tr>\n",
       "    <tr>\n",
       "      <th>1</th>\n",
       "      <td>tt10384606</td>\n",
       "      <td>8.9</td>\n",
       "      <td>559</td>\n",
       "    </tr>\n",
       "    <tr>\n",
       "      <th>2</th>\n",
       "      <td>tt1042974</td>\n",
       "      <td>6.4</td>\n",
       "      <td>20</td>\n",
       "    </tr>\n",
       "    <tr>\n",
       "      <th>3</th>\n",
       "      <td>tt1043726</td>\n",
       "      <td>4.2</td>\n",
       "      <td>50352</td>\n",
       "    </tr>\n",
       "    <tr>\n",
       "      <th>4</th>\n",
       "      <td>tt1060240</td>\n",
       "      <td>6.5</td>\n",
       "      <td>21</td>\n",
       "    </tr>\n",
       "  </tbody>\n",
       "</table>\n",
       "</div>"
      ],
      "text/plain": [
       "     movie_id  averagerating  numvotes\n",
       "0  tt10356526            8.3        31\n",
       "1  tt10384606            8.9       559\n",
       "2   tt1042974            6.4        20\n",
       "3   tt1043726            4.2     50352\n",
       "4   tt1060240            6.5        21"
      ]
     },
     "execution_count": 10,
     "metadata": {},
     "output_type": "execute_result"
    }
   ],
   "source": [
    "pd.read_sql(\"\"\"\n",
    "SELECT *\n",
    "FROM movie_ratings\n",
    ";\n",
    "\"\"\", conn).head()"
   ]
  },
  {
   "cell_type": "markdown",
   "metadata": {},
   "source": [
    "# Question: What movies are doing well at the box office by genre and ratings? "
   ]
  },
  {
   "cell_type": "markdown",
   "metadata": {},
   "source": [
    "Below is the query I ran to find join the movie_ratings and movie_basics tables from the imdb database to pull genres and movie ratings. I wanted to pull genres with a rating of 8.4 or higher and to exclude those rows that have a null value for genre. I wanted the results in descendingorder so I have ratings of 10 at the top. I then made the query into a dataframe so I can graph it and group the genres so I have a more concise and accurate dataset."
   ]
  },
  {
   "cell_type": "code",
   "execution_count": 47,
   "metadata": {
    "scrolled": false
   },
   "outputs": [
    {
     "name": "stdout",
     "output_type": "stream",
     "text": [
      "      avg_rating                       genres\n",
      "0            9.9                        Drama\n",
      "1            9.8            Documentary,Music\n",
      "2            9.7                  Documentary\n",
      "3            9.7                  Documentary\n",
      "4            9.7                  Documentary\n",
      "...          ...                          ...\n",
      "1052         8.5                        Drama\n",
      "1053         8.5      Action,Adventure,Sci-Fi\n",
      "1054         8.5  Biography,Documentary,Music\n",
      "1055         8.5                        Drama\n",
      "1056         8.5                  Documentary\n",
      "\n",
      "[1057 rows x 2 columns]\n"
     ]
    }
   ],
   "source": [
    "q = \"\"\"\n",
    "SELECT averagerating as avg_rating, genres\n",
    "FROM movie_ratings\n",
    "JOIN movie_basics\n",
    "    USING (movie_id)\n",
    "WHERE averagerating >= 8.5\n",
    "AND numvotes > 30\n",
    "AND genres IS NOT NULL\n",
    "ORDER BY avg_rating DESC\n",
    ";\n",
    "\"\"\"\n",
    "high_ratings = pd.read_sql(q, conn)\n",
    "print(high_ratings)"
   ]
  },
  {
   "cell_type": "code",
   "execution_count": 68,
   "metadata": {},
   "outputs": [
    {
     "name": "stdout",
     "output_type": "stream",
     "text": [
      "                         genres  avg_rating\n",
      "79         Comedy,Drama,Musical         9.5\n",
      "12    Action,Comedy,Documentary         9.4\n",
      "119   Documentary,History,Sport         9.4\n",
      "44             Adventure,Family         9.4\n",
      "102      Crime,Mystery,Thriller         9.3\n",
      "..                          ...         ...\n",
      "137       Drama,Fantasy,Musical         8.5\n",
      "147        Drama,Mystery,Sci-Fi         8.5\n",
      "16         Action,Crime,Mystery         8.5\n",
      "110     Documentary,Drama,Sport         8.5\n",
      "45   Adventure,Mystery,Thriller         8.5\n",
      "\n",
      "[171 rows x 2 columns]\n"
     ]
    }
   ],
   "source": [
    "high_ratings = high_ratings[high_ratings[\"genres\"].str.contains(\"None\") == False]\n",
    "\n",
    "data_for_analysis_by_rating = high_ratings.groupby(by=\"genres\", as_index=False).mean()\n",
    "\n",
    "data_for_analysis_by_rating_sort = data_for_analysis_by_rating.sort_values(by = 'avg_rating', ascending=False)\n",
    "\n",
    "print(data_for_analysis_by_rating_sort)"
   ]
  },
  {
   "cell_type": "markdown",
   "metadata": {},
   "source": [
    "Pulling top 30 rows from the dataframe as these are the most relevant to helping support my original question "
   ]
  },
  {
   "cell_type": "code",
   "execution_count": 74,
   "metadata": {},
   "outputs": [
    {
     "name": "stdout",
     "output_type": "stream",
     "text": [
      "                            genres  avg_rating\n",
      "79            Comedy,Drama,Musical    9.500000\n",
      "12       Action,Comedy,Documentary    9.400000\n",
      "119      Documentary,History,Sport    9.400000\n",
      "44                Adventure,Family    9.400000\n",
      "102         Crime,Mystery,Thriller    9.300000\n",
      "8     Action,Biography,Documentary    9.300000\n",
      "46                 Adventure,Sport    9.200000\n",
      "19       Action,Documentary,Family    9.200000\n",
      "39   Adventure,Documentary,Western    9.200000\n",
      "77            Comedy,Drama,Fantasy    9.200000\n",
      "92                   Comedy,Sci-Fi    9.200000\n",
      "74      Comedy,Documentary,History    9.200000\n",
      "163                Mystery,Romance    9.200000\n",
      "138                  Drama,History    9.150000\n",
      "124          Documentary,Music,War    9.150000\n",
      "108        Documentary,Drama,Music    9.133333\n",
      "93                    Comedy,Sport    9.100000\n",
      "123        Documentary,Music,Sport    9.100000\n",
      "40                 Adventure,Drama    9.100000\n",
      "140           Drama,Horror,Mystery    9.100000\n",
      "112             Documentary,Family    9.100000\n",
      "80            Comedy,Drama,Mystery    9.100000\n",
      "166                         Sci-Fi    9.100000\n",
      "113     Documentary,Family,History    9.050000\n",
      "115       Documentary,Family,Sport    9.050000\n",
      "99              Crime,Drama,Horror    9.000000\n",
      "62   Biography,Documentary,Romance    9.000000\n",
      "76             Comedy,Drama,Family    9.000000\n",
      "18        Action,Documentary,Drama    9.000000\n",
      "105              Documentary,Drama    8.970000\n"
     ]
    }
   ],
   "source": [
    "top_30 = data_for_analysis_by_rating_sort.iloc[:30]\n",
    "\n",
    "print(top_30)"
   ]
  },
  {
   "cell_type": "markdown",
   "metadata": {},
   "source": [
    "# Visualization to learn more about the data and form recommendation"
   ]
  },
  {
   "cell_type": "code",
   "execution_count": 75,
   "metadata": {
    "scrolled": true
   },
   "outputs": [
    {
     "data": {
      "image/png": "[encoded data removed]",
      "text/plain": [
       "<Figure size 1296x360 with 1 Axes>"
      ]
     },
     "metadata": {
      "needs_background": "light"
     },
     "output_type": "display_data"
    }
   ],
   "source": [
    "#plt.figure(figsize=(18, 5))\n",
    "#plt.bar(top_30[\"genres\"], top_30[\"avg_rating\"], color = \"b\")\n",
    "\n",
    "top_30.plot(\"genres\", kind=\"bar\", figsize = (18,5), color = \"g\")\n",
    "plt.xlabel(\"Genres\")\n",
    "plt.xticks(rotation = 90)\n",
    "plt.ylabel(\"Average Rating\")\n",
    "plt.yticks(range(0,11,2))\n",
    "plt.title(\"Genres with the Highest Ratings\")\n",
    "plt.legend(labels=['Average Rating'])\n",
    "plt.show()"
   ]
  },
  {
   "cell_type": "markdown",
   "metadata": {},
   "source": [
    "# Information about genres with the lowest ratings to help support our recommendation"
   ]
  },
  {
   "cell_type": "code",
   "execution_count": 62,
   "metadata": {
    "scrolled": true
   },
   "outputs": [
    {
     "name": "stdout",
     "output_type": "stream",
     "text": [
      "     avg_rating                      genres\n",
      "0           2.0                     Western\n",
      "1           2.0             Sci-Fi,Thriller\n",
      "2           2.0       Drama,Mystery,Romance\n",
      "3           2.0                       Crime\n",
      "4           2.0      Comedy,Musical,Romance\n",
      "..          ...                         ...\n",
      "98          1.0               Drama,Romance\n",
      "99          1.0                Drama,Family\n",
      "100         1.0                       Drama\n",
      "101         1.0  Adventure,Biography,Comedy\n",
      "102         1.0  Adventure,Animation,Family\n",
      "\n",
      "[103 rows x 2 columns]\n"
     ]
    }
   ],
   "source": [
    "q2 = \"\"\"\n",
    "SELECT averagerating as avg_rating, genres\n",
    "FROM movie_ratings\n",
    "JOIN movie_basics\n",
    "    USING (movie_id)\n",
    "WHERE averagerating <= 2\n",
    "AND numvotes > 30\n",
    "AND genres IS NOT NULL\n",
    "GROUP BY genres\n",
    "ORDER BY avg_rating DESC\n",
    ";\n",
    "\"\"\"\n",
    "low_ratings = pd.read_sql(q2, conn)\n",
    "print(low_ratings)"
   ]
  },
  {
   "cell_type": "code",
   "execution_count": 69,
   "metadata": {},
   "outputs": [
    {
     "name": "stdout",
     "output_type": "stream",
     "text": [
      "                      genres  avg_rating\n",
      "86   Fantasy,Mystery,Romance         1.0\n",
      "78             Drama,Romance         1.0\n",
      "72              Drama,Family         1.0\n",
      "71                     Drama         1.0\n",
      "82                    Family         1.0\n",
      "..                       ...         ...\n",
      "57            Comedy,Fantasy         2.0\n",
      "61    Comedy,Musical,Romance         2.0\n",
      "64                     Crime         2.0\n",
      "100          Sci-Fi,Thriller         2.0\n",
      "102                  Western         2.0\n",
      "\n",
      "[103 rows x 2 columns]\n"
     ]
    }
   ],
   "source": [
    "low_ratings = low_ratings[low_ratings[\"genres\"].str.contains(\"None\") == False]\n",
    "\n",
    "data_for_analysis_by_rating_low = low_ratings.groupby(by=\"genres\", as_index=False).mean()\n",
    "\n",
    "data_for_analysis_by_rating_sort_low = data_for_analysis_by_rating_low.sort_values(by = 'avg_rating', ascending=True)\n",
    "\n",
    "print(data_for_analysis_by_rating_sort_low)"
   ]
  },
  {
   "cell_type": "code",
   "execution_count": 70,
   "metadata": {},
   "outputs": [
    {
     "name": "stdout",
     "output_type": "stream",
     "text": [
      "                        genres  avg_rating\n",
      "86     Fantasy,Mystery,Romance         1.0\n",
      "78               Drama,Romance         1.0\n",
      "72                Drama,Family         1.0\n",
      "71                       Drama         1.0\n",
      "82                      Family         1.0\n",
      "35  Adventure,Animation,Family         1.0\n",
      "36  Adventure,Biography,Comedy         1.0\n",
      "94                       Music         1.1\n",
      "29           Action,Sci-Fi,War         1.1\n",
      "38     Adventure,Drama,Romance         1.1\n",
      "97                     Romance         1.1\n",
      "59       Comedy,History,Horror         1.1\n",
      "63               Comedy,Sci-Fi         1.1\n",
      "67              Crime,Thriller         1.1\n",
      "24       Action,Fantasy,Sci-Fi         1.2\n",
      "27               Action,Sci-Fi         1.2\n",
      "42     Animation,Comedy,Family         1.2\n",
      "51         Comedy,Drama,Family         1.2\n",
      "80              Drama,Thriller         1.2\n",
      "16         Action,Crime,Horror         1.2\n",
      "40          Adventure,Thriller         1.3\n",
      "81                   Drama,War         1.3\n",
      "18         Action,Drama,Family         1.3\n",
      "22            Action,Drama,War         1.3\n",
      "9     Action,Biography,History         1.3\n",
      "37    Adventure,Comedy,Fantasy         1.3\n",
      "60               Comedy,Horror         1.3\n",
      "83              Family,Fantasy         1.3\n",
      "46            Biography,Comedy         1.3\n",
      "50                Comedy,Drama         1.4\n"
     ]
    }
   ],
   "source": [
    "#fix for pulling lowest 30 not starting at 2\n",
    "top_30_low = data_for_analysis_by_rating_sort_low.iloc[:30]\n",
    "\n",
    "print(top_30_low)"
   ]
  },
  {
   "cell_type": "code",
   "execution_count": 71,
   "metadata": {
    "scrolled": true
   },
   "outputs": [
    {
     "data": {
      "image/png": "[encoded data removed]",
      "text/plain": [
       "<Figure size 1296x360 with 1 Axes>"
      ]
     },
     "metadata": {
      "needs_background": "light"
     },
     "output_type": "display_data"
    }
   ],
   "source": [
    "#plt.figure(figsize=(18, 5))\n",
    "#plt.bar(top_30[\"genres\"], top_30[\"avg_rating\"], color = \"b\")\n",
    "\n",
    "top_30_low.plot(\"genres\", kind=\"bar\", figsize = (18,5), color = \"r\")\n",
    "plt.xlabel(\"Genres\")\n",
    "plt.xticks(rotation = 90)\n",
    "plt.ylabel(\"Average Rating\")\n",
    "plt.yticks(range(0,11,2))\n",
    "plt.title(\"Genres with the Lowest Ratings\")\n",
    "plt.legend(labels=['Average Rating'])\n",
    "plt.show()"
   ]
  }
 ],
 "metadata": {
  "kernelspec": {
   "display_name": "Python (learn-env)",
   "language": "python",
   "name": "learn-env"
  },
  "language_info": {
   "codemirror_mode": {
    "name": "ipython",
    "version": 3
   },
   "file_extension": ".py",
   "mimetype": "text/x-python",
   "name": "python",
   "nbconvert_exporter": "python",
   "pygments_lexer": "ipython3",
   "version": "3.8.5"
  }
 },
 "nbformat": 4,
 "nbformat_minor": 4
}
