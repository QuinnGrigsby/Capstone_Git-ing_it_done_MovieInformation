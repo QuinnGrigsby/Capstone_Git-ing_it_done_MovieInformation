{
 "cells": [
  {
   "cell_type": "markdown",
   "metadata": {},
   "source": [
    "# Semester 1 Project Submission\n",
    "\n",
    "Please fill out:\n",
    "* Student name: Cristian González Ramírez\n",
    "* Instructor name: Nick McCarty & Julian Ward"
   ]
  },
  {
   "cell_type": "markdown",
   "metadata": {},
   "source": [
    "# This notebook tries to answer to the following question:\n",
    "\n",
    "*How are the production budgets for movies based on their genre in comparison to their income? Would it be profitable?*"
   ]
  },
  {
   "cell_type": "markdown",
   "metadata": {},
   "source": [
    "For this question specifically, we are interested on knowing the Production Costs, the Total Gross (both domestic and foreign) and the Genres of each movie. This information can be easily foundin the following dataframes and tables:\n",
    "* `movie_budgets`\n",
    "* `SQL im.db\"`"
   ]
  },
  {
   "cell_type": "markdown",
   "metadata": {},
   "source": [
    "## Retreiving and cleaning data up"
   ]
  },
  {
   "cell_type": "markdown",
   "metadata": {},
   "source": [
    "### Importing libraries\n",
    "We will start by adding the basic libraries to our notebook, so it runs nice and smoothly."
   ]
  },
  {
   "cell_type": "code",
   "execution_count": 1,
   "metadata": {},
   "outputs": [],
   "source": [
    "# Import all libraries the project will requiere\n",
    "\n",
    "#For retreiving data\n",
    "import pandas as pd\n",
    "import sqlite3\n",
    "import zipfile\n",
    "\n",
    "#For analyzing data\n",
    "from scipy import stats\n",
    "import numpy as np\n",
    "\n",
    "#For plotting and visulaizations\n",
    "import matplotlib\n",
    "from matplotlib import pyplot as plt\n",
    "%matplotlib inline"
   ]
  },
  {
   "cell_type": "markdown",
   "metadata": {},
   "source": [
    "### Retreiving general information\n",
    "Then, we insert the data we will be working with."
   ]
  },
  {
   "cell_type": "code",
   "execution_count": 2,
   "metadata": {},
   "outputs": [],
   "source": [
    "#Retrieving data to work with\n",
    "movie_budgets    = pd.read_csv(\"zippedData/tn.movie_budgets.csv.gz\")"
   ]
  },
  {
   "cell_type": "code",
   "execution_count": 3,
   "metadata": {},
   "outputs": [],
   "source": [
    "#Oppening SQLite3 zip\n",
    "with zipfile.ZipFile(\"zippedData/im.db.zip\", \"r\") as zObject:\n",
    "        zObject.extractall()\n",
    "\n",
    "conn = sqlite3.connect(\"im.db\")"
   ]
  },
  {
   "cell_type": "markdown",
   "metadata": {},
   "source": [
    "### Cleaning Movie Budgets data"
   ]
  },
  {
   "cell_type": "markdown",
   "metadata": {},
   "source": [
    "Before starting any anylisis at all, we have to be sure that the data we are dealing with is ready to be manipulated. In order to accopmlish that, we must clean the data from all the tables using diffent data cleaning techniques.\n",
    "\n",
    "First we will start with `movie_budget`."
   ]
  },
  {
   "cell_type": "code",
   "execution_count": 4,
   "metadata": {},
   "outputs": [
    {
     "data": {
      "text/html": [
       "<div>\n",
       "<style scoped>\n",
       "    .dataframe tbody tr th:only-of-type {\n",
       "        vertical-align: middle;\n",
       "    }\n",
       "\n",
       "    .dataframe tbody tr th {\n",
       "        vertical-align: top;\n",
       "    }\n",
       "\n",
       "    .dataframe thead th {\n",
       "        text-align: right;\n",
       "    }\n",
       "</style>\n",
       "<table border=\"1\" class=\"dataframe\">\n",
       "  <thead>\n",
       "    <tr style=\"text-align: right;\">\n",
       "      <th></th>\n",
       "      <th>id</th>\n",
       "      <th>release_date</th>\n",
       "      <th>movie</th>\n",
       "      <th>production_budget</th>\n",
       "      <th>domestic_gross</th>\n",
       "      <th>worldwide_gross</th>\n",
       "    </tr>\n",
       "  </thead>\n",
       "  <tbody>\n",
       "    <tr>\n",
       "      <th>0</th>\n",
       "      <td>1</td>\n",
       "      <td>Dec 18, 2009</td>\n",
       "      <td>Avatar</td>\n",
       "      <td>$425,000,000</td>\n",
       "      <td>$760,507,625</td>\n",
       "      <td>$2,776,345,279</td>\n",
       "    </tr>\n",
       "    <tr>\n",
       "      <th>1</th>\n",
       "      <td>2</td>\n",
       "      <td>May 20, 2011</td>\n",
       "      <td>Pirates of the Caribbean: On Stranger Tides</td>\n",
       "      <td>$410,600,000</td>\n",
       "      <td>$241,063,875</td>\n",
       "      <td>$1,045,663,875</td>\n",
       "    </tr>\n",
       "    <tr>\n",
       "      <th>2</th>\n",
       "      <td>3</td>\n",
       "      <td>Jun 7, 2019</td>\n",
       "      <td>Dark Phoenix</td>\n",
       "      <td>$350,000,000</td>\n",
       "      <td>$42,762,350</td>\n",
       "      <td>$149,762,350</td>\n",
       "    </tr>\n",
       "    <tr>\n",
       "      <th>3</th>\n",
       "      <td>4</td>\n",
       "      <td>May 1, 2015</td>\n",
       "      <td>Avengers: Age of Ultron</td>\n",
       "      <td>$330,600,000</td>\n",
       "      <td>$459,005,868</td>\n",
       "      <td>$1,403,013,963</td>\n",
       "    </tr>\n",
       "    <tr>\n",
       "      <th>4</th>\n",
       "      <td>5</td>\n",
       "      <td>Dec 15, 2017</td>\n",
       "      <td>Star Wars Ep. VIII: The Last Jedi</td>\n",
       "      <td>$317,000,000</td>\n",
       "      <td>$620,181,382</td>\n",
       "      <td>$1,316,721,747</td>\n",
       "    </tr>\n",
       "  </tbody>\n",
       "</table>\n",
       "</div>"
      ],
      "text/plain": [
       "   id  release_date                                        movie  \\\n",
       "0   1  Dec 18, 2009                                       Avatar   \n",
       "1   2  May 20, 2011  Pirates of the Caribbean: On Stranger Tides   \n",
       "2   3   Jun 7, 2019                                 Dark Phoenix   \n",
       "3   4   May 1, 2015                      Avengers: Age of Ultron   \n",
       "4   5  Dec 15, 2017            Star Wars Ep. VIII: The Last Jedi   \n",
       "\n",
       "  production_budget domestic_gross worldwide_gross  \n",
       "0      $425,000,000   $760,507,625  $2,776,345,279  \n",
       "1      $410,600,000   $241,063,875  $1,045,663,875  \n",
       "2      $350,000,000    $42,762,350    $149,762,350  \n",
       "3      $330,600,000   $459,005,868  $1,403,013,963  \n",
       "4      $317,000,000   $620,181,382  $1,316,721,747  "
      ]
     },
     "execution_count": 4,
     "metadata": {},
     "output_type": "execute_result"
    }
   ],
   "source": [
    "movie_budgets.head()"
   ]
  },
  {
   "cell_type": "code",
   "execution_count": 5,
   "metadata": {},
   "outputs": [
    {
     "name": "stdout",
     "output_type": "stream",
     "text": [
      "<class 'pandas.core.frame.DataFrame'>\n",
      "RangeIndex: 5782 entries, 0 to 5781\n",
      "Data columns (total 6 columns):\n",
      " #   Column             Non-Null Count  Dtype \n",
      "---  ------             --------------  ----- \n",
      " 0   id                 5782 non-null   int64 \n",
      " 1   release_date       5782 non-null   object\n",
      " 2   movie              5782 non-null   object\n",
      " 3   production_budget  5782 non-null   object\n",
      " 4   domestic_gross     5782 non-null   object\n",
      " 5   worldwide_gross    5782 non-null   object\n",
      "dtypes: int64(1), object(5)\n",
      "memory usage: 271.2+ KB\n"
     ]
    }
   ],
   "source": [
    "movie_budgets.info()"
   ]
  },
  {
   "cell_type": "markdown",
   "metadata": {},
   "source": [
    "As we see all of the values are a `Not-Null`, so most of the job is done; even so that is not the end of it, there are still a few considerations that must be taken."
   ]
  },
  {
   "cell_type": "markdown",
   "metadata": {},
   "source": [
    "Here we check if there is any movie appearing more than once."
   ]
  },
  {
   "cell_type": "code",
   "execution_count": 6,
   "metadata": {},
   "outputs": [
    {
     "name": "stdout",
     "output_type": "stream",
     "text": [
      "5698 5782\n"
     ]
    }
   ],
   "source": [
    "print(len(movie_budgets.movie.unique()), movie_budgets.shape[0])"
   ]
  },
  {
   "cell_type": "markdown",
   "metadata": {},
   "source": [
    "Since these two numbers differ, we must take a look into it and remove any duplicates if any."
   ]
  },
  {
   "cell_type": "code",
   "execution_count": 7,
   "metadata": {},
   "outputs": [
    {
     "data": {
      "text/plain": [
       "King Kong                                                     3\n",
       "Home                                                          3\n",
       "Halloween                                                     3\n",
       "RoboCop                                                       2\n",
       "Point Break                                                   2\n",
       "                                                             ..\n",
       "Nowhere Boy                                                   1\n",
       "Eagle Eye                                                     1\n",
       "The Assassination of Jesse James by the Coward Robert Ford    1\n",
       "Beyond Borders                                                1\n",
       "Diner                                                         1\n",
       "Name: movie, Length: 5698, dtype: int64"
      ]
     },
     "execution_count": 7,
     "metadata": {},
     "output_type": "execute_result"
    }
   ],
   "source": [
    "movie_budgets.movie.value_counts()"
   ]
  },
  {
   "cell_type": "markdown",
   "metadata": {},
   "source": [
    "In fact, we have a bunch of repeating movies. We have to deal with them, so they only appear once."
   ]
  },
  {
   "cell_type": "code",
   "execution_count": 8,
   "metadata": {},
   "outputs": [],
   "source": [
    "movie_budgets.drop_duplicates(subset=[\"movie\"], inplace=True)"
   ]
  },
  {
   "cell_type": "code",
   "execution_count": 9,
   "metadata": {
    "scrolled": true
   },
   "outputs": [
    {
     "name": "stdout",
     "output_type": "stream",
     "text": [
      "5698 5698\n"
     ]
    }
   ],
   "source": [
    "print(len(movie_budgets.movie.unique()), movie_budgets.shape[0])"
   ]
  },
  {
   "cell_type": "markdown",
   "metadata": {},
   "source": [
    "Now both values are similiar, which let us know that we got rid of duplicates perfectly."
   ]
  },
  {
   "cell_type": "markdown",
   "metadata": {},
   "source": [
    "When we ran the `.info()` command above, we also have found that `production_budget`, `domestic_gross` and `worldwide_gross` are object types, when we need them to be a numeric value, to perform further comparisons. So we have to take care of that issue too."
   ]
  },
  {
   "cell_type": "code",
   "execution_count": 10,
   "metadata": {},
   "outputs": [],
   "source": [
    "#Getting rid off commas so it can be casted\n",
    "movie_budgets.production_budget.replace(\",\",\"\",regex=True, inplace=True)\n",
    "movie_budgets.domestic_gross.replace(\",\",\"\",regex=True, inplace=True)\n",
    "movie_budgets.worldwide_gross.replace(\",\",\"\",regex=True, inplace=True)\n",
    "\n",
    "#Getting rid off $\n",
    "movie_budgets[\"production_budget\"] = movie_budgets.production_budget.str.strip(\"$\")\n",
    "movie_budgets[\"domestic_gross\"] = movie_budgets.domestic_gross.str.strip(\"$\")\n",
    "movie_budgets[\"worldwide_gross\"] = movie_budgets.worldwide_gross.str.strip(\"$\")"
   ]
  },
  {
   "cell_type": "code",
   "execution_count": 11,
   "metadata": {},
   "outputs": [],
   "source": [
    "#Casting grosses as a floats\n",
    "movie_budgets[\"production_budget\"] = movie_budgets.production_budget.astype(float)\n",
    "movie_budgets[\"domestic_gross\"] = movie_budgets.domestic_gross.astype(float)\n",
    "movie_budgets[\"worldwide_gross\"] = movie_budgets.worldwide_gross.astype(float)"
   ]
  },
  {
   "cell_type": "code",
   "execution_count": 12,
   "metadata": {
    "scrolled": true
   },
   "outputs": [
    {
     "data": {
      "text/html": [
       "<div>\n",
       "<style scoped>\n",
       "    .dataframe tbody tr th:only-of-type {\n",
       "        vertical-align: middle;\n",
       "    }\n",
       "\n",
       "    .dataframe tbody tr th {\n",
       "        vertical-align: top;\n",
       "    }\n",
       "\n",
       "    .dataframe thead th {\n",
       "        text-align: right;\n",
       "    }\n",
       "</style>\n",
       "<table border=\"1\" class=\"dataframe\">\n",
       "  <thead>\n",
       "    <tr style=\"text-align: right;\">\n",
       "      <th></th>\n",
       "      <th>id</th>\n",
       "      <th>release_date</th>\n",
       "      <th>movie</th>\n",
       "      <th>production_budget</th>\n",
       "      <th>domestic_gross</th>\n",
       "      <th>worldwide_gross</th>\n",
       "    </tr>\n",
       "  </thead>\n",
       "  <tbody>\n",
       "    <tr>\n",
       "      <th>0</th>\n",
       "      <td>1</td>\n",
       "      <td>Dec 18, 2009</td>\n",
       "      <td>Avatar</td>\n",
       "      <td>425000000.0</td>\n",
       "      <td>760507625.0</td>\n",
       "      <td>2.776345e+09</td>\n",
       "    </tr>\n",
       "    <tr>\n",
       "      <th>1</th>\n",
       "      <td>2</td>\n",
       "      <td>May 20, 2011</td>\n",
       "      <td>Pirates of the Caribbean: On Stranger Tides</td>\n",
       "      <td>410600000.0</td>\n",
       "      <td>241063875.0</td>\n",
       "      <td>1.045664e+09</td>\n",
       "    </tr>\n",
       "    <tr>\n",
       "      <th>2</th>\n",
       "      <td>3</td>\n",
       "      <td>Jun 7, 2019</td>\n",
       "      <td>Dark Phoenix</td>\n",
       "      <td>350000000.0</td>\n",
       "      <td>42762350.0</td>\n",
       "      <td>1.497624e+08</td>\n",
       "    </tr>\n",
       "    <tr>\n",
       "      <th>3</th>\n",
       "      <td>4</td>\n",
       "      <td>May 1, 2015</td>\n",
       "      <td>Avengers: Age of Ultron</td>\n",
       "      <td>330600000.0</td>\n",
       "      <td>459005868.0</td>\n",
       "      <td>1.403014e+09</td>\n",
       "    </tr>\n",
       "    <tr>\n",
       "      <th>4</th>\n",
       "      <td>5</td>\n",
       "      <td>Dec 15, 2017</td>\n",
       "      <td>Star Wars Ep. VIII: The Last Jedi</td>\n",
       "      <td>317000000.0</td>\n",
       "      <td>620181382.0</td>\n",
       "      <td>1.316722e+09</td>\n",
       "    </tr>\n",
       "  </tbody>\n",
       "</table>\n",
       "</div>"
      ],
      "text/plain": [
       "   id  release_date                                        movie  \\\n",
       "0   1  Dec 18, 2009                                       Avatar   \n",
       "1   2  May 20, 2011  Pirates of the Caribbean: On Stranger Tides   \n",
       "2   3   Jun 7, 2019                                 Dark Phoenix   \n",
       "3   4   May 1, 2015                      Avengers: Age of Ultron   \n",
       "4   5  Dec 15, 2017            Star Wars Ep. VIII: The Last Jedi   \n",
       "\n",
       "   production_budget  domestic_gross  worldwide_gross  \n",
       "0        425000000.0     760507625.0     2.776345e+09  \n",
       "1        410600000.0     241063875.0     1.045664e+09  \n",
       "2        350000000.0      42762350.0     1.497624e+08  \n",
       "3        330600000.0     459005868.0     1.403014e+09  \n",
       "4        317000000.0     620181382.0     1.316722e+09  "
      ]
     },
     "execution_count": 12,
     "metadata": {},
     "output_type": "execute_result"
    }
   ],
   "source": [
    "movie_budgets.head()"
   ]
  },
  {
   "cell_type": "markdown",
   "metadata": {},
   "source": [
    "It could be useful to have a `profit_or_loss` column for easier analysis later."
   ]
  },
  {
   "cell_type": "code",
   "execution_count": 13,
   "metadata": {},
   "outputs": [],
   "source": [
    "movie_budgets[\"profit_or_loss\"] = movie_budgets.worldwide_gross - movie_budgets.production_budget"
   ]
  },
  {
   "cell_type": "markdown",
   "metadata": {},
   "source": [
    "A `relation_pro_los` column to visualize easily in percentage how does income related to budget could also be benefitial later on."
   ]
  },
  {
   "cell_type": "code",
   "execution_count": 14,
   "metadata": {},
   "outputs": [],
   "source": [
    "movie_budgets[\"relation_pro_los\"] = movie_budgets.worldwide_gross/movie_budgets.production_budget"
   ]
  },
  {
   "cell_type": "code",
   "execution_count": 15,
   "metadata": {},
   "outputs": [
    {
     "data": {
      "text/html": [
       "<div>\n",
       "<style scoped>\n",
       "    .dataframe tbody tr th:only-of-type {\n",
       "        vertical-align: middle;\n",
       "    }\n",
       "\n",
       "    .dataframe tbody tr th {\n",
       "        vertical-align: top;\n",
       "    }\n",
       "\n",
       "    .dataframe thead th {\n",
       "        text-align: right;\n",
       "    }\n",
       "</style>\n",
       "<table border=\"1\" class=\"dataframe\">\n",
       "  <thead>\n",
       "    <tr style=\"text-align: right;\">\n",
       "      <th></th>\n",
       "      <th>id</th>\n",
       "      <th>release_date</th>\n",
       "      <th>movie</th>\n",
       "      <th>production_budget</th>\n",
       "      <th>domestic_gross</th>\n",
       "      <th>worldwide_gross</th>\n",
       "      <th>profit_or_loss</th>\n",
       "      <th>relation_pro_los</th>\n",
       "    </tr>\n",
       "  </thead>\n",
       "  <tbody>\n",
       "    <tr>\n",
       "      <th>0</th>\n",
       "      <td>1</td>\n",
       "      <td>Dec 18, 2009</td>\n",
       "      <td>Avatar</td>\n",
       "      <td>425000000.0</td>\n",
       "      <td>760507625.0</td>\n",
       "      <td>2.776345e+09</td>\n",
       "      <td>2.351345e+09</td>\n",
       "      <td>6.532577</td>\n",
       "    </tr>\n",
       "    <tr>\n",
       "      <th>1</th>\n",
       "      <td>2</td>\n",
       "      <td>May 20, 2011</td>\n",
       "      <td>Pirates of the Caribbean: On Stranger Tides</td>\n",
       "      <td>410600000.0</td>\n",
       "      <td>241063875.0</td>\n",
       "      <td>1.045664e+09</td>\n",
       "      <td>6.350639e+08</td>\n",
       "      <td>2.546673</td>\n",
       "    </tr>\n",
       "    <tr>\n",
       "      <th>2</th>\n",
       "      <td>3</td>\n",
       "      <td>Jun 7, 2019</td>\n",
       "      <td>Dark Phoenix</td>\n",
       "      <td>350000000.0</td>\n",
       "      <td>42762350.0</td>\n",
       "      <td>1.497624e+08</td>\n",
       "      <td>-2.002376e+08</td>\n",
       "      <td>0.427892</td>\n",
       "    </tr>\n",
       "    <tr>\n",
       "      <th>3</th>\n",
       "      <td>4</td>\n",
       "      <td>May 1, 2015</td>\n",
       "      <td>Avengers: Age of Ultron</td>\n",
       "      <td>330600000.0</td>\n",
       "      <td>459005868.0</td>\n",
       "      <td>1.403014e+09</td>\n",
       "      <td>1.072414e+09</td>\n",
       "      <td>4.243841</td>\n",
       "    </tr>\n",
       "    <tr>\n",
       "      <th>4</th>\n",
       "      <td>5</td>\n",
       "      <td>Dec 15, 2017</td>\n",
       "      <td>Star Wars Ep. VIII: The Last Jedi</td>\n",
       "      <td>317000000.0</td>\n",
       "      <td>620181382.0</td>\n",
       "      <td>1.316722e+09</td>\n",
       "      <td>9.997217e+08</td>\n",
       "      <td>4.153696</td>\n",
       "    </tr>\n",
       "  </tbody>\n",
       "</table>\n",
       "</div>"
      ],
      "text/plain": [
       "   id  release_date                                        movie  \\\n",
       "0   1  Dec 18, 2009                                       Avatar   \n",
       "1   2  May 20, 2011  Pirates of the Caribbean: On Stranger Tides   \n",
       "2   3   Jun 7, 2019                                 Dark Phoenix   \n",
       "3   4   May 1, 2015                      Avengers: Age of Ultron   \n",
       "4   5  Dec 15, 2017            Star Wars Ep. VIII: The Last Jedi   \n",
       "\n",
       "   production_budget  domestic_gross  worldwide_gross  profit_or_loss  \\\n",
       "0        425000000.0     760507625.0     2.776345e+09    2.351345e+09   \n",
       "1        410600000.0     241063875.0     1.045664e+09    6.350639e+08   \n",
       "2        350000000.0      42762350.0     1.497624e+08   -2.002376e+08   \n",
       "3        330600000.0     459005868.0     1.403014e+09    1.072414e+09   \n",
       "4        317000000.0     620181382.0     1.316722e+09    9.997217e+08   \n",
       "\n",
       "   relation_pro_los  \n",
       "0          6.532577  \n",
       "1          2.546673  \n",
       "2          0.427892  \n",
       "3          4.243841  \n",
       "4          4.153696  "
      ]
     },
     "execution_count": 15,
     "metadata": {},
     "output_type": "execute_result"
    }
   ],
   "source": [
    "movie_budgets.head()"
   ]
  },
  {
   "cell_type": "markdown",
   "metadata": {},
   "source": [
    "### Retreiving Movie Ratings data\n",
    "Now we get the info from the relevant SQL table for the analysis."
   ]
  },
  {
   "cell_type": "code",
   "execution_count": 16,
   "metadata": {},
   "outputs": [],
   "source": [
    "#Obtain relevant information from SQL database\n",
    "query = '''\n",
    "    SELECT\n",
    "        movie_id AS \"ID\",\n",
    "        primary_title AS \"Title\",\n",
    "        original_title AS \"Original Title\",\n",
    "        genres AS \"Genres\"\n",
    "    FROM movie_basics\n",
    "'''\n",
    "\n",
    "#Assign the query to a pandas dataframe\n",
    "movie_by_genre = pd.read_sql(query,conn)"
   ]
  },
  {
   "cell_type": "code",
   "execution_count": 17,
   "metadata": {
    "scrolled": true
   },
   "outputs": [
    {
     "data": {
      "text/html": [
       "<div>\n",
       "<style scoped>\n",
       "    .dataframe tbody tr th:only-of-type {\n",
       "        vertical-align: middle;\n",
       "    }\n",
       "\n",
       "    .dataframe tbody tr th {\n",
       "        vertical-align: top;\n",
       "    }\n",
       "\n",
       "    .dataframe thead th {\n",
       "        text-align: right;\n",
       "    }\n",
       "</style>\n",
       "<table border=\"1\" class=\"dataframe\">\n",
       "  <thead>\n",
       "    <tr style=\"text-align: right;\">\n",
       "      <th></th>\n",
       "      <th>ID</th>\n",
       "      <th>Title</th>\n",
       "      <th>Original Title</th>\n",
       "      <th>Genres</th>\n",
       "    </tr>\n",
       "  </thead>\n",
       "  <tbody>\n",
       "    <tr>\n",
       "      <th>0</th>\n",
       "      <td>tt0063540</td>\n",
       "      <td>Sunghursh</td>\n",
       "      <td>Sunghursh</td>\n",
       "      <td>Action,Crime,Drama</td>\n",
       "    </tr>\n",
       "    <tr>\n",
       "      <th>1</th>\n",
       "      <td>tt0066787</td>\n",
       "      <td>One Day Before the Rainy Season</td>\n",
       "      <td>Ashad Ka Ek Din</td>\n",
       "      <td>Biography,Drama</td>\n",
       "    </tr>\n",
       "    <tr>\n",
       "      <th>2</th>\n",
       "      <td>tt0069049</td>\n",
       "      <td>The Other Side of the Wind</td>\n",
       "      <td>The Other Side of the Wind</td>\n",
       "      <td>Drama</td>\n",
       "    </tr>\n",
       "    <tr>\n",
       "      <th>3</th>\n",
       "      <td>tt0069204</td>\n",
       "      <td>Sabse Bada Sukh</td>\n",
       "      <td>Sabse Bada Sukh</td>\n",
       "      <td>Comedy,Drama</td>\n",
       "    </tr>\n",
       "    <tr>\n",
       "      <th>4</th>\n",
       "      <td>tt0100275</td>\n",
       "      <td>The Wandering Soap Opera</td>\n",
       "      <td>La Telenovela Errante</td>\n",
       "      <td>Comedy,Drama,Fantasy</td>\n",
       "    </tr>\n",
       "  </tbody>\n",
       "</table>\n",
       "</div>"
      ],
      "text/plain": [
       "          ID                            Title              Original Title  \\\n",
       "0  tt0063540                        Sunghursh                   Sunghursh   \n",
       "1  tt0066787  One Day Before the Rainy Season             Ashad Ka Ek Din   \n",
       "2  tt0069049       The Other Side of the Wind  The Other Side of the Wind   \n",
       "3  tt0069204                  Sabse Bada Sukh             Sabse Bada Sukh   \n",
       "4  tt0100275         The Wandering Soap Opera       La Telenovela Errante   \n",
       "\n",
       "                 Genres  \n",
       "0    Action,Crime,Drama  \n",
       "1       Biography,Drama  \n",
       "2                 Drama  \n",
       "3          Comedy,Drama  \n",
       "4  Comedy,Drama,Fantasy  "
      ]
     },
     "execution_count": 17,
     "metadata": {},
     "output_type": "execute_result"
    }
   ],
   "source": [
    "movie_by_genre.head()"
   ]
  },
  {
   "cell_type": "markdown",
   "metadata": {},
   "source": [
    "### Cleaning SQL data"
   ]
  },
  {
   "cell_type": "code",
   "execution_count": 18,
   "metadata": {
    "scrolled": true
   },
   "outputs": [
    {
     "name": "stdout",
     "output_type": "stream",
     "text": [
      "<class 'pandas.core.frame.DataFrame'>\n",
      "RangeIndex: 146144 entries, 0 to 146143\n",
      "Data columns (total 4 columns):\n",
      " #   Column          Non-Null Count   Dtype \n",
      "---  ------          --------------   ----- \n",
      " 0   ID              146144 non-null  object\n",
      " 1   Title           146144 non-null  object\n",
      " 2   Original Title  146123 non-null  object\n",
      " 3   Genres          140736 non-null  object\n",
      "dtypes: object(4)\n",
      "memory usage: 4.5+ MB\n"
     ]
    }
   ],
   "source": [
    "movie_by_genre.info()"
   ]
  },
  {
   "cell_type": "markdown",
   "metadata": {},
   "source": [
    "We see that most of the data we obtained is mostly complete, having a few null-values in the `Genres` column, since that is the primary variable we are focusing on, the better way to approach this issue would be to simply drop those rows, but we will do that at the very end of the clean up."
   ]
  },
  {
   "cell_type": "markdown",
   "metadata": {},
   "source": [
    "We start taking care of some small values that could mess up our analysis."
   ]
  },
  {
   "cell_type": "markdown",
   "metadata": {},
   "source": [
    "We check and drop duplicates (if any) as before."
   ]
  },
  {
   "cell_type": "code",
   "execution_count": 19,
   "metadata": {},
   "outputs": [
    {
     "name": "stdout",
     "output_type": "stream",
     "text": [
      "136071 146144\n"
     ]
    }
   ],
   "source": [
    "print(len(movie_by_genre.Title.unique()), movie_by_genre.shape[0])"
   ]
  },
  {
   "cell_type": "code",
   "execution_count": 20,
   "metadata": {},
   "outputs": [
    {
     "data": {
      "text/plain": [
       "Home                                         24\n",
       "Broken                                       20\n",
       "The Return                                   20\n",
       "Alone                                        16\n",
       "Homecoming                                   16\n",
       "                                             ..\n",
       "Ai Weiwei: Never Sorry                        1\n",
       "When The Tables Turn                          1\n",
       "Im Land Dazwischen                            1\n",
       "Virsa                                         1\n",
       "Gibsy - Rukeli Trollmanns Kampf ums Leben     1\n",
       "Name: Title, Length: 136071, dtype: int64"
      ]
     },
     "execution_count": 20,
     "metadata": {},
     "output_type": "execute_result"
    }
   ],
   "source": [
    "movie_by_genre.Title.value_counts()"
   ]
  },
  {
   "cell_type": "code",
   "execution_count": 21,
   "metadata": {},
   "outputs": [],
   "source": [
    "movie_by_genre.drop_duplicates(subset=[\"Title\"], inplace=True)"
   ]
  },
  {
   "cell_type": "code",
   "execution_count": 22,
   "metadata": {
    "scrolled": true
   },
   "outputs": [
    {
     "name": "stdout",
     "output_type": "stream",
     "text": [
      "136071 136071\n"
     ]
    }
   ],
   "source": [
    "print(len(movie_by_genre.Title.unique()), movie_by_genre.shape[0])"
   ]
  },
  {
   "cell_type": "code",
   "execution_count": 23,
   "metadata": {},
   "outputs": [
    {
     "name": "stdout",
     "output_type": "stream",
     "text": [
      "135756 136071\n"
     ]
    }
   ],
   "source": [
    "print(len(movie_by_genre[\"Original Title\"].unique()), movie_by_genre[\"Original Title\"].shape[0])"
   ]
  },
  {
   "cell_type": "code",
   "execution_count": 24,
   "metadata": {},
   "outputs": [
    {
     "data": {
      "text/plain": [
       "Missed Connections                           3\n",
       "Icarus                                       3\n",
       "Stranded                                     3\n",
       "Hatsukoi                                     3\n",
       "Mind's Eye                                   2\n",
       "                                            ..\n",
       "Luciana                                      1\n",
       "Cheveux rouges et café noir                  1\n",
       "The Rise and Fall of the Brown Buffalo       1\n",
       "Muitos Homens Num Só                         1\n",
       "Gibsy - Rukeli Trollmanns Kampf ums Leben    1\n",
       "Name: Original Title, Length: 135755, dtype: int64"
      ]
     },
     "execution_count": 24,
     "metadata": {},
     "output_type": "execute_result"
    }
   ],
   "source": [
    "movie_by_genre[\"Original Title\"].value_counts()"
   ]
  },
  {
   "cell_type": "code",
   "execution_count": 25,
   "metadata": {},
   "outputs": [],
   "source": [
    "movie_by_genre.drop_duplicates(subset=[\"Original Title\"], inplace = True)"
   ]
  },
  {
   "cell_type": "code",
   "execution_count": 26,
   "metadata": {},
   "outputs": [
    {
     "name": "stdout",
     "output_type": "stream",
     "text": [
      "135756 135756\n"
     ]
    }
   ],
   "source": [
    "print(len(movie_by_genre[\"Original Title\"].unique()), movie_by_genre[\"Original Title\"].shape[0])"
   ]
  },
  {
   "cell_type": "markdown",
   "metadata": {},
   "source": [
    "We also check that every ID is unique."
   ]
  },
  {
   "cell_type": "code",
   "execution_count": 27,
   "metadata": {},
   "outputs": [
    {
     "data": {
      "text/plain": [
       "tt7258306     1\n",
       "tt9329998     1\n",
       "tt4334266     1\n",
       "tt9230398     1\n",
       "tt3265482     1\n",
       "             ..\n",
       "tt10364022    1\n",
       "tt1883251     1\n",
       "tt3963150     1\n",
       "tt2106613     1\n",
       "tt3634104     1\n",
       "Name: ID, Length: 135756, dtype: int64"
      ]
     },
     "execution_count": 27,
     "metadata": {},
     "output_type": "execute_result"
    }
   ],
   "source": [
    "movie_by_genre.ID.value_counts().sort_values(ascending = True)"
   ]
  },
  {
   "cell_type": "markdown",
   "metadata": {},
   "source": [
    "And they are! There is no problem in the ID column. \n",
    "\n",
    "Now, most of the cleaning of this Dataframe is done. The next step to do is to decide how to procede with the missing values we saw in the Genres column. There are around 800 missing values, and dropping those columns won't represent as much of a loss, so we will proceed with this approach, since we will still have a significant population for analysis."
   ]
  },
  {
   "cell_type": "code",
   "execution_count": 28,
   "metadata": {},
   "outputs": [],
   "source": [
    "movie_by_genre = movie_by_genre[movie_by_genre.Genres.str.contains(\"None\") == False]"
   ]
  },
  {
   "cell_type": "code",
   "execution_count": 29,
   "metadata": {},
   "outputs": [
    {
     "name": "stdout",
     "output_type": "stream",
     "text": [
      "<class 'pandas.core.frame.DataFrame'>\n",
      "Int64Index: 130920 entries, 0 to 146143\n",
      "Data columns (total 4 columns):\n",
      " #   Column          Non-Null Count   Dtype \n",
      "---  ------          --------------   ----- \n",
      " 0   ID              130920 non-null  object\n",
      " 1   Title           130920 non-null  object\n",
      " 2   Original Title  130920 non-null  object\n",
      " 3   Genres          130920 non-null  object\n",
      "dtypes: object(4)\n",
      "memory usage: 5.0+ MB\n"
     ]
    }
   ],
   "source": [
    "movie_by_genre.info()"
   ]
  },
  {
   "cell_type": "markdown",
   "metadata": {},
   "source": [
    "We can see we have a dataframe without any null value or duplicates. We can consider this dataframe to be clean!"
   ]
  },
  {
   "cell_type": "code",
   "execution_count": 30,
   "metadata": {
    "scrolled": false
   },
   "outputs": [
    {
     "data": {
      "text/html": [
       "<div>\n",
       "<style scoped>\n",
       "    .dataframe tbody tr th:only-of-type {\n",
       "        vertical-align: middle;\n",
       "    }\n",
       "\n",
       "    .dataframe tbody tr th {\n",
       "        vertical-align: top;\n",
       "    }\n",
       "\n",
       "    .dataframe thead th {\n",
       "        text-align: right;\n",
       "    }\n",
       "</style>\n",
       "<table border=\"1\" class=\"dataframe\">\n",
       "  <thead>\n",
       "    <tr style=\"text-align: right;\">\n",
       "      <th></th>\n",
       "      <th>ID</th>\n",
       "      <th>Title</th>\n",
       "      <th>Original Title</th>\n",
       "      <th>Genres</th>\n",
       "    </tr>\n",
       "  </thead>\n",
       "  <tbody>\n",
       "    <tr>\n",
       "      <th>0</th>\n",
       "      <td>tt0063540</td>\n",
       "      <td>Sunghursh</td>\n",
       "      <td>Sunghursh</td>\n",
       "      <td>Action,Crime,Drama</td>\n",
       "    </tr>\n",
       "    <tr>\n",
       "      <th>1</th>\n",
       "      <td>tt0066787</td>\n",
       "      <td>One Day Before the Rainy Season</td>\n",
       "      <td>Ashad Ka Ek Din</td>\n",
       "      <td>Biography,Drama</td>\n",
       "    </tr>\n",
       "    <tr>\n",
       "      <th>2</th>\n",
       "      <td>tt0069049</td>\n",
       "      <td>The Other Side of the Wind</td>\n",
       "      <td>The Other Side of the Wind</td>\n",
       "      <td>Drama</td>\n",
       "    </tr>\n",
       "    <tr>\n",
       "      <th>3</th>\n",
       "      <td>tt0069204</td>\n",
       "      <td>Sabse Bada Sukh</td>\n",
       "      <td>Sabse Bada Sukh</td>\n",
       "      <td>Comedy,Drama</td>\n",
       "    </tr>\n",
       "    <tr>\n",
       "      <th>4</th>\n",
       "      <td>tt0100275</td>\n",
       "      <td>The Wandering Soap Opera</td>\n",
       "      <td>La Telenovela Errante</td>\n",
       "      <td>Comedy,Drama,Fantasy</td>\n",
       "    </tr>\n",
       "  </tbody>\n",
       "</table>\n",
       "</div>"
      ],
      "text/plain": [
       "          ID                            Title              Original Title  \\\n",
       "0  tt0063540                        Sunghursh                   Sunghursh   \n",
       "1  tt0066787  One Day Before the Rainy Season             Ashad Ka Ek Din   \n",
       "2  tt0069049       The Other Side of the Wind  The Other Side of the Wind   \n",
       "3  tt0069204                  Sabse Bada Sukh             Sabse Bada Sukh   \n",
       "4  tt0100275         The Wandering Soap Opera       La Telenovela Errante   \n",
       "\n",
       "                 Genres  \n",
       "0    Action,Crime,Drama  \n",
       "1       Biography,Drama  \n",
       "2                 Drama  \n",
       "3          Comedy,Drama  \n",
       "4  Comedy,Drama,Fantasy  "
      ]
     },
     "execution_count": 30,
     "metadata": {},
     "output_type": "execute_result"
    }
   ],
   "source": [
    "movie_by_genre.head()"
   ]
  },
  {
   "cell_type": "markdown",
   "metadata": {},
   "source": [
    "### Merging tables\n",
    "Now, we shall proceed with joining the `movie_rating` dataframe with the `movie_budgets` one to proceed with the analysis. In this approach, we are using the `.merge()` method instead of `.join()` because we actually want information from both of the dataframes"
   ]
  },
  {
   "cell_type": "code",
   "execution_count": 31,
   "metadata": {},
   "outputs": [
    {
     "data": {
      "text/html": [
       "<div>\n",
       "<style scoped>\n",
       "    .dataframe tbody tr th:only-of-type {\n",
       "        vertical-align: middle;\n",
       "    }\n",
       "\n",
       "    .dataframe tbody tr th {\n",
       "        vertical-align: top;\n",
       "    }\n",
       "\n",
       "    .dataframe thead th {\n",
       "        text-align: right;\n",
       "    }\n",
       "</style>\n",
       "<table border=\"1\" class=\"dataframe\">\n",
       "  <thead>\n",
       "    <tr style=\"text-align: right;\">\n",
       "      <th></th>\n",
       "      <th>id</th>\n",
       "      <th>release_date</th>\n",
       "      <th>movie</th>\n",
       "      <th>production_budget</th>\n",
       "      <th>domestic_gross</th>\n",
       "      <th>worldwide_gross</th>\n",
       "      <th>profit_or_loss</th>\n",
       "      <th>relation_pro_los</th>\n",
       "    </tr>\n",
       "  </thead>\n",
       "  <tbody>\n",
       "    <tr>\n",
       "      <th>0</th>\n",
       "      <td>1</td>\n",
       "      <td>Dec 18, 2009</td>\n",
       "      <td>Avatar</td>\n",
       "      <td>425000000.0</td>\n",
       "      <td>760507625.0</td>\n",
       "      <td>2.776345e+09</td>\n",
       "      <td>2.351345e+09</td>\n",
       "      <td>6.532577</td>\n",
       "    </tr>\n",
       "    <tr>\n",
       "      <th>1</th>\n",
       "      <td>2</td>\n",
       "      <td>May 20, 2011</td>\n",
       "      <td>Pirates of the Caribbean: On Stranger Tides</td>\n",
       "      <td>410600000.0</td>\n",
       "      <td>241063875.0</td>\n",
       "      <td>1.045664e+09</td>\n",
       "      <td>6.350639e+08</td>\n",
       "      <td>2.546673</td>\n",
       "    </tr>\n",
       "    <tr>\n",
       "      <th>2</th>\n",
       "      <td>3</td>\n",
       "      <td>Jun 7, 2019</td>\n",
       "      <td>Dark Phoenix</td>\n",
       "      <td>350000000.0</td>\n",
       "      <td>42762350.0</td>\n",
       "      <td>1.497624e+08</td>\n",
       "      <td>-2.002376e+08</td>\n",
       "      <td>0.427892</td>\n",
       "    </tr>\n",
       "    <tr>\n",
       "      <th>3</th>\n",
       "      <td>4</td>\n",
       "      <td>May 1, 2015</td>\n",
       "      <td>Avengers: Age of Ultron</td>\n",
       "      <td>330600000.0</td>\n",
       "      <td>459005868.0</td>\n",
       "      <td>1.403014e+09</td>\n",
       "      <td>1.072414e+09</td>\n",
       "      <td>4.243841</td>\n",
       "    </tr>\n",
       "    <tr>\n",
       "      <th>4</th>\n",
       "      <td>5</td>\n",
       "      <td>Dec 15, 2017</td>\n",
       "      <td>Star Wars Ep. VIII: The Last Jedi</td>\n",
       "      <td>317000000.0</td>\n",
       "      <td>620181382.0</td>\n",
       "      <td>1.316722e+09</td>\n",
       "      <td>9.997217e+08</td>\n",
       "      <td>4.153696</td>\n",
       "    </tr>\n",
       "  </tbody>\n",
       "</table>\n",
       "</div>"
      ],
      "text/plain": [
       "   id  release_date                                        movie  \\\n",
       "0   1  Dec 18, 2009                                       Avatar   \n",
       "1   2  May 20, 2011  Pirates of the Caribbean: On Stranger Tides   \n",
       "2   3   Jun 7, 2019                                 Dark Phoenix   \n",
       "3   4   May 1, 2015                      Avengers: Age of Ultron   \n",
       "4   5  Dec 15, 2017            Star Wars Ep. VIII: The Last Jedi   \n",
       "\n",
       "   production_budget  domestic_gross  worldwide_gross  profit_or_loss  \\\n",
       "0        425000000.0     760507625.0     2.776345e+09    2.351345e+09   \n",
       "1        410600000.0     241063875.0     1.045664e+09    6.350639e+08   \n",
       "2        350000000.0      42762350.0     1.497624e+08   -2.002376e+08   \n",
       "3        330600000.0     459005868.0     1.403014e+09    1.072414e+09   \n",
       "4        317000000.0     620181382.0     1.316722e+09    9.997217e+08   \n",
       "\n",
       "   relation_pro_los  \n",
       "0          6.532577  \n",
       "1          2.546673  \n",
       "2          0.427892  \n",
       "3          4.243841  \n",
       "4          4.153696  "
      ]
     },
     "execution_count": 31,
     "metadata": {},
     "output_type": "execute_result"
    }
   ],
   "source": [
    "movie_budgets.head()"
   ]
  },
  {
   "cell_type": "code",
   "execution_count": 32,
   "metadata": {},
   "outputs": [],
   "source": [
    "#Create a new Dataframe to store the merge\n",
    "gross_and_genre = pd.merge(movie_budgets, movie_by_genre, how=\"inner\", left_on=\"movie\", right_on=\"Title\")"
   ]
  },
  {
   "cell_type": "code",
   "execution_count": 33,
   "metadata": {},
   "outputs": [
    {
     "data": {
      "text/html": [
       "<div>\n",
       "<style scoped>\n",
       "    .dataframe tbody tr th:only-of-type {\n",
       "        vertical-align: middle;\n",
       "    }\n",
       "\n",
       "    .dataframe tbody tr th {\n",
       "        vertical-align: top;\n",
       "    }\n",
       "\n",
       "    .dataframe thead th {\n",
       "        text-align: right;\n",
       "    }\n",
       "</style>\n",
       "<table border=\"1\" class=\"dataframe\">\n",
       "  <thead>\n",
       "    <tr style=\"text-align: right;\">\n",
       "      <th></th>\n",
       "      <th>id</th>\n",
       "      <th>release_date</th>\n",
       "      <th>movie</th>\n",
       "      <th>production_budget</th>\n",
       "      <th>domestic_gross</th>\n",
       "      <th>worldwide_gross</th>\n",
       "      <th>profit_or_loss</th>\n",
       "      <th>relation_pro_los</th>\n",
       "      <th>ID</th>\n",
       "      <th>Title</th>\n",
       "      <th>Original Title</th>\n",
       "      <th>Genres</th>\n",
       "    </tr>\n",
       "  </thead>\n",
       "  <tbody>\n",
       "    <tr>\n",
       "      <th>0</th>\n",
       "      <td>1</td>\n",
       "      <td>Dec 18, 2009</td>\n",
       "      <td>Avatar</td>\n",
       "      <td>425000000.0</td>\n",
       "      <td>760507625.0</td>\n",
       "      <td>2.776345e+09</td>\n",
       "      <td>2.351345e+09</td>\n",
       "      <td>6.532577</td>\n",
       "      <td>tt1775309</td>\n",
       "      <td>Avatar</td>\n",
       "      <td>Abatâ</td>\n",
       "      <td>Horror</td>\n",
       "    </tr>\n",
       "    <tr>\n",
       "      <th>1</th>\n",
       "      <td>2</td>\n",
       "      <td>May 20, 2011</td>\n",
       "      <td>Pirates of the Caribbean: On Stranger Tides</td>\n",
       "      <td>410600000.0</td>\n",
       "      <td>241063875.0</td>\n",
       "      <td>1.045664e+09</td>\n",
       "      <td>6.350639e+08</td>\n",
       "      <td>2.546673</td>\n",
       "      <td>tt1298650</td>\n",
       "      <td>Pirates of the Caribbean: On Stranger Tides</td>\n",
       "      <td>Pirates of the Caribbean: On Stranger Tides</td>\n",
       "      <td>Action,Adventure,Fantasy</td>\n",
       "    </tr>\n",
       "    <tr>\n",
       "      <th>2</th>\n",
       "      <td>3</td>\n",
       "      <td>Jun 7, 2019</td>\n",
       "      <td>Dark Phoenix</td>\n",
       "      <td>350000000.0</td>\n",
       "      <td>42762350.0</td>\n",
       "      <td>1.497624e+08</td>\n",
       "      <td>-2.002376e+08</td>\n",
       "      <td>0.427892</td>\n",
       "      <td>tt6565702</td>\n",
       "      <td>Dark Phoenix</td>\n",
       "      <td>Dark Phoenix</td>\n",
       "      <td>Action,Adventure,Sci-Fi</td>\n",
       "    </tr>\n",
       "    <tr>\n",
       "      <th>3</th>\n",
       "      <td>4</td>\n",
       "      <td>May 1, 2015</td>\n",
       "      <td>Avengers: Age of Ultron</td>\n",
       "      <td>330600000.0</td>\n",
       "      <td>459005868.0</td>\n",
       "      <td>1.403014e+09</td>\n",
       "      <td>1.072414e+09</td>\n",
       "      <td>4.243841</td>\n",
       "      <td>tt2395427</td>\n",
       "      <td>Avengers: Age of Ultron</td>\n",
       "      <td>Avengers: Age of Ultron</td>\n",
       "      <td>Action,Adventure,Sci-Fi</td>\n",
       "    </tr>\n",
       "    <tr>\n",
       "      <th>4</th>\n",
       "      <td>7</td>\n",
       "      <td>Apr 27, 2018</td>\n",
       "      <td>Avengers: Infinity War</td>\n",
       "      <td>300000000.0</td>\n",
       "      <td>678815482.0</td>\n",
       "      <td>2.048134e+09</td>\n",
       "      <td>1.748134e+09</td>\n",
       "      <td>6.827114</td>\n",
       "      <td>tt4154756</td>\n",
       "      <td>Avengers: Infinity War</td>\n",
       "      <td>Avengers: Infinity War</td>\n",
       "      <td>Action,Adventure,Sci-Fi</td>\n",
       "    </tr>\n",
       "  </tbody>\n",
       "</table>\n",
       "</div>"
      ],
      "text/plain": [
       "   id  release_date                                        movie  \\\n",
       "0   1  Dec 18, 2009                                       Avatar   \n",
       "1   2  May 20, 2011  Pirates of the Caribbean: On Stranger Tides   \n",
       "2   3   Jun 7, 2019                                 Dark Phoenix   \n",
       "3   4   May 1, 2015                      Avengers: Age of Ultron   \n",
       "4   7  Apr 27, 2018                       Avengers: Infinity War   \n",
       "\n",
       "   production_budget  domestic_gross  worldwide_gross  profit_or_loss  \\\n",
       "0        425000000.0     760507625.0     2.776345e+09    2.351345e+09   \n",
       "1        410600000.0     241063875.0     1.045664e+09    6.350639e+08   \n",
       "2        350000000.0      42762350.0     1.497624e+08   -2.002376e+08   \n",
       "3        330600000.0     459005868.0     1.403014e+09    1.072414e+09   \n",
       "4        300000000.0     678815482.0     2.048134e+09    1.748134e+09   \n",
       "\n",
       "   relation_pro_los         ID                                        Title  \\\n",
       "0          6.532577  tt1775309                                       Avatar   \n",
       "1          2.546673  tt1298650  Pirates of the Caribbean: On Stranger Tides   \n",
       "2          0.427892  tt6565702                                 Dark Phoenix   \n",
       "3          4.243841  tt2395427                      Avengers: Age of Ultron   \n",
       "4          6.827114  tt4154756                       Avengers: Infinity War   \n",
       "\n",
       "                                Original Title                    Genres  \n",
       "0                                        Abatâ                    Horror  \n",
       "1  Pirates of the Caribbean: On Stranger Tides  Action,Adventure,Fantasy  \n",
       "2                                 Dark Phoenix   Action,Adventure,Sci-Fi  \n",
       "3                      Avengers: Age of Ultron   Action,Adventure,Sci-Fi  \n",
       "4                       Avengers: Infinity War   Action,Adventure,Sci-Fi  "
      ]
     },
     "execution_count": 33,
     "metadata": {},
     "output_type": "execute_result"
    }
   ],
   "source": [
    "gross_and_genre.head()"
   ]
  },
  {
   "cell_type": "markdown",
   "metadata": {},
   "source": [
    "Now we just do some visual cleaning."
   ]
  },
  {
   "cell_type": "code",
   "execution_count": 34,
   "metadata": {},
   "outputs": [],
   "source": [
    "#Deleting duplicated columns\n",
    "del gross_and_genre[\"Title\"]\n",
    "del gross_and_genre[\"Original Title\"]\n",
    "del gross_and_genre[\"id\"]\n",
    "\n",
    "#Deleting columns that are not relevant to the analysis\n",
    "del gross_and_genre[\"release_date\"]"
   ]
  },
  {
   "cell_type": "code",
   "execution_count": 35,
   "metadata": {},
   "outputs": [],
   "source": [
    "#Rearenging columns for easier lecture\n",
    "gross_and_genre = gross_and_genre[[\"ID\", \"movie\", \"Genres\",\"production_budget\", \n",
    "                                     \"domestic_gross\", \"worldwide_gross\",\n",
    "                                     \"profit_or_loss\", \"relation_pro_los\"]]"
   ]
  },
  {
   "cell_type": "code",
   "execution_count": 36,
   "metadata": {},
   "outputs": [
    {
     "data": {
      "text/plain": [
       "Index(['ID', 'movie', 'Genres', 'production_budget', 'domestic_gross',\n",
       "       'worldwide_gross', 'profit_or_loss', 'relation_pro_los'],\n",
       "      dtype='object')"
      ]
     },
     "execution_count": 36,
     "metadata": {},
     "output_type": "execute_result"
    }
   ],
   "source": [
    "gross_and_genre.columns"
   ]
  },
  {
   "cell_type": "markdown",
   "metadata": {},
   "source": [
    "One last check to see if everything is in order."
   ]
  },
  {
   "cell_type": "code",
   "execution_count": 37,
   "metadata": {
    "scrolled": true
   },
   "outputs": [
    {
     "name": "stdout",
     "output_type": "stream",
     "text": [
      "<class 'pandas.core.frame.DataFrame'>\n",
      "Int64Index: 2276 entries, 0 to 2275\n",
      "Data columns (total 8 columns):\n",
      " #   Column             Non-Null Count  Dtype  \n",
      "---  ------             --------------  -----  \n",
      " 0   ID                 2276 non-null   object \n",
      " 1   movie              2276 non-null   object \n",
      " 2   Genres             2276 non-null   object \n",
      " 3   production_budget  2276 non-null   float64\n",
      " 4   domestic_gross     2276 non-null   float64\n",
      " 5   worldwide_gross    2276 non-null   float64\n",
      " 6   profit_or_loss     2276 non-null   float64\n",
      " 7   relation_pro_los   2276 non-null   float64\n",
      "dtypes: float64(5), object(3)\n",
      "memory usage: 160.0+ KB\n"
     ]
    }
   ],
   "source": [
    "gross_and_genre.info()"
   ]
  },
  {
   "cell_type": "markdown",
   "metadata": {},
   "source": [
    "And it is indeed."
   ]
  },
  {
   "cell_type": "code",
   "execution_count": 38,
   "metadata": {},
   "outputs": [
    {
     "data": {
      "text/html": [
       "<div>\n",
       "<style scoped>\n",
       "    .dataframe tbody tr th:only-of-type {\n",
       "        vertical-align: middle;\n",
       "    }\n",
       "\n",
       "    .dataframe tbody tr th {\n",
       "        vertical-align: top;\n",
       "    }\n",
       "\n",
       "    .dataframe thead th {\n",
       "        text-align: right;\n",
       "    }\n",
       "</style>\n",
       "<table border=\"1\" class=\"dataframe\">\n",
       "  <thead>\n",
       "    <tr style=\"text-align: right;\">\n",
       "      <th></th>\n",
       "      <th>ID</th>\n",
       "      <th>movie</th>\n",
       "      <th>Genres</th>\n",
       "      <th>production_budget</th>\n",
       "      <th>domestic_gross</th>\n",
       "      <th>worldwide_gross</th>\n",
       "      <th>profit_or_loss</th>\n",
       "      <th>relation_pro_los</th>\n",
       "    </tr>\n",
       "  </thead>\n",
       "  <tbody>\n",
       "    <tr>\n",
       "      <th>0</th>\n",
       "      <td>tt1775309</td>\n",
       "      <td>Avatar</td>\n",
       "      <td>Horror</td>\n",
       "      <td>425000000.0</td>\n",
       "      <td>760507625.0</td>\n",
       "      <td>2.776345e+09</td>\n",
       "      <td>2.351345e+09</td>\n",
       "      <td>6.532577</td>\n",
       "    </tr>\n",
       "    <tr>\n",
       "      <th>1</th>\n",
       "      <td>tt1298650</td>\n",
       "      <td>Pirates of the Caribbean: On Stranger Tides</td>\n",
       "      <td>Action,Adventure,Fantasy</td>\n",
       "      <td>410600000.0</td>\n",
       "      <td>241063875.0</td>\n",
       "      <td>1.045664e+09</td>\n",
       "      <td>6.350639e+08</td>\n",
       "      <td>2.546673</td>\n",
       "    </tr>\n",
       "    <tr>\n",
       "      <th>2</th>\n",
       "      <td>tt6565702</td>\n",
       "      <td>Dark Phoenix</td>\n",
       "      <td>Action,Adventure,Sci-Fi</td>\n",
       "      <td>350000000.0</td>\n",
       "      <td>42762350.0</td>\n",
       "      <td>1.497624e+08</td>\n",
       "      <td>-2.002376e+08</td>\n",
       "      <td>0.427892</td>\n",
       "    </tr>\n",
       "    <tr>\n",
       "      <th>3</th>\n",
       "      <td>tt2395427</td>\n",
       "      <td>Avengers: Age of Ultron</td>\n",
       "      <td>Action,Adventure,Sci-Fi</td>\n",
       "      <td>330600000.0</td>\n",
       "      <td>459005868.0</td>\n",
       "      <td>1.403014e+09</td>\n",
       "      <td>1.072414e+09</td>\n",
       "      <td>4.243841</td>\n",
       "    </tr>\n",
       "    <tr>\n",
       "      <th>4</th>\n",
       "      <td>tt4154756</td>\n",
       "      <td>Avengers: Infinity War</td>\n",
       "      <td>Action,Adventure,Sci-Fi</td>\n",
       "      <td>300000000.0</td>\n",
       "      <td>678815482.0</td>\n",
       "      <td>2.048134e+09</td>\n",
       "      <td>1.748134e+09</td>\n",
       "      <td>6.827114</td>\n",
       "    </tr>\n",
       "  </tbody>\n",
       "</table>\n",
       "</div>"
      ],
      "text/plain": [
       "          ID                                        movie  \\\n",
       "0  tt1775309                                       Avatar   \n",
       "1  tt1298650  Pirates of the Caribbean: On Stranger Tides   \n",
       "2  tt6565702                                 Dark Phoenix   \n",
       "3  tt2395427                      Avengers: Age of Ultron   \n",
       "4  tt4154756                       Avengers: Infinity War   \n",
       "\n",
       "                     Genres  production_budget  domestic_gross  \\\n",
       "0                    Horror        425000000.0     760507625.0   \n",
       "1  Action,Adventure,Fantasy        410600000.0     241063875.0   \n",
       "2   Action,Adventure,Sci-Fi        350000000.0      42762350.0   \n",
       "3   Action,Adventure,Sci-Fi        330600000.0     459005868.0   \n",
       "4   Action,Adventure,Sci-Fi        300000000.0     678815482.0   \n",
       "\n",
       "   worldwide_gross  profit_or_loss  relation_pro_los  \n",
       "0     2.776345e+09    2.351345e+09          6.532577  \n",
       "1     1.045664e+09    6.350639e+08          2.546673  \n",
       "2     1.497624e+08   -2.002376e+08          0.427892  \n",
       "3     1.403014e+09    1.072414e+09          4.243841  \n",
       "4     2.048134e+09    1.748134e+09          6.827114  "
      ]
     },
     "execution_count": 38,
     "metadata": {},
     "output_type": "execute_result"
    }
   ],
   "source": [
    "gross_and_genre.head()"
   ]
  },
  {
   "cell_type": "markdown",
   "metadata": {},
   "source": [
    "Finally, after getting all of our interest values together, the next step would be to jump into analysis, in which we compare the income of a movie based on its genre with the production budget it had."
   ]
  },
  {
   "cell_type": "markdown",
   "metadata": {},
   "source": [
    "## Performing Visual Analysis"
   ]
  },
  {
   "cell_type": "markdown",
   "metadata": {},
   "source": [
    "Let us recall the question we are trying to solve:\n",
    "\n",
    "*\"How are the production budgets for movies based on their genre in comparison to their income? Would it be profitable?\"*"
   ]
  },
  {
   "cell_type": "markdown",
   "metadata": {},
   "source": [
    "Therefore, we have to compare every income of every genre, but as we can see, there are many movies that share genres, which may represent a problem while comparing them. Getting appart every genre into an individual one is out of the scope of this project, so each group of genres will be considered as an individual one and proceed with the analysis as they are. There is no major problem in this, because, as we will see, there are times in which a specific group of genres is more profitable than other and even to its no-groupped counterpart."
   ]
  },
  {
   "cell_type": "markdown",
   "metadata": {},
   "source": [
    "We organize the information to be easier to analyze in graphs."
   ]
  },
  {
   "cell_type": "code",
   "execution_count": 39,
   "metadata": {},
   "outputs": [],
   "source": [
    "#Grouping movies by genre\n",
    "genre_gross_grouped = gross_and_genre.groupby(by=\"Genres\", as_index=False).sum()"
   ]
  },
  {
   "cell_type": "code",
   "execution_count": 40,
   "metadata": {},
   "outputs": [
    {
     "data": {
      "text/html": [
       "<div>\n",
       "<style scoped>\n",
       "    .dataframe tbody tr th:only-of-type {\n",
       "        vertical-align: middle;\n",
       "    }\n",
       "\n",
       "    .dataframe tbody tr th {\n",
       "        vertical-align: top;\n",
       "    }\n",
       "\n",
       "    .dataframe thead th {\n",
       "        text-align: right;\n",
       "    }\n",
       "</style>\n",
       "<table border=\"1\" class=\"dataframe\">\n",
       "  <thead>\n",
       "    <tr style=\"text-align: right;\">\n",
       "      <th></th>\n",
       "      <th>Genres</th>\n",
       "      <th>production_budget</th>\n",
       "      <th>domestic_gross</th>\n",
       "      <th>worldwide_gross</th>\n",
       "      <th>profit_or_loss</th>\n",
       "      <th>relation_pro_los</th>\n",
       "    </tr>\n",
       "  </thead>\n",
       "  <tbody>\n",
       "    <tr>\n",
       "      <th>0</th>\n",
       "      <td>Action</td>\n",
       "      <td>7.470500e+08</td>\n",
       "      <td>6.095549e+08</td>\n",
       "      <td>1.229791e+09</td>\n",
       "      <td>4.827409e+08</td>\n",
       "      <td>28.518874</td>\n",
       "    </tr>\n",
       "    <tr>\n",
       "      <th>1</th>\n",
       "      <td>Action,Adventure</td>\n",
       "      <td>2.985000e+08</td>\n",
       "      <td>2.736832e+08</td>\n",
       "      <td>6.657748e+08</td>\n",
       "      <td>3.672748e+08</td>\n",
       "      <td>4.896307</td>\n",
       "    </tr>\n",
       "    <tr>\n",
       "      <th>2</th>\n",
       "      <td>Action,Adventure,Animation</td>\n",
       "      <td>1.957500e+09</td>\n",
       "      <td>2.664329e+09</td>\n",
       "      <td>7.435879e+09</td>\n",
       "      <td>5.478379e+09</td>\n",
       "      <td>69.716680</td>\n",
       "    </tr>\n",
       "    <tr>\n",
       "      <th>3</th>\n",
       "      <td>Action,Adventure,Biography</td>\n",
       "      <td>3.200000e+08</td>\n",
       "      <td>2.521409e+08</td>\n",
       "      <td>8.825137e+08</td>\n",
       "      <td>5.625137e+08</td>\n",
       "      <td>10.178447</td>\n",
       "    </tr>\n",
       "    <tr>\n",
       "      <th>4</th>\n",
       "      <td>Action,Adventure,Comedy</td>\n",
       "      <td>2.551500e+09</td>\n",
       "      <td>3.451585e+09</td>\n",
       "      <td>9.478284e+09</td>\n",
       "      <td>6.926784e+09</td>\n",
       "      <td>106.126157</td>\n",
       "    </tr>\n",
       "  </tbody>\n",
       "</table>\n",
       "</div>"
      ],
      "text/plain": [
       "                       Genres  production_budget  domestic_gross  \\\n",
       "0                      Action       7.470500e+08    6.095549e+08   \n",
       "1            Action,Adventure       2.985000e+08    2.736832e+08   \n",
       "2  Action,Adventure,Animation       1.957500e+09    2.664329e+09   \n",
       "3  Action,Adventure,Biography       3.200000e+08    2.521409e+08   \n",
       "4     Action,Adventure,Comedy       2.551500e+09    3.451585e+09   \n",
       "\n",
       "   worldwide_gross  profit_or_loss  relation_pro_los  \n",
       "0     1.229791e+09    4.827409e+08         28.518874  \n",
       "1     6.657748e+08    3.672748e+08          4.896307  \n",
       "2     7.435879e+09    5.478379e+09         69.716680  \n",
       "3     8.825137e+08    5.625137e+08         10.178447  \n",
       "4     9.478284e+09    6.926784e+09        106.126157  "
      ]
     },
     "execution_count": 40,
     "metadata": {},
     "output_type": "execute_result"
    }
   ],
   "source": [
    "genre_gross_grouped.head()"
   ]
  },
  {
   "cell_type": "markdown",
   "metadata": {},
   "source": [
    "We have to take care of an important issue here. Due to we used the `.sum()` command, all columns were summed up into a single value, including the `relation_pro_los` columns. If we take for example the first row value, it should be `1.9796` and it is `19.938754`. Allthoguh somewhat similar, not the same. The other columns represent no problem, since they are just money amounts and can be summed up straightforward, but a relationship cannot be sum. Hence, we gotta redo the relation operation with the new values."
   ]
  },
  {
   "cell_type": "code",
   "execution_count": 41,
   "metadata": {},
   "outputs": [],
   "source": [
    "genre_gross_grouped[\"relation_pro_los\"] = genre_gross_grouped.worldwide_gross/genre_gross_grouped.production_budget"
   ]
  },
  {
   "cell_type": "code",
   "execution_count": 42,
   "metadata": {},
   "outputs": [
    {
     "data": {
      "text/html": [
       "<div>\n",
       "<style scoped>\n",
       "    .dataframe tbody tr th:only-of-type {\n",
       "        vertical-align: middle;\n",
       "    }\n",
       "\n",
       "    .dataframe tbody tr th {\n",
       "        vertical-align: top;\n",
       "    }\n",
       "\n",
       "    .dataframe thead th {\n",
       "        text-align: right;\n",
       "    }\n",
       "</style>\n",
       "<table border=\"1\" class=\"dataframe\">\n",
       "  <thead>\n",
       "    <tr style=\"text-align: right;\">\n",
       "      <th></th>\n",
       "      <th>Genres</th>\n",
       "      <th>production_budget</th>\n",
       "      <th>domestic_gross</th>\n",
       "      <th>worldwide_gross</th>\n",
       "      <th>profit_or_loss</th>\n",
       "      <th>relation_pro_los</th>\n",
       "    </tr>\n",
       "  </thead>\n",
       "  <tbody>\n",
       "    <tr>\n",
       "      <th>0</th>\n",
       "      <td>Action</td>\n",
       "      <td>7.470500e+08</td>\n",
       "      <td>6.095549e+08</td>\n",
       "      <td>1.229791e+09</td>\n",
       "      <td>4.827409e+08</td>\n",
       "      <td>1.646196</td>\n",
       "    </tr>\n",
       "    <tr>\n",
       "      <th>1</th>\n",
       "      <td>Action,Adventure</td>\n",
       "      <td>2.985000e+08</td>\n",
       "      <td>2.736832e+08</td>\n",
       "      <td>6.657748e+08</td>\n",
       "      <td>3.672748e+08</td>\n",
       "      <td>2.230401</td>\n",
       "    </tr>\n",
       "    <tr>\n",
       "      <th>2</th>\n",
       "      <td>Action,Adventure,Animation</td>\n",
       "      <td>1.957500e+09</td>\n",
       "      <td>2.664329e+09</td>\n",
       "      <td>7.435879e+09</td>\n",
       "      <td>5.478379e+09</td>\n",
       "      <td>3.798661</td>\n",
       "    </tr>\n",
       "    <tr>\n",
       "      <th>3</th>\n",
       "      <td>Action,Adventure,Biography</td>\n",
       "      <td>3.200000e+08</td>\n",
       "      <td>2.521409e+08</td>\n",
       "      <td>8.825137e+08</td>\n",
       "      <td>5.625137e+08</td>\n",
       "      <td>2.757855</td>\n",
       "    </tr>\n",
       "    <tr>\n",
       "      <th>4</th>\n",
       "      <td>Action,Adventure,Comedy</td>\n",
       "      <td>2.551500e+09</td>\n",
       "      <td>3.451585e+09</td>\n",
       "      <td>9.478284e+09</td>\n",
       "      <td>6.926784e+09</td>\n",
       "      <td>3.714789</td>\n",
       "    </tr>\n",
       "  </tbody>\n",
       "</table>\n",
       "</div>"
      ],
      "text/plain": [
       "                       Genres  production_budget  domestic_gross  \\\n",
       "0                      Action       7.470500e+08    6.095549e+08   \n",
       "1            Action,Adventure       2.985000e+08    2.736832e+08   \n",
       "2  Action,Adventure,Animation       1.957500e+09    2.664329e+09   \n",
       "3  Action,Adventure,Biography       3.200000e+08    2.521409e+08   \n",
       "4     Action,Adventure,Comedy       2.551500e+09    3.451585e+09   \n",
       "\n",
       "   worldwide_gross  profit_or_loss  relation_pro_los  \n",
       "0     1.229791e+09    4.827409e+08          1.646196  \n",
       "1     6.657748e+08    3.672748e+08          2.230401  \n",
       "2     7.435879e+09    5.478379e+09          3.798661  \n",
       "3     8.825137e+08    5.625137e+08          2.757855  \n",
       "4     9.478284e+09    6.926784e+09          3.714789  "
      ]
     },
     "execution_count": 42,
     "metadata": {},
     "output_type": "execute_result"
    }
   ],
   "source": [
    "genre_gross_grouped.head()"
   ]
  },
  {
   "cell_type": "markdown",
   "metadata": {},
   "source": [
    "And we take a sample of the population. In this case, we are going with 20 samples for clearer visualization."
   ]
  },
  {
   "cell_type": "code",
   "execution_count": 43,
   "metadata": {},
   "outputs": [],
   "source": [
    "#Getting data from most profitable to less profitable\n",
    "genre_gross_top = genre_gross_grouped.sort_values(by=\"profit_or_loss\", ascending=False).iloc[:20]\n",
    "genre_gross_bottom = genre_gross_grouped.sort_values(by=\"profit_or_loss\").iloc[:20]"
   ]
  },
  {
   "cell_type": "code",
   "execution_count": 44,
   "metadata": {},
   "outputs": [
    {
     "data": {
      "text/html": [
       "<div>\n",
       "<style scoped>\n",
       "    .dataframe tbody tr th:only-of-type {\n",
       "        vertical-align: middle;\n",
       "    }\n",
       "\n",
       "    .dataframe tbody tr th {\n",
       "        vertical-align: top;\n",
       "    }\n",
       "\n",
       "    .dataframe thead th {\n",
       "        text-align: right;\n",
       "    }\n",
       "</style>\n",
       "<table border=\"1\" class=\"dataframe\">\n",
       "  <thead>\n",
       "    <tr style=\"text-align: right;\">\n",
       "      <th></th>\n",
       "      <th>Genres</th>\n",
       "      <th>production_budget</th>\n",
       "      <th>domestic_gross</th>\n",
       "      <th>worldwide_gross</th>\n",
       "      <th>profit_or_loss</th>\n",
       "      <th>relation_pro_los</th>\n",
       "    </tr>\n",
       "  </thead>\n",
       "  <tbody>\n",
       "    <tr>\n",
       "      <th>12</th>\n",
       "      <td>Action,Adventure,Sci-Fi</td>\n",
       "      <td>9.070400e+09</td>\n",
       "      <td>1.258900e+10</td>\n",
       "      <td>3.429490e+10</td>\n",
       "      <td>2.522450e+10</td>\n",
       "      <td>3.780969</td>\n",
       "    </tr>\n",
       "    <tr>\n",
       "      <th>71</th>\n",
       "      <td>Adventure,Animation,Comedy</td>\n",
       "      <td>6.496500e+09</td>\n",
       "      <td>8.572619e+09</td>\n",
       "      <td>2.413066e+10</td>\n",
       "      <td>1.763416e+10</td>\n",
       "      <td>3.714409</td>\n",
       "    </tr>\n",
       "    <tr>\n",
       "      <th>8</th>\n",
       "      <td>Action,Adventure,Fantasy</td>\n",
       "      <td>4.955600e+09</td>\n",
       "      <td>4.219500e+09</td>\n",
       "      <td>1.319146e+10</td>\n",
       "      <td>8.235863e+09</td>\n",
       "      <td>2.661930</td>\n",
       "    </tr>\n",
       "    <tr>\n",
       "      <th>4</th>\n",
       "      <td>Action,Adventure,Comedy</td>\n",
       "      <td>2.551500e+09</td>\n",
       "      <td>3.451585e+09</td>\n",
       "      <td>9.478284e+09</td>\n",
       "      <td>6.926784e+09</td>\n",
       "      <td>3.714789</td>\n",
       "    </tr>\n",
       "    <tr>\n",
       "      <th>2</th>\n",
       "      <td>Action,Adventure,Animation</td>\n",
       "      <td>1.957500e+09</td>\n",
       "      <td>2.664329e+09</td>\n",
       "      <td>7.435879e+09</td>\n",
       "      <td>5.478379e+09</td>\n",
       "      <td>3.798661</td>\n",
       "    </tr>\n",
       "  </tbody>\n",
       "</table>\n",
       "</div>"
      ],
      "text/plain": [
       "                        Genres  production_budget  domestic_gross  \\\n",
       "12     Action,Adventure,Sci-Fi       9.070400e+09    1.258900e+10   \n",
       "71  Adventure,Animation,Comedy       6.496500e+09    8.572619e+09   \n",
       "8     Action,Adventure,Fantasy       4.955600e+09    4.219500e+09   \n",
       "4      Action,Adventure,Comedy       2.551500e+09    3.451585e+09   \n",
       "2   Action,Adventure,Animation       1.957500e+09    2.664329e+09   \n",
       "\n",
       "    worldwide_gross  profit_or_loss  relation_pro_los  \n",
       "12     3.429490e+10    2.522450e+10          3.780969  \n",
       "71     2.413066e+10    1.763416e+10          3.714409  \n",
       "8      1.319146e+10    8.235863e+09          2.661930  \n",
       "4      9.478284e+09    6.926784e+09          3.714789  \n",
       "2      7.435879e+09    5.478379e+09          3.798661  "
      ]
     },
     "execution_count": 44,
     "metadata": {},
     "output_type": "execute_result"
    }
   ],
   "source": [
    "genre_gross_top.head()"
   ]
  },
  {
   "cell_type": "code",
   "execution_count": 45,
   "metadata": {},
   "outputs": [
    {
     "data": {
      "text/html": [
       "<div>\n",
       "<style scoped>\n",
       "    .dataframe tbody tr th:only-of-type {\n",
       "        vertical-align: middle;\n",
       "    }\n",
       "\n",
       "    .dataframe tbody tr th {\n",
       "        vertical-align: top;\n",
       "    }\n",
       "\n",
       "    .dataframe thead th {\n",
       "        text-align: right;\n",
       "    }\n",
       "</style>\n",
       "<table border=\"1\" class=\"dataframe\">\n",
       "  <thead>\n",
       "    <tr style=\"text-align: right;\">\n",
       "      <th></th>\n",
       "      <th>Genres</th>\n",
       "      <th>production_budget</th>\n",
       "      <th>domestic_gross</th>\n",
       "      <th>worldwide_gross</th>\n",
       "      <th>profit_or_loss</th>\n",
       "      <th>relation_pro_los</th>\n",
       "    </tr>\n",
       "  </thead>\n",
       "  <tbody>\n",
       "    <tr>\n",
       "      <th>32</th>\n",
       "      <td>Action,Crime,Fantasy</td>\n",
       "      <td>90000000.0</td>\n",
       "      <td>0.0</td>\n",
       "      <td>0.0</td>\n",
       "      <td>-90000000.0</td>\n",
       "      <td>0.000000</td>\n",
       "    </tr>\n",
       "    <tr>\n",
       "      <th>123</th>\n",
       "      <td>Biography,Crime,Documentary</td>\n",
       "      <td>99000000.0</td>\n",
       "      <td>18985994.0</td>\n",
       "      <td>20813998.0</td>\n",
       "      <td>-78186002.0</td>\n",
       "      <td>0.210242</td>\n",
       "    </tr>\n",
       "    <tr>\n",
       "      <th>51</th>\n",
       "      <td>Action,Family,Fantasy</td>\n",
       "      <td>90000000.0</td>\n",
       "      <td>195459.0</td>\n",
       "      <td>20466016.0</td>\n",
       "      <td>-69533984.0</td>\n",
       "      <td>0.227400</td>\n",
       "    </tr>\n",
       "    <tr>\n",
       "      <th>196</th>\n",
       "      <td>Crime,Drama,History</td>\n",
       "      <td>92000000.0</td>\n",
       "      <td>12958326.0</td>\n",
       "      <td>27829311.0</td>\n",
       "      <td>-64170689.0</td>\n",
       "      <td>0.302493</td>\n",
       "    </tr>\n",
       "    <tr>\n",
       "      <th>189</th>\n",
       "      <td>Comedy,Western</td>\n",
       "      <td>66000000.0</td>\n",
       "      <td>5909483.0</td>\n",
       "      <td>8446952.0</td>\n",
       "      <td>-57553048.0</td>\n",
       "      <td>0.127984</td>\n",
       "    </tr>\n",
       "  </tbody>\n",
       "</table>\n",
       "</div>"
      ],
      "text/plain": [
       "                          Genres  production_budget  domestic_gross  \\\n",
       "32          Action,Crime,Fantasy         90000000.0             0.0   \n",
       "123  Biography,Crime,Documentary         99000000.0      18985994.0   \n",
       "51         Action,Family,Fantasy         90000000.0        195459.0   \n",
       "196          Crime,Drama,History         92000000.0      12958326.0   \n",
       "189               Comedy,Western         66000000.0       5909483.0   \n",
       "\n",
       "     worldwide_gross  profit_or_loss  relation_pro_los  \n",
       "32               0.0     -90000000.0          0.000000  \n",
       "123       20813998.0     -78186002.0          0.210242  \n",
       "51        20466016.0     -69533984.0          0.227400  \n",
       "196       27829311.0     -64170689.0          0.302493  \n",
       "189        8446952.0     -57553048.0          0.127984  "
      ]
     },
     "execution_count": 45,
     "metadata": {},
     "output_type": "execute_result"
    }
   ],
   "source": [
    "genre_gross_bottom.head()"
   ]
  },
  {
   "cell_type": "markdown",
   "metadata": {},
   "source": [
    "We can see, even after cleaning up, that we have ended up with a not very significant result, where when having a big budget, the total gross income is zero, and the genre had no revenue either domesticly or internationally. This surely cannot be a real case, and must have happened something when merging. So we will delete this row and add a new one so we still have the same amount of data."
   ]
  },
  {
   "cell_type": "code",
   "execution_count": 46,
   "metadata": {},
   "outputs": [
    {
     "data": {
      "text/html": [
       "<div>\n",
       "<style scoped>\n",
       "    .dataframe tbody tr th:only-of-type {\n",
       "        vertical-align: middle;\n",
       "    }\n",
       "\n",
       "    .dataframe tbody tr th {\n",
       "        vertical-align: top;\n",
       "    }\n",
       "\n",
       "    .dataframe thead th {\n",
       "        text-align: right;\n",
       "    }\n",
       "</style>\n",
       "<table border=\"1\" class=\"dataframe\">\n",
       "  <thead>\n",
       "    <tr style=\"text-align: right;\">\n",
       "      <th></th>\n",
       "      <th>Genres</th>\n",
       "      <th>production_budget</th>\n",
       "      <th>domestic_gross</th>\n",
       "      <th>worldwide_gross</th>\n",
       "      <th>profit_or_loss</th>\n",
       "      <th>relation_pro_los</th>\n",
       "    </tr>\n",
       "  </thead>\n",
       "  <tbody>\n",
       "    <tr>\n",
       "      <th>123</th>\n",
       "      <td>Biography,Crime,Documentary</td>\n",
       "      <td>99000000.0</td>\n",
       "      <td>18985994.0</td>\n",
       "      <td>20813998.0</td>\n",
       "      <td>-78186002.0</td>\n",
       "      <td>0.210242</td>\n",
       "    </tr>\n",
       "    <tr>\n",
       "      <th>51</th>\n",
       "      <td>Action,Family,Fantasy</td>\n",
       "      <td>90000000.0</td>\n",
       "      <td>195459.0</td>\n",
       "      <td>20466016.0</td>\n",
       "      <td>-69533984.0</td>\n",
       "      <td>0.227400</td>\n",
       "    </tr>\n",
       "    <tr>\n",
       "      <th>196</th>\n",
       "      <td>Crime,Drama,History</td>\n",
       "      <td>92000000.0</td>\n",
       "      <td>12958326.0</td>\n",
       "      <td>27829311.0</td>\n",
       "      <td>-64170689.0</td>\n",
       "      <td>0.302493</td>\n",
       "    </tr>\n",
       "    <tr>\n",
       "      <th>189</th>\n",
       "      <td>Comedy,Western</td>\n",
       "      <td>66000000.0</td>\n",
       "      <td>5909483.0</td>\n",
       "      <td>8446952.0</td>\n",
       "      <td>-57553048.0</td>\n",
       "      <td>0.127984</td>\n",
       "    </tr>\n",
       "    <tr>\n",
       "      <th>283</th>\n",
       "      <td>Romance</td>\n",
       "      <td>84425000.0</td>\n",
       "      <td>23589834.0</td>\n",
       "      <td>30825744.0</td>\n",
       "      <td>-53599256.0</td>\n",
       "      <td>0.365126</td>\n",
       "    </tr>\n",
       "  </tbody>\n",
       "</table>\n",
       "</div>"
      ],
      "text/plain": [
       "                          Genres  production_budget  domestic_gross  \\\n",
       "123  Biography,Crime,Documentary         99000000.0      18985994.0   \n",
       "51         Action,Family,Fantasy         90000000.0        195459.0   \n",
       "196          Crime,Drama,History         92000000.0      12958326.0   \n",
       "189               Comedy,Western         66000000.0       5909483.0   \n",
       "283                      Romance         84425000.0      23589834.0   \n",
       "\n",
       "     worldwide_gross  profit_or_loss  relation_pro_los  \n",
       "123       20813998.0     -78186002.0          0.210242  \n",
       "51        20466016.0     -69533984.0          0.227400  \n",
       "196       27829311.0     -64170689.0          0.302493  \n",
       "189        8446952.0     -57553048.0          0.127984  \n",
       "283       30825744.0     -53599256.0          0.365126  "
      ]
     },
     "execution_count": 46,
     "metadata": {},
     "output_type": "execute_result"
    }
   ],
   "source": [
    "genre_gross_bottom = genre_gross_grouped.sort_values(by=\"profit_or_loss\").iloc[:(20+1)]\n",
    "genre_gross_bottom.drop(index=32, inplace=True)\n",
    "genre_gross_bottom.head()"
   ]
  },
  {
   "cell_type": "markdown",
   "metadata": {},
   "source": [
    "We can start plotting. First we are gonna plot the `Genres` with their `profit_or_loss` in order to see which are the ones with the highest and lowest incomes."
   ]
  },
  {
   "cell_type": "code",
   "execution_count": 47,
   "metadata": {},
   "outputs": [],
   "source": [
    "#This values represent different style values for the graphs\n",
    "f1 = 15  #Figzise 1\n",
    "f2 = 15  #Figsize 2\n",
    "hs = 1.25   #Whitespace between graphs\n",
    "fx = 16  #Fontsize x ticks\n",
    "fy = 16  #Fontsize y ticks\n",
    "ft = 20  #Fontsize title & labels"
   ]
  },
  {
   "cell_type": "code",
   "execution_count": 48,
   "metadata": {
    "scrolled": false
   },
   "outputs": [
    {
     "data": {
      "image/png": "[encoded data removed]",
      "text/plain": [
       "<Figure size 1080x1080 with 2 Axes>"
      ]
     },
     "metadata": {
      "needs_background": "light"
     },
     "output_type": "display_data"
    }
   ],
   "source": [
    "fig, (ax1, ax2) = plt.subplots(figsize=(f1,f2), nrows=2, ncols=1)\n",
    "\n",
    "ax1.bar(genre_gross_top.Genres, genre_gross_top.profit_or_loss, color=\"g\")\n",
    "\n",
    "ax1.set_title(\"Profit of Movies by Genre\", fontdict={\"fontsize\":ft})\n",
    "\n",
    "plt.draw()\n",
    "ax1.set_xticks(ax1.get_xticks())\n",
    "ax1.set_xticklabels(ax1.get_xticklabels(), rotation=90, fontdict={\"fontsize\":fx})\n",
    "\n",
    "ax1.ticklabel_format(style=\"plain\", axis=\"y\")\n",
    "ax1.get_yaxis().set_major_formatter(\n",
    "    matplotlib.ticker.FuncFormatter(lambda x, p: format(int(x), ',')))\n",
    "\n",
    "ax1.set_xlabel(\"Genre\", fontdict={\"fontsize\":ft})\n",
    "ax1.set_ylabel(\"USD\", fontdict={\"fontsize\":ft})\n",
    "ax1.grid(axis=\"y\")\n",
    "\n",
    "#######\n",
    "\n",
    "ax2.bar(genre_gross_bottom.Genres, genre_gross_bottom.profit_or_loss, color=\"r\")\n",
    "ax2.set_title(\"Loss of Movies by Genre\", fontdict={\"fontsize\":ft})\n",
    "\n",
    "plt.draw()\n",
    "ax2.set_xticks(ax2.get_xticks())\n",
    "ax2.set_xticklabels(ax2.get_xticklabels(), rotation=90, fontdict={\"fontsize\":fx})\n",
    "ax2.ticklabel_format(style=\"plain\", axis=\"y\")\n",
    "ax2.get_yaxis().set_major_formatter(\n",
    "    matplotlib.ticker.FuncFormatter(lambda x, p: format(int(x), ',')))\n",
    "\n",
    "ax2.set_xlabel(\"Genre\", fontdict={\"fontsize\":ft})\n",
    "ax2.set_ylabel(\"USD\", fontdict={\"fontsize\":ft})\n",
    "ax2.grid(axis=\"y\")\n",
    "\n",
    "#######\n",
    "\n",
    "plt.subplots_adjust(hspace=hs)\n",
    "plt.show()"
   ]
  },
  {
   "cell_type": "markdown",
   "metadata": {},
   "source": [
    "We can also have a visual comparison of the earnings with the budget."
   ]
  },
  {
   "cell_type": "code",
   "execution_count": 49,
   "metadata": {},
   "outputs": [],
   "source": [
    "wwg_top = genre_gross_top.sort_values(by=\"worldwide_gross\", ascending=False)\n",
    "wwg_bottom = genre_gross_bottom.sort_values(by=\"worldwide_gross\", ascending=False)"
   ]
  },
  {
   "cell_type": "code",
   "execution_count": 50,
   "metadata": {
    "scrolled": false
   },
   "outputs": [
    {
     "data": {
      "image/png": "[encoded data removed]",
      "text/plain": [
       "<Figure size 1080x1080 with 2 Axes>"
      ]
     },
     "metadata": {
      "needs_background": "light"
     },
     "output_type": "display_data"
    }
   ],
   "source": [
    "fig, (ax1, ax2) = plt.subplots(figsize=(f1,f2), nrows=2, ncols=1)\n",
    "\n",
    "ax1.bar(genre_gross_top.Genres, wwg_top.worldwide_gross, width=-0.45, color=\"g\", align=\"edge\")\n",
    "ax1.bar(genre_gross_top.Genres, wwg_top.production_budget, width=0.45, color=\"orange\", align=\"edge\")\n",
    "\n",
    "ax1.set_title(\"Worldwide Income of Movies by Genre and Budget\", fontdict={\"fontsize\":ft})\n",
    "\n",
    "\n",
    "plt.draw()\n",
    "ax1.set_xticks(ax1.get_xticks())\n",
    "ax1.set_xticklabels(ax1.get_xticklabels(), rotation=90, fontdict={\"fontsize\":fx})\n",
    "ax1.ticklabel_format(style=\"plain\", axis=\"y\")\n",
    "ax1.get_yaxis().set_major_formatter(matplotlib.ticker.FuncFormatter(lambda x, p: format(int(x), ',')))\n",
    "\n",
    "\n",
    "ax1.set_xlabel(\"Genre\", fontdict={\"fontsize\":ft})\n",
    "ax1.set_ylabel(\"USD\", fontdict={\"fontsize\":ft})\n",
    "ax1.legend(labels=['Worldwide Income', 'Budget'])\n",
    "\n",
    "ax1.grid(axis=\"y\")\n",
    "\n",
    "#######\n",
    "\n",
    "ax2.bar(genre_gross_bottom.Genres, wwg_bottom.worldwide_gross, width=-0.45, color=\"r\",align=\"edge\")\n",
    "ax2.bar(genre_gross_bottom.Genres, wwg_bottom.production_budget, width=0.45, color=\"orange\", align=\"edge\")\n",
    "\n",
    "ax2.set_title(\"Worldwide Income of Movies by Genre and Budget\", fontdict={\"fontsize\":ft})\n",
    "\n",
    "plt.draw()\n",
    "ax2.set_xticks(ax2.get_xticks())\n",
    "ax2.set_xticklabels(ax2.get_xticklabels(), rotation=90, fontdict={\"fontsize\":fx})\n",
    "ax2.ticklabel_format(style=\"plain\", axis=\"y\")\n",
    "ax2.get_yaxis().set_major_formatter(\n",
    "    matplotlib.ticker.FuncFormatter(lambda x, p: format(int(x), ',')))\n",
    "\n",
    "ax2.set_xlabel(\"Genre\", fontdict={\"fontsize\":ft})\n",
    "ax2.set_ylabel(\"USD\", fontdict={\"fontsize\":ft})\n",
    "ax2.legend(labels=['Worldwide Income', 'Budget'])\n",
    "\n",
    "ax2.grid(axis=\"y\")\n",
    "\n",
    "#######\n",
    "plt.subplots_adjust(hspace=hs)\n",
    "plt.show()"
   ]
  },
  {
   "cell_type": "markdown",
   "metadata": {},
   "source": [
    "It would be convenient to also do an analysis based on the relationship between the budget and the revenue; because, as we can see in the previous tables, some movies barely earn or loss the production budgets amount than others which may have even surpass it."
   ]
  },
  {
   "cell_type": "code",
   "execution_count": 51,
   "metadata": {},
   "outputs": [],
   "source": [
    "relation_top = genre_gross_top.sort_values(by=\"relation_pro_los\", ascending=False)\n",
    "relation_bottom = genre_gross_bottom.sort_values(by=\"relation_pro_los\", ascending=False)"
   ]
  },
  {
   "cell_type": "markdown",
   "metadata": {},
   "source": [
    "We plot again."
   ]
  },
  {
   "cell_type": "code",
   "execution_count": 52,
   "metadata": {
    "scrolled": false
   },
   "outputs": [
    {
     "data": {
      "image/png": "[encoded data removed]",
      "text/plain": [
       "<Figure size 1080x1080 with 2 Axes>"
      ]
     },
     "metadata": {
      "needs_background": "light"
     },
     "output_type": "display_data"
    }
   ],
   "source": [
    "fig, (ax1, ax2) = plt.subplots(figsize=(f1,f2), nrows=2, ncols=1)\n",
    "\n",
    "ax1.bar(relation_top.Genres, relation_top.relation_pro_los, color=\"g\")\n",
    "\n",
    "ax1.set_title(\"Percentage of Profits\", fontdict={\"fontsize\":ft})\n",
    "\n",
    "plt.draw()\n",
    "ax1.set_xticks(ax1.get_xticks())\n",
    "ax1.set_xticklabels(ax1.get_xticklabels(), rotation=90, fontdict={\"fontsize\":fx})\n",
    "\n",
    "ax1.set_xlabel(\"Genre\", fontdict={\"fontsize\":ft})\n",
    "ax1.set_ylabel(\"Percentage (x100)\", fontdict={\"fontsize\":ft})\n",
    "ax1.grid(axis=\"y\")\n",
    "\n",
    "#######\n",
    "\n",
    "ax2.bar(relation_bottom.Genres, relation_bottom.relation_pro_los, color=\"r\")\n",
    "ax2.set_title(\"Percentage of Losses\", fontdict={\"fontsize\":ft})\n",
    "\n",
    "plt.draw()\n",
    "ax2.set_xticks(ax2.get_xticks())\n",
    "ax2.set_xticklabels(ax2.get_xticklabels(), rotation=90, fontdict={\"fontsize\":fx})\n",
    "\n",
    "ax2.set_xlabel(\"Genre\", fontdict={\"fontsize\":ft})\n",
    "ax2.set_ylabel(\"Percentage (x100)\", fontdict={\"fontsize\":ft})\n",
    "ax2.grid(axis=\"y\")\n",
    "\n",
    "#######\n",
    "\n",
    "plt.subplots_adjust(hspace=hs)\n",
    "plt.show()"
   ]
  },
  {
   "cell_type": "markdown",
   "metadata": {},
   "source": [
    "As we can see, even if the plots are somewhat similar, they have key differences that may be relevant for later analysis."
   ]
  },
  {
   "cell_type": "markdown",
   "metadata": {},
   "source": [
    "## Statistical Analysis"
   ]
  },
  {
   "cell_type": "markdown",
   "metadata": {},
   "source": [
    "Now that we have got a bunch of information from visualization, it is time to be certain of what we are proposing, and for that matter we ougth to perform a statistical analysis which will let us know if our results are significant or not."
   ]
  },
  {
   "cell_type": "markdown",
   "metadata": {},
   "source": [
    "For that purpose we shall stablish what are we are trying to demonstrate: which genre is the most profitable in terms of budget and income? Before we saw visually that it could be the **Horror/Mystery/Thriller** group genre which had around $3 billion USD profit in relation to its budget. Now we will put statistics into it for more sifnificant results.\n",
    "\n",
    "A good kind of hypotheses that would answer our question would be the following ones:"
   ]
  },
  {
   "cell_type": "markdown",
   "metadata": {},
   "source": [
    "$H_0$: *Having a higher budget will not produce higher profit movies.*"
   ]
  },
  {
   "cell_type": "markdown",
   "metadata": {},
   "source": [
    "$H_1$: *Having a higher budget will produce higher profit movies.*"
   ]
  },
  {
   "cell_type": "markdown",
   "metadata": {},
   "source": [
    "Now we develop statistical analysis to find out which hypotheses would be correct. For that purpose we have to get some basic statistic values from our population to start working with, for example: mean, median, standard deviation and some more."
   ]
  },
  {
   "cell_type": "markdown",
   "metadata": {},
   "source": [
    "Our population is contained within the `genre_gross_grouped` dataframe."
   ]
  },
  {
   "cell_type": "code",
   "execution_count": 53,
   "metadata": {},
   "outputs": [],
   "source": [
    "genre_gross_mean = gross_and_genre.copy()"
   ]
  },
  {
   "cell_type": "markdown",
   "metadata": {},
   "source": [
    "We get rid off of the columns we are not using."
   ]
  },
  {
   "cell_type": "code",
   "execution_count": 54,
   "metadata": {},
   "outputs": [],
   "source": [
    "del genre_gross_mean[\"movie\"]\n",
    "del genre_gross_mean[\"production_budget\"]\n",
    "del genre_gross_mean[\"domestic_gross\"]\n",
    "del genre_gross_mean[\"worldwide_gross\"]\n",
    "del genre_gross_mean[\"profit_or_loss\"]\n",
    "del genre_gross_mean[\"ID\"]"
   ]
  },
  {
   "cell_type": "markdown",
   "metadata": {},
   "source": [
    "And get our final population of genres."
   ]
  },
  {
   "cell_type": "code",
   "execution_count": 55,
   "metadata": {},
   "outputs": [],
   "source": [
    "genre_gross_mean = genre_gross_mean.groupby(by=\"Genres\", as_index=False).mean()"
   ]
  },
  {
   "cell_type": "code",
   "execution_count": 56,
   "metadata": {},
   "outputs": [
    {
     "data": {
      "text/html": [
       "<div>\n",
       "<style scoped>\n",
       "    .dataframe tbody tr th:only-of-type {\n",
       "        vertical-align: middle;\n",
       "    }\n",
       "\n",
       "    .dataframe tbody tr th {\n",
       "        vertical-align: top;\n",
       "    }\n",
       "\n",
       "    .dataframe thead th {\n",
       "        text-align: right;\n",
       "    }\n",
       "</style>\n",
       "<table border=\"1\" class=\"dataframe\">\n",
       "  <thead>\n",
       "    <tr style=\"text-align: right;\">\n",
       "      <th></th>\n",
       "      <th>Genres</th>\n",
       "      <th>relation_pro_los</th>\n",
       "    </tr>\n",
       "  </thead>\n",
       "  <tbody>\n",
       "    <tr>\n",
       "      <th>0</th>\n",
       "      <td>Action</td>\n",
       "      <td>1.500993</td>\n",
       "    </tr>\n",
       "    <tr>\n",
       "      <th>1</th>\n",
       "      <td>Action,Adventure</td>\n",
       "      <td>1.224077</td>\n",
       "    </tr>\n",
       "    <tr>\n",
       "      <th>2</th>\n",
       "      <td>Action,Adventure,Animation</td>\n",
       "      <td>4.100981</td>\n",
       "    </tr>\n",
       "    <tr>\n",
       "      <th>3</th>\n",
       "      <td>Action,Adventure,Biography</td>\n",
       "      <td>2.544612</td>\n",
       "    </tr>\n",
       "    <tr>\n",
       "      <th>4</th>\n",
       "      <td>Action,Adventure,Comedy</td>\n",
       "      <td>3.537539</td>\n",
       "    </tr>\n",
       "  </tbody>\n",
       "</table>\n",
       "</div>"
      ],
      "text/plain": [
       "                       Genres  relation_pro_los\n",
       "0                      Action          1.500993\n",
       "1            Action,Adventure          1.224077\n",
       "2  Action,Adventure,Animation          4.100981\n",
       "3  Action,Adventure,Biography          2.544612\n",
       "4     Action,Adventure,Comedy          3.537539"
      ]
     },
     "execution_count": 56,
     "metadata": {},
     "output_type": "execute_result"
    }
   ],
   "source": [
    "genre_gross_mean.head()"
   ]
  },
  {
   "cell_type": "markdown",
   "metadata": {},
   "source": [
    "We this data, we con now get the mean and standard deviation of the population."
   ]
  },
  {
   "cell_type": "code",
   "execution_count": 57,
   "metadata": {},
   "outputs": [],
   "source": [
    "pop_mean = genre_gross_mean.relation_pro_los.mean()\n",
    "pop_std  = genre_gross_mean.relation_pro_los.std()"
   ]
  },
  {
   "cell_type": "markdown",
   "metadata": {},
   "source": [
    "We also need to get our population sample, which we have decided that will be of 100 samples."
   ]
  },
  {
   "cell_type": "code",
   "execution_count": 58,
   "metadata": {},
   "outputs": [],
   "source": [
    "sample_genres = genre_gross_mean.sample(n=100)"
   ]
  },
  {
   "cell_type": "markdown",
   "metadata": {},
   "source": [
    "We have to keep in mind that this sample will change everytime the code is run."
   ]
  },
  {
   "cell_type": "code",
   "execution_count": 59,
   "metadata": {},
   "outputs": [
    {
     "data": {
      "text/html": [
       "<div>\n",
       "<style scoped>\n",
       "    .dataframe tbody tr th:only-of-type {\n",
       "        vertical-align: middle;\n",
       "    }\n",
       "\n",
       "    .dataframe tbody tr th {\n",
       "        vertical-align: top;\n",
       "    }\n",
       "\n",
       "    .dataframe thead th {\n",
       "        text-align: right;\n",
       "    }\n",
       "</style>\n",
       "<table border=\"1\" class=\"dataframe\">\n",
       "  <thead>\n",
       "    <tr style=\"text-align: right;\">\n",
       "      <th></th>\n",
       "      <th>Genres</th>\n",
       "      <th>relation_pro_los</th>\n",
       "    </tr>\n",
       "  </thead>\n",
       "  <tbody>\n",
       "    <tr>\n",
       "      <th>271</th>\n",
       "      <td>Horror,Music,Thriller</td>\n",
       "      <td>0.761501</td>\n",
       "    </tr>\n",
       "    <tr>\n",
       "      <th>181</th>\n",
       "      <td>Comedy,Mystery,Thriller</td>\n",
       "      <td>0.133647</td>\n",
       "    </tr>\n",
       "    <tr>\n",
       "      <th>277</th>\n",
       "      <td>Horror,Thriller</td>\n",
       "      <td>3.028382</td>\n",
       "    </tr>\n",
       "    <tr>\n",
       "      <th>76</th>\n",
       "      <td>Adventure,Biography,Documentary</td>\n",
       "      <td>1.016262</td>\n",
       "    </tr>\n",
       "    <tr>\n",
       "      <th>229</th>\n",
       "      <td>Drama,Fantasy,Music</td>\n",
       "      <td>7.123288</td>\n",
       "    </tr>\n",
       "    <tr>\n",
       "      <th>...</th>\n",
       "      <td>...</td>\n",
       "      <td>...</td>\n",
       "    </tr>\n",
       "    <tr>\n",
       "      <th>50</th>\n",
       "      <td>Action,Drama,Western</td>\n",
       "      <td>0.075427</td>\n",
       "    </tr>\n",
       "    <tr>\n",
       "      <th>101</th>\n",
       "      <td>Adventure,Drama,Western</td>\n",
       "      <td>7.207912</td>\n",
       "    </tr>\n",
       "    <tr>\n",
       "      <th>46</th>\n",
       "      <td>Action,Drama,Sci-Fi</td>\n",
       "      <td>4.019286</td>\n",
       "    </tr>\n",
       "    <tr>\n",
       "      <th>59</th>\n",
       "      <td>Action,Horror,Thriller</td>\n",
       "      <td>5.960215</td>\n",
       "    </tr>\n",
       "    <tr>\n",
       "      <th>0</th>\n",
       "      <td>Action</td>\n",
       "      <td>1.500993</td>\n",
       "    </tr>\n",
       "  </tbody>\n",
       "</table>\n",
       "<p>100 rows × 2 columns</p>\n",
       "</div>"
      ],
      "text/plain": [
       "                              Genres  relation_pro_los\n",
       "271            Horror,Music,Thriller          0.761501\n",
       "181          Comedy,Mystery,Thriller          0.133647\n",
       "277                  Horror,Thriller          3.028382\n",
       "76   Adventure,Biography,Documentary          1.016262\n",
       "229              Drama,Fantasy,Music          7.123288\n",
       "..                               ...               ...\n",
       "50              Action,Drama,Western          0.075427\n",
       "101          Adventure,Drama,Western          7.207912\n",
       "46               Action,Drama,Sci-Fi          4.019286\n",
       "59            Action,Horror,Thriller          5.960215\n",
       "0                             Action          1.500993\n",
       "\n",
       "[100 rows x 2 columns]"
      ]
     },
     "execution_count": 59,
     "metadata": {},
     "output_type": "execute_result"
    }
   ],
   "source": [
    "sample_genres"
   ]
  },
  {
   "cell_type": "markdown",
   "metadata": {},
   "source": [
    "We got the dispersion values for the samples."
   ]
  },
  {
   "cell_type": "code",
   "execution_count": 60,
   "metadata": {},
   "outputs": [],
   "source": [
    "sample_mean = sample_genres.relation_pro_los.mean()\n",
    "sample_std  = sample_genres.relation_pro_los.std()\n",
    "sample_size = sample_genres.shape[0]\n",
    "\n",
    "#Define our significance level\n",
    "alpha = 0.05"
   ]
  },
  {
   "cell_type": "markdown",
   "metadata": {},
   "source": [
    "And we start performing the test, which in this case iz gona be a *z*-test since our sample size is bigger than 30."
   ]
  },
  {
   "cell_type": "markdown",
   "metadata": {},
   "source": [
    "We calculate the *z-score* value."
   ]
  },
  {
   "cell_type": "code",
   "execution_count": 61,
   "metadata": {},
   "outputs": [
    {
     "data": {
      "text/plain": [
       "0.43173036668967296"
      ]
     },
     "execution_count": 61,
     "metadata": {},
     "output_type": "execute_result"
    }
   ],
   "source": [
    "z = (sample_mean-pop_mean) / (pop_std/np.sqrt(sample_size))\n",
    "z"
   ]
  },
  {
   "cell_type": "markdown",
   "metadata": {},
   "source": [
    "Depending on the value of the z-score we are using one of the following approaches:"
   ]
  },
  {
   "cell_type": "code",
   "execution_count": 62,
   "metadata": {},
   "outputs": [
    {
     "data": {
      "text/plain": [
       "0.33296869709190957"
      ]
     },
     "execution_count": 62,
     "metadata": {},
     "output_type": "execute_result"
    }
   ],
   "source": [
    "if z<0:\n",
    "    p = stats.norm.cdf(z)                 #For a lower-tailed test\n",
    "elif (z>0) & (z<0.1):\n",
    "    p = 2 * (1 - stats.norm.cdf(abs(z)))  #For a two-tailed test\n",
    "else:\n",
    "    p = 1 - stats.norm.cdf(z)             #For a upper-tailed test\n",
    "\n",
    "p"
   ]
  },
  {
   "cell_type": "markdown",
   "metadata": {},
   "source": [
    "We plot a normal distribution of the data so we can visualize better how the data is allocated and be prepared on what to expect."
   ]
  },
  {
   "cell_type": "code",
   "execution_count": 63,
   "metadata": {
    "scrolled": false
   },
   "outputs": [
    {
     "name": "stdout",
     "output_type": "stream",
     "text": [
      "Mean:  3.7900864076591256 \n",
      "STD:   7.698020775682141\n"
     ]
    },
    {
     "data": {
      "image/png": "[encoded data removed]",
      "text/plain": [
       "<Figure size 1296x576 with 1 Axes>"
      ]
     },
     "metadata": {
      "needs_background": "light"
     },
     "output_type": "display_data"
    }
   ],
   "source": [
    "fig, ax = plt.subplots(figsize=(18,8))\n",
    "\n",
    "x = np.linspace(\n",
    "        stats.norm(sample_mean, sample_std).ppf(0.01), # Start plotting here\n",
    "        stats.norm(sample_mean, sample_std).ppf(0.99), # End plotting here\n",
    "        100                                            # Number of points\n",
    ")\n",
    "\n",
    "y = stats.norm(sample_mean,sample_std).pdf(x) #Generate normal function\n",
    "alpha_interval = stats.norm(sample_mean, sample_std).ppf(0.05)\n",
    "\n",
    "ax.plot(x, y,'r-')\n",
    "ax.fill_between(x, y, 0, color='b', alpha=.1)\n",
    "\n",
    "#Reference values\n",
    "plt.axvline(x=sample_mean, color=\"r\", label=\"$\\mu$\", linestyle=\"--\")                               #Mean\n",
    "plt.axvline(x=sample_std+sample_mean, color=\"pink\", linestyle=\"--\", label=\"$\\sigma$/-$\\sigma$\")    #1 STD\n",
    "plt.axvline(x=-sample_std+sample_mean, color=\"pink\", linestyle=\"--\")                               #-1 STD\n",
    "plt.axvline(x=sample_std*2+sample_mean, color=\"pink\", linestyle=\"--\")                              #2 STD\n",
    "plt.axvline(x=-sample_std*2+sample_mean, color=\"pink\", linestyle=\"--\")                             #-2 STD\n",
    "plt.axvline(x=alpha_interval, ymax=0.28, color=\"g\", label= \"$alpha$\", linestyle=\"--\")               #alpha\n",
    "\n",
    "#Graph label\n",
    "plt.legend(prop={'size': 20})\n",
    "ax.set_ylabel(\"Density\", fontdict={\"fontsize\":ft})\n",
    "ax.set_title(\"Normal Distribution of the Relation of Profits or Losses\", fontdict={\"fontsize\": 20});\n",
    "\n",
    "print(\"Mean: \", sample_mean, \"\\nSTD:  \", sample_std)"
   ]
  },
  {
   "cell_type": "code",
   "execution_count": 64,
   "metadata": {},
   "outputs": [
    {
     "name": "stdout",
     "output_type": "stream",
     "text": [
      "We fail to reject the Null-Hypothesis\n"
     ]
    }
   ],
   "source": [
    "if p<alpha:\n",
    "    print(\"We reject the Null-Hypothesis\")\n",
    "else:\n",
    "    print(\"We fail to reject the Null-Hypothesis\")"
   ]
  },
  {
   "cell_type": "markdown",
   "metadata": {},
   "source": [
    "Given that our *p-value* is bigger than the significance level we have established, we can conlcude that we fail to reject the Null-Hypothesis."
   ]
  },
  {
   "cell_type": "markdown",
   "metadata": {},
   "source": [
    "## Conclusion"
   ]
  },
  {
   "cell_type": "markdown",
   "metadata": {},
   "source": [
    "Throughtout the visualizations of th graphs we saw many possible results. On one side, the \"Worldwide Income of Movies by Genre and Budget\" showed us that despite the budget assign to a movie porject, often the result tend to show huge incomes; but in the other, and with other data, the same graph showed that we can also deal with losses, although the revenue often stays nearby the initial budget."
   ]
  },
  {
   "cell_type": "markdown",
   "metadata": {},
   "source": [
    "Due to this uncertantity of knowing how much budget to assign to a project to see if it was profitable or not, we continued with a statistical analysis using the data that made up the \"Percentage of Profit\" and \"Percentage of Losses\"; where we find out that there is actually no relation between high budgets and low budgets and the income of a movie."
   ]
  },
  {
   "cell_type": "markdown",
   "metadata": {},
   "source": [
    "We could recommend though, to produce a movie among the top 10 most profitable genres and assign it a moderate budget, so in the case that it results that we could not retrieve the investment back, it would not be that much of a loss."
   ]
  }
 ],
 "metadata": {
  "kernelspec": {
   "display_name": "Python (learn-env)",
   "language": "python",
   "name": "learn-env"
  },
  "language_info": {
   "codemirror_mode": {
    "name": "ipython",
    "version": 3
   },
   "file_extension": ".py",
   "mimetype": "text/x-python",
   "name": "python",
   "nbconvert_exporter": "python",
   "pygments_lexer": "ipython3",
   "version": "3.8.5"
  }
 },
 "nbformat": 4,
 "nbformat_minor": 4
}
