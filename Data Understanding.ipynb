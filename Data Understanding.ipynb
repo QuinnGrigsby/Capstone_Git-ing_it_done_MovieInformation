{
 "cells": [
  {
   "cell_type": "markdown",
   "metadata": {},
   "source": [
    "# Importing libraries"
   ]
  },
  {
   "cell_type": "code",
   "execution_count": 1,
   "metadata": {},
   "outputs": [],
   "source": [
    "import pandas as pd\n",
    "import matplotlib.pyplot as plt\n",
    "import scipy as stats\n",
    "import seaborn as sns\n",
    "import zipfile\n",
    "import sqlite3"
   ]
  },
  {
   "cell_type": "markdown",
   "metadata": {},
   "source": [
    "# Opening data files, cleaning and assigning to dataframes so team is working from the same dataset"
   ]
  },
  {
   "cell_type": "code",
   "execution_count": 2,
   "metadata": {
    "scrolled": true
   },
   "outputs": [
    {
     "name": "stdout",
     "output_type": "stream",
     "text": [
      "                                            title      studio  domestic_gross  \\\n",
      "0                                     Toy Story 3          BV     415000000.0   \n",
      "1                      Alice in Wonderland (2010)          BV     334200000.0   \n",
      "2     Harry Potter and the Deathly Hallows Part 1          WB     296000000.0   \n",
      "3                                       Inception          WB     292600000.0   \n",
      "4                             Shrek Forever After        P/DW     238700000.0   \n",
      "...                                           ...         ...             ...   \n",
      "3382                                    The Quake       Magn.          6200.0   \n",
      "3383                  Edward II (2018 re-release)          FM          4800.0   \n",
      "3384                                     El Pacto        Sony          2500.0   \n",
      "3385                                     The Swan  Synergetic          2400.0   \n",
      "3386                            An Actor Prepares       Grav.          1700.0   \n",
      "\n",
      "     foreign_gross  year  \n",
      "0        652000000  2010  \n",
      "1        691300000  2010  \n",
      "2        664300000  2010  \n",
      "3        535700000  2010  \n",
      "4        513900000  2010  \n",
      "...            ...   ...  \n",
      "3382           NaN  2018  \n",
      "3383           NaN  2018  \n",
      "3384           NaN  2018  \n",
      "3385           NaN  2018  \n",
      "3386           NaN  2018  \n",
      "\n",
      "[3387 rows x 5 columns]\n"
     ]
    }
   ],
   "source": [
    "movie_gross_data = pd.read_csv(\"zippedData/bom.movie_gross.csv.gz\")\n",
    "print(movie_gross_data)"
   ]
  },
  {
   "cell_type": "code",
   "execution_count": 3,
   "metadata": {},
   "outputs": [
    {
     "name": "stdout",
     "output_type": "stream",
     "text": [
      "       Unnamed: 0            genre_ids      id original_language  \\\n",
      "0               0      [12, 14, 10751]   12444                en   \n",
      "1               1  [14, 12, 16, 10751]   10191                en   \n",
      "2               2        [12, 28, 878]   10138                en   \n",
      "3               3      [16, 35, 10751]     862                en   \n",
      "4               4        [28, 878, 12]   27205                en   \n",
      "...           ...                  ...     ...               ...   \n",
      "26512       26512             [27, 18]  488143                en   \n",
      "26513       26513             [18, 53]  485975                en   \n",
      "26514       26514         [14, 28, 12]  381231                en   \n",
      "26515       26515      [10751, 12, 28]  366854                en   \n",
      "26516       26516             [53, 27]  309885                en   \n",
      "\n",
      "                                     original_title  popularity release_date  \\\n",
      "0      Harry Potter and the Deathly Hallows: Part 1      33.533   2010-11-19   \n",
      "1                          How to Train Your Dragon      28.734   2010-03-26   \n",
      "2                                        Iron Man 2      28.515   2010-05-07   \n",
      "3                                         Toy Story      28.005   1995-11-22   \n",
      "4                                         Inception      27.920   2010-07-16   \n",
      "...                                             ...         ...          ...   \n",
      "26512                         Laboratory Conditions       0.600   2018-10-13   \n",
      "26513                               _EXHIBIT_84xxx_       0.600   2018-05-01   \n",
      "26514                                  The Last One       0.600   2018-10-01   \n",
      "26515                                  Trailer Made       0.600   2018-06-22   \n",
      "26516                                    The Church       0.600   2018-10-05   \n",
      "\n",
      "                                              title  vote_average  vote_count  \n",
      "0      Harry Potter and the Deathly Hallows: Part 1           7.7       10788  \n",
      "1                          How to Train Your Dragon           7.7        7610  \n",
      "2                                        Iron Man 2           6.8       12368  \n",
      "3                                         Toy Story           7.9       10174  \n",
      "4                                         Inception           8.3       22186  \n",
      "...                                             ...           ...         ...  \n",
      "26512                         Laboratory Conditions           0.0           1  \n",
      "26513                               _EXHIBIT_84xxx_           0.0           1  \n",
      "26514                                  The Last One           0.0           1  \n",
      "26515                                  Trailer Made           0.0           1  \n",
      "26516                                    The Church           0.0           1  \n",
      "\n",
      "[26517 rows x 10 columns]\n"
     ]
    }
   ],
   "source": [
    "movie_popularity = pd.read_csv(\"zippedData/tmdb.movies.csv.gz\")\n",
    "print(movie_popularity)"
   ]
  },
  {
   "cell_type": "code",
   "execution_count": 4,
   "metadata": {},
   "outputs": [
    {
     "name": "stdout",
     "output_type": "stream",
     "text": [
      "                                            title      studio  domestic_gross  \\\n",
      "0                                     Toy Story 3          BV     415000000.0   \n",
      "1                      Alice in Wonderland (2010)          BV     334200000.0   \n",
      "2     Harry Potter and the Deathly Hallows Part 1          WB     296000000.0   \n",
      "3                                       Inception          WB     292600000.0   \n",
      "4                             Shrek Forever After        P/DW     238700000.0   \n",
      "...                                           ...         ...             ...   \n",
      "3382                                    The Quake       Magn.          6200.0   \n",
      "3383                  Edward II (2018 re-release)          FM          4800.0   \n",
      "3384                                     El Pacto        Sony          2500.0   \n",
      "3385                                     The Swan  Synergetic          2400.0   \n",
      "3386                            An Actor Prepares       Grav.          1700.0   \n",
      "\n",
      "     foreign_gross  year  \n",
      "0        652000000  2010  \n",
      "1        691300000  2010  \n",
      "2        664300000  2010  \n",
      "3        535700000  2010  \n",
      "4        513900000  2010  \n",
      "...            ...   ...  \n",
      "3382             0  2018  \n",
      "3383             0  2018  \n",
      "3384             0  2018  \n",
      "3385             0  2018  \n",
      "3386             0  2018  \n",
      "\n",
      "[3382 rows x 5 columns]\n"
     ]
    }
   ],
   "source": [
    "#cleaning \n",
    "movie_gross_data = pd.read_csv(\"zippedData/bom.movie_gross.csv.gz\")\n",
    "movie_gross_data[\"foreign_gross\"].fillna(0, inplace = True)\n",
    "movie_gross_data[\"domestic_gross\"].fillna(0, inplace = True)\n",
    "movie_gross_data.dropna(inplace = True)\n",
    "print(movie_gross_data)"
   ]
  },
  {
   "cell_type": "code",
   "execution_count": 5,
   "metadata": {},
   "outputs": [],
   "source": [
    "#cleaning \n",
    "movie_gross_data[\"domestic_gross\"].replace(',','', regex = True, inplace = True)\n",
    "movie_gross_data[\"foreign_gross\"].replace(',','', regex = True, inplace = True)"
   ]
  },
  {
   "cell_type": "code",
   "execution_count": 6,
   "metadata": {},
   "outputs": [
    {
     "name": "stdout",
     "output_type": "stream",
     "text": [
      "                                            title      studio  domestic_gross  \\\n",
      "0                                     Toy Story 3          BV     415000000.0   \n",
      "1                      Alice in Wonderland (2010)          BV     334200000.0   \n",
      "2     Harry Potter and the Deathly Hallows Part 1          WB     296000000.0   \n",
      "3                                       Inception          WB     292600000.0   \n",
      "4                             Shrek Forever After        P/DW     238700000.0   \n",
      "...                                           ...         ...             ...   \n",
      "3382                                    The Quake       Magn.          6200.0   \n",
      "3383                  Edward II (2018 re-release)          FM          4800.0   \n",
      "3384                                     El Pacto        Sony          2500.0   \n",
      "3385                                     The Swan  Synergetic          2400.0   \n",
      "3386                            An Actor Prepares       Grav.          1700.0   \n",
      "\n",
      "     foreign_gross  year   total_gross  \n",
      "0        652000000  2010  1.067000e+09  \n",
      "1        691300000  2010  1.025500e+09  \n",
      "2        664300000  2010  9.603000e+08  \n",
      "3        535700000  2010  8.283000e+08  \n",
      "4        513900000  2010  7.526000e+08  \n",
      "...            ...   ...           ...  \n",
      "3382             0  2018  6.200000e+03  \n",
      "3383             0  2018  4.800000e+03  \n",
      "3384             0  2018  2.500000e+03  \n",
      "3385             0  2018  2.400000e+03  \n",
      "3386             0  2018  1.700000e+03  \n",
      "\n",
      "[3382 rows x 6 columns]\n"
     ]
    }
   ],
   "source": [
    "movie_gross_data[\"total_gross\"] = movie_gross_data[\"foreign_gross\"].astype(float) + movie_gross_data[\"domestic_gross\"].astype(float)\n",
    "print(movie_gross_data)"
   ]
  },
  {
   "cell_type": "markdown",
   "metadata": {},
   "source": [
    "Using zipfile to unzip imdb database and creating connection to the database"
   ]
  },
  {
   "cell_type": "code",
   "execution_count": 7,
   "metadata": {},
   "outputs": [],
   "source": [
    "with zipfile.ZipFile(\"zippedData/im.db.zip\", \"r\") as zObject:\n",
    "        zObject.extractall()"
   ]
  },
  {
   "cell_type": "code",
   "execution_count": 8,
   "metadata": {},
   "outputs": [],
   "source": [
    "conn = sqlite3.connect(\"im.db\")\n",
    "cur = conn.cursor()"
   ]
  },
  {
   "cell_type": "markdown",
   "metadata": {},
   "source": [
    "Ensuring database is pulling correctly by running simple queries, analyzing columns to see where movie_basics and movie_ratings tables join"
   ]
  },
  {
   "cell_type": "code",
   "execution_count": 9,
   "metadata": {},
   "outputs": [
    {
     "data": {
      "text/html": [
       "<div>\n",
       "<style scoped>\n",
       "    .dataframe tbody tr th:only-of-type {\n",
       "        vertical-align: middle;\n",
       "    }\n",
       "\n",
       "    .dataframe tbody tr th {\n",
       "        vertical-align: top;\n",
       "    }\n",
       "\n",
       "    .dataframe thead th {\n",
       "        text-align: right;\n",
       "    }\n",
       "</style>\n",
       "<table border=\"1\" class=\"dataframe\">\n",
       "  <thead>\n",
       "    <tr style=\"text-align: right;\">\n",
       "      <th></th>\n",
       "      <th>movie_id</th>\n",
       "      <th>primary_title</th>\n",
       "      <th>original_title</th>\n",
       "      <th>start_year</th>\n",
       "      <th>runtime_minutes</th>\n",
       "      <th>genres</th>\n",
       "    </tr>\n",
       "  </thead>\n",
       "  <tbody>\n",
       "    <tr>\n",
       "      <th>0</th>\n",
       "      <td>tt0187902</td>\n",
       "      <td>How Huang Fei-hong Rescued the Orphan from the...</td>\n",
       "      <td>How Huang Fei-hong Rescued the Orphan from the...</td>\n",
       "      <td>2011</td>\n",
       "      <td>NaN</td>\n",
       "      <td>None</td>\n",
       "    </tr>\n",
       "    <tr>\n",
       "      <th>1</th>\n",
       "      <td>tt0364201</td>\n",
       "      <td>Aman Ke Farishtey</td>\n",
       "      <td>Aman Ke Farishtey</td>\n",
       "      <td>2016</td>\n",
       "      <td>137.0</td>\n",
       "      <td>Action</td>\n",
       "    </tr>\n",
       "    <tr>\n",
       "      <th>2</th>\n",
       "      <td>tt6848590</td>\n",
       "      <td>Moonshine Meat Market Mayhem</td>\n",
       "      <td>Moonshine Meat Market Mayhem</td>\n",
       "      <td>2016</td>\n",
       "      <td>NaN</td>\n",
       "      <td>Action,Adult,Comedy</td>\n",
       "    </tr>\n",
       "    <tr>\n",
       "      <th>3</th>\n",
       "      <td>tt10097958</td>\n",
       "      <td>Gripped: Climbing Killer Pillar</td>\n",
       "      <td>Gripped: Climbing Killer Pillar</td>\n",
       "      <td>2019</td>\n",
       "      <td>NaN</td>\n",
       "      <td>Action,Adventure</td>\n",
       "    </tr>\n",
       "    <tr>\n",
       "      <th>4</th>\n",
       "      <td>tt0448694</td>\n",
       "      <td>Puss in Boots</td>\n",
       "      <td>Puss in Boots</td>\n",
       "      <td>2011</td>\n",
       "      <td>90.0</td>\n",
       "      <td>Action,Adventure,Animation</td>\n",
       "    </tr>\n",
       "  </tbody>\n",
       "</table>\n",
       "</div>"
      ],
      "text/plain": [
       "     movie_id                                      primary_title  \\\n",
       "0   tt0187902  How Huang Fei-hong Rescued the Orphan from the...   \n",
       "1   tt0364201                                  Aman Ke Farishtey   \n",
       "2   tt6848590                       Moonshine Meat Market Mayhem   \n",
       "3  tt10097958                    Gripped: Climbing Killer Pillar   \n",
       "4   tt0448694                                      Puss in Boots   \n",
       "\n",
       "                                      original_title  start_year  \\\n",
       "0  How Huang Fei-hong Rescued the Orphan from the...        2011   \n",
       "1                                  Aman Ke Farishtey        2016   \n",
       "2                       Moonshine Meat Market Mayhem        2016   \n",
       "3                    Gripped: Climbing Killer Pillar        2019   \n",
       "4                                      Puss in Boots        2011   \n",
       "\n",
       "   runtime_minutes                      genres  \n",
       "0              NaN                        None  \n",
       "1            137.0                      Action  \n",
       "2              NaN         Action,Adult,Comedy  \n",
       "3              NaN            Action,Adventure  \n",
       "4             90.0  Action,Adventure,Animation  "
      ]
     },
     "execution_count": 9,
     "metadata": {},
     "output_type": "execute_result"
    }
   ],
   "source": [
    "pd.read_sql(\"\"\"\n",
    "SELECT *\n",
    "FROM movie_basics\n",
    "GROUP BY genres\n",
    ";\n",
    "\"\"\", conn).head()"
   ]
  },
  {
   "cell_type": "code",
   "execution_count": 10,
   "metadata": {
    "scrolled": true
   },
   "outputs": [
    {
     "data": {
      "text/html": [
       "<div>\n",
       "<style scoped>\n",
       "    .dataframe tbody tr th:only-of-type {\n",
       "        vertical-align: middle;\n",
       "    }\n",
       "\n",
       "    .dataframe tbody tr th {\n",
       "        vertical-align: top;\n",
       "    }\n",
       "\n",
       "    .dataframe thead th {\n",
       "        text-align: right;\n",
       "    }\n",
       "</style>\n",
       "<table border=\"1\" class=\"dataframe\">\n",
       "  <thead>\n",
       "    <tr style=\"text-align: right;\">\n",
       "      <th></th>\n",
       "      <th>movie_id</th>\n",
       "      <th>averagerating</th>\n",
       "      <th>numvotes</th>\n",
       "    </tr>\n",
       "  </thead>\n",
       "  <tbody>\n",
       "    <tr>\n",
       "      <th>0</th>\n",
       "      <td>tt10356526</td>\n",
       "      <td>8.3</td>\n",
       "      <td>31</td>\n",
       "    </tr>\n",
       "    <tr>\n",
       "      <th>1</th>\n",
       "      <td>tt10384606</td>\n",
       "      <td>8.9</td>\n",
       "      <td>559</td>\n",
       "    </tr>\n",
       "    <tr>\n",
       "      <th>2</th>\n",
       "      <td>tt1042974</td>\n",
       "      <td>6.4</td>\n",
       "      <td>20</td>\n",
       "    </tr>\n",
       "    <tr>\n",
       "      <th>3</th>\n",
       "      <td>tt1043726</td>\n",
       "      <td>4.2</td>\n",
       "      <td>50352</td>\n",
       "    </tr>\n",
       "    <tr>\n",
       "      <th>4</th>\n",
       "      <td>tt1060240</td>\n",
       "      <td>6.5</td>\n",
       "      <td>21</td>\n",
       "    </tr>\n",
       "  </tbody>\n",
       "</table>\n",
       "</div>"
      ],
      "text/plain": [
       "     movie_id  averagerating  numvotes\n",
       "0  tt10356526            8.3        31\n",
       "1  tt10384606            8.9       559\n",
       "2   tt1042974            6.4        20\n",
       "3   tt1043726            4.2     50352\n",
       "4   tt1060240            6.5        21"
      ]
     },
     "execution_count": 10,
     "metadata": {},
     "output_type": "execute_result"
    }
   ],
   "source": [
    "pd.read_sql(\"\"\"\n",
    "SELECT *\n",
    "FROM movie_ratings\n",
    ";\n",
    "\"\"\", conn).head()"
   ]
  },
  {
   "cell_type": "markdown",
   "metadata": {},
   "source": [
    "# Question: What movies are doing well at the box office by genre and ratings? "
   ]
  },
  {
   "cell_type": "markdown",
   "metadata": {},
   "source": [
    "Below is the query I ran to find join the movie_ratings and movie_basics tables from the imdb database to pull genres and movie ratings. I wanted to pull genres with a rating of 8.4 or higher and to exclude those rows that have a null value for genre. I wanted the results in descendingorder so I have ratings of 10 at the top. I then made the query into a dataframe so I can graph it and group the genres so I have a more concise and accurate dataset."
   ]
  },
  {
   "cell_type": "code",
   "execution_count": 20,
   "metadata": {
    "scrolled": false
   },
   "outputs": [
    {
     "name": "stdout",
     "output_type": "stream",
     "text": [
      "      avg_rating                       genres  numvotes\n",
      "0            9.9                        Drama       417\n",
      "1            9.8            Documentary,Music        45\n",
      "2            9.7                  Documentary        32\n",
      "3            9.7                  Documentary        48\n",
      "4            9.7                  Documentary        72\n",
      "...          ...                          ...       ...\n",
      "1052         8.5                        Drama       336\n",
      "1053         8.5      Action,Adventure,Sci-Fi    670926\n",
      "1054         8.5  Biography,Documentary,Music        73\n",
      "1055         8.5                        Drama        78\n",
      "1056         8.5                  Documentary        39\n",
      "\n",
      "[1057 rows x 3 columns]\n"
     ]
    }
   ],
   "source": [
    "q = \"\"\"\n",
    "SELECT averagerating as avg_rating, genres, numvotes\n",
    "FROM movie_ratings\n",
    "JOIN movie_basics\n",
    "    USING (movie_id)\n",
    "WHERE averagerating >= 8.5\n",
    "AND numvotes > 30\n",
    "AND genres IS NOT NULL\n",
    "ORDER BY avg_rating DESC\n",
    ";\n",
    "\"\"\"\n",
    "high_ratings = pd.read_sql(q, conn)\n",
    "print(high_ratings)"
   ]
  },
  {
   "cell_type": "code",
   "execution_count": 21,
   "metadata": {},
   "outputs": [
    {
     "name": "stdout",
     "output_type": "stream",
     "text": [
      "                         genres  avg_rating  numvotes\n",
      "79         Comedy,Drama,Musical         9.5     354.0\n",
      "12    Action,Comedy,Documentary         9.4     114.0\n",
      "119   Documentary,History,Sport         9.4      43.0\n",
      "44             Adventure,Family         9.4     797.0\n",
      "102      Crime,Mystery,Thriller         9.3   18470.0\n",
      "..                          ...         ...       ...\n",
      "137       Drama,Fantasy,Musical         8.5     100.0\n",
      "147        Drama,Mystery,Sci-Fi         8.5      31.0\n",
      "16         Action,Crime,Mystery         8.5    8560.0\n",
      "110     Documentary,Drama,Sport         8.5      99.0\n",
      "45   Adventure,Mystery,Thriller         8.5      42.0\n",
      "\n",
      "[171 rows x 3 columns]\n"
     ]
    }
   ],
   "source": [
    "high_ratings = high_ratings[high_ratings[\"genres\"].str.contains(\"None\") == False]\n",
    "\n",
    "data_for_analysis_by_rating = high_ratings.groupby(by=\"genres\", as_index=False).mean()\n",
    "\n",
    "#data_for_analysis_by_rating_sort = data_for_analysis_by_rating.sort_values(by = 'avg_rating', ascending=False)\n",
    "\n",
    "data_for_analysis_by_rating.sort_values(by=\"avg_rating\", ascending=False, inplace = True)\n",
    "\n",
    "print(data_for_analysis_by_rating)"
   ]
  },
  {
   "cell_type": "markdown",
   "metadata": {},
   "source": [
    "Pulling top 30 rows from the dataframe as these are the most relevant to helping support my original question "
   ]
  },
  {
   "cell_type": "code",
   "execution_count": 22,
   "metadata": {
    "scrolled": true
   },
   "outputs": [
    {
     "name": "stdout",
     "output_type": "stream",
     "text": [
      "                            genres  avg_rating      numvotes\n",
      "79            Comedy,Drama,Musical    9.500000    354.000000\n",
      "12       Action,Comedy,Documentary    9.400000    114.000000\n",
      "119      Documentary,History,Sport    9.400000     43.000000\n",
      "44                Adventure,Family    9.400000    797.000000\n",
      "102         Crime,Mystery,Thriller    9.300000  18470.000000\n",
      "8     Action,Biography,Documentary    9.300000     35.000000\n",
      "46                 Adventure,Sport    9.200000     72.000000\n",
      "19       Action,Documentary,Family    9.200000     44.000000\n",
      "39   Adventure,Documentary,Western    9.200000     73.000000\n",
      "77            Comedy,Drama,Fantasy    9.200000     32.000000\n",
      "92                   Comedy,Sci-Fi    9.200000     43.000000\n",
      "74      Comedy,Documentary,History    9.200000   1015.000000\n",
      "163                Mystery,Romance    9.200000     76.000000\n",
      "138                  Drama,History    9.150000   3457.500000\n",
      "124          Documentary,Music,War    9.150000    386.500000\n",
      "108        Documentary,Drama,Music    9.133333     57.666667\n",
      "93                    Comedy,Sport    9.100000     51.500000\n",
      "123        Documentary,Music,Sport    9.100000    170.000000\n",
      "40                 Adventure,Drama    9.100000     39.000000\n",
      "140           Drama,Horror,Mystery    9.100000    238.500000\n"
     ]
    }
   ],
   "source": [
    "top_20 = data_for_analysis_by_rating.iloc[:20]\n",
    "\n",
    "print(top_20)\n"
   ]
  },
  {
   "cell_type": "code",
   "execution_count": 24,
   "metadata": {},
   "outputs": [
    {
     "name": "stdout",
     "output_type": "stream",
     "text": [
      "                            genres  avg_rating\n",
      "79            Comedy,Drama,Musical    9.500000\n",
      "12       Action,Comedy,Documentary    9.400000\n",
      "119      Documentary,History,Sport    9.400000\n",
      "44                Adventure,Family    9.400000\n",
      "102         Crime,Mystery,Thriller    9.300000\n",
      "8     Action,Biography,Documentary    9.300000\n",
      "46                 Adventure,Sport    9.200000\n",
      "19       Action,Documentary,Family    9.200000\n",
      "39   Adventure,Documentary,Western    9.200000\n",
      "77            Comedy,Drama,Fantasy    9.200000\n",
      "92                   Comedy,Sci-Fi    9.200000\n",
      "74      Comedy,Documentary,History    9.200000\n",
      "163                Mystery,Romance    9.200000\n",
      "138                  Drama,History    9.150000\n",
      "124          Documentary,Music,War    9.150000\n",
      "108        Documentary,Drama,Music    9.133333\n",
      "93                    Comedy,Sport    9.100000\n",
      "123        Documentary,Music,Sport    9.100000\n",
      "40                 Adventure,Drama    9.100000\n",
      "140           Drama,Horror,Mystery    9.100000\n"
     ]
    }
   ],
   "source": [
    "top_20_no_numvotes = top_20.drop([\"numvotes\"], axis = 1)\n",
    "\n",
    "print(top_20_no_numvotes)"
   ]
  },
  {
   "cell_type": "markdown",
   "metadata": {},
   "source": [
    "# Visualization to learn more about the data and form recommendation"
   ]
  },
  {
   "cell_type": "code",
   "execution_count": 25,
   "metadata": {
    "scrolled": true
   },
   "outputs": [
    {
     "data": {
      "image/png": "[encoded data removed]",
      "text/plain": [
       "<Figure size 1296x360 with 1 Axes>"
      ]
     },
     "metadata": {
      "needs_background": "light"
     },
     "output_type": "display_data"
    }
   ],
   "source": [
    "#plt.figure(figsize=(18, 5))\n",
    "#plt.bar(top_30[\"genres\"], top_30[\"avg_rating\"], color = \"b\")\n",
    "\n",
    "top_20_no_numvotes.plot(\"genres\", kind=\"bar\", figsize = (18,5), color = \"g\")\n",
    "plt.xlabel(\"Genres\")\n",
    "plt.xticks(rotation = 90)\n",
    "plt.ylabel(\"Average Rating\")\n",
    "plt.yticks(range(0,11,2))\n",
    "plt.title(\"Genres with the Highest Ratings\")\n",
    "plt.legend(labels=['Average Rating'])\n",
    "plt.show()"
   ]
  },
  {
   "cell_type": "markdown",
   "metadata": {},
   "source": [
    "# Information about genres with the lowest ratings to help support our recommendation"
   ]
  },
  {
   "cell_type": "code",
   "execution_count": 27,
   "metadata": {
    "scrolled": true
   },
   "outputs": [
    {
     "name": "stdout",
     "output_type": "stream",
     "text": [
      "     avg_rating                      genres  numvotes\n",
      "0           2.0                     Western       239\n",
      "1           2.0             Sci-Fi,Thriller        65\n",
      "2           2.0       Drama,Mystery,Romance       143\n",
      "3           2.0                       Crime       230\n",
      "4           2.0      Comedy,Musical,Romance        54\n",
      "..          ...                         ...       ...\n",
      "98          1.0               Drama,Romance        67\n",
      "99          1.0                Drama,Family       307\n",
      "100         1.0                       Drama       449\n",
      "101         1.0  Adventure,Biography,Comedy       352\n",
      "102         1.0  Adventure,Animation,Family       112\n",
      "\n",
      "[103 rows x 3 columns]\n"
     ]
    }
   ],
   "source": [
    "q2 = \"\"\"\n",
    "SELECT averagerating as avg_rating, genres, numvotes\n",
    "FROM movie_ratings\n",
    "JOIN movie_basics\n",
    "    USING (movie_id)\n",
    "WHERE averagerating <= 2\n",
    "AND numvotes > 30\n",
    "AND genres IS NOT NULL\n",
    "GROUP BY genres\n",
    "ORDER BY avg_rating DESC\n",
    ";\n",
    "\"\"\"\n",
    "low_ratings = pd.read_sql(q2, conn)\n",
    "print(low_ratings)"
   ]
  },
  {
   "cell_type": "code",
   "execution_count": 28,
   "metadata": {},
   "outputs": [
    {
     "name": "stdout",
     "output_type": "stream",
     "text": [
      "                      genres  avg_rating  numvotes\n",
      "86   Fantasy,Mystery,Romance         1.0       520\n",
      "78             Drama,Romance         1.0        67\n",
      "72              Drama,Family         1.0       307\n",
      "71                     Drama         1.0       449\n",
      "82                    Family         1.0       342\n",
      "..                       ...         ...       ...\n",
      "57            Comedy,Fantasy         2.0        39\n",
      "61    Comedy,Musical,Romance         2.0        54\n",
      "64                     Crime         2.0       230\n",
      "100          Sci-Fi,Thriller         2.0        65\n",
      "102                  Western         2.0       239\n",
      "\n",
      "[103 rows x 3 columns]\n"
     ]
    }
   ],
   "source": [
    "low_ratings = low_ratings[low_ratings[\"genres\"].str.contains(\"None\") == False]\n",
    "\n",
    "data_for_analysis_by_rating_low = low_ratings.groupby(by=\"genres\", as_index=False).mean()\n",
    "\n",
    "data_for_analysis_by_rating_low.sort_values(by=\"avg_rating\", ascending=True, inplace = True)\n",
    "\n",
    "#data_for_analysis_by_rating_sort_low = data_for_analysis_by_rating_low.sort_values(by = 'avg_rating', ascending=True)\n",
    "\n",
    "print(data_for_analysis_by_rating_low)"
   ]
  },
  {
   "cell_type": "code",
   "execution_count": 29,
   "metadata": {
    "scrolled": true
   },
   "outputs": [
    {
     "name": "stdout",
     "output_type": "stream",
     "text": [
      "                        genres  avg_rating  numvotes\n",
      "86     Fantasy,Mystery,Romance         1.0       520\n",
      "78               Drama,Romance         1.0        67\n",
      "72                Drama,Family         1.0       307\n",
      "71                       Drama         1.0       449\n",
      "82                      Family         1.0       342\n",
      "35  Adventure,Animation,Family         1.0       112\n",
      "36  Adventure,Biography,Comedy         1.0       352\n",
      "94                       Music         1.1       349\n",
      "29           Action,Sci-Fi,War         1.1       710\n",
      "38     Adventure,Drama,Romance         1.1        55\n",
      "97                     Romance         1.1       488\n",
      "59       Comedy,History,Horror         1.1       168\n",
      "63               Comedy,Sci-Fi         1.1       121\n",
      "67              Crime,Thriller         1.1       106\n",
      "24       Action,Fantasy,Sci-Fi         1.2       303\n",
      "27               Action,Sci-Fi         1.2       616\n",
      "42     Animation,Comedy,Family         1.2       417\n",
      "51         Comedy,Drama,Family         1.2        72\n",
      "80              Drama,Thriller         1.2       112\n",
      "16         Action,Crime,Horror         1.2       107\n"
     ]
    }
   ],
   "source": [
    "top_20_low = data_for_analysis_by_rating_low.iloc[:20]\n",
    "\n",
    "print(top_20_low)"
   ]
  },
  {
   "cell_type": "code",
   "execution_count": 26,
   "metadata": {},
   "outputs": [
    {
     "ename": "KeyError",
     "evalue": "\"['numvotes'] not found in axis\"",
     "output_type": "error",
     "traceback": [
      "\u001b[1;31m---------------------------------------------------------------------------\u001b[0m",
      "\u001b[1;31mKeyError\u001b[0m                                  Traceback (most recent call last)",
      "\u001b[1;32m<ipython-input-26-decbbecf8dec>\u001b[0m in \u001b[0;36m<module>\u001b[1;34m\u001b[0m\n\u001b[1;32m----> 1\u001b[1;33m \u001b[0mtop_20_no_numvotes_low\u001b[0m \u001b[1;33m=\u001b[0m \u001b[0mtop_20_low\u001b[0m\u001b[1;33m.\u001b[0m\u001b[0mdrop\u001b[0m\u001b[1;33m(\u001b[0m\u001b[1;33m[\u001b[0m\u001b[1;34m\"numvotes\"\u001b[0m\u001b[1;33m]\u001b[0m\u001b[1;33m,\u001b[0m \u001b[0maxis\u001b[0m \u001b[1;33m=\u001b[0m \u001b[1;36m1\u001b[0m\u001b[1;33m)\u001b[0m\u001b[1;33m\u001b[0m\u001b[1;33m\u001b[0m\u001b[0m\n\u001b[0m\u001b[0;32m      2\u001b[0m \u001b[1;33m\u001b[0m\u001b[0m\n\u001b[0;32m      3\u001b[0m \u001b[0mprint\u001b[0m\u001b[1;33m(\u001b[0m\u001b[0mtop_20_no_numvotes_low\u001b[0m\u001b[1;33m)\u001b[0m\u001b[1;33m\u001b[0m\u001b[1;33m\u001b[0m\u001b[0m\n",
      "\u001b[1;32m~\\Anaconda3\\envs\\learn-env\\lib\\site-packages\\pandas\\core\\frame.py\u001b[0m in \u001b[0;36mdrop\u001b[1;34m(self, labels, axis, index, columns, level, inplace, errors)\u001b[0m\n\u001b[0;32m   4161\u001b[0m                 \u001b[0mweight\u001b[0m  \u001b[1;36m1.0\u001b[0m     \u001b[1;36m0.8\u001b[0m\u001b[1;33m\u001b[0m\u001b[1;33m\u001b[0m\u001b[0m\n\u001b[0;32m   4162\u001b[0m         \"\"\"\n\u001b[1;32m-> 4163\u001b[1;33m         return super().drop(\n\u001b[0m\u001b[0;32m   4164\u001b[0m             \u001b[0mlabels\u001b[0m\u001b[1;33m=\u001b[0m\u001b[0mlabels\u001b[0m\u001b[1;33m,\u001b[0m\u001b[1;33m\u001b[0m\u001b[1;33m\u001b[0m\u001b[0m\n\u001b[0;32m   4165\u001b[0m             \u001b[0maxis\u001b[0m\u001b[1;33m=\u001b[0m\u001b[0maxis\u001b[0m\u001b[1;33m,\u001b[0m\u001b[1;33m\u001b[0m\u001b[1;33m\u001b[0m\u001b[0m\n",
      "\u001b[1;32m~\\Anaconda3\\envs\\learn-env\\lib\\site-packages\\pandas\\core\\generic.py\u001b[0m in \u001b[0;36mdrop\u001b[1;34m(self, labels, axis, index, columns, level, inplace, errors)\u001b[0m\n\u001b[0;32m   3885\u001b[0m         \u001b[1;32mfor\u001b[0m \u001b[0maxis\u001b[0m\u001b[1;33m,\u001b[0m \u001b[0mlabels\u001b[0m \u001b[1;32min\u001b[0m \u001b[0maxes\u001b[0m\u001b[1;33m.\u001b[0m\u001b[0mitems\u001b[0m\u001b[1;33m(\u001b[0m\u001b[1;33m)\u001b[0m\u001b[1;33m:\u001b[0m\u001b[1;33m\u001b[0m\u001b[1;33m\u001b[0m\u001b[0m\n\u001b[0;32m   3886\u001b[0m             \u001b[1;32mif\u001b[0m \u001b[0mlabels\u001b[0m \u001b[1;32mis\u001b[0m \u001b[1;32mnot\u001b[0m \u001b[1;32mNone\u001b[0m\u001b[1;33m:\u001b[0m\u001b[1;33m\u001b[0m\u001b[1;33m\u001b[0m\u001b[0m\n\u001b[1;32m-> 3887\u001b[1;33m                 \u001b[0mobj\u001b[0m \u001b[1;33m=\u001b[0m \u001b[0mobj\u001b[0m\u001b[1;33m.\u001b[0m\u001b[0m_drop_axis\u001b[0m\u001b[1;33m(\u001b[0m\u001b[0mlabels\u001b[0m\u001b[1;33m,\u001b[0m \u001b[0maxis\u001b[0m\u001b[1;33m,\u001b[0m \u001b[0mlevel\u001b[0m\u001b[1;33m=\u001b[0m\u001b[0mlevel\u001b[0m\u001b[1;33m,\u001b[0m \u001b[0merrors\u001b[0m\u001b[1;33m=\u001b[0m\u001b[0merrors\u001b[0m\u001b[1;33m)\u001b[0m\u001b[1;33m\u001b[0m\u001b[1;33m\u001b[0m\u001b[0m\n\u001b[0m\u001b[0;32m   3888\u001b[0m \u001b[1;33m\u001b[0m\u001b[0m\n\u001b[0;32m   3889\u001b[0m         \u001b[1;32mif\u001b[0m \u001b[0minplace\u001b[0m\u001b[1;33m:\u001b[0m\u001b[1;33m\u001b[0m\u001b[1;33m\u001b[0m\u001b[0m\n",
      "\u001b[1;32m~\\Anaconda3\\envs\\learn-env\\lib\\site-packages\\pandas\\core\\generic.py\u001b[0m in \u001b[0;36m_drop_axis\u001b[1;34m(self, labels, axis, level, errors)\u001b[0m\n\u001b[0;32m   3919\u001b[0m                 \u001b[0mnew_axis\u001b[0m \u001b[1;33m=\u001b[0m \u001b[0maxis\u001b[0m\u001b[1;33m.\u001b[0m\u001b[0mdrop\u001b[0m\u001b[1;33m(\u001b[0m\u001b[0mlabels\u001b[0m\u001b[1;33m,\u001b[0m \u001b[0mlevel\u001b[0m\u001b[1;33m=\u001b[0m\u001b[0mlevel\u001b[0m\u001b[1;33m,\u001b[0m \u001b[0merrors\u001b[0m\u001b[1;33m=\u001b[0m\u001b[0merrors\u001b[0m\u001b[1;33m)\u001b[0m\u001b[1;33m\u001b[0m\u001b[1;33m\u001b[0m\u001b[0m\n\u001b[0;32m   3920\u001b[0m             \u001b[1;32melse\u001b[0m\u001b[1;33m:\u001b[0m\u001b[1;33m\u001b[0m\u001b[1;33m\u001b[0m\u001b[0m\n\u001b[1;32m-> 3921\u001b[1;33m                 \u001b[0mnew_axis\u001b[0m \u001b[1;33m=\u001b[0m \u001b[0maxis\u001b[0m\u001b[1;33m.\u001b[0m\u001b[0mdrop\u001b[0m\u001b[1;33m(\u001b[0m\u001b[0mlabels\u001b[0m\u001b[1;33m,\u001b[0m \u001b[0merrors\u001b[0m\u001b[1;33m=\u001b[0m\u001b[0merrors\u001b[0m\u001b[1;33m)\u001b[0m\u001b[1;33m\u001b[0m\u001b[1;33m\u001b[0m\u001b[0m\n\u001b[0m\u001b[0;32m   3922\u001b[0m             \u001b[0mresult\u001b[0m \u001b[1;33m=\u001b[0m \u001b[0mself\u001b[0m\u001b[1;33m.\u001b[0m\u001b[0mreindex\u001b[0m\u001b[1;33m(\u001b[0m\u001b[1;33m**\u001b[0m\u001b[1;33m{\u001b[0m\u001b[0maxis_name\u001b[0m\u001b[1;33m:\u001b[0m \u001b[0mnew_axis\u001b[0m\u001b[1;33m}\u001b[0m\u001b[1;33m)\u001b[0m\u001b[1;33m\u001b[0m\u001b[1;33m\u001b[0m\u001b[0m\n\u001b[0;32m   3923\u001b[0m \u001b[1;33m\u001b[0m\u001b[0m\n",
      "\u001b[1;32m~\\Anaconda3\\envs\\learn-env\\lib\\site-packages\\pandas\\core\\indexes\\base.py\u001b[0m in \u001b[0;36mdrop\u001b[1;34m(self, labels, errors)\u001b[0m\n\u001b[0;32m   5280\u001b[0m         \u001b[1;32mif\u001b[0m \u001b[0mmask\u001b[0m\u001b[1;33m.\u001b[0m\u001b[0many\u001b[0m\u001b[1;33m(\u001b[0m\u001b[1;33m)\u001b[0m\u001b[1;33m:\u001b[0m\u001b[1;33m\u001b[0m\u001b[1;33m\u001b[0m\u001b[0m\n\u001b[0;32m   5281\u001b[0m             \u001b[1;32mif\u001b[0m \u001b[0merrors\u001b[0m \u001b[1;33m!=\u001b[0m \u001b[1;34m\"ignore\"\u001b[0m\u001b[1;33m:\u001b[0m\u001b[1;33m\u001b[0m\u001b[1;33m\u001b[0m\u001b[0m\n\u001b[1;32m-> 5282\u001b[1;33m                 \u001b[1;32mraise\u001b[0m \u001b[0mKeyError\u001b[0m\u001b[1;33m(\u001b[0m\u001b[1;34mf\"{labels[mask]} not found in axis\"\u001b[0m\u001b[1;33m)\u001b[0m\u001b[1;33m\u001b[0m\u001b[1;33m\u001b[0m\u001b[0m\n\u001b[0m\u001b[0;32m   5283\u001b[0m             \u001b[0mindexer\u001b[0m \u001b[1;33m=\u001b[0m \u001b[0mindexer\u001b[0m\u001b[1;33m[\u001b[0m\u001b[1;33m~\u001b[0m\u001b[0mmask\u001b[0m\u001b[1;33m]\u001b[0m\u001b[1;33m\u001b[0m\u001b[1;33m\u001b[0m\u001b[0m\n\u001b[0;32m   5284\u001b[0m         \u001b[1;32mreturn\u001b[0m \u001b[0mself\u001b[0m\u001b[1;33m.\u001b[0m\u001b[0mdelete\u001b[0m\u001b[1;33m(\u001b[0m\u001b[0mindexer\u001b[0m\u001b[1;33m)\u001b[0m\u001b[1;33m\u001b[0m\u001b[1;33m\u001b[0m\u001b[0m\n",
      "\u001b[1;31mKeyError\u001b[0m: \"['numvotes'] not found in axis\""
     ]
    }
   ],
   "source": [
    "top_20_no_numvotes_low = top_20_low.drop([\"numvotes\"], axis = 1)\n",
    "\n",
    "print(top_20_no_numvotes_low)"
   ]
  },
  {
   "cell_type": "code",
   "execution_count": 18,
   "metadata": {
    "scrolled": true
   },
   "outputs": [
    {
     "data": {
      "image/png": "[encoded data removed]",
      "text/plain": [
       "<Figure size 1296x360 with 1 Axes>"
      ]
     },
     "metadata": {
      "needs_background": "light"
     },
     "output_type": "display_data"
    }
   ],
   "source": [
    "#plt.figure(figsize=(18, 5))\n",
    "#plt.bar(top_30[\"genres\"], top_30[\"avg_rating\"], color = \"b\")\n",
    "\n",
    "top_20_low.plot(\"genres\", kind=\"bar\", figsize = (18,5), color = \"r\")\n",
    "plt.xlabel(\"Genres\")\n",
    "plt.xticks(rotation = 90)\n",
    "plt.ylabel(\"Average Rating\")\n",
    "plt.yticks(range(0,11,2))\n",
    "plt.title(\"Genres with the Lowest Ratings\")\n",
    "plt.legend(labels=['Average Rating'])\n",
    "plt.show()"
   ]
  },
  {
   "cell_type": "code",
   "execution_count": null,
   "metadata": {},
   "outputs": [],
   "source": []
  }
 ],
 "metadata": {
  "kernelspec": {
   "display_name": "Python (learn-env)",
   "language": "python",
   "name": "learn-env"
  },
  "language_info": {
   "codemirror_mode": {
    "name": "ipython",
    "version": 3
   },
   "file_extension": ".py",
   "mimetype": "text/x-python",
   "name": "python",
   "nbconvert_exporter": "python",
   "pygments_lexer": "ipython3",
   "version": "3.8.5"
  }
 },
 "nbformat": 4,
 "nbformat_minor": 4
}
