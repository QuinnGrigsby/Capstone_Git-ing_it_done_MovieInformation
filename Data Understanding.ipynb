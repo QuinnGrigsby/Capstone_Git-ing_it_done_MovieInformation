{
 "cells": [
  {
   "cell_type": "markdown",
   "metadata": {},
   "source": [
    "# Semester 1 Project Submission\n",
    "\n",
    "Please fill out:\n",
    "* Student name: Cristian González Ramírez\n",
    "* Instructor name: Nick McCarty & Julian Ward"
   ]
  },
  {
   "cell_type": "markdown",
   "metadata": {},
   "source": [
    "# This notebook tries to answer to the following question:\n",
    "\n",
    "*How are the production budgets for movies based on their genre in comparison to their income? Would it be profitable?*"
   ]
  },
  {
   "cell_type": "markdown",
   "metadata": {},
   "source": [
    "For this question specifically, we are interested on knowing the Production Costs, the Total Gross (both domestic and foreign) and the genres. We find this info in the following dataframes and tables:\n",
    "* `movie_budgets`\n",
    "* `SQL im.db\"`"
   ]
  },
  {
   "cell_type": "markdown",
   "metadata": {},
   "source": [
    "## Retreiving and cleaning data up"
   ]
  },
  {
   "cell_type": "markdown",
   "metadata": {},
   "source": [
    "### Importing libraries\n",
    "We will start by adding the basic libraries to our notebook, so it runs nice and smoothly."
   ]
  },
  {
   "cell_type": "code",
   "execution_count": 195,
   "metadata": {},
   "outputs": [],
   "source": [
    "# Import all libraries the project will requiere\n",
    "\n",
    "#For retreiving data\n",
    "import pandas as pd\n",
    "import sqlite3\n",
    "import zipfile\n",
    "\n",
    "#For analyzing data\n",
    "from scipy import stats\n",
    "\n",
    "#For plotting and visulaizations\n",
    "from matplotlib import pyplot as plt\n",
    "import seaborn as sns\n",
    "%matplotlib inline"
   ]
  },
  {
   "cell_type": "markdown",
   "metadata": {},
   "source": [
    "### Retreiving general information\n",
    "Then, we insert the data we will be working with."
   ]
  },
  {
   "cell_type": "code",
   "execution_count": 196,
   "metadata": {},
   "outputs": [],
   "source": [
    "#Retrieving data to work with\n",
    "#movie_gross_data = pd.read_csv(\"zippedData/bom.movie_gross.csv.gz\")\n",
    "#movies           = pd.read_csv(\"zippedData/tmdb.movies.csv.gz\")\n",
    "movie_budgets    = pd.read_csv(\"zippedData/tn.movie_budgets.csv.gz\")\n",
    "\n",
    "#movie_info_data  = pd.read_csv(\"zippedData/rt.movie_info.tsv.gz\", sep=\"\\t\")"
   ]
  },
  {
   "cell_type": "code",
   "execution_count": 197,
   "metadata": {},
   "outputs": [],
   "source": [
    "#Oppening SQLite3 zip\n",
    "with zipfile.ZipFile(\"zippedData/im.db.zip\", \"r\") as zObject:\n",
    "        zObject.extractall()\n",
    "\n",
    "conn = sqlite3.connect(\"im.db\")\n",
    "cur = conn.cursor()"
   ]
  },
  {
   "cell_type": "markdown",
   "metadata": {},
   "source": [
    "### Cleaning Movie Budgets data"
   ]
  },
  {
   "cell_type": "markdown",
   "metadata": {},
   "source": [
    "Before starting any anylisis at all, we have to be sure that the data we are dealing with is ready to be manipulated. In order to accopmlish it, we musgt clean the data from all the tables we are using. First we will start with `movie_budget`"
   ]
  },
  {
   "cell_type": "code",
   "execution_count": 198,
   "metadata": {},
   "outputs": [
    {
     "data": {
      "text/html": [
       "<div>\n",
       "<style scoped>\n",
       "    .dataframe tbody tr th:only-of-type {\n",
       "        vertical-align: middle;\n",
       "    }\n",
       "\n",
       "    .dataframe tbody tr th {\n",
       "        vertical-align: top;\n",
       "    }\n",
       "\n",
       "    .dataframe thead th {\n",
       "        text-align: right;\n",
       "    }\n",
       "</style>\n",
       "<table border=\"1\" class=\"dataframe\">\n",
       "  <thead>\n",
       "    <tr style=\"text-align: right;\">\n",
       "      <th></th>\n",
       "      <th>id</th>\n",
       "      <th>release_date</th>\n",
       "      <th>movie</th>\n",
       "      <th>production_budget</th>\n",
       "      <th>domestic_gross</th>\n",
       "      <th>worldwide_gross</th>\n",
       "    </tr>\n",
       "  </thead>\n",
       "  <tbody>\n",
       "    <tr>\n",
       "      <th>0</th>\n",
       "      <td>1</td>\n",
       "      <td>Dec 18, 2009</td>\n",
       "      <td>Avatar</td>\n",
       "      <td>$425,000,000</td>\n",
       "      <td>$760,507,625</td>\n",
       "      <td>$2,776,345,279</td>\n",
       "    </tr>\n",
       "    <tr>\n",
       "      <th>1</th>\n",
       "      <td>2</td>\n",
       "      <td>May 20, 2011</td>\n",
       "      <td>Pirates of the Caribbean: On Stranger Tides</td>\n",
       "      <td>$410,600,000</td>\n",
       "      <td>$241,063,875</td>\n",
       "      <td>$1,045,663,875</td>\n",
       "    </tr>\n",
       "    <tr>\n",
       "      <th>2</th>\n",
       "      <td>3</td>\n",
       "      <td>Jun 7, 2019</td>\n",
       "      <td>Dark Phoenix</td>\n",
       "      <td>$350,000,000</td>\n",
       "      <td>$42,762,350</td>\n",
       "      <td>$149,762,350</td>\n",
       "    </tr>\n",
       "    <tr>\n",
       "      <th>3</th>\n",
       "      <td>4</td>\n",
       "      <td>May 1, 2015</td>\n",
       "      <td>Avengers: Age of Ultron</td>\n",
       "      <td>$330,600,000</td>\n",
       "      <td>$459,005,868</td>\n",
       "      <td>$1,403,013,963</td>\n",
       "    </tr>\n",
       "    <tr>\n",
       "      <th>4</th>\n",
       "      <td>5</td>\n",
       "      <td>Dec 15, 2017</td>\n",
       "      <td>Star Wars Ep. VIII: The Last Jedi</td>\n",
       "      <td>$317,000,000</td>\n",
       "      <td>$620,181,382</td>\n",
       "      <td>$1,316,721,747</td>\n",
       "    </tr>\n",
       "  </tbody>\n",
       "</table>\n",
       "</div>"
      ],
      "text/plain": [
       "   id  release_date                                        movie  \\\n",
       "0   1  Dec 18, 2009                                       Avatar   \n",
       "1   2  May 20, 2011  Pirates of the Caribbean: On Stranger Tides   \n",
       "2   3   Jun 7, 2019                                 Dark Phoenix   \n",
       "3   4   May 1, 2015                      Avengers: Age of Ultron   \n",
       "4   5  Dec 15, 2017            Star Wars Ep. VIII: The Last Jedi   \n",
       "\n",
       "  production_budget domestic_gross worldwide_gross  \n",
       "0      $425,000,000   $760,507,625  $2,776,345,279  \n",
       "1      $410,600,000   $241,063,875  $1,045,663,875  \n",
       "2      $350,000,000    $42,762,350    $149,762,350  \n",
       "3      $330,600,000   $459,005,868  $1,403,013,963  \n",
       "4      $317,000,000   $620,181,382  $1,316,721,747  "
      ]
     },
     "execution_count": 198,
     "metadata": {},
     "output_type": "execute_result"
    }
   ],
   "source": [
    "movie_budgets.head()"
   ]
  },
  {
   "cell_type": "code",
   "execution_count": 199,
   "metadata": {},
   "outputs": [
    {
     "name": "stdout",
     "output_type": "stream",
     "text": [
      "<class 'pandas.core.frame.DataFrame'>\n",
      "RangeIndex: 5782 entries, 0 to 5781\n",
      "Data columns (total 6 columns):\n",
      " #   Column             Non-Null Count  Dtype \n",
      "---  ------             --------------  ----- \n",
      " 0   id                 5782 non-null   int64 \n",
      " 1   release_date       5782 non-null   object\n",
      " 2   movie              5782 non-null   object\n",
      " 3   production_budget  5782 non-null   object\n",
      " 4   domestic_gross     5782 non-null   object\n",
      " 5   worldwide_gross    5782 non-null   object\n",
      "dtypes: int64(1), object(5)\n",
      "memory usage: 271.2+ KB\n"
     ]
    }
   ],
   "source": [
    "movie_budgets.info()"
   ]
  },
  {
   "cell_type": "markdown",
   "metadata": {},
   "source": [
    "As we see all of the values are a `Not-Null`, so most of the job is done; even so, a few considerations must be taken."
   ]
  },
  {
   "cell_type": "markdown",
   "metadata": {},
   "source": [
    "Here we check if there is any movie appearing more than once."
   ]
  },
  {
   "cell_type": "code",
   "execution_count": 200,
   "metadata": {},
   "outputs": [
    {
     "name": "stdout",
     "output_type": "stream",
     "text": [
      "5698 5782\n"
     ]
    }
   ],
   "source": [
    "print(len(movie_budgets.movie.unique()), movie_budgets.shape[0])"
   ]
  },
  {
   "cell_type": "markdown",
   "metadata": {},
   "source": [
    "Since these two numbers differ, we must take a look into it and remove any duplicates if any."
   ]
  },
  {
   "cell_type": "code",
   "execution_count": 201,
   "metadata": {},
   "outputs": [
    {
     "data": {
      "text/plain": [
       "Halloween                         3\n",
       "Home                              3\n",
       "King Kong                         3\n",
       "Hercules                          2\n",
       "The Island                        2\n",
       "                                 ..\n",
       "Hitman: Agent 47                  1\n",
       "Deuce Bigalow: Male Gigolo        1\n",
       "Molly                             1\n",
       "Walk Hard: The Dewey Cox Story    1\n",
       "The Painted Veil                  1\n",
       "Name: movie, Length: 5698, dtype: int64"
      ]
     },
     "execution_count": 201,
     "metadata": {},
     "output_type": "execute_result"
    }
   ],
   "source": [
    "movie_budgets.movie.value_counts()"
   ]
  },
  {
   "cell_type": "markdown",
   "metadata": {},
   "source": [
    "In fact, we have a bunch of repeating movies. We have to deal with them, so they only appear once."
   ]
  },
  {
   "cell_type": "code",
   "execution_count": 202,
   "metadata": {},
   "outputs": [],
   "source": [
    "movie_budgets.drop_duplicates(subset=[\"movie\"], inplace = True)"
   ]
  },
  {
   "cell_type": "code",
   "execution_count": 203,
   "metadata": {
    "scrolled": true
   },
   "outputs": [
    {
     "name": "stdout",
     "output_type": "stream",
     "text": [
      "5698 5698\n"
     ]
    }
   ],
   "source": [
    "print(len(movie_budgets.movie.unique()), movie_budgets.shape[0])"
   ]
  },
  {
   "cell_type": "markdown",
   "metadata": {},
   "source": [
    "Now both values are similiar, which let us know that we got rid of duplicates perfectly."
   ]
  },
  {
   "cell_type": "markdown",
   "metadata": {},
   "source": [
    "Runnig the `.info()` command above, we also have found that `production_budget`, `domestic_gross` and `worldwide_gross` are object types, when we need them to be a numeric value, to perform further comparisons. So we have to take care of that issue too."
   ]
  },
  {
   "cell_type": "code",
   "execution_count": 204,
   "metadata": {},
   "outputs": [],
   "source": [
    "#Getting rid off commas so it can be casted\n",
    "movie_budgets.production_budget.replace(\",\",\"\",regex=True, inplace=True)\n",
    "movie_budgets.domestic_gross.replace(\",\",\"\",regex=True, inplace=True)\n",
    "movie_budgets.worldwide_gross.replace(\",\",\"\",regex=True, inplace=True)\n",
    "\n",
    "#Getting rid off $\n",
    "movie_budgets[\"production_budget\"] = movie_budgets.production_budget.str.strip(\"$\")\n",
    "movie_budgets[\"domestic_gross\"] = movie_budgets.domestic_gross.str.strip(\"$\")\n",
    "movie_budgets[\"worldwide_gross\"] = movie_budgets.worldwide_gross.str.strip(\"$\")"
   ]
  },
  {
   "cell_type": "code",
   "execution_count": 205,
   "metadata": {},
   "outputs": [],
   "source": [
    "#Casting foreign_gross as a float\n",
    "movie_budgets[\"production_budget\"] = movie_budgets.production_budget.astype(float)\n",
    "movie_budgets[\"domestic_gross\"] = movie_budgets.domestic_gross.astype(float)\n",
    "movie_budgets[\"worldwide_gross\"] = movie_budgets.worldwide_gross.astype(float)"
   ]
  },
  {
   "cell_type": "code",
   "execution_count": 206,
   "metadata": {
    "scrolled": true
   },
   "outputs": [
    {
     "data": {
      "text/html": [
       "<div>\n",
       "<style scoped>\n",
       "    .dataframe tbody tr th:only-of-type {\n",
       "        vertical-align: middle;\n",
       "    }\n",
       "\n",
       "    .dataframe tbody tr th {\n",
       "        vertical-align: top;\n",
       "    }\n",
       "\n",
       "    .dataframe thead th {\n",
       "        text-align: right;\n",
       "    }\n",
       "</style>\n",
       "<table border=\"1\" class=\"dataframe\">\n",
       "  <thead>\n",
       "    <tr style=\"text-align: right;\">\n",
       "      <th></th>\n",
       "      <th>id</th>\n",
       "      <th>release_date</th>\n",
       "      <th>movie</th>\n",
       "      <th>production_budget</th>\n",
       "      <th>domestic_gross</th>\n",
       "      <th>worldwide_gross</th>\n",
       "    </tr>\n",
       "  </thead>\n",
       "  <tbody>\n",
       "    <tr>\n",
       "      <th>0</th>\n",
       "      <td>1</td>\n",
       "      <td>Dec 18, 2009</td>\n",
       "      <td>Avatar</td>\n",
       "      <td>425000000.0</td>\n",
       "      <td>760507625.0</td>\n",
       "      <td>2.776345e+09</td>\n",
       "    </tr>\n",
       "    <tr>\n",
       "      <th>1</th>\n",
       "      <td>2</td>\n",
       "      <td>May 20, 2011</td>\n",
       "      <td>Pirates of the Caribbean: On Stranger Tides</td>\n",
       "      <td>410600000.0</td>\n",
       "      <td>241063875.0</td>\n",
       "      <td>1.045664e+09</td>\n",
       "    </tr>\n",
       "    <tr>\n",
       "      <th>2</th>\n",
       "      <td>3</td>\n",
       "      <td>Jun 7, 2019</td>\n",
       "      <td>Dark Phoenix</td>\n",
       "      <td>350000000.0</td>\n",
       "      <td>42762350.0</td>\n",
       "      <td>1.497624e+08</td>\n",
       "    </tr>\n",
       "    <tr>\n",
       "      <th>3</th>\n",
       "      <td>4</td>\n",
       "      <td>May 1, 2015</td>\n",
       "      <td>Avengers: Age of Ultron</td>\n",
       "      <td>330600000.0</td>\n",
       "      <td>459005868.0</td>\n",
       "      <td>1.403014e+09</td>\n",
       "    </tr>\n",
       "    <tr>\n",
       "      <th>4</th>\n",
       "      <td>5</td>\n",
       "      <td>Dec 15, 2017</td>\n",
       "      <td>Star Wars Ep. VIII: The Last Jedi</td>\n",
       "      <td>317000000.0</td>\n",
       "      <td>620181382.0</td>\n",
       "      <td>1.316722e+09</td>\n",
       "    </tr>\n",
       "  </tbody>\n",
       "</table>\n",
       "</div>"
      ],
      "text/plain": [
       "   id  release_date                                        movie  \\\n",
       "0   1  Dec 18, 2009                                       Avatar   \n",
       "1   2  May 20, 2011  Pirates of the Caribbean: On Stranger Tides   \n",
       "2   3   Jun 7, 2019                                 Dark Phoenix   \n",
       "3   4   May 1, 2015                      Avengers: Age of Ultron   \n",
       "4   5  Dec 15, 2017            Star Wars Ep. VIII: The Last Jedi   \n",
       "\n",
       "   production_budget  domestic_gross  worldwide_gross  \n",
       "0        425000000.0     760507625.0     2.776345e+09  \n",
       "1        410600000.0     241063875.0     1.045664e+09  \n",
       "2        350000000.0      42762350.0     1.497624e+08  \n",
       "3        330600000.0     459005868.0     1.403014e+09  \n",
       "4        317000000.0     620181382.0     1.316722e+09  "
      ]
     },
     "execution_count": 206,
     "metadata": {},
     "output_type": "execute_result"
    }
   ],
   "source": [
    "movie_budgets.head()"
   ]
  },
  {
   "cell_type": "markdown",
   "metadata": {},
   "source": [
    "It could be useful to have a `total_gross` and `profit_or_loss` column for easier analysis later."
   ]
  },
  {
   "cell_type": "code",
   "execution_count": 207,
   "metadata": {},
   "outputs": [],
   "source": [
    "movie_budgets[\"total_gross\"] = movie_budgets.domestic_gross + movie_budgets.worldwide_gross\n",
    "movie_budgets[\"profit_or_loss\"] = movie_budgets.total_gross - movie_budgets.production_budget"
   ]
  },
  {
   "cell_type": "code",
   "execution_count": 208,
   "metadata": {},
   "outputs": [
    {
     "data": {
      "text/html": [
       "<div>\n",
       "<style scoped>\n",
       "    .dataframe tbody tr th:only-of-type {\n",
       "        vertical-align: middle;\n",
       "    }\n",
       "\n",
       "    .dataframe tbody tr th {\n",
       "        vertical-align: top;\n",
       "    }\n",
       "\n",
       "    .dataframe thead th {\n",
       "        text-align: right;\n",
       "    }\n",
       "</style>\n",
       "<table border=\"1\" class=\"dataframe\">\n",
       "  <thead>\n",
       "    <tr style=\"text-align: right;\">\n",
       "      <th></th>\n",
       "      <th>id</th>\n",
       "      <th>release_date</th>\n",
       "      <th>movie</th>\n",
       "      <th>production_budget</th>\n",
       "      <th>domestic_gross</th>\n",
       "      <th>worldwide_gross</th>\n",
       "      <th>total_gross</th>\n",
       "      <th>profit_or_loss</th>\n",
       "    </tr>\n",
       "  </thead>\n",
       "  <tbody>\n",
       "    <tr>\n",
       "      <th>0</th>\n",
       "      <td>1</td>\n",
       "      <td>Dec 18, 2009</td>\n",
       "      <td>Avatar</td>\n",
       "      <td>425000000.0</td>\n",
       "      <td>760507625.0</td>\n",
       "      <td>2.776345e+09</td>\n",
       "      <td>3.536853e+09</td>\n",
       "      <td>3.111853e+09</td>\n",
       "    </tr>\n",
       "    <tr>\n",
       "      <th>1</th>\n",
       "      <td>2</td>\n",
       "      <td>May 20, 2011</td>\n",
       "      <td>Pirates of the Caribbean: On Stranger Tides</td>\n",
       "      <td>410600000.0</td>\n",
       "      <td>241063875.0</td>\n",
       "      <td>1.045664e+09</td>\n",
       "      <td>1.286728e+09</td>\n",
       "      <td>8.761278e+08</td>\n",
       "    </tr>\n",
       "    <tr>\n",
       "      <th>2</th>\n",
       "      <td>3</td>\n",
       "      <td>Jun 7, 2019</td>\n",
       "      <td>Dark Phoenix</td>\n",
       "      <td>350000000.0</td>\n",
       "      <td>42762350.0</td>\n",
       "      <td>1.497624e+08</td>\n",
       "      <td>1.925247e+08</td>\n",
       "      <td>-1.574753e+08</td>\n",
       "    </tr>\n",
       "    <tr>\n",
       "      <th>3</th>\n",
       "      <td>4</td>\n",
       "      <td>May 1, 2015</td>\n",
       "      <td>Avengers: Age of Ultron</td>\n",
       "      <td>330600000.0</td>\n",
       "      <td>459005868.0</td>\n",
       "      <td>1.403014e+09</td>\n",
       "      <td>1.862020e+09</td>\n",
       "      <td>1.531420e+09</td>\n",
       "    </tr>\n",
       "    <tr>\n",
       "      <th>4</th>\n",
       "      <td>5</td>\n",
       "      <td>Dec 15, 2017</td>\n",
       "      <td>Star Wars Ep. VIII: The Last Jedi</td>\n",
       "      <td>317000000.0</td>\n",
       "      <td>620181382.0</td>\n",
       "      <td>1.316722e+09</td>\n",
       "      <td>1.936903e+09</td>\n",
       "      <td>1.619903e+09</td>\n",
       "    </tr>\n",
       "  </tbody>\n",
       "</table>\n",
       "</div>"
      ],
      "text/plain": [
       "   id  release_date                                        movie  \\\n",
       "0   1  Dec 18, 2009                                       Avatar   \n",
       "1   2  May 20, 2011  Pirates of the Caribbean: On Stranger Tides   \n",
       "2   3   Jun 7, 2019                                 Dark Phoenix   \n",
       "3   4   May 1, 2015                      Avengers: Age of Ultron   \n",
       "4   5  Dec 15, 2017            Star Wars Ep. VIII: The Last Jedi   \n",
       "\n",
       "   production_budget  domestic_gross  worldwide_gross   total_gross  \\\n",
       "0        425000000.0     760507625.0     2.776345e+09  3.536853e+09   \n",
       "1        410600000.0     241063875.0     1.045664e+09  1.286728e+09   \n",
       "2        350000000.0      42762350.0     1.497624e+08  1.925247e+08   \n",
       "3        330600000.0     459005868.0     1.403014e+09  1.862020e+09   \n",
       "4        317000000.0     620181382.0     1.316722e+09  1.936903e+09   \n",
       "\n",
       "   profit_or_loss  \n",
       "0    3.111853e+09  \n",
       "1    8.761278e+08  \n",
       "2   -1.574753e+08  \n",
       "3    1.531420e+09  \n",
       "4    1.619903e+09  "
      ]
     },
     "execution_count": 208,
     "metadata": {},
     "output_type": "execute_result"
    }
   ],
   "source": [
    "movie_budgets.head()"
   ]
  },
  {
   "cell_type": "markdown",
   "metadata": {},
   "source": [
    "### Retreiving Movie Ratings data\n",
    "Now we get the info from the relevant SQL table for the analysis."
   ]
  },
  {
   "cell_type": "code",
   "execution_count": 209,
   "metadata": {},
   "outputs": [],
   "source": [
    "#Obtain relevant information from SQL database\n",
    "query = '''\n",
    "    SELECT\n",
    "        movie_id AS \"ID\",\n",
    "        primary_title AS \"Title\",\n",
    "        original_title AS \"Original Title\",\n",
    "        genres AS \"Genres\",\n",
    "        averagerating AS \"Rating\",\n",
    "        numvotes AS \"Number of Votes\"\n",
    "    FROM movie_basics\n",
    "        JOIN movie_ratings\n",
    "        USING (movie_id)\n",
    "'''\n",
    "\n",
    "#Assign the query to a pandas dataframe\n",
    "movie_rating = pd.read_sql(query,conn)"
   ]
  },
  {
   "cell_type": "code",
   "execution_count": 210,
   "metadata": {
    "scrolled": true
   },
   "outputs": [
    {
     "data": {
      "text/html": [
       "<div>\n",
       "<style scoped>\n",
       "    .dataframe tbody tr th:only-of-type {\n",
       "        vertical-align: middle;\n",
       "    }\n",
       "\n",
       "    .dataframe tbody tr th {\n",
       "        vertical-align: top;\n",
       "    }\n",
       "\n",
       "    .dataframe thead th {\n",
       "        text-align: right;\n",
       "    }\n",
       "</style>\n",
       "<table border=\"1\" class=\"dataframe\">\n",
       "  <thead>\n",
       "    <tr style=\"text-align: right;\">\n",
       "      <th></th>\n",
       "      <th>ID</th>\n",
       "      <th>Title</th>\n",
       "      <th>Original Title</th>\n",
       "      <th>Genres</th>\n",
       "      <th>Rating</th>\n",
       "      <th>Number of Votes</th>\n",
       "    </tr>\n",
       "  </thead>\n",
       "  <tbody>\n",
       "    <tr>\n",
       "      <th>0</th>\n",
       "      <td>tt0063540</td>\n",
       "      <td>Sunghursh</td>\n",
       "      <td>Sunghursh</td>\n",
       "      <td>Action,Crime,Drama</td>\n",
       "      <td>7.0</td>\n",
       "      <td>77</td>\n",
       "    </tr>\n",
       "    <tr>\n",
       "      <th>1</th>\n",
       "      <td>tt0066787</td>\n",
       "      <td>One Day Before the Rainy Season</td>\n",
       "      <td>Ashad Ka Ek Din</td>\n",
       "      <td>Biography,Drama</td>\n",
       "      <td>7.2</td>\n",
       "      <td>43</td>\n",
       "    </tr>\n",
       "    <tr>\n",
       "      <th>2</th>\n",
       "      <td>tt0069049</td>\n",
       "      <td>The Other Side of the Wind</td>\n",
       "      <td>The Other Side of the Wind</td>\n",
       "      <td>Drama</td>\n",
       "      <td>6.9</td>\n",
       "      <td>4517</td>\n",
       "    </tr>\n",
       "    <tr>\n",
       "      <th>3</th>\n",
       "      <td>tt0069204</td>\n",
       "      <td>Sabse Bada Sukh</td>\n",
       "      <td>Sabse Bada Sukh</td>\n",
       "      <td>Comedy,Drama</td>\n",
       "      <td>6.1</td>\n",
       "      <td>13</td>\n",
       "    </tr>\n",
       "    <tr>\n",
       "      <th>4</th>\n",
       "      <td>tt0100275</td>\n",
       "      <td>The Wandering Soap Opera</td>\n",
       "      <td>La Telenovela Errante</td>\n",
       "      <td>Comedy,Drama,Fantasy</td>\n",
       "      <td>6.5</td>\n",
       "      <td>119</td>\n",
       "    </tr>\n",
       "    <tr>\n",
       "      <th>5</th>\n",
       "      <td>tt0112502</td>\n",
       "      <td>Bigfoot</td>\n",
       "      <td>Bigfoot</td>\n",
       "      <td>Horror,Thriller</td>\n",
       "      <td>4.1</td>\n",
       "      <td>32</td>\n",
       "    </tr>\n",
       "    <tr>\n",
       "      <th>6</th>\n",
       "      <td>tt0137204</td>\n",
       "      <td>Joe Finds Grace</td>\n",
       "      <td>Joe Finds Grace</td>\n",
       "      <td>Adventure,Animation,Comedy</td>\n",
       "      <td>8.1</td>\n",
       "      <td>263</td>\n",
       "    </tr>\n",
       "    <tr>\n",
       "      <th>7</th>\n",
       "      <td>tt0146592</td>\n",
       "      <td>Pál Adrienn</td>\n",
       "      <td>Pál Adrienn</td>\n",
       "      <td>Drama</td>\n",
       "      <td>6.8</td>\n",
       "      <td>451</td>\n",
       "    </tr>\n",
       "    <tr>\n",
       "      <th>8</th>\n",
       "      <td>tt0154039</td>\n",
       "      <td>So Much for Justice!</td>\n",
       "      <td>Oda az igazság</td>\n",
       "      <td>History</td>\n",
       "      <td>4.6</td>\n",
       "      <td>64</td>\n",
       "    </tr>\n",
       "    <tr>\n",
       "      <th>9</th>\n",
       "      <td>tt0159369</td>\n",
       "      <td>Cooper and Hemingway: The True Gen</td>\n",
       "      <td>Cooper and Hemingway: The True Gen</td>\n",
       "      <td>Documentary</td>\n",
       "      <td>7.6</td>\n",
       "      <td>53</td>\n",
       "    </tr>\n",
       "  </tbody>\n",
       "</table>\n",
       "</div>"
      ],
      "text/plain": [
       "          ID                               Title  \\\n",
       "0  tt0063540                           Sunghursh   \n",
       "1  tt0066787     One Day Before the Rainy Season   \n",
       "2  tt0069049          The Other Side of the Wind   \n",
       "3  tt0069204                     Sabse Bada Sukh   \n",
       "4  tt0100275            The Wandering Soap Opera   \n",
       "5  tt0112502                             Bigfoot   \n",
       "6  tt0137204                     Joe Finds Grace   \n",
       "7  tt0146592                         Pál Adrienn   \n",
       "8  tt0154039                So Much for Justice!   \n",
       "9  tt0159369  Cooper and Hemingway: The True Gen   \n",
       "\n",
       "                       Original Title                      Genres  Rating  \\\n",
       "0                           Sunghursh          Action,Crime,Drama     7.0   \n",
       "1                     Ashad Ka Ek Din             Biography,Drama     7.2   \n",
       "2          The Other Side of the Wind                       Drama     6.9   \n",
       "3                     Sabse Bada Sukh                Comedy,Drama     6.1   \n",
       "4               La Telenovela Errante        Comedy,Drama,Fantasy     6.5   \n",
       "5                             Bigfoot             Horror,Thriller     4.1   \n",
       "6                     Joe Finds Grace  Adventure,Animation,Comedy     8.1   \n",
       "7                         Pál Adrienn                       Drama     6.8   \n",
       "8                      Oda az igazság                     History     4.6   \n",
       "9  Cooper and Hemingway: The True Gen                 Documentary     7.6   \n",
       "\n",
       "   Number of Votes  \n",
       "0               77  \n",
       "1               43  \n",
       "2             4517  \n",
       "3               13  \n",
       "4              119  \n",
       "5               32  \n",
       "6              263  \n",
       "7              451  \n",
       "8               64  \n",
       "9               53  "
      ]
     },
     "execution_count": 210,
     "metadata": {},
     "output_type": "execute_result"
    }
   ],
   "source": [
    "movie_rating.head(10)"
   ]
  },
  {
   "cell_type": "markdown",
   "metadata": {},
   "source": [
    "### Cleaning SQL data"
   ]
  },
  {
   "cell_type": "code",
   "execution_count": 211,
   "metadata": {
    "scrolled": true
   },
   "outputs": [
    {
     "name": "stdout",
     "output_type": "stream",
     "text": [
      "<class 'pandas.core.frame.DataFrame'>\n",
      "RangeIndex: 73856 entries, 0 to 73855\n",
      "Data columns (total 6 columns):\n",
      " #   Column           Non-Null Count  Dtype  \n",
      "---  ------           --------------  -----  \n",
      " 0   ID               73856 non-null  object \n",
      " 1   Title            73856 non-null  object \n",
      " 2   Original Title   73856 non-null  object \n",
      " 3   Genres           73052 non-null  object \n",
      " 4   Rating           73856 non-null  float64\n",
      " 5   Number of Votes  73856 non-null  int64  \n",
      "dtypes: float64(1), int64(1), object(4)\n",
      "memory usage: 3.4+ MB\n"
     ]
    }
   ],
   "source": [
    "movie_rating.info()"
   ]
  },
  {
   "cell_type": "markdown",
   "metadata": {},
   "source": [
    "As we can see, most of the data we obtain is complete, but there may still be some values that could mess up our analysis, so we better clean this data as well!"
   ]
  },
  {
   "cell_type": "code",
   "execution_count": 212,
   "metadata": {},
   "outputs": [
    {
     "name": "stdout",
     "output_type": "stream",
     "text": [
      "69993 73856\n"
     ]
    }
   ],
   "source": [
    "print(len(movie_rating.Title.unique()), movie_rating.shape[0])"
   ]
  },
  {
   "cell_type": "code",
   "execution_count": 213,
   "metadata": {},
   "outputs": [
    {
     "data": {
      "text/plain": [
       "The Return                    11\n",
       "Broken                        10\n",
       "Lucky                          9\n",
       "Homecoming                     9\n",
       "Together                       9\n",
       "                              ..\n",
       "Venise n'est pas en Italie     1\n",
       "Becks letzter Sommer           1\n",
       "Honey Bee 2: Celebrations      1\n",
       "Jewel's Catch One              1\n",
       "Alright Now                    1\n",
       "Name: Title, Length: 69993, dtype: int64"
      ]
     },
     "execution_count": 213,
     "metadata": {},
     "output_type": "execute_result"
    }
   ],
   "source": [
    "movie_rating.Title.value_counts()"
   ]
  },
  {
   "cell_type": "code",
   "execution_count": 214,
   "metadata": {},
   "outputs": [],
   "source": [
    "movie_rating.drop_duplicates(subset=[\"Title\"], inplace=True)"
   ]
  },
  {
   "cell_type": "code",
   "execution_count": 215,
   "metadata": {
    "scrolled": true
   },
   "outputs": [
    {
     "name": "stdout",
     "output_type": "stream",
     "text": [
      "69993 69993\n"
     ]
    }
   ],
   "source": [
    "print(len(movie_rating.Title.unique()), movie_rating.shape[0])"
   ]
  },
  {
   "cell_type": "code",
   "execution_count": 216,
   "metadata": {},
   "outputs": [
    {
     "name": "stdout",
     "output_type": "stream",
     "text": [
      "69820 69993\n"
     ]
    }
   ],
   "source": [
    "print(len(movie_rating[\"Original Title\"].unique()), movie_rating[\"Original Title\"].shape[0])"
   ]
  },
  {
   "cell_type": "code",
   "execution_count": 217,
   "metadata": {},
   "outputs": [
    {
     "data": {
      "text/plain": [
       "Missed Connections                        3\n",
       "Un Français                               2\n",
       "The Horror                                2\n",
       "Stripped                                  2\n",
       "Brooklyn                                  2\n",
       "                                         ..\n",
       "Miracle on 42nd Street                    1\n",
       "Suhada Koka                               1\n",
       "I Am Going to Kill Someone This Friday    1\n",
       "Hangi Film                                1\n",
       "Red Riding Hood                           1\n",
       "Name: Original Title, Length: 69820, dtype: int64"
      ]
     },
     "execution_count": 217,
     "metadata": {},
     "output_type": "execute_result"
    }
   ],
   "source": [
    "movie_rating[\"Original Title\"].value_counts()"
   ]
  },
  {
   "cell_type": "code",
   "execution_count": 218,
   "metadata": {},
   "outputs": [],
   "source": [
    "movie_rating.drop_duplicates(subset=[\"Original Title\"], inplace = True)"
   ]
  },
  {
   "cell_type": "code",
   "execution_count": 219,
   "metadata": {},
   "outputs": [
    {
     "name": "stdout",
     "output_type": "stream",
     "text": [
      "69820 69820\n"
     ]
    }
   ],
   "source": [
    "print(len(movie_rating[\"Original Title\"].unique()), movie_rating[\"Original Title\"].shape[0])"
   ]
  },
  {
   "cell_type": "code",
   "execution_count": 220,
   "metadata": {},
   "outputs": [
    {
     "data": {
      "text/plain": [
       "array([ 7. ,  7.2,  6.9,  6.1,  6.5,  4.1,  8.1,  6.8,  4.6,  7.6,  7.5,\n",
       "        7.8,  4. ,  8.8,  1.9,  6.7,  6.6,  5.9,  7.1,  7.4,  3.9,  5.5,\n",
       "        5.1,  7.9,  6.2,  6.3,  5. ,  6. ,  5.6,  7.3,  4.9,  6.4,  3.3,\n",
       "        5.7,  8.6,  4.8,  4.5,  4.2,  8.7,  4.7,  5.2,  8.3,  9.1,  3.4,\n",
       "        5.8,  5.4,  8.5,  3.2,  3.6,  8. ,  3.8,  7.7,  4.3,  3. ,  5.3,\n",
       "        3.7,  3.5,  9.3,  8.9,  9. ,  2.3,  8.2,  2.7,  2.8,  1.7,  4.4,\n",
       "        2.2,  9.4,  8.4,  9.2,  9.7,  3.1, 10. ,  9.8,  2.6,  2.5,  1.4,\n",
       "        2.1,  2.4,  2.9,  1.8,  1.6,  2. ,  1. ,  1.2,  1.5,  1.3,  1.1,\n",
       "        9.5,  9.6,  9.9])"
      ]
     },
     "execution_count": 220,
     "metadata": {},
     "output_type": "execute_result"
    }
   ],
   "source": [
    "movie_rating.Rating.unique()"
   ]
  },
  {
   "cell_type": "markdown",
   "metadata": {},
   "source": [
    "We can see there is no apparent problem in the Rating column"
   ]
  },
  {
   "cell_type": "code",
   "execution_count": 221,
   "metadata": {},
   "outputs": [
    {
     "data": {
      "text/plain": [
       "tt5654204    1\n",
       "tt6788646    1\n",
       "tt7629994    1\n",
       "tt1848975    1\n",
       "tt5834808    1\n",
       "            ..\n",
       "tt3811012    1\n",
       "tt4469842    1\n",
       "tt1542045    1\n",
       "tt1617000    1\n",
       "tt5628792    1\n",
       "Name: ID, Length: 69820, dtype: int64"
      ]
     },
     "execution_count": 221,
     "metadata": {},
     "output_type": "execute_result"
    }
   ],
   "source": [
    "movie_rating.ID.value_counts().sort_values(ascending = True)"
   ]
  },
  {
   "cell_type": "markdown",
   "metadata": {},
   "source": [
    "Nor there is any in the ID column. \n",
    "\n",
    "Most of the cleaning of this Dataframe is done. The next step to do is to decide how to procede with the missing values we saw in the Genres column. There are around 800 missing values, and dropping those columns won't represent as much of a loss, so we will proceed with this approach."
   ]
  },
  {
   "cell_type": "code",
   "execution_count": 222,
   "metadata": {},
   "outputs": [],
   "source": [
    "movie_rating = movie_rating[movie_rating.Genres.str.contains(\"None\") == False]"
   ]
  },
  {
   "cell_type": "code",
   "execution_count": 223,
   "metadata": {},
   "outputs": [
    {
     "name": "stdout",
     "output_type": "stream",
     "text": [
      "<class 'pandas.core.frame.DataFrame'>\n",
      "Int64Index: 69059 entries, 0 to 73852\n",
      "Data columns (total 6 columns):\n",
      " #   Column           Non-Null Count  Dtype  \n",
      "---  ------           --------------  -----  \n",
      " 0   ID               69059 non-null  object \n",
      " 1   Title            69059 non-null  object \n",
      " 2   Original Title   69059 non-null  object \n",
      " 3   Genres           69059 non-null  object \n",
      " 4   Rating           69059 non-null  float64\n",
      " 5   Number of Votes  69059 non-null  int64  \n",
      "dtypes: float64(1), int64(1), object(4)\n",
      "memory usage: 3.7+ MB\n"
     ]
    }
   ],
   "source": [
    "movie_rating.info()"
   ]
  },
  {
   "cell_type": "markdown",
   "metadata": {},
   "source": [
    "We can see we have a dataframe without any null value or duplicates. We can consider this dataframe to be clean!"
   ]
  },
  {
   "cell_type": "markdown",
   "metadata": {},
   "source": [
    "Nevertheless, before moving forward, I will consider an extra step for singificance in later analysis; which is getting the percentage of rating base on the number of votes. Where we will use the greatest `Number of votes` as reference to all the movies, i.e. the movie with its `Number of voters` value equal to `max_voters` will have a significance of `1`."
   ]
  },
  {
   "cell_type": "code",
   "execution_count": 224,
   "metadata": {},
   "outputs": [],
   "source": [
    "max_voters = movie_rating[\"Number of Votes\"].max()\n",
    "movie_rating[\"Significance\"] = (movie_rating[\"Number of Votes\"]/max_voters)"
   ]
  },
  {
   "cell_type": "code",
   "execution_count": 225,
   "metadata": {
    "scrolled": false
   },
   "outputs": [
    {
     "data": {
      "text/html": [
       "<div>\n",
       "<style scoped>\n",
       "    .dataframe tbody tr th:only-of-type {\n",
       "        vertical-align: middle;\n",
       "    }\n",
       "\n",
       "    .dataframe tbody tr th {\n",
       "        vertical-align: top;\n",
       "    }\n",
       "\n",
       "    .dataframe thead th {\n",
       "        text-align: right;\n",
       "    }\n",
       "</style>\n",
       "<table border=\"1\" class=\"dataframe\">\n",
       "  <thead>\n",
       "    <tr style=\"text-align: right;\">\n",
       "      <th></th>\n",
       "      <th>ID</th>\n",
       "      <th>Title</th>\n",
       "      <th>Original Title</th>\n",
       "      <th>Genres</th>\n",
       "      <th>Rating</th>\n",
       "      <th>Number of Votes</th>\n",
       "      <th>Significance</th>\n",
       "    </tr>\n",
       "  </thead>\n",
       "  <tbody>\n",
       "    <tr>\n",
       "      <th>0</th>\n",
       "      <td>tt0063540</td>\n",
       "      <td>Sunghursh</td>\n",
       "      <td>Sunghursh</td>\n",
       "      <td>Action,Crime,Drama</td>\n",
       "      <td>7.0</td>\n",
       "      <td>77</td>\n",
       "      <td>0.000042</td>\n",
       "    </tr>\n",
       "    <tr>\n",
       "      <th>1</th>\n",
       "      <td>tt0066787</td>\n",
       "      <td>One Day Before the Rainy Season</td>\n",
       "      <td>Ashad Ka Ek Din</td>\n",
       "      <td>Biography,Drama</td>\n",
       "      <td>7.2</td>\n",
       "      <td>43</td>\n",
       "      <td>0.000023</td>\n",
       "    </tr>\n",
       "    <tr>\n",
       "      <th>2</th>\n",
       "      <td>tt0069049</td>\n",
       "      <td>The Other Side of the Wind</td>\n",
       "      <td>The Other Side of the Wind</td>\n",
       "      <td>Drama</td>\n",
       "      <td>6.9</td>\n",
       "      <td>4517</td>\n",
       "      <td>0.002453</td>\n",
       "    </tr>\n",
       "    <tr>\n",
       "      <th>3</th>\n",
       "      <td>tt0069204</td>\n",
       "      <td>Sabse Bada Sukh</td>\n",
       "      <td>Sabse Bada Sukh</td>\n",
       "      <td>Comedy,Drama</td>\n",
       "      <td>6.1</td>\n",
       "      <td>13</td>\n",
       "      <td>0.000007</td>\n",
       "    </tr>\n",
       "    <tr>\n",
       "      <th>4</th>\n",
       "      <td>tt0100275</td>\n",
       "      <td>The Wandering Soap Opera</td>\n",
       "      <td>La Telenovela Errante</td>\n",
       "      <td>Comedy,Drama,Fantasy</td>\n",
       "      <td>6.5</td>\n",
       "      <td>119</td>\n",
       "      <td>0.000065</td>\n",
       "    </tr>\n",
       "  </tbody>\n",
       "</table>\n",
       "</div>"
      ],
      "text/plain": [
       "          ID                            Title              Original Title  \\\n",
       "0  tt0063540                        Sunghursh                   Sunghursh   \n",
       "1  tt0066787  One Day Before the Rainy Season             Ashad Ka Ek Din   \n",
       "2  tt0069049       The Other Side of the Wind  The Other Side of the Wind   \n",
       "3  tt0069204                  Sabse Bada Sukh             Sabse Bada Sukh   \n",
       "4  tt0100275         The Wandering Soap Opera       La Telenovela Errante   \n",
       "\n",
       "                 Genres  Rating  Number of Votes  Significance  \n",
       "0    Action,Crime,Drama     7.0               77      0.000042  \n",
       "1       Biography,Drama     7.2               43      0.000023  \n",
       "2                 Drama     6.9             4517      0.002453  \n",
       "3          Comedy,Drama     6.1               13      0.000007  \n",
       "4  Comedy,Drama,Fantasy     6.5              119      0.000065  "
      ]
     },
     "execution_count": 225,
     "metadata": {},
     "output_type": "execute_result"
    }
   ],
   "source": [
    "movie_rating.head()"
   ]
  },
  {
   "cell_type": "code",
   "execution_count": 226,
   "metadata": {},
   "outputs": [
    {
     "data": {
      "text/html": [
       "<div>\n",
       "<style scoped>\n",
       "    .dataframe tbody tr th:only-of-type {\n",
       "        vertical-align: middle;\n",
       "    }\n",
       "\n",
       "    .dataframe tbody tr th {\n",
       "        vertical-align: top;\n",
       "    }\n",
       "\n",
       "    .dataframe thead th {\n",
       "        text-align: right;\n",
       "    }\n",
       "</style>\n",
       "<table border=\"1\" class=\"dataframe\">\n",
       "  <thead>\n",
       "    <tr style=\"text-align: right;\">\n",
       "      <th></th>\n",
       "      <th>ID</th>\n",
       "      <th>Title</th>\n",
       "      <th>Original Title</th>\n",
       "      <th>Genres</th>\n",
       "      <th>Rating</th>\n",
       "      <th>Number of Votes</th>\n",
       "      <th>Significance</th>\n",
       "    </tr>\n",
       "  </thead>\n",
       "  <tbody>\n",
       "    <tr>\n",
       "      <th>2387</th>\n",
       "      <td>tt1375666</td>\n",
       "      <td>Inception</td>\n",
       "      <td>Inception</td>\n",
       "      <td>Action,Adventure,Sci-Fi</td>\n",
       "      <td>8.8</td>\n",
       "      <td>1841066</td>\n",
       "      <td>1.0</td>\n",
       "    </tr>\n",
       "  </tbody>\n",
       "</table>\n",
       "</div>"
      ],
      "text/plain": [
       "             ID      Title Original Title                   Genres  Rating  \\\n",
       "2387  tt1375666  Inception      Inception  Action,Adventure,Sci-Fi     8.8   \n",
       "\n",
       "      Number of Votes  Significance  \n",
       "2387          1841066           1.0  "
      ]
     },
     "execution_count": 226,
     "metadata": {},
     "output_type": "execute_result"
    }
   ],
   "source": [
    "movie_rating.loc[(movie_rating[\"Number of Votes\"]) == max_voters]"
   ]
  },
  {
   "cell_type": "markdown",
   "metadata": {},
   "source": [
    "### Merging tables\n",
    "Now, we shall proceed with joining the `movie_rating` table with the `movie_budgets` one to proceed with the analysis."
   ]
  },
  {
   "cell_type": "code",
   "execution_count": 227,
   "metadata": {},
   "outputs": [
    {
     "data": {
      "text/html": [
       "<div>\n",
       "<style scoped>\n",
       "    .dataframe tbody tr th:only-of-type {\n",
       "        vertical-align: middle;\n",
       "    }\n",
       "\n",
       "    .dataframe tbody tr th {\n",
       "        vertical-align: top;\n",
       "    }\n",
       "\n",
       "    .dataframe thead th {\n",
       "        text-align: right;\n",
       "    }\n",
       "</style>\n",
       "<table border=\"1\" class=\"dataframe\">\n",
       "  <thead>\n",
       "    <tr style=\"text-align: right;\">\n",
       "      <th></th>\n",
       "      <th>id</th>\n",
       "      <th>release_date</th>\n",
       "      <th>movie</th>\n",
       "      <th>production_budget</th>\n",
       "      <th>domestic_gross</th>\n",
       "      <th>worldwide_gross</th>\n",
       "      <th>total_gross</th>\n",
       "      <th>profit_or_loss</th>\n",
       "    </tr>\n",
       "  </thead>\n",
       "  <tbody>\n",
       "    <tr>\n",
       "      <th>0</th>\n",
       "      <td>1</td>\n",
       "      <td>Dec 18, 2009</td>\n",
       "      <td>Avatar</td>\n",
       "      <td>425000000.0</td>\n",
       "      <td>760507625.0</td>\n",
       "      <td>2.776345e+09</td>\n",
       "      <td>3.536853e+09</td>\n",
       "      <td>3.111853e+09</td>\n",
       "    </tr>\n",
       "    <tr>\n",
       "      <th>1</th>\n",
       "      <td>2</td>\n",
       "      <td>May 20, 2011</td>\n",
       "      <td>Pirates of the Caribbean: On Stranger Tides</td>\n",
       "      <td>410600000.0</td>\n",
       "      <td>241063875.0</td>\n",
       "      <td>1.045664e+09</td>\n",
       "      <td>1.286728e+09</td>\n",
       "      <td>8.761278e+08</td>\n",
       "    </tr>\n",
       "    <tr>\n",
       "      <th>2</th>\n",
       "      <td>3</td>\n",
       "      <td>Jun 7, 2019</td>\n",
       "      <td>Dark Phoenix</td>\n",
       "      <td>350000000.0</td>\n",
       "      <td>42762350.0</td>\n",
       "      <td>1.497624e+08</td>\n",
       "      <td>1.925247e+08</td>\n",
       "      <td>-1.574753e+08</td>\n",
       "    </tr>\n",
       "    <tr>\n",
       "      <th>3</th>\n",
       "      <td>4</td>\n",
       "      <td>May 1, 2015</td>\n",
       "      <td>Avengers: Age of Ultron</td>\n",
       "      <td>330600000.0</td>\n",
       "      <td>459005868.0</td>\n",
       "      <td>1.403014e+09</td>\n",
       "      <td>1.862020e+09</td>\n",
       "      <td>1.531420e+09</td>\n",
       "    </tr>\n",
       "    <tr>\n",
       "      <th>4</th>\n",
       "      <td>5</td>\n",
       "      <td>Dec 15, 2017</td>\n",
       "      <td>Star Wars Ep. VIII: The Last Jedi</td>\n",
       "      <td>317000000.0</td>\n",
       "      <td>620181382.0</td>\n",
       "      <td>1.316722e+09</td>\n",
       "      <td>1.936903e+09</td>\n",
       "      <td>1.619903e+09</td>\n",
       "    </tr>\n",
       "  </tbody>\n",
       "</table>\n",
       "</div>"
      ],
      "text/plain": [
       "   id  release_date                                        movie  \\\n",
       "0   1  Dec 18, 2009                                       Avatar   \n",
       "1   2  May 20, 2011  Pirates of the Caribbean: On Stranger Tides   \n",
       "2   3   Jun 7, 2019                                 Dark Phoenix   \n",
       "3   4   May 1, 2015                      Avengers: Age of Ultron   \n",
       "4   5  Dec 15, 2017            Star Wars Ep. VIII: The Last Jedi   \n",
       "\n",
       "   production_budget  domestic_gross  worldwide_gross   total_gross  \\\n",
       "0        425000000.0     760507625.0     2.776345e+09  3.536853e+09   \n",
       "1        410600000.0     241063875.0     1.045664e+09  1.286728e+09   \n",
       "2        350000000.0      42762350.0     1.497624e+08  1.925247e+08   \n",
       "3        330600000.0     459005868.0     1.403014e+09  1.862020e+09   \n",
       "4        317000000.0     620181382.0     1.316722e+09  1.936903e+09   \n",
       "\n",
       "   profit_or_loss  \n",
       "0    3.111853e+09  \n",
       "1    8.761278e+08  \n",
       "2   -1.574753e+08  \n",
       "3    1.531420e+09  \n",
       "4    1.619903e+09  "
      ]
     },
     "execution_count": 227,
     "metadata": {},
     "output_type": "execute_result"
    }
   ],
   "source": [
    "movie_budgets.head()"
   ]
  },
  {
   "cell_type": "code",
   "execution_count": 228,
   "metadata": {},
   "outputs": [],
   "source": [
    "#Create a new Dataframe\n",
    "gross_and_rating = pd.merge(movie_budgets, movie_rating, how=\"inner\", left_on=\"movie\", right_on=\"Title\")"
   ]
  },
  {
   "cell_type": "code",
   "execution_count": 229,
   "metadata": {},
   "outputs": [
    {
     "data": {
      "text/html": [
       "<div>\n",
       "<style scoped>\n",
       "    .dataframe tbody tr th:only-of-type {\n",
       "        vertical-align: middle;\n",
       "    }\n",
       "\n",
       "    .dataframe tbody tr th {\n",
       "        vertical-align: top;\n",
       "    }\n",
       "\n",
       "    .dataframe thead th {\n",
       "        text-align: right;\n",
       "    }\n",
       "</style>\n",
       "<table border=\"1\" class=\"dataframe\">\n",
       "  <thead>\n",
       "    <tr style=\"text-align: right;\">\n",
       "      <th></th>\n",
       "      <th>id</th>\n",
       "      <th>release_date</th>\n",
       "      <th>movie</th>\n",
       "      <th>production_budget</th>\n",
       "      <th>domestic_gross</th>\n",
       "      <th>worldwide_gross</th>\n",
       "      <th>total_gross</th>\n",
       "      <th>profit_or_loss</th>\n",
       "      <th>ID</th>\n",
       "      <th>Title</th>\n",
       "      <th>Original Title</th>\n",
       "      <th>Genres</th>\n",
       "      <th>Rating</th>\n",
       "      <th>Number of Votes</th>\n",
       "      <th>Significance</th>\n",
       "    </tr>\n",
       "  </thead>\n",
       "  <tbody>\n",
       "    <tr>\n",
       "      <th>0</th>\n",
       "      <td>1</td>\n",
       "      <td>Dec 18, 2009</td>\n",
       "      <td>Avatar</td>\n",
       "      <td>425000000.0</td>\n",
       "      <td>760507625.0</td>\n",
       "      <td>2.776345e+09</td>\n",
       "      <td>3.536853e+09</td>\n",
       "      <td>3.111853e+09</td>\n",
       "      <td>tt1775309</td>\n",
       "      <td>Avatar</td>\n",
       "      <td>Abatâ</td>\n",
       "      <td>Horror</td>\n",
       "      <td>6.1</td>\n",
       "      <td>43</td>\n",
       "      <td>0.000023</td>\n",
       "    </tr>\n",
       "    <tr>\n",
       "      <th>1</th>\n",
       "      <td>2</td>\n",
       "      <td>May 20, 2011</td>\n",
       "      <td>Pirates of the Caribbean: On Stranger Tides</td>\n",
       "      <td>410600000.0</td>\n",
       "      <td>241063875.0</td>\n",
       "      <td>1.045664e+09</td>\n",
       "      <td>1.286728e+09</td>\n",
       "      <td>8.761278e+08</td>\n",
       "      <td>tt1298650</td>\n",
       "      <td>Pirates of the Caribbean: On Stranger Tides</td>\n",
       "      <td>Pirates of the Caribbean: On Stranger Tides</td>\n",
       "      <td>Action,Adventure,Fantasy</td>\n",
       "      <td>6.6</td>\n",
       "      <td>447624</td>\n",
       "      <td>0.243133</td>\n",
       "    </tr>\n",
       "    <tr>\n",
       "      <th>2</th>\n",
       "      <td>3</td>\n",
       "      <td>Jun 7, 2019</td>\n",
       "      <td>Dark Phoenix</td>\n",
       "      <td>350000000.0</td>\n",
       "      <td>42762350.0</td>\n",
       "      <td>1.497624e+08</td>\n",
       "      <td>1.925247e+08</td>\n",
       "      <td>-1.574753e+08</td>\n",
       "      <td>tt6565702</td>\n",
       "      <td>Dark Phoenix</td>\n",
       "      <td>Dark Phoenix</td>\n",
       "      <td>Action,Adventure,Sci-Fi</td>\n",
       "      <td>6.0</td>\n",
       "      <td>24451</td>\n",
       "      <td>0.013281</td>\n",
       "    </tr>\n",
       "    <tr>\n",
       "      <th>3</th>\n",
       "      <td>4</td>\n",
       "      <td>May 1, 2015</td>\n",
       "      <td>Avengers: Age of Ultron</td>\n",
       "      <td>330600000.0</td>\n",
       "      <td>459005868.0</td>\n",
       "      <td>1.403014e+09</td>\n",
       "      <td>1.862020e+09</td>\n",
       "      <td>1.531420e+09</td>\n",
       "      <td>tt2395427</td>\n",
       "      <td>Avengers: Age of Ultron</td>\n",
       "      <td>Avengers: Age of Ultron</td>\n",
       "      <td>Action,Adventure,Sci-Fi</td>\n",
       "      <td>7.3</td>\n",
       "      <td>665594</td>\n",
       "      <td>0.361526</td>\n",
       "    </tr>\n",
       "    <tr>\n",
       "      <th>4</th>\n",
       "      <td>7</td>\n",
       "      <td>Apr 27, 2018</td>\n",
       "      <td>Avengers: Infinity War</td>\n",
       "      <td>300000000.0</td>\n",
       "      <td>678815482.0</td>\n",
       "      <td>2.048134e+09</td>\n",
       "      <td>2.726950e+09</td>\n",
       "      <td>2.426950e+09</td>\n",
       "      <td>tt4154756</td>\n",
       "      <td>Avengers: Infinity War</td>\n",
       "      <td>Avengers: Infinity War</td>\n",
       "      <td>Action,Adventure,Sci-Fi</td>\n",
       "      <td>8.5</td>\n",
       "      <td>670926</td>\n",
       "      <td>0.364423</td>\n",
       "    </tr>\n",
       "  </tbody>\n",
       "</table>\n",
       "</div>"
      ],
      "text/plain": [
       "   id  release_date                                        movie  \\\n",
       "0   1  Dec 18, 2009                                       Avatar   \n",
       "1   2  May 20, 2011  Pirates of the Caribbean: On Stranger Tides   \n",
       "2   3   Jun 7, 2019                                 Dark Phoenix   \n",
       "3   4   May 1, 2015                      Avengers: Age of Ultron   \n",
       "4   7  Apr 27, 2018                       Avengers: Infinity War   \n",
       "\n",
       "   production_budget  domestic_gross  worldwide_gross   total_gross  \\\n",
       "0        425000000.0     760507625.0     2.776345e+09  3.536853e+09   \n",
       "1        410600000.0     241063875.0     1.045664e+09  1.286728e+09   \n",
       "2        350000000.0      42762350.0     1.497624e+08  1.925247e+08   \n",
       "3        330600000.0     459005868.0     1.403014e+09  1.862020e+09   \n",
       "4        300000000.0     678815482.0     2.048134e+09  2.726950e+09   \n",
       "\n",
       "   profit_or_loss         ID                                        Title  \\\n",
       "0    3.111853e+09  tt1775309                                       Avatar   \n",
       "1    8.761278e+08  tt1298650  Pirates of the Caribbean: On Stranger Tides   \n",
       "2   -1.574753e+08  tt6565702                                 Dark Phoenix   \n",
       "3    1.531420e+09  tt2395427                      Avengers: Age of Ultron   \n",
       "4    2.426950e+09  tt4154756                       Avengers: Infinity War   \n",
       "\n",
       "                                Original Title                    Genres  \\\n",
       "0                                        Abatâ                    Horror   \n",
       "1  Pirates of the Caribbean: On Stranger Tides  Action,Adventure,Fantasy   \n",
       "2                                 Dark Phoenix   Action,Adventure,Sci-Fi   \n",
       "3                      Avengers: Age of Ultron   Action,Adventure,Sci-Fi   \n",
       "4                       Avengers: Infinity War   Action,Adventure,Sci-Fi   \n",
       "\n",
       "   Rating  Number of Votes  Significance  \n",
       "0     6.1               43      0.000023  \n",
       "1     6.6           447624      0.243133  \n",
       "2     6.0            24451      0.013281  \n",
       "3     7.3           665594      0.361526  \n",
       "4     8.5           670926      0.364423  "
      ]
     },
     "execution_count": 229,
     "metadata": {},
     "output_type": "execute_result"
    }
   ],
   "source": [
    "gross_and_rating.head()"
   ]
  },
  {
   "cell_type": "code",
   "execution_count": 230,
   "metadata": {},
   "outputs": [],
   "source": [
    "#Deleting duplicated columns\n",
    "\n",
    "del gross_and_rating[\"Title\"]\n",
    "del gross_and_rating[\"Original Title\"]\n",
    "del gross_and_rating[\"id\"]"
   ]
  },
  {
   "cell_type": "code",
   "execution_count": 231,
   "metadata": {},
   "outputs": [
    {
     "data": {
      "text/plain": [
       "Index(['release_date', 'movie', 'production_budget', 'domestic_gross',\n",
       "       'worldwide_gross', 'total_gross', 'profit_or_loss', 'ID', 'Genres',\n",
       "       'Rating', 'Number of Votes', 'Significance'],\n",
       "      dtype='object')"
      ]
     },
     "execution_count": 231,
     "metadata": {},
     "output_type": "execute_result"
    }
   ],
   "source": [
    "gross_and_rating.columns"
   ]
  },
  {
   "cell_type": "code",
   "execution_count": 232,
   "metadata": {
    "scrolled": true
   },
   "outputs": [
    {
     "name": "stdout",
     "output_type": "stream",
     "text": [
      "<class 'pandas.core.frame.DataFrame'>\n",
      "Int64Index: 2111 entries, 0 to 2110\n",
      "Data columns (total 12 columns):\n",
      " #   Column             Non-Null Count  Dtype  \n",
      "---  ------             --------------  -----  \n",
      " 0   release_date       2111 non-null   object \n",
      " 1   movie              2111 non-null   object \n",
      " 2   production_budget  2111 non-null   float64\n",
      " 3   domestic_gross     2111 non-null   float64\n",
      " 4   worldwide_gross    2111 non-null   float64\n",
      " 5   total_gross        2111 non-null   float64\n",
      " 6   profit_or_loss     2111 non-null   float64\n",
      " 7   ID                 2111 non-null   object \n",
      " 8   Genres             2111 non-null   object \n",
      " 9   Rating             2111 non-null   float64\n",
      " 10  Number of Votes    2111 non-null   int64  \n",
      " 11  Significance       2111 non-null   float64\n",
      "dtypes: float64(7), int64(1), object(4)\n",
      "memory usage: 214.4+ KB\n"
     ]
    }
   ],
   "source": [
    "gross_and_rating.info()"
   ]
  },
  {
   "cell_type": "code",
   "execution_count": 233,
   "metadata": {},
   "outputs": [
    {
     "data": {
      "text/plain": [
       "A Star is Born    1\n",
       "Tulip Fever       1\n",
       "Suicide Squad     1\n",
       "Bird Box          1\n",
       "Krampus           1\n",
       "                 ..\n",
       "The Canyons       1\n",
       "Twixt             1\n",
       "Perfect Cowboy    1\n",
       "The Rum Diary     1\n",
       "Zootopia          1\n",
       "Name: movie, Length: 2111, dtype: int64"
      ]
     },
     "execution_count": 233,
     "metadata": {},
     "output_type": "execute_result"
    }
   ],
   "source": [
    "gross_and_rating.movie.value_counts()"
   ]
  },
  {
   "cell_type": "markdown",
   "metadata": {},
   "source": [
    "Finally, after getting all of our interest values together, the next step would be to jump into analysis, in which we compare the income of a movie based on its genre with the production budget it had."
   ]
  },
  {
   "cell_type": "markdown",
   "metadata": {},
   "source": [
    "## Performing analysis"
   ]
  },
  {
   "cell_type": "markdown",
   "metadata": {},
   "source": [
    "Let us recall the question we are trying to solve:\n",
    "\n",
    "*\"How are the production budgets for movies based on their genre in comparison to their income? Would it be profitable?\"*"
   ]
  },
  {
   "cell_type": "markdown",
   "metadata": {},
   "source": [
    "Therefore, we have to compare each movie with each genre, but as we can see, many of them have multiple genres, which may represent a problem while comparing them, but we cannot leave genres out of the analysis. The bes suitable option I can think of, is to separate the movie into its respective genres and have it multiple time.\n",
    "\n",
    "We will fix the duplicates later."
   ]
  },
  {
   "cell_type": "code",
   "execution_count": 234,
   "metadata": {},
   "outputs": [
    {
     "data": {
      "text/html": [
       "<div>\n",
       "<style scoped>\n",
       "    .dataframe tbody tr th:only-of-type {\n",
       "        vertical-align: middle;\n",
       "    }\n",
       "\n",
       "    .dataframe tbody tr th {\n",
       "        vertical-align: top;\n",
       "    }\n",
       "\n",
       "    .dataframe thead th {\n",
       "        text-align: right;\n",
       "    }\n",
       "</style>\n",
       "<table border=\"1\" class=\"dataframe\">\n",
       "  <thead>\n",
       "    <tr style=\"text-align: right;\">\n",
       "      <th></th>\n",
       "      <th>release_date</th>\n",
       "      <th>movie</th>\n",
       "      <th>production_budget</th>\n",
       "      <th>domestic_gross</th>\n",
       "      <th>worldwide_gross</th>\n",
       "      <th>total_gross</th>\n",
       "      <th>profit_or_loss</th>\n",
       "      <th>ID</th>\n",
       "      <th>Genres</th>\n",
       "      <th>Rating</th>\n",
       "      <th>Number of Votes</th>\n",
       "      <th>Significance</th>\n",
       "    </tr>\n",
       "  </thead>\n",
       "  <tbody>\n",
       "    <tr>\n",
       "      <th>0</th>\n",
       "      <td>Dec 18, 2009</td>\n",
       "      <td>Avatar</td>\n",
       "      <td>425000000.0</td>\n",
       "      <td>760507625.0</td>\n",
       "      <td>2.776345e+09</td>\n",
       "      <td>3.536853e+09</td>\n",
       "      <td>3.111853e+09</td>\n",
       "      <td>tt1775309</td>\n",
       "      <td>Horror</td>\n",
       "      <td>6.1</td>\n",
       "      <td>43</td>\n",
       "      <td>0.000023</td>\n",
       "    </tr>\n",
       "    <tr>\n",
       "      <th>1</th>\n",
       "      <td>May 20, 2011</td>\n",
       "      <td>Pirates of the Caribbean: On Stranger Tides</td>\n",
       "      <td>410600000.0</td>\n",
       "      <td>241063875.0</td>\n",
       "      <td>1.045664e+09</td>\n",
       "      <td>1.286728e+09</td>\n",
       "      <td>8.761278e+08</td>\n",
       "      <td>tt1298650</td>\n",
       "      <td>Action,Adventure,Fantasy</td>\n",
       "      <td>6.6</td>\n",
       "      <td>447624</td>\n",
       "      <td>0.243133</td>\n",
       "    </tr>\n",
       "    <tr>\n",
       "      <th>2</th>\n",
       "      <td>Jun 7, 2019</td>\n",
       "      <td>Dark Phoenix</td>\n",
       "      <td>350000000.0</td>\n",
       "      <td>42762350.0</td>\n",
       "      <td>1.497624e+08</td>\n",
       "      <td>1.925247e+08</td>\n",
       "      <td>-1.574753e+08</td>\n",
       "      <td>tt6565702</td>\n",
       "      <td>Action,Adventure,Sci-Fi</td>\n",
       "      <td>6.0</td>\n",
       "      <td>24451</td>\n",
       "      <td>0.013281</td>\n",
       "    </tr>\n",
       "    <tr>\n",
       "      <th>3</th>\n",
       "      <td>May 1, 2015</td>\n",
       "      <td>Avengers: Age of Ultron</td>\n",
       "      <td>330600000.0</td>\n",
       "      <td>459005868.0</td>\n",
       "      <td>1.403014e+09</td>\n",
       "      <td>1.862020e+09</td>\n",
       "      <td>1.531420e+09</td>\n",
       "      <td>tt2395427</td>\n",
       "      <td>Action,Adventure,Sci-Fi</td>\n",
       "      <td>7.3</td>\n",
       "      <td>665594</td>\n",
       "      <td>0.361526</td>\n",
       "    </tr>\n",
       "    <tr>\n",
       "      <th>4</th>\n",
       "      <td>Apr 27, 2018</td>\n",
       "      <td>Avengers: Infinity War</td>\n",
       "      <td>300000000.0</td>\n",
       "      <td>678815482.0</td>\n",
       "      <td>2.048134e+09</td>\n",
       "      <td>2.726950e+09</td>\n",
       "      <td>2.426950e+09</td>\n",
       "      <td>tt4154756</td>\n",
       "      <td>Action,Adventure,Sci-Fi</td>\n",
       "      <td>8.5</td>\n",
       "      <td>670926</td>\n",
       "      <td>0.364423</td>\n",
       "    </tr>\n",
       "  </tbody>\n",
       "</table>\n",
       "</div>"
      ],
      "text/plain": [
       "   release_date                                        movie  \\\n",
       "0  Dec 18, 2009                                       Avatar   \n",
       "1  May 20, 2011  Pirates of the Caribbean: On Stranger Tides   \n",
       "2   Jun 7, 2019                                 Dark Phoenix   \n",
       "3   May 1, 2015                      Avengers: Age of Ultron   \n",
       "4  Apr 27, 2018                       Avengers: Infinity War   \n",
       "\n",
       "   production_budget  domestic_gross  worldwide_gross   total_gross  \\\n",
       "0        425000000.0     760507625.0     2.776345e+09  3.536853e+09   \n",
       "1        410600000.0     241063875.0     1.045664e+09  1.286728e+09   \n",
       "2        350000000.0      42762350.0     1.497624e+08  1.925247e+08   \n",
       "3        330600000.0     459005868.0     1.403014e+09  1.862020e+09   \n",
       "4        300000000.0     678815482.0     2.048134e+09  2.726950e+09   \n",
       "\n",
       "   profit_or_loss         ID                    Genres  Rating  \\\n",
       "0    3.111853e+09  tt1775309                    Horror     6.1   \n",
       "1    8.761278e+08  tt1298650  Action,Adventure,Fantasy     6.6   \n",
       "2   -1.574753e+08  tt6565702   Action,Adventure,Sci-Fi     6.0   \n",
       "3    1.531420e+09  tt2395427   Action,Adventure,Sci-Fi     7.3   \n",
       "4    2.426950e+09  tt4154756   Action,Adventure,Sci-Fi     8.5   \n",
       "\n",
       "   Number of Votes  Significance  \n",
       "0               43      0.000023  \n",
       "1           447624      0.243133  \n",
       "2            24451      0.013281  \n",
       "3           665594      0.361526  \n",
       "4           670926      0.364423  "
      ]
     },
     "execution_count": 234,
     "metadata": {},
     "output_type": "execute_result"
    }
   ],
   "source": [
    "gross_and_rating.head()"
   ]
  },
  {
   "cell_type": "code",
   "execution_count": 235,
   "metadata": {},
   "outputs": [],
   "source": [
    "#Grouping movies by genre\n",
    "genre_gross = gross_and_rating.groupby(by=\"Genres\", as_index=False).sum()"
   ]
  },
  {
   "cell_type": "code",
   "execution_count": 236,
   "metadata": {},
   "outputs": [],
   "source": [
    "#Getting data from most profitable to less profitable\n",
    "genre_gross_top = genre_gross.sort_values(by=\"profit_or_loss\", ascending=False).head(25)\n",
    "genre_gross_bottom = genre_gross.sort_values(by=\"profit_or_loss\").head(25)"
   ]
  },
  {
   "cell_type": "code",
   "execution_count": 237,
   "metadata": {},
   "outputs": [
    {
     "data": {
      "text/html": [
       "<div>\n",
       "<style scoped>\n",
       "    .dataframe tbody tr th:only-of-type {\n",
       "        vertical-align: middle;\n",
       "    }\n",
       "\n",
       "    .dataframe tbody tr th {\n",
       "        vertical-align: top;\n",
       "    }\n",
       "\n",
       "    .dataframe thead th {\n",
       "        text-align: right;\n",
       "    }\n",
       "</style>\n",
       "<table border=\"1\" class=\"dataframe\">\n",
       "  <thead>\n",
       "    <tr style=\"text-align: right;\">\n",
       "      <th></th>\n",
       "      <th>Genres</th>\n",
       "      <th>production_budget</th>\n",
       "      <th>domestic_gross</th>\n",
       "      <th>worldwide_gross</th>\n",
       "      <th>total_gross</th>\n",
       "      <th>profit_or_loss</th>\n",
       "      <th>Rating</th>\n",
       "      <th>Number of Votes</th>\n",
       "      <th>Significance</th>\n",
       "    </tr>\n",
       "  </thead>\n",
       "  <tbody>\n",
       "    <tr>\n",
       "      <th>12</th>\n",
       "      <td>Action,Adventure,Sci-Fi</td>\n",
       "      <td>9.070400e+09</td>\n",
       "      <td>1.258900e+10</td>\n",
       "      <td>3.429490e+10</td>\n",
       "      <td>4.688390e+10</td>\n",
       "      <td>3.781350e+10</td>\n",
       "      <td>366.3</td>\n",
       "      <td>21655918</td>\n",
       "      <td>11.762706</td>\n",
       "    </tr>\n",
       "    <tr>\n",
       "      <th>70</th>\n",
       "      <td>Adventure,Animation,Comedy</td>\n",
       "      <td>6.671500e+09</td>\n",
       "      <td>8.782345e+09</td>\n",
       "      <td>2.492866e+10</td>\n",
       "      <td>3.371101e+10</td>\n",
       "      <td>2.703951e+10</td>\n",
       "      <td>429.6</td>\n",
       "      <td>6865722</td>\n",
       "      <td>3.729210</td>\n",
       "    </tr>\n",
       "    <tr>\n",
       "      <th>8</th>\n",
       "      <td>Action,Adventure,Fantasy</td>\n",
       "      <td>4.935600e+09</td>\n",
       "      <td>4.149066e+09</td>\n",
       "      <td>1.306933e+10</td>\n",
       "      <td>1.721840e+10</td>\n",
       "      <td>1.228280e+10</td>\n",
       "      <td>210.3</td>\n",
       "      <td>7739372</td>\n",
       "      <td>4.203745</td>\n",
       "    </tr>\n",
       "    <tr>\n",
       "      <th>4</th>\n",
       "      <td>Action,Adventure,Comedy</td>\n",
       "      <td>2.351500e+09</td>\n",
       "      <td>3.323180e+09</td>\n",
       "      <td>9.215448e+09</td>\n",
       "      <td>1.253863e+10</td>\n",
       "      <td>1.018713e+10</td>\n",
       "      <td>179.0</td>\n",
       "      <td>5909923</td>\n",
       "      <td>3.210055</td>\n",
       "    </tr>\n",
       "    <tr>\n",
       "      <th>2</th>\n",
       "      <td>Action,Adventure,Animation</td>\n",
       "      <td>1.957500e+09</td>\n",
       "      <td>2.664329e+09</td>\n",
       "      <td>7.435879e+09</td>\n",
       "      <td>1.010021e+10</td>\n",
       "      <td>8.142708e+09</td>\n",
       "      <td>126.3</td>\n",
       "      <td>3063175</td>\n",
       "      <td>1.663805</td>\n",
       "    </tr>\n",
       "  </tbody>\n",
       "</table>\n",
       "</div>"
      ],
      "text/plain": [
       "                        Genres  production_budget  domestic_gross  \\\n",
       "12     Action,Adventure,Sci-Fi       9.070400e+09    1.258900e+10   \n",
       "70  Adventure,Animation,Comedy       6.671500e+09    8.782345e+09   \n",
       "8     Action,Adventure,Fantasy       4.935600e+09    4.149066e+09   \n",
       "4      Action,Adventure,Comedy       2.351500e+09    3.323180e+09   \n",
       "2   Action,Adventure,Animation       1.957500e+09    2.664329e+09   \n",
       "\n",
       "    worldwide_gross   total_gross  profit_or_loss  Rating  Number of Votes  \\\n",
       "12     3.429490e+10  4.688390e+10    3.781350e+10   366.3         21655918   \n",
       "70     2.492866e+10  3.371101e+10    2.703951e+10   429.6          6865722   \n",
       "8      1.306933e+10  1.721840e+10    1.228280e+10   210.3          7739372   \n",
       "4      9.215448e+09  1.253863e+10    1.018713e+10   179.0          5909923   \n",
       "2      7.435879e+09  1.010021e+10    8.142708e+09   126.3          3063175   \n",
       "\n",
       "    Significance  \n",
       "12     11.762706  \n",
       "70      3.729210  \n",
       "8       4.203745  \n",
       "4       3.210055  \n",
       "2       1.663805  "
      ]
     },
     "execution_count": 237,
     "metadata": {},
     "output_type": "execute_result"
    }
   ],
   "source": [
    "genre_gross_top.head()"
   ]
  },
  {
   "cell_type": "code",
   "execution_count": 238,
   "metadata": {},
   "outputs": [
    {
     "data": {
      "text/html": [
       "<div>\n",
       "<style scoped>\n",
       "    .dataframe tbody tr th:only-of-type {\n",
       "        vertical-align: middle;\n",
       "    }\n",
       "\n",
       "    .dataframe tbody tr th {\n",
       "        vertical-align: top;\n",
       "    }\n",
       "\n",
       "    .dataframe thead th {\n",
       "        text-align: right;\n",
       "    }\n",
       "</style>\n",
       "<table border=\"1\" class=\"dataframe\">\n",
       "  <thead>\n",
       "    <tr style=\"text-align: right;\">\n",
       "      <th></th>\n",
       "      <th>Genres</th>\n",
       "      <th>production_budget</th>\n",
       "      <th>domestic_gross</th>\n",
       "      <th>worldwide_gross</th>\n",
       "      <th>total_gross</th>\n",
       "      <th>profit_or_loss</th>\n",
       "      <th>Rating</th>\n",
       "      <th>Number of Votes</th>\n",
       "      <th>Significance</th>\n",
       "    </tr>\n",
       "  </thead>\n",
       "  <tbody>\n",
       "    <tr>\n",
       "      <th>32</th>\n",
       "      <td>Action,Crime,Fantasy</td>\n",
       "      <td>90000000.0</td>\n",
       "      <td>0.0</td>\n",
       "      <td>0.0</td>\n",
       "      <td>0.0</td>\n",
       "      <td>-90000000.0</td>\n",
       "      <td>6.4</td>\n",
       "      <td>147834</td>\n",
       "      <td>0.080298</td>\n",
       "    </tr>\n",
       "    <tr>\n",
       "      <th>51</th>\n",
       "      <td>Action,Family,Fantasy</td>\n",
       "      <td>90000000.0</td>\n",
       "      <td>195459.0</td>\n",
       "      <td>20466016.0</td>\n",
       "      <td>20661475.0</td>\n",
       "      <td>-69338525.0</td>\n",
       "      <td>4.3</td>\n",
       "      <td>3119</td>\n",
       "      <td>0.001694</td>\n",
       "    </tr>\n",
       "    <tr>\n",
       "      <th>183</th>\n",
       "      <td>Comedy,Western</td>\n",
       "      <td>66000000.0</td>\n",
       "      <td>5909483.0</td>\n",
       "      <td>8446952.0</td>\n",
       "      <td>14356435.0</td>\n",
       "      <td>-51643565.0</td>\n",
       "      <td>10.3</td>\n",
       "      <td>57864</td>\n",
       "      <td>0.031430</td>\n",
       "    </tr>\n",
       "    <tr>\n",
       "      <th>190</th>\n",
       "      <td>Crime,Drama,History</td>\n",
       "      <td>92000000.0</td>\n",
       "      <td>12958326.0</td>\n",
       "      <td>27829311.0</td>\n",
       "      <td>40787637.0</td>\n",
       "      <td>-51212363.0</td>\n",
       "      <td>19.9</td>\n",
       "      <td>105312</td>\n",
       "      <td>0.057202</td>\n",
       "    </tr>\n",
       "    <tr>\n",
       "      <th>120</th>\n",
       "      <td>Biography,Crime,Documentary</td>\n",
       "      <td>87000000.0</td>\n",
       "      <td>18115927.0</td>\n",
       "      <td>19819208.0</td>\n",
       "      <td>37935135.0</td>\n",
       "      <td>-49064865.0</td>\n",
       "      <td>14.2</td>\n",
       "      <td>67</td>\n",
       "      <td>0.000036</td>\n",
       "    </tr>\n",
       "  </tbody>\n",
       "</table>\n",
       "</div>"
      ],
      "text/plain": [
       "                          Genres  production_budget  domestic_gross  \\\n",
       "32          Action,Crime,Fantasy         90000000.0             0.0   \n",
       "51         Action,Family,Fantasy         90000000.0        195459.0   \n",
       "183               Comedy,Western         66000000.0       5909483.0   \n",
       "190          Crime,Drama,History         92000000.0      12958326.0   \n",
       "120  Biography,Crime,Documentary         87000000.0      18115927.0   \n",
       "\n",
       "     worldwide_gross  total_gross  profit_or_loss  Rating  Number of Votes  \\\n",
       "32               0.0          0.0     -90000000.0     6.4           147834   \n",
       "51        20466016.0   20661475.0     -69338525.0     4.3             3119   \n",
       "183        8446952.0   14356435.0     -51643565.0    10.3            57864   \n",
       "190       27829311.0   40787637.0     -51212363.0    19.9           105312   \n",
       "120       19819208.0   37935135.0     -49064865.0    14.2               67   \n",
       "\n",
       "     Significance  \n",
       "32       0.080298  \n",
       "51       0.001694  \n",
       "183      0.031430  \n",
       "190      0.057202  \n",
       "120      0.000036  "
      ]
     },
     "execution_count": 238,
     "metadata": {},
     "output_type": "execute_result"
    }
   ],
   "source": [
    "genre_gross_bottom.head()"
   ]
  },
  {
   "cell_type": "markdown",
   "metadata": {},
   "source": [
    "We can see, even after cleaning up, that we a not very significant result, were despite having a big budget, the total gross income is still zero. This surely cannot be a real case, and must have happened something when merging. So we will delete this row and a new one so we still have the same amount of data."
   ]
  },
  {
   "cell_type": "code",
   "execution_count": 239,
   "metadata": {},
   "outputs": [
    {
     "data": {
      "text/html": [
       "<div>\n",
       "<style scoped>\n",
       "    .dataframe tbody tr th:only-of-type {\n",
       "        vertical-align: middle;\n",
       "    }\n",
       "\n",
       "    .dataframe tbody tr th {\n",
       "        vertical-align: top;\n",
       "    }\n",
       "\n",
       "    .dataframe thead th {\n",
       "        text-align: right;\n",
       "    }\n",
       "</style>\n",
       "<table border=\"1\" class=\"dataframe\">\n",
       "  <thead>\n",
       "    <tr style=\"text-align: right;\">\n",
       "      <th></th>\n",
       "      <th>Genres</th>\n",
       "      <th>production_budget</th>\n",
       "      <th>domestic_gross</th>\n",
       "      <th>worldwide_gross</th>\n",
       "      <th>total_gross</th>\n",
       "      <th>profit_or_loss</th>\n",
       "      <th>Rating</th>\n",
       "      <th>Number of Votes</th>\n",
       "      <th>Significance</th>\n",
       "    </tr>\n",
       "  </thead>\n",
       "  <tbody>\n",
       "    <tr>\n",
       "      <th>51</th>\n",
       "      <td>Action,Family,Fantasy</td>\n",
       "      <td>90000000.0</td>\n",
       "      <td>195459.0</td>\n",
       "      <td>20466016.0</td>\n",
       "      <td>20661475.0</td>\n",
       "      <td>-69338525.0</td>\n",
       "      <td>4.3</td>\n",
       "      <td>3119</td>\n",
       "      <td>0.001694</td>\n",
       "    </tr>\n",
       "    <tr>\n",
       "      <th>183</th>\n",
       "      <td>Comedy,Western</td>\n",
       "      <td>66000000.0</td>\n",
       "      <td>5909483.0</td>\n",
       "      <td>8446952.0</td>\n",
       "      <td>14356435.0</td>\n",
       "      <td>-51643565.0</td>\n",
       "      <td>10.3</td>\n",
       "      <td>57864</td>\n",
       "      <td>0.031430</td>\n",
       "    </tr>\n",
       "    <tr>\n",
       "      <th>190</th>\n",
       "      <td>Crime,Drama,History</td>\n",
       "      <td>92000000.0</td>\n",
       "      <td>12958326.0</td>\n",
       "      <td>27829311.0</td>\n",
       "      <td>40787637.0</td>\n",
       "      <td>-51212363.0</td>\n",
       "      <td>19.9</td>\n",
       "      <td>105312</td>\n",
       "      <td>0.057202</td>\n",
       "    </tr>\n",
       "    <tr>\n",
       "      <th>120</th>\n",
       "      <td>Biography,Crime,Documentary</td>\n",
       "      <td>87000000.0</td>\n",
       "      <td>18115927.0</td>\n",
       "      <td>19819208.0</td>\n",
       "      <td>37935135.0</td>\n",
       "      <td>-49064865.0</td>\n",
       "      <td>14.2</td>\n",
       "      <td>67</td>\n",
       "      <td>0.000036</td>\n",
       "    </tr>\n",
       "    <tr>\n",
       "      <th>233</th>\n",
       "      <td>Drama,Horror,Sci-Fi</td>\n",
       "      <td>92100000.0</td>\n",
       "      <td>10502978.0</td>\n",
       "      <td>41252550.0</td>\n",
       "      <td>51755528.0</td>\n",
       "      <td>-40344472.0</td>\n",
       "      <td>37.1</td>\n",
       "      <td>457073</td>\n",
       "      <td>0.248265</td>\n",
       "    </tr>\n",
       "  </tbody>\n",
       "</table>\n",
       "</div>"
      ],
      "text/plain": [
       "                          Genres  production_budget  domestic_gross  \\\n",
       "51         Action,Family,Fantasy         90000000.0        195459.0   \n",
       "183               Comedy,Western         66000000.0       5909483.0   \n",
       "190          Crime,Drama,History         92000000.0      12958326.0   \n",
       "120  Biography,Crime,Documentary         87000000.0      18115927.0   \n",
       "233          Drama,Horror,Sci-Fi         92100000.0      10502978.0   \n",
       "\n",
       "     worldwide_gross  total_gross  profit_or_loss  Rating  Number of Votes  \\\n",
       "51        20466016.0   20661475.0     -69338525.0     4.3             3119   \n",
       "183        8446952.0   14356435.0     -51643565.0    10.3            57864   \n",
       "190       27829311.0   40787637.0     -51212363.0    19.9           105312   \n",
       "120       19819208.0   37935135.0     -49064865.0    14.2               67   \n",
       "233       41252550.0   51755528.0     -40344472.0    37.1           457073   \n",
       "\n",
       "     Significance  \n",
       "51       0.001694  \n",
       "183      0.031430  \n",
       "190      0.057202  \n",
       "120      0.000036  \n",
       "233      0.248265  "
      ]
     },
     "execution_count": 239,
     "metadata": {},
     "output_type": "execute_result"
    }
   ],
   "source": [
    "genre_gross_bottom = genre_gross.sort_values(by=\"profit_or_loss\").head(26)\n",
    "genre_gross_bottom.drop(index=32, inplace=True)\n",
    "genre_gross_bottom.head()"
   ]
  },
  {
   "cell_type": "code",
   "execution_count": 240,
   "metadata": {
    "scrolled": false
   },
   "outputs": [
    {
     "data": {
      "image/png": "[encoded data removed]",
      "text/plain": [
       "<Figure size 1080x1080 with 2 Axes>"
      ]
     },
     "metadata": {
      "needs_background": "light"
     },
     "output_type": "display_data"
    }
   ],
   "source": [
    "fig, (ax1, ax2) = plt.subplots(figsize=(15,15), nrows=2, ncols=1)\n",
    "\n",
    "ax1.bar(genre_gross_top.Genres, genre_gross_top.profit_or_loss)\n",
    "\n",
    "ax1.set_title(\"Profit of movies by genre\")\n",
    "\n",
    "plt.draw()\n",
    "ax1.set_xticks(ax1.get_xticks())\n",
    "ax1.set_xticklabels(ax1.get_xticklabels(), rotation=90, ha='right')\n",
    "\n",
    "ax1.set_xlabel(\"Genre\")\n",
    "\n",
    "ax1.set_ylabel(\"USD\")\n",
    "\n",
    "#######\n",
    "\n",
    "ax2.bar(genre_gross_bottom.Genres, genre_gross_bottom.profit_or_loss)\n",
    "ax2.set_title(\"Loss of movies by genre\")\n",
    "\n",
    "plt.draw()\n",
    "ax2.set_xticks(ax2.get_xticks())\n",
    "ax2.set_xticklabels(ax2.get_xticklabels(), rotation=90)\n",
    "\n",
    "ax2.set_xlabel(\"Genre\")\n",
    "\n",
    "ax2.set_ylabel(\"USD\")\n",
    "\n",
    "#######\n",
    "\n",
    "plt.subplots_adjust(hspace=0.7)\n",
    "plt.show()"
   ]
  },
  {
   "cell_type": "markdown",
   "metadata": {},
   "source": [
    "We can also have a visual comparison of the earnings with the budget."
   ]
  },
  {
   "cell_type": "code",
   "execution_count": 249,
   "metadata": {},
   "outputs": [
    {
     "data": {
      "image/png": "[encoded data removed]",
      "text/plain": [
       "<Figure size 1080x1080 with 2 Axes>"
      ]
     },
     "metadata": {
      "needs_background": "light"
     },
     "output_type": "display_data"
    }
   ],
   "source": [
    "fig, (ax1, ax2) = plt.subplots(figsize=(15,15), nrows=2, ncols=1)\n",
    "\n",
    "ax1.bar(genre_gross_top.Genres, genre_gross_top.profit_or_loss)\n",
    "ax1.bar(genre_gross_top.Genres, genre_gross_top.production_budget)\n",
    "\n",
    "ax1.set_title(\"Profit of movies by genre\")\n",
    "\n",
    "\n",
    "plt.draw()\n",
    "ax1.set_xticks(ax1.get_xticks())\n",
    "ax1.set_xticklabels(ax1.get_xticklabels(), rotation=90)\n",
    "\n",
    "ax1.set_xlabel(\"Genre\")\n",
    "ax1.set_ylabel(\"USD\")\n",
    "ax1.legend(labels=['Profit', 'Budget'])\n",
    "\n",
    "#######\n",
    "\n",
    "ax2.bar(genre_gross_bottom.Genres, genre_gross_bottom.profit_or_loss)\n",
    "ax2.bar(genre_gross_bottom.Genres, genre_gross_bottom.production_budget)\n",
    "\n",
    "ax2.set_title(\"Loss of movies by genre\")\n",
    "\n",
    "plt.draw()\n",
    "ax2.set_xticks(ax2.get_xticks())\n",
    "ax2.set_xticklabels(ax2.get_xticklabels(), rotation=90)\n",
    "\n",
    "ax2.set_xlabel(\"Genre\")\n",
    "ax2.set_ylabel(\"USD\")\n",
    "ax2.legend(labels=['Loss', 'Budget'])\n",
    "\n",
    "#######\n",
    "\n",
    "plt.subplots_adjust(hspace=0.7)\n",
    "plt.show()"
   ]
  },
  {
   "cell_type": "code",
   "execution_count": null,
   "metadata": {},
   "outputs": [],
   "source": []
  }
 ],
 "metadata": {
  "kernelspec": {
   "display_name": "Python (learn-env)",
   "language": "python",
   "name": "learn-env"
  },
  "language_info": {
   "codemirror_mode": {
    "name": "ipython",
    "version": 3
   },
   "file_extension": ".py",
   "mimetype": "text/x-python",
   "name": "python",
   "nbconvert_exporter": "python",
   "pygments_lexer": "ipython3",
   "version": "3.8.5"
  }
 },
 "nbformat": 4,
 "nbformat_minor": 4
}
