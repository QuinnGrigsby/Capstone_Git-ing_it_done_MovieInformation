{
 "cells": [
  {
   "cell_type": "markdown",
   "metadata": {},
   "source": [
    "# Semester 1 Project Submission\n",
    "\n",
    "Please fill out:\n",
    "* Student name: Cristian González Ramírez\n",
    "* Instructor name: Nick McCarty & Julian Ward"
   ]
  },
  {
   "cell_type": "markdown",
   "metadata": {},
   "source": [
    "# This notebook tries to answer to the following question:\n",
    "\n",
    "*How are the production budgets for movies based on their genre in comparison to their income? Would it be profitable?*"
   ]
  },
  {
   "cell_type": "markdown",
   "metadata": {},
   "source": [
    "For this question specifically, we are interested on knowing the Production Costs, the Total Gross (both domestic and foreign) and the Genres of each movie. This information can be easily foundin the following dataframes and tables:\n",
    "* `movie_budgets`\n",
    "* `SQL im.db\"`"
   ]
  },
  {
   "cell_type": "markdown",
   "metadata": {},
   "source": [
    "## Retreiving and cleaning data up"
   ]
  },
  {
   "cell_type": "markdown",
   "metadata": {},
   "source": [
    "### Importing libraries\n",
    "We will start by adding the basic libraries to our notebook, so it runs nice and smoothly."
   ]
  },
  {
   "cell_type": "code",
   "execution_count": 1884,
   "metadata": {},
   "outputs": [],
   "source": [
    "# Import all libraries the project will requiere\n",
    "\n",
    "#For retreiving data\n",
    "import pandas as pd\n",
    "import sqlite3\n",
    "import zipfile\n",
    "\n",
    "#For analyzing data\n",
    "from scipy import stats\n",
    "import numpy as np\n",
    "\n",
    "#For plotting and visulaizations\n",
    "import matplotlib\n",
    "from matplotlib import pyplot as plt\n",
    "%matplotlib inline"
   ]
  },
  {
   "cell_type": "markdown",
   "metadata": {},
   "source": [
    "### Retreiving general information\n",
    "Then, we insert the data we will be working with."
   ]
  },
  {
   "cell_type": "code",
   "execution_count": 1885,
   "metadata": {},
   "outputs": [],
   "source": [
    "#Retrieving data to work with\n",
    "movie_budgets    = pd.read_csv(\"zippedData/tn.movie_budgets.csv.gz\")\n",
    "\n",
    "#The following lines import data that won't be use throughout the project.\n",
    "\n",
    "#movie_gross_data = pd.read_csv(\"zippedData/bom.movie_gross.csv.gz\")\n",
    "#movies           = pd.read_csv(\"zippedData/tmdb.movies.csv.gz\")\n",
    "#movie_info_data  = pd.read_csv(\"zippedData/rt.movie_info.tsv.gz\", sep=\"\\t\")"
   ]
  },
  {
   "cell_type": "code",
   "execution_count": 1886,
   "metadata": {},
   "outputs": [],
   "source": [
    "#Oppening SQLite3 zip\n",
    "with zipfile.ZipFile(\"zippedData/im.db.zip\", \"r\") as zObject:\n",
    "        zObject.extractall()\n",
    "\n",
    "conn = sqlite3.connect(\"im.db\")"
   ]
  },
  {
   "cell_type": "markdown",
   "metadata": {},
   "source": [
    "### Cleaning Movie Budgets data"
   ]
  },
  {
   "cell_type": "markdown",
   "metadata": {},
   "source": [
    "Before starting any anylisis at all, we have to be sure that the data we are dealing with is ready to be manipulated. In order to accopmlish that, we must clean the data from all the tables using diffent data cleaning techniques.\n",
    "\n",
    "First we will start with `movie_budget`."
   ]
  },
  {
   "cell_type": "code",
   "execution_count": 1887,
   "metadata": {},
   "outputs": [
    {
     "data": {
      "text/html": [
       "<div>\n",
       "<style scoped>\n",
       "    .dataframe tbody tr th:only-of-type {\n",
       "        vertical-align: middle;\n",
       "    }\n",
       "\n",
       "    .dataframe tbody tr th {\n",
       "        vertical-align: top;\n",
       "    }\n",
       "\n",
       "    .dataframe thead th {\n",
       "        text-align: right;\n",
       "    }\n",
       "</style>\n",
       "<table border=\"1\" class=\"dataframe\">\n",
       "  <thead>\n",
       "    <tr style=\"text-align: right;\">\n",
       "      <th></th>\n",
       "      <th>id</th>\n",
       "      <th>release_date</th>\n",
       "      <th>movie</th>\n",
       "      <th>production_budget</th>\n",
       "      <th>domestic_gross</th>\n",
       "      <th>worldwide_gross</th>\n",
       "    </tr>\n",
       "  </thead>\n",
       "  <tbody>\n",
       "    <tr>\n",
       "      <th>0</th>\n",
       "      <td>1</td>\n",
       "      <td>Dec 18, 2009</td>\n",
       "      <td>Avatar</td>\n",
       "      <td>$425,000,000</td>\n",
       "      <td>$760,507,625</td>\n",
       "      <td>$2,776,345,279</td>\n",
       "    </tr>\n",
       "    <tr>\n",
       "      <th>1</th>\n",
       "      <td>2</td>\n",
       "      <td>May 20, 2011</td>\n",
       "      <td>Pirates of the Caribbean: On Stranger Tides</td>\n",
       "      <td>$410,600,000</td>\n",
       "      <td>$241,063,875</td>\n",
       "      <td>$1,045,663,875</td>\n",
       "    </tr>\n",
       "    <tr>\n",
       "      <th>2</th>\n",
       "      <td>3</td>\n",
       "      <td>Jun 7, 2019</td>\n",
       "      <td>Dark Phoenix</td>\n",
       "      <td>$350,000,000</td>\n",
       "      <td>$42,762,350</td>\n",
       "      <td>$149,762,350</td>\n",
       "    </tr>\n",
       "    <tr>\n",
       "      <th>3</th>\n",
       "      <td>4</td>\n",
       "      <td>May 1, 2015</td>\n",
       "      <td>Avengers: Age of Ultron</td>\n",
       "      <td>$330,600,000</td>\n",
       "      <td>$459,005,868</td>\n",
       "      <td>$1,403,013,963</td>\n",
       "    </tr>\n",
       "    <tr>\n",
       "      <th>4</th>\n",
       "      <td>5</td>\n",
       "      <td>Dec 15, 2017</td>\n",
       "      <td>Star Wars Ep. VIII: The Last Jedi</td>\n",
       "      <td>$317,000,000</td>\n",
       "      <td>$620,181,382</td>\n",
       "      <td>$1,316,721,747</td>\n",
       "    </tr>\n",
       "  </tbody>\n",
       "</table>\n",
       "</div>"
      ],
      "text/plain": [
       "   id  release_date                                        movie  \\\n",
       "0   1  Dec 18, 2009                                       Avatar   \n",
       "1   2  May 20, 2011  Pirates of the Caribbean: On Stranger Tides   \n",
       "2   3   Jun 7, 2019                                 Dark Phoenix   \n",
       "3   4   May 1, 2015                      Avengers: Age of Ultron   \n",
       "4   5  Dec 15, 2017            Star Wars Ep. VIII: The Last Jedi   \n",
       "\n",
       "  production_budget domestic_gross worldwide_gross  \n",
       "0      $425,000,000   $760,507,625  $2,776,345,279  \n",
       "1      $410,600,000   $241,063,875  $1,045,663,875  \n",
       "2      $350,000,000    $42,762,350    $149,762,350  \n",
       "3      $330,600,000   $459,005,868  $1,403,013,963  \n",
       "4      $317,000,000   $620,181,382  $1,316,721,747  "
      ]
     },
     "execution_count": 1887,
     "metadata": {},
     "output_type": "execute_result"
    }
   ],
   "source": [
    "movie_budgets.head()"
   ]
  },
  {
   "cell_type": "code",
   "execution_count": 1888,
   "metadata": {},
   "outputs": [
    {
     "name": "stdout",
     "output_type": "stream",
     "text": [
      "<class 'pandas.core.frame.DataFrame'>\n",
      "RangeIndex: 5782 entries, 0 to 5781\n",
      "Data columns (total 6 columns):\n",
      " #   Column             Non-Null Count  Dtype \n",
      "---  ------             --------------  ----- \n",
      " 0   id                 5782 non-null   int64 \n",
      " 1   release_date       5782 non-null   object\n",
      " 2   movie              5782 non-null   object\n",
      " 3   production_budget  5782 non-null   object\n",
      " 4   domestic_gross     5782 non-null   object\n",
      " 5   worldwide_gross    5782 non-null   object\n",
      "dtypes: int64(1), object(5)\n",
      "memory usage: 271.2+ KB\n"
     ]
    }
   ],
   "source": [
    "movie_budgets.info()"
   ]
  },
  {
   "cell_type": "markdown",
   "metadata": {},
   "source": [
    "As we see all of the values are a `Not-Null`, so most of the job is done; even so that is not the end of it, there are still a few considerations that must be taken."
   ]
  },
  {
   "cell_type": "markdown",
   "metadata": {},
   "source": [
    "Here we check if there is any movie appearing more than once."
   ]
  },
  {
   "cell_type": "code",
   "execution_count": 1889,
   "metadata": {},
   "outputs": [
    {
     "name": "stdout",
     "output_type": "stream",
     "text": [
      "5698 5782\n"
     ]
    }
   ],
   "source": [
    "print(len(movie_budgets.movie.unique()), movie_budgets.shape[0])"
   ]
  },
  {
   "cell_type": "markdown",
   "metadata": {},
   "source": [
    "Since these two numbers differ, we must take a look into it and remove any duplicates if any."
   ]
  },
  {
   "cell_type": "code",
   "execution_count": 1890,
   "metadata": {},
   "outputs": [
    {
     "data": {
      "text/plain": [
       "Halloween                         3\n",
       "Home                              3\n",
       "King Kong                         3\n",
       "Hercules                          2\n",
       "The Island                        2\n",
       "                                 ..\n",
       "Hitman: Agent 47                  1\n",
       "Deuce Bigalow: Male Gigolo        1\n",
       "Molly                             1\n",
       "Walk Hard: The Dewey Cox Story    1\n",
       "The Painted Veil                  1\n",
       "Name: movie, Length: 5698, dtype: int64"
      ]
     },
     "execution_count": 1890,
     "metadata": {},
     "output_type": "execute_result"
    }
   ],
   "source": [
    "movie_budgets.movie.value_counts()"
   ]
  },
  {
   "cell_type": "markdown",
   "metadata": {},
   "source": [
    "In fact, we have a bunch of repeating movies. We have to deal with them, so they only appear once."
   ]
  },
  {
   "cell_type": "code",
   "execution_count": 1891,
   "metadata": {},
   "outputs": [],
   "source": [
    "movie_budgets.drop_duplicates(subset=[\"movie\"], inplace=True)"
   ]
  },
  {
   "cell_type": "code",
   "execution_count": 1892,
   "metadata": {
    "scrolled": true
   },
   "outputs": [
    {
     "name": "stdout",
     "output_type": "stream",
     "text": [
      "5698 5698\n"
     ]
    }
   ],
   "source": [
    "print(len(movie_budgets.movie.unique()), movie_budgets.shape[0])"
   ]
  },
  {
   "cell_type": "markdown",
   "metadata": {},
   "source": [
    "Now both values are similiar, which let us know that we got rid of duplicates perfectly."
   ]
  },
  {
   "cell_type": "markdown",
   "metadata": {},
   "source": [
    "When we ran the `.info()` command above, we also have found that `production_budget`, `domestic_gross` and `worldwide_gross` are object types, when we need them to be a numeric value, to perform further comparisons. So we have to take care of that issue too."
   ]
  },
  {
   "cell_type": "code",
   "execution_count": 1893,
   "metadata": {},
   "outputs": [],
   "source": [
    "#Getting rid off commas so it can be casted\n",
    "movie_budgets.production_budget.replace(\",\",\"\",regex=True, inplace=True)\n",
    "movie_budgets.domestic_gross.replace(\",\",\"\",regex=True, inplace=True)\n",
    "movie_budgets.worldwide_gross.replace(\",\",\"\",regex=True, inplace=True)\n",
    "\n",
    "#Getting rid off $\n",
    "movie_budgets[\"production_budget\"] = movie_budgets.production_budget.str.strip(\"$\")\n",
    "movie_budgets[\"domestic_gross\"] = movie_budgets.domestic_gross.str.strip(\"$\")\n",
    "movie_budgets[\"worldwide_gross\"] = movie_budgets.worldwide_gross.str.strip(\"$\")"
   ]
  },
  {
   "cell_type": "code",
   "execution_count": 1894,
   "metadata": {},
   "outputs": [],
   "source": [
    "#Casting grosses as a floats\n",
    "movie_budgets[\"production_budget\"] = movie_budgets.production_budget.astype(float)\n",
    "movie_budgets[\"domestic_gross\"] = movie_budgets.domestic_gross.astype(float)\n",
    "movie_budgets[\"worldwide_gross\"] = movie_budgets.worldwide_gross.astype(float)"
   ]
  },
  {
   "cell_type": "code",
   "execution_count": 1895,
   "metadata": {
    "scrolled": true
   },
   "outputs": [
    {
     "data": {
      "text/html": [
       "<div>\n",
       "<style scoped>\n",
       "    .dataframe tbody tr th:only-of-type {\n",
       "        vertical-align: middle;\n",
       "    }\n",
       "\n",
       "    .dataframe tbody tr th {\n",
       "        vertical-align: top;\n",
       "    }\n",
       "\n",
       "    .dataframe thead th {\n",
       "        text-align: right;\n",
       "    }\n",
       "</style>\n",
       "<table border=\"1\" class=\"dataframe\">\n",
       "  <thead>\n",
       "    <tr style=\"text-align: right;\">\n",
       "      <th></th>\n",
       "      <th>id</th>\n",
       "      <th>release_date</th>\n",
       "      <th>movie</th>\n",
       "      <th>production_budget</th>\n",
       "      <th>domestic_gross</th>\n",
       "      <th>worldwide_gross</th>\n",
       "    </tr>\n",
       "  </thead>\n",
       "  <tbody>\n",
       "    <tr>\n",
       "      <th>0</th>\n",
       "      <td>1</td>\n",
       "      <td>Dec 18, 2009</td>\n",
       "      <td>Avatar</td>\n",
       "      <td>425000000.0</td>\n",
       "      <td>760507625.0</td>\n",
       "      <td>2.776345e+09</td>\n",
       "    </tr>\n",
       "    <tr>\n",
       "      <th>1</th>\n",
       "      <td>2</td>\n",
       "      <td>May 20, 2011</td>\n",
       "      <td>Pirates of the Caribbean: On Stranger Tides</td>\n",
       "      <td>410600000.0</td>\n",
       "      <td>241063875.0</td>\n",
       "      <td>1.045664e+09</td>\n",
       "    </tr>\n",
       "    <tr>\n",
       "      <th>2</th>\n",
       "      <td>3</td>\n",
       "      <td>Jun 7, 2019</td>\n",
       "      <td>Dark Phoenix</td>\n",
       "      <td>350000000.0</td>\n",
       "      <td>42762350.0</td>\n",
       "      <td>1.497624e+08</td>\n",
       "    </tr>\n",
       "    <tr>\n",
       "      <th>3</th>\n",
       "      <td>4</td>\n",
       "      <td>May 1, 2015</td>\n",
       "      <td>Avengers: Age of Ultron</td>\n",
       "      <td>330600000.0</td>\n",
       "      <td>459005868.0</td>\n",
       "      <td>1.403014e+09</td>\n",
       "    </tr>\n",
       "    <tr>\n",
       "      <th>4</th>\n",
       "      <td>5</td>\n",
       "      <td>Dec 15, 2017</td>\n",
       "      <td>Star Wars Ep. VIII: The Last Jedi</td>\n",
       "      <td>317000000.0</td>\n",
       "      <td>620181382.0</td>\n",
       "      <td>1.316722e+09</td>\n",
       "    </tr>\n",
       "  </tbody>\n",
       "</table>\n",
       "</div>"
      ],
      "text/plain": [
       "   id  release_date                                        movie  \\\n",
       "0   1  Dec 18, 2009                                       Avatar   \n",
       "1   2  May 20, 2011  Pirates of the Caribbean: On Stranger Tides   \n",
       "2   3   Jun 7, 2019                                 Dark Phoenix   \n",
       "3   4   May 1, 2015                      Avengers: Age of Ultron   \n",
       "4   5  Dec 15, 2017            Star Wars Ep. VIII: The Last Jedi   \n",
       "\n",
       "   production_budget  domestic_gross  worldwide_gross  \n",
       "0        425000000.0     760507625.0     2.776345e+09  \n",
       "1        410600000.0     241063875.0     1.045664e+09  \n",
       "2        350000000.0      42762350.0     1.497624e+08  \n",
       "3        330600000.0     459005868.0     1.403014e+09  \n",
       "4        317000000.0     620181382.0     1.316722e+09  "
      ]
     },
     "execution_count": 1895,
     "metadata": {},
     "output_type": "execute_result"
    }
   ],
   "source": [
    "movie_budgets.head()"
   ]
  },
  {
   "cell_type": "markdown",
   "metadata": {},
   "source": [
    "It could be useful to have a `profit_or_loss` column for easier analysis later."
   ]
  },
  {
   "cell_type": "code",
   "execution_count": 1896,
   "metadata": {},
   "outputs": [],
   "source": [
    "movie_budgets[\"profit_or_loss\"] = movie_budgets.worldwide_gross - movie_budgets.production_budget"
   ]
  },
  {
   "cell_type": "markdown",
   "metadata": {},
   "source": [
    "A `relation_pro_los` column to visualize easily in percentage how does income related to budget could also be benefitial later on."
   ]
  },
  {
   "cell_type": "code",
   "execution_count": 1897,
   "metadata": {},
   "outputs": [],
   "source": [
    "movie_budgets[\"relation_pro_los\"] = movie_budgets.worldwide_gross/movie_budgets.production_budget"
   ]
  },
  {
   "cell_type": "code",
   "execution_count": 1898,
   "metadata": {},
   "outputs": [
    {
     "data": {
      "text/html": [
       "<div>\n",
       "<style scoped>\n",
       "    .dataframe tbody tr th:only-of-type {\n",
       "        vertical-align: middle;\n",
       "    }\n",
       "\n",
       "    .dataframe tbody tr th {\n",
       "        vertical-align: top;\n",
       "    }\n",
       "\n",
       "    .dataframe thead th {\n",
       "        text-align: right;\n",
       "    }\n",
       "</style>\n",
       "<table border=\"1\" class=\"dataframe\">\n",
       "  <thead>\n",
       "    <tr style=\"text-align: right;\">\n",
       "      <th></th>\n",
       "      <th>id</th>\n",
       "      <th>release_date</th>\n",
       "      <th>movie</th>\n",
       "      <th>production_budget</th>\n",
       "      <th>domestic_gross</th>\n",
       "      <th>worldwide_gross</th>\n",
       "      <th>profit_or_loss</th>\n",
       "      <th>relation_pro_los</th>\n",
       "    </tr>\n",
       "  </thead>\n",
       "  <tbody>\n",
       "    <tr>\n",
       "      <th>0</th>\n",
       "      <td>1</td>\n",
       "      <td>Dec 18, 2009</td>\n",
       "      <td>Avatar</td>\n",
       "      <td>425000000.0</td>\n",
       "      <td>760507625.0</td>\n",
       "      <td>2.776345e+09</td>\n",
       "      <td>2.351345e+09</td>\n",
       "      <td>6.532577</td>\n",
       "    </tr>\n",
       "    <tr>\n",
       "      <th>1</th>\n",
       "      <td>2</td>\n",
       "      <td>May 20, 2011</td>\n",
       "      <td>Pirates of the Caribbean: On Stranger Tides</td>\n",
       "      <td>410600000.0</td>\n",
       "      <td>241063875.0</td>\n",
       "      <td>1.045664e+09</td>\n",
       "      <td>6.350639e+08</td>\n",
       "      <td>2.546673</td>\n",
       "    </tr>\n",
       "    <tr>\n",
       "      <th>2</th>\n",
       "      <td>3</td>\n",
       "      <td>Jun 7, 2019</td>\n",
       "      <td>Dark Phoenix</td>\n",
       "      <td>350000000.0</td>\n",
       "      <td>42762350.0</td>\n",
       "      <td>1.497624e+08</td>\n",
       "      <td>-2.002376e+08</td>\n",
       "      <td>0.427892</td>\n",
       "    </tr>\n",
       "    <tr>\n",
       "      <th>3</th>\n",
       "      <td>4</td>\n",
       "      <td>May 1, 2015</td>\n",
       "      <td>Avengers: Age of Ultron</td>\n",
       "      <td>330600000.0</td>\n",
       "      <td>459005868.0</td>\n",
       "      <td>1.403014e+09</td>\n",
       "      <td>1.072414e+09</td>\n",
       "      <td>4.243841</td>\n",
       "    </tr>\n",
       "    <tr>\n",
       "      <th>4</th>\n",
       "      <td>5</td>\n",
       "      <td>Dec 15, 2017</td>\n",
       "      <td>Star Wars Ep. VIII: The Last Jedi</td>\n",
       "      <td>317000000.0</td>\n",
       "      <td>620181382.0</td>\n",
       "      <td>1.316722e+09</td>\n",
       "      <td>9.997217e+08</td>\n",
       "      <td>4.153696</td>\n",
       "    </tr>\n",
       "  </tbody>\n",
       "</table>\n",
       "</div>"
      ],
      "text/plain": [
       "   id  release_date                                        movie  \\\n",
       "0   1  Dec 18, 2009                                       Avatar   \n",
       "1   2  May 20, 2011  Pirates of the Caribbean: On Stranger Tides   \n",
       "2   3   Jun 7, 2019                                 Dark Phoenix   \n",
       "3   4   May 1, 2015                      Avengers: Age of Ultron   \n",
       "4   5  Dec 15, 2017            Star Wars Ep. VIII: The Last Jedi   \n",
       "\n",
       "   production_budget  domestic_gross  worldwide_gross  profit_or_loss  \\\n",
       "0        425000000.0     760507625.0     2.776345e+09    2.351345e+09   \n",
       "1        410600000.0     241063875.0     1.045664e+09    6.350639e+08   \n",
       "2        350000000.0      42762350.0     1.497624e+08   -2.002376e+08   \n",
       "3        330600000.0     459005868.0     1.403014e+09    1.072414e+09   \n",
       "4        317000000.0     620181382.0     1.316722e+09    9.997217e+08   \n",
       "\n",
       "   relation_pro_los  \n",
       "0          6.532577  \n",
       "1          2.546673  \n",
       "2          0.427892  \n",
       "3          4.243841  \n",
       "4          4.153696  "
      ]
     },
     "execution_count": 1898,
     "metadata": {},
     "output_type": "execute_result"
    }
   ],
   "source": [
    "movie_budgets.head()"
   ]
  },
  {
   "cell_type": "markdown",
   "metadata": {},
   "source": [
    "### Retreiving Movie Ratings data\n",
    "Now we get the info from the relevant SQL table for the analysis."
   ]
  },
  {
   "cell_type": "code",
   "execution_count": 1899,
   "metadata": {},
   "outputs": [],
   "source": [
    "#Obtain relevant information from SQL database\n",
    "query = '''\n",
    "    SELECT\n",
    "        movie_id AS \"ID\",\n",
    "        primary_title AS \"Title\",\n",
    "        original_title AS \"Original Title\",\n",
    "        genres AS \"Genres\"\n",
    "    FROM movie_basics\n",
    "        JOIN movie_ratings\n",
    "        USING (movie_id)\n",
    "'''\n",
    "\n",
    "#Assign the query to a pandas dataframe\n",
    "movie_by_genre = pd.read_sql(query,conn)"
   ]
  },
  {
   "cell_type": "code",
   "execution_count": 1900,
   "metadata": {
    "scrolled": true
   },
   "outputs": [
    {
     "data": {
      "text/html": [
       "<div>\n",
       "<style scoped>\n",
       "    .dataframe tbody tr th:only-of-type {\n",
       "        vertical-align: middle;\n",
       "    }\n",
       "\n",
       "    .dataframe tbody tr th {\n",
       "        vertical-align: top;\n",
       "    }\n",
       "\n",
       "    .dataframe thead th {\n",
       "        text-align: right;\n",
       "    }\n",
       "</style>\n",
       "<table border=\"1\" class=\"dataframe\">\n",
       "  <thead>\n",
       "    <tr style=\"text-align: right;\">\n",
       "      <th></th>\n",
       "      <th>ID</th>\n",
       "      <th>Title</th>\n",
       "      <th>Original Title</th>\n",
       "      <th>Genres</th>\n",
       "    </tr>\n",
       "  </thead>\n",
       "  <tbody>\n",
       "    <tr>\n",
       "      <th>0</th>\n",
       "      <td>tt0063540</td>\n",
       "      <td>Sunghursh</td>\n",
       "      <td>Sunghursh</td>\n",
       "      <td>Action,Crime,Drama</td>\n",
       "    </tr>\n",
       "    <tr>\n",
       "      <th>1</th>\n",
       "      <td>tt0066787</td>\n",
       "      <td>One Day Before the Rainy Season</td>\n",
       "      <td>Ashad Ka Ek Din</td>\n",
       "      <td>Biography,Drama</td>\n",
       "    </tr>\n",
       "    <tr>\n",
       "      <th>2</th>\n",
       "      <td>tt0069049</td>\n",
       "      <td>The Other Side of the Wind</td>\n",
       "      <td>The Other Side of the Wind</td>\n",
       "      <td>Drama</td>\n",
       "    </tr>\n",
       "    <tr>\n",
       "      <th>3</th>\n",
       "      <td>tt0069204</td>\n",
       "      <td>Sabse Bada Sukh</td>\n",
       "      <td>Sabse Bada Sukh</td>\n",
       "      <td>Comedy,Drama</td>\n",
       "    </tr>\n",
       "    <tr>\n",
       "      <th>4</th>\n",
       "      <td>tt0100275</td>\n",
       "      <td>The Wandering Soap Opera</td>\n",
       "      <td>La Telenovela Errante</td>\n",
       "      <td>Comedy,Drama,Fantasy</td>\n",
       "    </tr>\n",
       "  </tbody>\n",
       "</table>\n",
       "</div>"
      ],
      "text/plain": [
       "          ID                            Title              Original Title  \\\n",
       "0  tt0063540                        Sunghursh                   Sunghursh   \n",
       "1  tt0066787  One Day Before the Rainy Season             Ashad Ka Ek Din   \n",
       "2  tt0069049       The Other Side of the Wind  The Other Side of the Wind   \n",
       "3  tt0069204                  Sabse Bada Sukh             Sabse Bada Sukh   \n",
       "4  tt0100275         The Wandering Soap Opera       La Telenovela Errante   \n",
       "\n",
       "                 Genres  \n",
       "0    Action,Crime,Drama  \n",
       "1       Biography,Drama  \n",
       "2                 Drama  \n",
       "3          Comedy,Drama  \n",
       "4  Comedy,Drama,Fantasy  "
      ]
     },
     "execution_count": 1900,
     "metadata": {},
     "output_type": "execute_result"
    }
   ],
   "source": [
    "movie_by_genre.head()"
   ]
  },
  {
   "cell_type": "markdown",
   "metadata": {},
   "source": [
    "### Cleaning SQL data"
   ]
  },
  {
   "cell_type": "code",
   "execution_count": 1901,
   "metadata": {
    "scrolled": true
   },
   "outputs": [
    {
     "name": "stdout",
     "output_type": "stream",
     "text": [
      "<class 'pandas.core.frame.DataFrame'>\n",
      "RangeIndex: 73856 entries, 0 to 73855\n",
      "Data columns (total 4 columns):\n",
      " #   Column          Non-Null Count  Dtype \n",
      "---  ------          --------------  ----- \n",
      " 0   ID              73856 non-null  object\n",
      " 1   Title           73856 non-null  object\n",
      " 2   Original Title  73856 non-null  object\n",
      " 3   Genres          73052 non-null  object\n",
      "dtypes: object(4)\n",
      "memory usage: 2.3+ MB\n"
     ]
    }
   ],
   "source": [
    "movie_by_genre.info()"
   ]
  },
  {
   "cell_type": "markdown",
   "metadata": {},
   "source": [
    "We see that most of the data we obtained is mostly complete, having a few null-values in the `Genres` column, since that is the primary variable we are focusing on, the better way to approach this issue would be to simply drop those rows, but we will do that at the very end of the clean up."
   ]
  },
  {
   "cell_type": "markdown",
   "metadata": {},
   "source": [
    "We start taking care of some small values that could mess up our analysis."
   ]
  },
  {
   "cell_type": "markdown",
   "metadata": {},
   "source": [
    "We check and drop duplicates (if any) as before."
   ]
  },
  {
   "cell_type": "code",
   "execution_count": 1902,
   "metadata": {},
   "outputs": [
    {
     "name": "stdout",
     "output_type": "stream",
     "text": [
      "69993 73856\n"
     ]
    }
   ],
   "source": [
    "print(len(movie_by_genre.Title.unique()), movie_by_genre.shape[0])"
   ]
  },
  {
   "cell_type": "code",
   "execution_count": 1903,
   "metadata": {},
   "outputs": [
    {
     "data": {
      "text/plain": [
       "The Return                    11\n",
       "Broken                        10\n",
       "Lucky                          9\n",
       "Homecoming                     9\n",
       "Together                       9\n",
       "                              ..\n",
       "Venise n'est pas en Italie     1\n",
       "Becks letzter Sommer           1\n",
       "Honey Bee 2: Celebrations      1\n",
       "Jewel's Catch One              1\n",
       "Alright Now                    1\n",
       "Name: Title, Length: 69993, dtype: int64"
      ]
     },
     "execution_count": 1903,
     "metadata": {},
     "output_type": "execute_result"
    }
   ],
   "source": [
    "movie_by_genre.Title.value_counts()"
   ]
  },
  {
   "cell_type": "code",
   "execution_count": 1904,
   "metadata": {},
   "outputs": [],
   "source": [
    "movie_by_genre.drop_duplicates(subset=[\"Title\"], inplace=True)"
   ]
  },
  {
   "cell_type": "code",
   "execution_count": 1905,
   "metadata": {
    "scrolled": true
   },
   "outputs": [
    {
     "name": "stdout",
     "output_type": "stream",
     "text": [
      "69993 69993\n"
     ]
    }
   ],
   "source": [
    "print(len(movie_by_genre.Title.unique()), movie_by_genre.shape[0])"
   ]
  },
  {
   "cell_type": "code",
   "execution_count": 1906,
   "metadata": {},
   "outputs": [
    {
     "name": "stdout",
     "output_type": "stream",
     "text": [
      "69820 69993\n"
     ]
    }
   ],
   "source": [
    "print(len(movie_by_genre[\"Original Title\"].unique()), movie_by_genre[\"Original Title\"].shape[0])"
   ]
  },
  {
   "cell_type": "code",
   "execution_count": 1907,
   "metadata": {},
   "outputs": [
    {
     "data": {
      "text/plain": [
       "Missed Connections                        3\n",
       "Un Français                               2\n",
       "The Horror                                2\n",
       "Stripped                                  2\n",
       "Brooklyn                                  2\n",
       "                                         ..\n",
       "Miracle on 42nd Street                    1\n",
       "Suhada Koka                               1\n",
       "I Am Going to Kill Someone This Friday    1\n",
       "Hangi Film                                1\n",
       "Red Riding Hood                           1\n",
       "Name: Original Title, Length: 69820, dtype: int64"
      ]
     },
     "execution_count": 1907,
     "metadata": {},
     "output_type": "execute_result"
    }
   ],
   "source": [
    "movie_by_genre[\"Original Title\"].value_counts()"
   ]
  },
  {
   "cell_type": "code",
   "execution_count": 1908,
   "metadata": {},
   "outputs": [],
   "source": [
    "movie_by_genre.drop_duplicates(subset=[\"Original Title\"], inplace = True)"
   ]
  },
  {
   "cell_type": "code",
   "execution_count": 1909,
   "metadata": {},
   "outputs": [
    {
     "name": "stdout",
     "output_type": "stream",
     "text": [
      "69820 69820\n"
     ]
    }
   ],
   "source": [
    "print(len(movie_by_genre[\"Original Title\"].unique()), movie_by_genre[\"Original Title\"].shape[0])"
   ]
  },
  {
   "cell_type": "markdown",
   "metadata": {},
   "source": [
    "We also check that every ID is unique."
   ]
  },
  {
   "cell_type": "code",
   "execution_count": 1910,
   "metadata": {},
   "outputs": [
    {
     "data": {
      "text/plain": [
       "tt5654204    1\n",
       "tt6788646    1\n",
       "tt7629994    1\n",
       "tt1848975    1\n",
       "tt5834808    1\n",
       "            ..\n",
       "tt3811012    1\n",
       "tt4469842    1\n",
       "tt1542045    1\n",
       "tt1617000    1\n",
       "tt5628792    1\n",
       "Name: ID, Length: 69820, dtype: int64"
      ]
     },
     "execution_count": 1910,
     "metadata": {},
     "output_type": "execute_result"
    }
   ],
   "source": [
    "movie_by_genre.ID.value_counts().sort_values(ascending = True)"
   ]
  },
  {
   "cell_type": "markdown",
   "metadata": {},
   "source": [
    "And they are! There is no problem in the ID column. \n",
    "\n",
    "Now, most of the cleaning of this Dataframe is done. The next step to do is to decide how to procede with the missing values we saw in the Genres column. There are around 800 missing values, and dropping those columns won't represent as much of a loss, so we will proceed with this approach, since we will still have a significant population for analysis."
   ]
  },
  {
   "cell_type": "code",
   "execution_count": 1911,
   "metadata": {},
   "outputs": [],
   "source": [
    "movie_by_genre = movie_by_genre[movie_by_genre.Genres.str.contains(\"None\") == False]"
   ]
  },
  {
   "cell_type": "code",
   "execution_count": 1912,
   "metadata": {},
   "outputs": [
    {
     "name": "stdout",
     "output_type": "stream",
     "text": [
      "<class 'pandas.core.frame.DataFrame'>\n",
      "Int64Index: 69059 entries, 0 to 73852\n",
      "Data columns (total 4 columns):\n",
      " #   Column          Non-Null Count  Dtype \n",
      "---  ------          --------------  ----- \n",
      " 0   ID              69059 non-null  object\n",
      " 1   Title           69059 non-null  object\n",
      " 2   Original Title  69059 non-null  object\n",
      " 3   Genres          69059 non-null  object\n",
      "dtypes: object(4)\n",
      "memory usage: 2.6+ MB\n"
     ]
    }
   ],
   "source": [
    "movie_by_genre.info()"
   ]
  },
  {
   "cell_type": "markdown",
   "metadata": {},
   "source": [
    "We can see we have a dataframe without any null value or duplicates. We can consider this dataframe to be clean!"
   ]
  },
  {
   "cell_type": "code",
   "execution_count": 1913,
   "metadata": {
    "scrolled": false
   },
   "outputs": [
    {
     "data": {
      "text/html": [
       "<div>\n",
       "<style scoped>\n",
       "    .dataframe tbody tr th:only-of-type {\n",
       "        vertical-align: middle;\n",
       "    }\n",
       "\n",
       "    .dataframe tbody tr th {\n",
       "        vertical-align: top;\n",
       "    }\n",
       "\n",
       "    .dataframe thead th {\n",
       "        text-align: right;\n",
       "    }\n",
       "</style>\n",
       "<table border=\"1\" class=\"dataframe\">\n",
       "  <thead>\n",
       "    <tr style=\"text-align: right;\">\n",
       "      <th></th>\n",
       "      <th>ID</th>\n",
       "      <th>Title</th>\n",
       "      <th>Original Title</th>\n",
       "      <th>Genres</th>\n",
       "    </tr>\n",
       "  </thead>\n",
       "  <tbody>\n",
       "    <tr>\n",
       "      <th>0</th>\n",
       "      <td>tt0063540</td>\n",
       "      <td>Sunghursh</td>\n",
       "      <td>Sunghursh</td>\n",
       "      <td>Action,Crime,Drama</td>\n",
       "    </tr>\n",
       "    <tr>\n",
       "      <th>1</th>\n",
       "      <td>tt0066787</td>\n",
       "      <td>One Day Before the Rainy Season</td>\n",
       "      <td>Ashad Ka Ek Din</td>\n",
       "      <td>Biography,Drama</td>\n",
       "    </tr>\n",
       "    <tr>\n",
       "      <th>2</th>\n",
       "      <td>tt0069049</td>\n",
       "      <td>The Other Side of the Wind</td>\n",
       "      <td>The Other Side of the Wind</td>\n",
       "      <td>Drama</td>\n",
       "    </tr>\n",
       "    <tr>\n",
       "      <th>3</th>\n",
       "      <td>tt0069204</td>\n",
       "      <td>Sabse Bada Sukh</td>\n",
       "      <td>Sabse Bada Sukh</td>\n",
       "      <td>Comedy,Drama</td>\n",
       "    </tr>\n",
       "    <tr>\n",
       "      <th>4</th>\n",
       "      <td>tt0100275</td>\n",
       "      <td>The Wandering Soap Opera</td>\n",
       "      <td>La Telenovela Errante</td>\n",
       "      <td>Comedy,Drama,Fantasy</td>\n",
       "    </tr>\n",
       "  </tbody>\n",
       "</table>\n",
       "</div>"
      ],
      "text/plain": [
       "          ID                            Title              Original Title  \\\n",
       "0  tt0063540                        Sunghursh                   Sunghursh   \n",
       "1  tt0066787  One Day Before the Rainy Season             Ashad Ka Ek Din   \n",
       "2  tt0069049       The Other Side of the Wind  The Other Side of the Wind   \n",
       "3  tt0069204                  Sabse Bada Sukh             Sabse Bada Sukh   \n",
       "4  tt0100275         The Wandering Soap Opera       La Telenovela Errante   \n",
       "\n",
       "                 Genres  \n",
       "0    Action,Crime,Drama  \n",
       "1       Biography,Drama  \n",
       "2                 Drama  \n",
       "3          Comedy,Drama  \n",
       "4  Comedy,Drama,Fantasy  "
      ]
     },
     "execution_count": 1913,
     "metadata": {},
     "output_type": "execute_result"
    }
   ],
   "source": [
    "movie_by_genre.head()"
   ]
  },
  {
   "cell_type": "markdown",
   "metadata": {},
   "source": [
    "### Merging tables\n",
    "Now, we shall proceed with joining the `movie_rating` dataframe with the `movie_budgets` one to proceed with the analysis. In this approach, we are using the `.merge()` method instead of `.join()` because we actually want information from both of the dataframes"
   ]
  },
  {
   "cell_type": "code",
   "execution_count": 1914,
   "metadata": {},
   "outputs": [
    {
     "data": {
      "text/html": [
       "<div>\n",
       "<style scoped>\n",
       "    .dataframe tbody tr th:only-of-type {\n",
       "        vertical-align: middle;\n",
       "    }\n",
       "\n",
       "    .dataframe tbody tr th {\n",
       "        vertical-align: top;\n",
       "    }\n",
       "\n",
       "    .dataframe thead th {\n",
       "        text-align: right;\n",
       "    }\n",
       "</style>\n",
       "<table border=\"1\" class=\"dataframe\">\n",
       "  <thead>\n",
       "    <tr style=\"text-align: right;\">\n",
       "      <th></th>\n",
       "      <th>id</th>\n",
       "      <th>release_date</th>\n",
       "      <th>movie</th>\n",
       "      <th>production_budget</th>\n",
       "      <th>domestic_gross</th>\n",
       "      <th>worldwide_gross</th>\n",
       "      <th>profit_or_loss</th>\n",
       "      <th>relation_pro_los</th>\n",
       "    </tr>\n",
       "  </thead>\n",
       "  <tbody>\n",
       "    <tr>\n",
       "      <th>0</th>\n",
       "      <td>1</td>\n",
       "      <td>Dec 18, 2009</td>\n",
       "      <td>Avatar</td>\n",
       "      <td>425000000.0</td>\n",
       "      <td>760507625.0</td>\n",
       "      <td>2.776345e+09</td>\n",
       "      <td>2.351345e+09</td>\n",
       "      <td>6.532577</td>\n",
       "    </tr>\n",
       "    <tr>\n",
       "      <th>1</th>\n",
       "      <td>2</td>\n",
       "      <td>May 20, 2011</td>\n",
       "      <td>Pirates of the Caribbean: On Stranger Tides</td>\n",
       "      <td>410600000.0</td>\n",
       "      <td>241063875.0</td>\n",
       "      <td>1.045664e+09</td>\n",
       "      <td>6.350639e+08</td>\n",
       "      <td>2.546673</td>\n",
       "    </tr>\n",
       "    <tr>\n",
       "      <th>2</th>\n",
       "      <td>3</td>\n",
       "      <td>Jun 7, 2019</td>\n",
       "      <td>Dark Phoenix</td>\n",
       "      <td>350000000.0</td>\n",
       "      <td>42762350.0</td>\n",
       "      <td>1.497624e+08</td>\n",
       "      <td>-2.002376e+08</td>\n",
       "      <td>0.427892</td>\n",
       "    </tr>\n",
       "    <tr>\n",
       "      <th>3</th>\n",
       "      <td>4</td>\n",
       "      <td>May 1, 2015</td>\n",
       "      <td>Avengers: Age of Ultron</td>\n",
       "      <td>330600000.0</td>\n",
       "      <td>459005868.0</td>\n",
       "      <td>1.403014e+09</td>\n",
       "      <td>1.072414e+09</td>\n",
       "      <td>4.243841</td>\n",
       "    </tr>\n",
       "    <tr>\n",
       "      <th>4</th>\n",
       "      <td>5</td>\n",
       "      <td>Dec 15, 2017</td>\n",
       "      <td>Star Wars Ep. VIII: The Last Jedi</td>\n",
       "      <td>317000000.0</td>\n",
       "      <td>620181382.0</td>\n",
       "      <td>1.316722e+09</td>\n",
       "      <td>9.997217e+08</td>\n",
       "      <td>4.153696</td>\n",
       "    </tr>\n",
       "  </tbody>\n",
       "</table>\n",
       "</div>"
      ],
      "text/plain": [
       "   id  release_date                                        movie  \\\n",
       "0   1  Dec 18, 2009                                       Avatar   \n",
       "1   2  May 20, 2011  Pirates of the Caribbean: On Stranger Tides   \n",
       "2   3   Jun 7, 2019                                 Dark Phoenix   \n",
       "3   4   May 1, 2015                      Avengers: Age of Ultron   \n",
       "4   5  Dec 15, 2017            Star Wars Ep. VIII: The Last Jedi   \n",
       "\n",
       "   production_budget  domestic_gross  worldwide_gross  profit_or_loss  \\\n",
       "0        425000000.0     760507625.0     2.776345e+09    2.351345e+09   \n",
       "1        410600000.0     241063875.0     1.045664e+09    6.350639e+08   \n",
       "2        350000000.0      42762350.0     1.497624e+08   -2.002376e+08   \n",
       "3        330600000.0     459005868.0     1.403014e+09    1.072414e+09   \n",
       "4        317000000.0     620181382.0     1.316722e+09    9.997217e+08   \n",
       "\n",
       "   relation_pro_los  \n",
       "0          6.532577  \n",
       "1          2.546673  \n",
       "2          0.427892  \n",
       "3          4.243841  \n",
       "4          4.153696  "
      ]
     },
     "execution_count": 1914,
     "metadata": {},
     "output_type": "execute_result"
    }
   ],
   "source": [
    "movie_budgets.head()"
   ]
  },
  {
   "cell_type": "code",
   "execution_count": 1915,
   "metadata": {},
   "outputs": [],
   "source": [
    "#Create a new Dataframe to store the merge\n",
    "gross_and_genre = pd.merge(movie_budgets, movie_by_genre, how=\"inner\", left_on=\"movie\", right_on=\"Title\")"
   ]
  },
  {
   "cell_type": "code",
   "execution_count": 1916,
   "metadata": {},
   "outputs": [
    {
     "data": {
      "text/html": [
       "<div>\n",
       "<style scoped>\n",
       "    .dataframe tbody tr th:only-of-type {\n",
       "        vertical-align: middle;\n",
       "    }\n",
       "\n",
       "    .dataframe tbody tr th {\n",
       "        vertical-align: top;\n",
       "    }\n",
       "\n",
       "    .dataframe thead th {\n",
       "        text-align: right;\n",
       "    }\n",
       "</style>\n",
       "<table border=\"1\" class=\"dataframe\">\n",
       "  <thead>\n",
       "    <tr style=\"text-align: right;\">\n",
       "      <th></th>\n",
       "      <th>id</th>\n",
       "      <th>release_date</th>\n",
       "      <th>movie</th>\n",
       "      <th>production_budget</th>\n",
       "      <th>domestic_gross</th>\n",
       "      <th>worldwide_gross</th>\n",
       "      <th>profit_or_loss</th>\n",
       "      <th>relation_pro_los</th>\n",
       "      <th>ID</th>\n",
       "      <th>Title</th>\n",
       "      <th>Original Title</th>\n",
       "      <th>Genres</th>\n",
       "    </tr>\n",
       "  </thead>\n",
       "  <tbody>\n",
       "    <tr>\n",
       "      <th>0</th>\n",
       "      <td>1</td>\n",
       "      <td>Dec 18, 2009</td>\n",
       "      <td>Avatar</td>\n",
       "      <td>425000000.0</td>\n",
       "      <td>760507625.0</td>\n",
       "      <td>2.776345e+09</td>\n",
       "      <td>2.351345e+09</td>\n",
       "      <td>6.532577</td>\n",
       "      <td>tt1775309</td>\n",
       "      <td>Avatar</td>\n",
       "      <td>Abatâ</td>\n",
       "      <td>Horror</td>\n",
       "    </tr>\n",
       "    <tr>\n",
       "      <th>1</th>\n",
       "      <td>2</td>\n",
       "      <td>May 20, 2011</td>\n",
       "      <td>Pirates of the Caribbean: On Stranger Tides</td>\n",
       "      <td>410600000.0</td>\n",
       "      <td>241063875.0</td>\n",
       "      <td>1.045664e+09</td>\n",
       "      <td>6.350639e+08</td>\n",
       "      <td>2.546673</td>\n",
       "      <td>tt1298650</td>\n",
       "      <td>Pirates of the Caribbean: On Stranger Tides</td>\n",
       "      <td>Pirates of the Caribbean: On Stranger Tides</td>\n",
       "      <td>Action,Adventure,Fantasy</td>\n",
       "    </tr>\n",
       "    <tr>\n",
       "      <th>2</th>\n",
       "      <td>3</td>\n",
       "      <td>Jun 7, 2019</td>\n",
       "      <td>Dark Phoenix</td>\n",
       "      <td>350000000.0</td>\n",
       "      <td>42762350.0</td>\n",
       "      <td>1.497624e+08</td>\n",
       "      <td>-2.002376e+08</td>\n",
       "      <td>0.427892</td>\n",
       "      <td>tt6565702</td>\n",
       "      <td>Dark Phoenix</td>\n",
       "      <td>Dark Phoenix</td>\n",
       "      <td>Action,Adventure,Sci-Fi</td>\n",
       "    </tr>\n",
       "    <tr>\n",
       "      <th>3</th>\n",
       "      <td>4</td>\n",
       "      <td>May 1, 2015</td>\n",
       "      <td>Avengers: Age of Ultron</td>\n",
       "      <td>330600000.0</td>\n",
       "      <td>459005868.0</td>\n",
       "      <td>1.403014e+09</td>\n",
       "      <td>1.072414e+09</td>\n",
       "      <td>4.243841</td>\n",
       "      <td>tt2395427</td>\n",
       "      <td>Avengers: Age of Ultron</td>\n",
       "      <td>Avengers: Age of Ultron</td>\n",
       "      <td>Action,Adventure,Sci-Fi</td>\n",
       "    </tr>\n",
       "    <tr>\n",
       "      <th>4</th>\n",
       "      <td>7</td>\n",
       "      <td>Apr 27, 2018</td>\n",
       "      <td>Avengers: Infinity War</td>\n",
       "      <td>300000000.0</td>\n",
       "      <td>678815482.0</td>\n",
       "      <td>2.048134e+09</td>\n",
       "      <td>1.748134e+09</td>\n",
       "      <td>6.827114</td>\n",
       "      <td>tt4154756</td>\n",
       "      <td>Avengers: Infinity War</td>\n",
       "      <td>Avengers: Infinity War</td>\n",
       "      <td>Action,Adventure,Sci-Fi</td>\n",
       "    </tr>\n",
       "  </tbody>\n",
       "</table>\n",
       "</div>"
      ],
      "text/plain": [
       "   id  release_date                                        movie  \\\n",
       "0   1  Dec 18, 2009                                       Avatar   \n",
       "1   2  May 20, 2011  Pirates of the Caribbean: On Stranger Tides   \n",
       "2   3   Jun 7, 2019                                 Dark Phoenix   \n",
       "3   4   May 1, 2015                      Avengers: Age of Ultron   \n",
       "4   7  Apr 27, 2018                       Avengers: Infinity War   \n",
       "\n",
       "   production_budget  domestic_gross  worldwide_gross  profit_or_loss  \\\n",
       "0        425000000.0     760507625.0     2.776345e+09    2.351345e+09   \n",
       "1        410600000.0     241063875.0     1.045664e+09    6.350639e+08   \n",
       "2        350000000.0      42762350.0     1.497624e+08   -2.002376e+08   \n",
       "3        330600000.0     459005868.0     1.403014e+09    1.072414e+09   \n",
       "4        300000000.0     678815482.0     2.048134e+09    1.748134e+09   \n",
       "\n",
       "   relation_pro_los         ID                                        Title  \\\n",
       "0          6.532577  tt1775309                                       Avatar   \n",
       "1          2.546673  tt1298650  Pirates of the Caribbean: On Stranger Tides   \n",
       "2          0.427892  tt6565702                                 Dark Phoenix   \n",
       "3          4.243841  tt2395427                      Avengers: Age of Ultron   \n",
       "4          6.827114  tt4154756                       Avengers: Infinity War   \n",
       "\n",
       "                                Original Title                    Genres  \n",
       "0                                        Abatâ                    Horror  \n",
       "1  Pirates of the Caribbean: On Stranger Tides  Action,Adventure,Fantasy  \n",
       "2                                 Dark Phoenix   Action,Adventure,Sci-Fi  \n",
       "3                      Avengers: Age of Ultron   Action,Adventure,Sci-Fi  \n",
       "4                       Avengers: Infinity War   Action,Adventure,Sci-Fi  "
      ]
     },
     "execution_count": 1916,
     "metadata": {},
     "output_type": "execute_result"
    }
   ],
   "source": [
    "gross_and_genre.head()"
   ]
  },
  {
   "cell_type": "markdown",
   "metadata": {},
   "source": [
    "Now we just do some visual cleaning."
   ]
  },
  {
   "cell_type": "code",
   "execution_count": 1917,
   "metadata": {},
   "outputs": [],
   "source": [
    "#Deleting duplicated columns\n",
    "del gross_and_genre[\"Title\"]\n",
    "del gross_and_genre[\"Original Title\"]\n",
    "del gross_and_genre[\"id\"]\n",
    "\n",
    "#Deleting columns that are not relevant to the analysis\n",
    "del gross_and_genre[\"release_date\"]"
   ]
  },
  {
   "cell_type": "code",
   "execution_count": 1918,
   "metadata": {},
   "outputs": [],
   "source": [
    "#Rearenging columns for easier lecture\n",
    "gross_and_genre = gross_and_genre[[\"ID\", \"movie\", \"Genres\",\"production_budget\", \n",
    "                                     \"domestic_gross\", \"worldwide_gross\",\n",
    "                                     \"profit_or_loss\", \"relation_pro_los\"]]"
   ]
  },
  {
   "cell_type": "code",
   "execution_count": 1919,
   "metadata": {},
   "outputs": [
    {
     "data": {
      "text/plain": [
       "Index(['ID', 'movie', 'Genres', 'production_budget', 'domestic_gross',\n",
       "       'worldwide_gross', 'profit_or_loss', 'relation_pro_los'],\n",
       "      dtype='object')"
      ]
     },
     "execution_count": 1919,
     "metadata": {},
     "output_type": "execute_result"
    }
   ],
   "source": [
    "gross_and_genre.columns"
   ]
  },
  {
   "cell_type": "markdown",
   "metadata": {},
   "source": [
    "One last check to see if everything is in order."
   ]
  },
  {
   "cell_type": "code",
   "execution_count": 1920,
   "metadata": {
    "scrolled": true
   },
   "outputs": [
    {
     "name": "stdout",
     "output_type": "stream",
     "text": [
      "<class 'pandas.core.frame.DataFrame'>\n",
      "Int64Index: 2111 entries, 0 to 2110\n",
      "Data columns (total 8 columns):\n",
      " #   Column             Non-Null Count  Dtype  \n",
      "---  ------             --------------  -----  \n",
      " 0   ID                 2111 non-null   object \n",
      " 1   movie              2111 non-null   object \n",
      " 2   Genres             2111 non-null   object \n",
      " 3   production_budget  2111 non-null   float64\n",
      " 4   domestic_gross     2111 non-null   float64\n",
      " 5   worldwide_gross    2111 non-null   float64\n",
      " 6   profit_or_loss     2111 non-null   float64\n",
      " 7   relation_pro_los   2111 non-null   float64\n",
      "dtypes: float64(5), object(3)\n",
      "memory usage: 148.4+ KB\n"
     ]
    }
   ],
   "source": [
    "gross_and_genre.info()"
   ]
  },
  {
   "cell_type": "markdown",
   "metadata": {},
   "source": [
    "And it is indeed."
   ]
  },
  {
   "cell_type": "code",
   "execution_count": 1921,
   "metadata": {},
   "outputs": [
    {
     "data": {
      "text/html": [
       "<div>\n",
       "<style scoped>\n",
       "    .dataframe tbody tr th:only-of-type {\n",
       "        vertical-align: middle;\n",
       "    }\n",
       "\n",
       "    .dataframe tbody tr th {\n",
       "        vertical-align: top;\n",
       "    }\n",
       "\n",
       "    .dataframe thead th {\n",
       "        text-align: right;\n",
       "    }\n",
       "</style>\n",
       "<table border=\"1\" class=\"dataframe\">\n",
       "  <thead>\n",
       "    <tr style=\"text-align: right;\">\n",
       "      <th></th>\n",
       "      <th>ID</th>\n",
       "      <th>movie</th>\n",
       "      <th>Genres</th>\n",
       "      <th>production_budget</th>\n",
       "      <th>domestic_gross</th>\n",
       "      <th>worldwide_gross</th>\n",
       "      <th>profit_or_loss</th>\n",
       "      <th>relation_pro_los</th>\n",
       "    </tr>\n",
       "  </thead>\n",
       "  <tbody>\n",
       "    <tr>\n",
       "      <th>0</th>\n",
       "      <td>tt1775309</td>\n",
       "      <td>Avatar</td>\n",
       "      <td>Horror</td>\n",
       "      <td>425000000.0</td>\n",
       "      <td>760507625.0</td>\n",
       "      <td>2.776345e+09</td>\n",
       "      <td>2.351345e+09</td>\n",
       "      <td>6.532577</td>\n",
       "    </tr>\n",
       "    <tr>\n",
       "      <th>1</th>\n",
       "      <td>tt1298650</td>\n",
       "      <td>Pirates of the Caribbean: On Stranger Tides</td>\n",
       "      <td>Action,Adventure,Fantasy</td>\n",
       "      <td>410600000.0</td>\n",
       "      <td>241063875.0</td>\n",
       "      <td>1.045664e+09</td>\n",
       "      <td>6.350639e+08</td>\n",
       "      <td>2.546673</td>\n",
       "    </tr>\n",
       "    <tr>\n",
       "      <th>2</th>\n",
       "      <td>tt6565702</td>\n",
       "      <td>Dark Phoenix</td>\n",
       "      <td>Action,Adventure,Sci-Fi</td>\n",
       "      <td>350000000.0</td>\n",
       "      <td>42762350.0</td>\n",
       "      <td>1.497624e+08</td>\n",
       "      <td>-2.002376e+08</td>\n",
       "      <td>0.427892</td>\n",
       "    </tr>\n",
       "    <tr>\n",
       "      <th>3</th>\n",
       "      <td>tt2395427</td>\n",
       "      <td>Avengers: Age of Ultron</td>\n",
       "      <td>Action,Adventure,Sci-Fi</td>\n",
       "      <td>330600000.0</td>\n",
       "      <td>459005868.0</td>\n",
       "      <td>1.403014e+09</td>\n",
       "      <td>1.072414e+09</td>\n",
       "      <td>4.243841</td>\n",
       "    </tr>\n",
       "    <tr>\n",
       "      <th>4</th>\n",
       "      <td>tt4154756</td>\n",
       "      <td>Avengers: Infinity War</td>\n",
       "      <td>Action,Adventure,Sci-Fi</td>\n",
       "      <td>300000000.0</td>\n",
       "      <td>678815482.0</td>\n",
       "      <td>2.048134e+09</td>\n",
       "      <td>1.748134e+09</td>\n",
       "      <td>6.827114</td>\n",
       "    </tr>\n",
       "  </tbody>\n",
       "</table>\n",
       "</div>"
      ],
      "text/plain": [
       "          ID                                        movie  \\\n",
       "0  tt1775309                                       Avatar   \n",
       "1  tt1298650  Pirates of the Caribbean: On Stranger Tides   \n",
       "2  tt6565702                                 Dark Phoenix   \n",
       "3  tt2395427                      Avengers: Age of Ultron   \n",
       "4  tt4154756                       Avengers: Infinity War   \n",
       "\n",
       "                     Genres  production_budget  domestic_gross  \\\n",
       "0                    Horror        425000000.0     760507625.0   \n",
       "1  Action,Adventure,Fantasy        410600000.0     241063875.0   \n",
       "2   Action,Adventure,Sci-Fi        350000000.0      42762350.0   \n",
       "3   Action,Adventure,Sci-Fi        330600000.0     459005868.0   \n",
       "4   Action,Adventure,Sci-Fi        300000000.0     678815482.0   \n",
       "\n",
       "   worldwide_gross  profit_or_loss  relation_pro_los  \n",
       "0     2.776345e+09    2.351345e+09          6.532577  \n",
       "1     1.045664e+09    6.350639e+08          2.546673  \n",
       "2     1.497624e+08   -2.002376e+08          0.427892  \n",
       "3     1.403014e+09    1.072414e+09          4.243841  \n",
       "4     2.048134e+09    1.748134e+09          6.827114  "
      ]
     },
     "execution_count": 1921,
     "metadata": {},
     "output_type": "execute_result"
    }
   ],
   "source": [
    "gross_and_genre.head()"
   ]
  },
  {
   "cell_type": "markdown",
   "metadata": {},
   "source": [
    "Finally, after getting all of our interest values together, the next step would be to jump into analysis, in which we compare the income of a movie based on its genre with the production budget it had."
   ]
  },
  {
   "cell_type": "markdown",
   "metadata": {},
   "source": [
    "## Performing Visual Analysis"
   ]
  },
  {
   "cell_type": "markdown",
   "metadata": {},
   "source": [
    "Let us recall the question we are trying to solve:\n",
    "\n",
    "*\"How are the production budgets for movies based on their genre in comparison to their income? Would it be profitable?\"*"
   ]
  },
  {
   "cell_type": "markdown",
   "metadata": {},
   "source": [
    "Therefore, we have to compare every income of every genre, but as we can see, there are many movies that share genres, which may represent a problem while comparing them. Getting appart every genre into an individual one is out of the scope of this project, so each group of genres will be considered as an individual one and proceed with the analysis as they are. There is no major problem in this, because, as we will see, there are times in which a specific group of genres is more profitable than other and even to its no-groupped counterpart."
   ]
  },
  {
   "cell_type": "markdown",
   "metadata": {},
   "source": [
    "We organize the information to be easier to analyze in graphs."
   ]
  },
  {
   "cell_type": "code",
   "execution_count": 1922,
   "metadata": {},
   "outputs": [],
   "source": [
    "#Grouping movies by genre\n",
    "genre_gross_grouped = gross_and_genre.groupby(by=\"Genres\", as_index=False).sum()"
   ]
  },
  {
   "cell_type": "code",
   "execution_count": 1923,
   "metadata": {},
   "outputs": [
    {
     "data": {
      "text/html": [
       "<div>\n",
       "<style scoped>\n",
       "    .dataframe tbody tr th:only-of-type {\n",
       "        vertical-align: middle;\n",
       "    }\n",
       "\n",
       "    .dataframe tbody tr th {\n",
       "        vertical-align: top;\n",
       "    }\n",
       "\n",
       "    .dataframe thead th {\n",
       "        text-align: right;\n",
       "    }\n",
       "</style>\n",
       "<table border=\"1\" class=\"dataframe\">\n",
       "  <thead>\n",
       "    <tr style=\"text-align: right;\">\n",
       "      <th></th>\n",
       "      <th>Genres</th>\n",
       "      <th>production_budget</th>\n",
       "      <th>domestic_gross</th>\n",
       "      <th>worldwide_gross</th>\n",
       "      <th>profit_or_loss</th>\n",
       "      <th>relation_pro_los</th>\n",
       "    </tr>\n",
       "  </thead>\n",
       "  <tbody>\n",
       "    <tr>\n",
       "      <th>0</th>\n",
       "      <td>Action</td>\n",
       "      <td>4.184500e+08</td>\n",
       "      <td>3.381234e+08</td>\n",
       "      <td>8.283610e+08</td>\n",
       "      <td>4.099110e+08</td>\n",
       "      <td>19.938754</td>\n",
       "    </tr>\n",
       "    <tr>\n",
       "      <th>1</th>\n",
       "      <td>Action,Adventure</td>\n",
       "      <td>1.850000e+07</td>\n",
       "      <td>1.177400e+04</td>\n",
       "      <td>1.136600e+07</td>\n",
       "      <td>-7.133996e+06</td>\n",
       "      <td>0.813633</td>\n",
       "    </tr>\n",
       "    <tr>\n",
       "      <th>2</th>\n",
       "      <td>Action,Adventure,Animation</td>\n",
       "      <td>1.957500e+09</td>\n",
       "      <td>2.664329e+09</td>\n",
       "      <td>7.435879e+09</td>\n",
       "      <td>5.478379e+09</td>\n",
       "      <td>69.716680</td>\n",
       "    </tr>\n",
       "    <tr>\n",
       "      <th>3</th>\n",
       "      <td>Action,Adventure,Biography</td>\n",
       "      <td>3.200000e+08</td>\n",
       "      <td>2.521409e+08</td>\n",
       "      <td>8.825137e+08</td>\n",
       "      <td>5.625137e+08</td>\n",
       "      <td>10.178447</td>\n",
       "    </tr>\n",
       "    <tr>\n",
       "      <th>4</th>\n",
       "      <td>Action,Adventure,Comedy</td>\n",
       "      <td>2.351500e+09</td>\n",
       "      <td>3.323180e+09</td>\n",
       "      <td>9.215448e+09</td>\n",
       "      <td>6.863948e+09</td>\n",
       "      <td>103.212019</td>\n",
       "    </tr>\n",
       "  </tbody>\n",
       "</table>\n",
       "</div>"
      ],
      "text/plain": [
       "                       Genres  production_budget  domestic_gross  \\\n",
       "0                      Action       4.184500e+08    3.381234e+08   \n",
       "1            Action,Adventure       1.850000e+07    1.177400e+04   \n",
       "2  Action,Adventure,Animation       1.957500e+09    2.664329e+09   \n",
       "3  Action,Adventure,Biography       3.200000e+08    2.521409e+08   \n",
       "4     Action,Adventure,Comedy       2.351500e+09    3.323180e+09   \n",
       "\n",
       "   worldwide_gross  profit_or_loss  relation_pro_los  \n",
       "0     8.283610e+08    4.099110e+08         19.938754  \n",
       "1     1.136600e+07   -7.133996e+06          0.813633  \n",
       "2     7.435879e+09    5.478379e+09         69.716680  \n",
       "3     8.825137e+08    5.625137e+08         10.178447  \n",
       "4     9.215448e+09    6.863948e+09        103.212019  "
      ]
     },
     "execution_count": 1923,
     "metadata": {},
     "output_type": "execute_result"
    }
   ],
   "source": [
    "genre_gross_grouped.head()"
   ]
  },
  {
   "cell_type": "markdown",
   "metadata": {},
   "source": [
    "We have to take care of an important issue here. Due to we used the `.sum()` command, all columns were summed up into a single value, including the `relation_pro_los` columns. If we take for example the first row value, it should be `1.9796` and it is `19.938754`. Allthoguh somewhat similar, not the same. The other columns represent no problem, since they are just money amounts and can be summed up straightforward, but a relationship cannot be sum. Hence, we gotta redo the relation operation with the new values."
   ]
  },
  {
   "cell_type": "code",
   "execution_count": 1924,
   "metadata": {},
   "outputs": [],
   "source": [
    "genre_gross_grouped[\"relation_pro_los\"] = genre_gross_grouped.worldwide_gross/genre_gross_grouped.production_budget"
   ]
  },
  {
   "cell_type": "code",
   "execution_count": 1925,
   "metadata": {},
   "outputs": [
    {
     "data": {
      "text/html": [
       "<div>\n",
       "<style scoped>\n",
       "    .dataframe tbody tr th:only-of-type {\n",
       "        vertical-align: middle;\n",
       "    }\n",
       "\n",
       "    .dataframe tbody tr th {\n",
       "        vertical-align: top;\n",
       "    }\n",
       "\n",
       "    .dataframe thead th {\n",
       "        text-align: right;\n",
       "    }\n",
       "</style>\n",
       "<table border=\"1\" class=\"dataframe\">\n",
       "  <thead>\n",
       "    <tr style=\"text-align: right;\">\n",
       "      <th></th>\n",
       "      <th>Genres</th>\n",
       "      <th>production_budget</th>\n",
       "      <th>domestic_gross</th>\n",
       "      <th>worldwide_gross</th>\n",
       "      <th>profit_or_loss</th>\n",
       "      <th>relation_pro_los</th>\n",
       "    </tr>\n",
       "  </thead>\n",
       "  <tbody>\n",
       "    <tr>\n",
       "      <th>0</th>\n",
       "      <td>Action</td>\n",
       "      <td>4.184500e+08</td>\n",
       "      <td>3.381234e+08</td>\n",
       "      <td>8.283610e+08</td>\n",
       "      <td>4.099110e+08</td>\n",
       "      <td>1.979594</td>\n",
       "    </tr>\n",
       "    <tr>\n",
       "      <th>1</th>\n",
       "      <td>Action,Adventure</td>\n",
       "      <td>1.850000e+07</td>\n",
       "      <td>1.177400e+04</td>\n",
       "      <td>1.136600e+07</td>\n",
       "      <td>-7.133996e+06</td>\n",
       "      <td>0.614379</td>\n",
       "    </tr>\n",
       "    <tr>\n",
       "      <th>2</th>\n",
       "      <td>Action,Adventure,Animation</td>\n",
       "      <td>1.957500e+09</td>\n",
       "      <td>2.664329e+09</td>\n",
       "      <td>7.435879e+09</td>\n",
       "      <td>5.478379e+09</td>\n",
       "      <td>3.798661</td>\n",
       "    </tr>\n",
       "    <tr>\n",
       "      <th>3</th>\n",
       "      <td>Action,Adventure,Biography</td>\n",
       "      <td>3.200000e+08</td>\n",
       "      <td>2.521409e+08</td>\n",
       "      <td>8.825137e+08</td>\n",
       "      <td>5.625137e+08</td>\n",
       "      <td>2.757855</td>\n",
       "    </tr>\n",
       "    <tr>\n",
       "      <th>4</th>\n",
       "      <td>Action,Adventure,Comedy</td>\n",
       "      <td>2.351500e+09</td>\n",
       "      <td>3.323180e+09</td>\n",
       "      <td>9.215448e+09</td>\n",
       "      <td>6.863948e+09</td>\n",
       "      <td>3.918966</td>\n",
       "    </tr>\n",
       "  </tbody>\n",
       "</table>\n",
       "</div>"
      ],
      "text/plain": [
       "                       Genres  production_budget  domestic_gross  \\\n",
       "0                      Action       4.184500e+08    3.381234e+08   \n",
       "1            Action,Adventure       1.850000e+07    1.177400e+04   \n",
       "2  Action,Adventure,Animation       1.957500e+09    2.664329e+09   \n",
       "3  Action,Adventure,Biography       3.200000e+08    2.521409e+08   \n",
       "4     Action,Adventure,Comedy       2.351500e+09    3.323180e+09   \n",
       "\n",
       "   worldwide_gross  profit_or_loss  relation_pro_los  \n",
       "0     8.283610e+08    4.099110e+08          1.979594  \n",
       "1     1.136600e+07   -7.133996e+06          0.614379  \n",
       "2     7.435879e+09    5.478379e+09          3.798661  \n",
       "3     8.825137e+08    5.625137e+08          2.757855  \n",
       "4     9.215448e+09    6.863948e+09          3.918966  "
      ]
     },
     "execution_count": 1925,
     "metadata": {},
     "output_type": "execute_result"
    }
   ],
   "source": [
    "genre_gross_grouped.head()"
   ]
  },
  {
   "cell_type": "markdown",
   "metadata": {},
   "source": [
    "And we take a sample of the population. In this case, we are going with 20 samples for clearer visualization."
   ]
  },
  {
   "cell_type": "code",
   "execution_count": 1926,
   "metadata": {},
   "outputs": [],
   "source": [
    "#Getting data from most profitable to less profitable\n",
    "genre_gross_top = genre_gross_grouped.sort_values(by=\"profit_or_loss\", ascending=False).iloc[:20]\n",
    "genre_gross_bottom = genre_gross_grouped.sort_values(by=\"profit_or_loss\").iloc[:20]"
   ]
  },
  {
   "cell_type": "code",
   "execution_count": 1927,
   "metadata": {},
   "outputs": [
    {
     "data": {
      "text/html": [
       "<div>\n",
       "<style scoped>\n",
       "    .dataframe tbody tr th:only-of-type {\n",
       "        vertical-align: middle;\n",
       "    }\n",
       "\n",
       "    .dataframe tbody tr th {\n",
       "        vertical-align: top;\n",
       "    }\n",
       "\n",
       "    .dataframe thead th {\n",
       "        text-align: right;\n",
       "    }\n",
       "</style>\n",
       "<table border=\"1\" class=\"dataframe\">\n",
       "  <thead>\n",
       "    <tr style=\"text-align: right;\">\n",
       "      <th></th>\n",
       "      <th>Genres</th>\n",
       "      <th>production_budget</th>\n",
       "      <th>domestic_gross</th>\n",
       "      <th>worldwide_gross</th>\n",
       "      <th>profit_or_loss</th>\n",
       "      <th>relation_pro_los</th>\n",
       "    </tr>\n",
       "  </thead>\n",
       "  <tbody>\n",
       "    <tr>\n",
       "      <th>12</th>\n",
       "      <td>Action,Adventure,Sci-Fi</td>\n",
       "      <td>9.070400e+09</td>\n",
       "      <td>1.258900e+10</td>\n",
       "      <td>3.429490e+10</td>\n",
       "      <td>2.522450e+10</td>\n",
       "      <td>3.780969</td>\n",
       "    </tr>\n",
       "    <tr>\n",
       "      <th>70</th>\n",
       "      <td>Adventure,Animation,Comedy</td>\n",
       "      <td>6.671500e+09</td>\n",
       "      <td>8.782345e+09</td>\n",
       "      <td>2.492866e+10</td>\n",
       "      <td>1.825716e+10</td>\n",
       "      <td>3.736590</td>\n",
       "    </tr>\n",
       "    <tr>\n",
       "      <th>8</th>\n",
       "      <td>Action,Adventure,Fantasy</td>\n",
       "      <td>4.935600e+09</td>\n",
       "      <td>4.149066e+09</td>\n",
       "      <td>1.306933e+10</td>\n",
       "      <td>8.133729e+09</td>\n",
       "      <td>2.647972</td>\n",
       "    </tr>\n",
       "    <tr>\n",
       "      <th>4</th>\n",
       "      <td>Action,Adventure,Comedy</td>\n",
       "      <td>2.351500e+09</td>\n",
       "      <td>3.323180e+09</td>\n",
       "      <td>9.215448e+09</td>\n",
       "      <td>6.863948e+09</td>\n",
       "      <td>3.918966</td>\n",
       "    </tr>\n",
       "    <tr>\n",
       "      <th>2</th>\n",
       "      <td>Action,Adventure,Animation</td>\n",
       "      <td>1.957500e+09</td>\n",
       "      <td>2.664329e+09</td>\n",
       "      <td>7.435879e+09</td>\n",
       "      <td>5.478379e+09</td>\n",
       "      <td>3.798661</td>\n",
       "    </tr>\n",
       "  </tbody>\n",
       "</table>\n",
       "</div>"
      ],
      "text/plain": [
       "                        Genres  production_budget  domestic_gross  \\\n",
       "12     Action,Adventure,Sci-Fi       9.070400e+09    1.258900e+10   \n",
       "70  Adventure,Animation,Comedy       6.671500e+09    8.782345e+09   \n",
       "8     Action,Adventure,Fantasy       4.935600e+09    4.149066e+09   \n",
       "4      Action,Adventure,Comedy       2.351500e+09    3.323180e+09   \n",
       "2   Action,Adventure,Animation       1.957500e+09    2.664329e+09   \n",
       "\n",
       "    worldwide_gross  profit_or_loss  relation_pro_los  \n",
       "12     3.429490e+10    2.522450e+10          3.780969  \n",
       "70     2.492866e+10    1.825716e+10          3.736590  \n",
       "8      1.306933e+10    8.133729e+09          2.647972  \n",
       "4      9.215448e+09    6.863948e+09          3.918966  \n",
       "2      7.435879e+09    5.478379e+09          3.798661  "
      ]
     },
     "execution_count": 1927,
     "metadata": {},
     "output_type": "execute_result"
    }
   ],
   "source": [
    "genre_gross_top.head()"
   ]
  },
  {
   "cell_type": "code",
   "execution_count": 1928,
   "metadata": {},
   "outputs": [
    {
     "data": {
      "text/html": [
       "<div>\n",
       "<style scoped>\n",
       "    .dataframe tbody tr th:only-of-type {\n",
       "        vertical-align: middle;\n",
       "    }\n",
       "\n",
       "    .dataframe tbody tr th {\n",
       "        vertical-align: top;\n",
       "    }\n",
       "\n",
       "    .dataframe thead th {\n",
       "        text-align: right;\n",
       "    }\n",
       "</style>\n",
       "<table border=\"1\" class=\"dataframe\">\n",
       "  <thead>\n",
       "    <tr style=\"text-align: right;\">\n",
       "      <th></th>\n",
       "      <th>Genres</th>\n",
       "      <th>production_budget</th>\n",
       "      <th>domestic_gross</th>\n",
       "      <th>worldwide_gross</th>\n",
       "      <th>profit_or_loss</th>\n",
       "      <th>relation_pro_los</th>\n",
       "    </tr>\n",
       "  </thead>\n",
       "  <tbody>\n",
       "    <tr>\n",
       "      <th>32</th>\n",
       "      <td>Action,Crime,Fantasy</td>\n",
       "      <td>90000000.0</td>\n",
       "      <td>0.0</td>\n",
       "      <td>0.0</td>\n",
       "      <td>-90000000.0</td>\n",
       "      <td>0.000000</td>\n",
       "    </tr>\n",
       "    <tr>\n",
       "      <th>51</th>\n",
       "      <td>Action,Family,Fantasy</td>\n",
       "      <td>90000000.0</td>\n",
       "      <td>195459.0</td>\n",
       "      <td>20466016.0</td>\n",
       "      <td>-69533984.0</td>\n",
       "      <td>0.227400</td>\n",
       "    </tr>\n",
       "    <tr>\n",
       "      <th>120</th>\n",
       "      <td>Biography,Crime,Documentary</td>\n",
       "      <td>87000000.0</td>\n",
       "      <td>18115927.0</td>\n",
       "      <td>19819208.0</td>\n",
       "      <td>-67180792.0</td>\n",
       "      <td>0.227807</td>\n",
       "    </tr>\n",
       "    <tr>\n",
       "      <th>190</th>\n",
       "      <td>Crime,Drama,History</td>\n",
       "      <td>92000000.0</td>\n",
       "      <td>12958326.0</td>\n",
       "      <td>27829311.0</td>\n",
       "      <td>-64170689.0</td>\n",
       "      <td>0.302493</td>\n",
       "    </tr>\n",
       "    <tr>\n",
       "      <th>183</th>\n",
       "      <td>Comedy,Western</td>\n",
       "      <td>66000000.0</td>\n",
       "      <td>5909483.0</td>\n",
       "      <td>8446952.0</td>\n",
       "      <td>-57553048.0</td>\n",
       "      <td>0.127984</td>\n",
       "    </tr>\n",
       "  </tbody>\n",
       "</table>\n",
       "</div>"
      ],
      "text/plain": [
       "                          Genres  production_budget  domestic_gross  \\\n",
       "32          Action,Crime,Fantasy         90000000.0             0.0   \n",
       "51         Action,Family,Fantasy         90000000.0        195459.0   \n",
       "120  Biography,Crime,Documentary         87000000.0      18115927.0   \n",
       "190          Crime,Drama,History         92000000.0      12958326.0   \n",
       "183               Comedy,Western         66000000.0       5909483.0   \n",
       "\n",
       "     worldwide_gross  profit_or_loss  relation_pro_los  \n",
       "32               0.0     -90000000.0          0.000000  \n",
       "51        20466016.0     -69533984.0          0.227400  \n",
       "120       19819208.0     -67180792.0          0.227807  \n",
       "190       27829311.0     -64170689.0          0.302493  \n",
       "183        8446952.0     -57553048.0          0.127984  "
      ]
     },
     "execution_count": 1928,
     "metadata": {},
     "output_type": "execute_result"
    }
   ],
   "source": [
    "genre_gross_bottom.head()"
   ]
  },
  {
   "cell_type": "markdown",
   "metadata": {},
   "source": [
    "We can see, even after cleaning up, that we have ended up with a not very significant result, where when having a big budget, the total gross income is zero, and the genre had no revenue either domesticly or internationally. This surely cannot be a real case, and must have happened something when merging. So we will delete this row and add a new one so we still have the same amount of data."
   ]
  },
  {
   "cell_type": "code",
   "execution_count": 1929,
   "metadata": {},
   "outputs": [
    {
     "data": {
      "text/html": [
       "<div>\n",
       "<style scoped>\n",
       "    .dataframe tbody tr th:only-of-type {\n",
       "        vertical-align: middle;\n",
       "    }\n",
       "\n",
       "    .dataframe tbody tr th {\n",
       "        vertical-align: top;\n",
       "    }\n",
       "\n",
       "    .dataframe thead th {\n",
       "        text-align: right;\n",
       "    }\n",
       "</style>\n",
       "<table border=\"1\" class=\"dataframe\">\n",
       "  <thead>\n",
       "    <tr style=\"text-align: right;\">\n",
       "      <th></th>\n",
       "      <th>Genres</th>\n",
       "      <th>production_budget</th>\n",
       "      <th>domestic_gross</th>\n",
       "      <th>worldwide_gross</th>\n",
       "      <th>profit_or_loss</th>\n",
       "      <th>relation_pro_los</th>\n",
       "    </tr>\n",
       "  </thead>\n",
       "  <tbody>\n",
       "    <tr>\n",
       "      <th>51</th>\n",
       "      <td>Action,Family,Fantasy</td>\n",
       "      <td>90000000.0</td>\n",
       "      <td>195459.0</td>\n",
       "      <td>20466016.0</td>\n",
       "      <td>-69533984.0</td>\n",
       "      <td>0.227400</td>\n",
       "    </tr>\n",
       "    <tr>\n",
       "      <th>120</th>\n",
       "      <td>Biography,Crime,Documentary</td>\n",
       "      <td>87000000.0</td>\n",
       "      <td>18115927.0</td>\n",
       "      <td>19819208.0</td>\n",
       "      <td>-67180792.0</td>\n",
       "      <td>0.227807</td>\n",
       "    </tr>\n",
       "    <tr>\n",
       "      <th>190</th>\n",
       "      <td>Crime,Drama,History</td>\n",
       "      <td>92000000.0</td>\n",
       "      <td>12958326.0</td>\n",
       "      <td>27829311.0</td>\n",
       "      <td>-64170689.0</td>\n",
       "      <td>0.302493</td>\n",
       "    </tr>\n",
       "    <tr>\n",
       "      <th>183</th>\n",
       "      <td>Comedy,Western</td>\n",
       "      <td>66000000.0</td>\n",
       "      <td>5909483.0</td>\n",
       "      <td>8446952.0</td>\n",
       "      <td>-57553048.0</td>\n",
       "      <td>0.127984</td>\n",
       "    </tr>\n",
       "    <tr>\n",
       "      <th>275</th>\n",
       "      <td>Romance</td>\n",
       "      <td>81425000.0</td>\n",
       "      <td>19480739.0</td>\n",
       "      <td>26716649.0</td>\n",
       "      <td>-54708351.0</td>\n",
       "      <td>0.328114</td>\n",
       "    </tr>\n",
       "  </tbody>\n",
       "</table>\n",
       "</div>"
      ],
      "text/plain": [
       "                          Genres  production_budget  domestic_gross  \\\n",
       "51         Action,Family,Fantasy         90000000.0        195459.0   \n",
       "120  Biography,Crime,Documentary         87000000.0      18115927.0   \n",
       "190          Crime,Drama,History         92000000.0      12958326.0   \n",
       "183               Comedy,Western         66000000.0       5909483.0   \n",
       "275                      Romance         81425000.0      19480739.0   \n",
       "\n",
       "     worldwide_gross  profit_or_loss  relation_pro_los  \n",
       "51        20466016.0     -69533984.0          0.227400  \n",
       "120       19819208.0     -67180792.0          0.227807  \n",
       "190       27829311.0     -64170689.0          0.302493  \n",
       "183        8446952.0     -57553048.0          0.127984  \n",
       "275       26716649.0     -54708351.0          0.328114  "
      ]
     },
     "execution_count": 1929,
     "metadata": {},
     "output_type": "execute_result"
    }
   ],
   "source": [
    "genre_gross_bottom = genre_gross_grouped.sort_values(by=\"profit_or_loss\").iloc[:(20+1)]\n",
    "genre_gross_bottom.drop(index=32, inplace=True)\n",
    "genre_gross_bottom.head()"
   ]
  },
  {
   "cell_type": "markdown",
   "metadata": {},
   "source": [
    "We can start plotting. First we are gonna plot the `Genres` with their `profit_or_loss` in order to see which are the ones with the highest and lowest incomes."
   ]
  },
  {
   "cell_type": "code",
   "execution_count": 1930,
   "metadata": {},
   "outputs": [],
   "source": [
    "f1 = 20\n",
    "f2 = 10 \n",
    "hs = 3\n",
    "fx = 16\n",
    "fy = 16\n",
    "ft = 20"
   ]
  },
  {
   "cell_type": "code",
   "execution_count": 1931,
   "metadata": {
    "scrolled": false
   },
   "outputs": [
    {
     "data": {
      "image/png": "[encoded data removed]",
      "text/plain": [
       "<Figure size 1440x720 with 2 Axes>"
      ]
     },
     "metadata": {
      "needs_background": "light"
     },
     "output_type": "display_data"
    }
   ],
   "source": [
    "fig, (ax1, ax2) = plt.subplots(figsize=(f1,f2), nrows=2, ncols=1)\n",
    "\n",
    "ax1.bar(genre_gross_top.Genres, genre_gross_top.profit_or_loss, color=\"g\")\n",
    "\n",
    "ax1.set_title(\"Profit of Movies by Genre\", fontdict={\"fontsize\":ft})\n",
    "\n",
    "plt.draw()\n",
    "ax1.set_xticks(ax1.get_xticks())\n",
    "ax1.set_xticklabels(ax1.get_xticklabels(), rotation=90, fontdict={\"fontsize\":fx})\n",
    "\n",
    "ax1.ticklabel_format(style=\"plain\", axis=\"y\")\n",
    "ax1.get_yaxis().set_major_formatter(\n",
    "    matplotlib.ticker.FuncFormatter(lambda x, p: format(int(x), ',')))\n",
    "\n",
    "ax1.set_xlabel(\"Genre\", fontdict={\"fontsize\":ft})\n",
    "ax1.set_ylabel(\"USD\", fontdict={\"fontsize\":ft})\n",
    "ax1.grid(axis=\"y\")\n",
    "\n",
    "#######\n",
    "\n",
    "ax2.bar(genre_gross_bottom.Genres, genre_gross_bottom.profit_or_loss, color=\"r\")\n",
    "ax2.set_title(\"Loss of Movies by Genre\", fontdict={\"fontsize\":ft})\n",
    "\n",
    "plt.draw()\n",
    "ax2.set_xticks(ax2.get_xticks())\n",
    "ax2.set_xticklabels(ax2.get_xticklabels(), rotation=90, fontdict={\"fontsize\":fx})\n",
    "ax2.ticklabel_format(style=\"plain\", axis=\"y\")\n",
    "ax2.get_yaxis().set_major_formatter(\n",
    "    matplotlib.ticker.FuncFormatter(lambda x, p: format(int(x), ',')))\n",
    "\n",
    "ax2.set_xlabel(\"Genre\", fontdict={\"fontsize\":ft})\n",
    "ax2.set_ylabel(\"USD\", fontdict={\"fontsize\":ft})\n",
    "ax2.grid(axis=\"y\")\n",
    "\n",
    "#######\n",
    "\n",
    "plt.subplots_adjust(hspace=hs)\n",
    "plt.show()"
   ]
  },
  {
   "cell_type": "markdown",
   "metadata": {},
   "source": [
    "We can also have a visual comparison of the earnings with the budget."
   ]
  },
  {
   "cell_type": "code",
   "execution_count": 1932,
   "metadata": {},
   "outputs": [],
   "source": [
    "wwg_top = genre_gross_top.sort_values(by=\"worldwide_gross\", ascending=False)\n",
    "wwg_bottom = genre_gross_bottom.sort_values(by=\"worldwide_gross\", ascending=False)"
   ]
  },
  {
   "cell_type": "code",
   "execution_count": 1933,
   "metadata": {},
   "outputs": [
    {
     "data": {
      "image/png": "[encoded data removed]",
      "text/plain": [
       "<Figure size 1440x720 with 2 Axes>"
      ]
     },
     "metadata": {
      "needs_background": "light"
     },
     "output_type": "display_data"
    }
   ],
   "source": [
    "fig, (ax1, ax2) = plt.subplots(figsize=(f1,f2), nrows=2, ncols=1)\n",
    "\n",
    "ax1.bar(genre_gross_top.Genres, wwg_top.worldwide_gross, width=-0.45, color=\"g\", align=\"edge\")\n",
    "ax1.bar(genre_gross_top.Genres, wwg_top.production_budget, width=0.45, color=\"orange\", align=\"edge\")\n",
    "\n",
    "ax1.set_title(\"Worldwide Income of Movies by Genre and Budget\", fontdict={\"fontsize\":ft})\n",
    "\n",
    "\n",
    "plt.draw()\n",
    "ax1.set_xticks(ax1.get_xticks())\n",
    "ax1.set_xticklabels(ax1.get_xticklabels(), rotation=90, fontdict={\"fontsize\":fx})\n",
    "ax1.ticklabel_format(style=\"plain\", axis=\"y\")\n",
    "ax1.get_yaxis().set_major_formatter(matplotlib.ticker.FuncFormatter(lambda x, p: format(int(x), ',')))\n",
    "\n",
    "\n",
    "ax1.set_xlabel(\"Genre\", fontdict={\"fontsize\":ft})\n",
    "ax1.set_ylabel(\"USD\", fontdict={\"fontsize\":ft})\n",
    "ax1.legend(labels=['Worldwide Income', 'Budget'])\n",
    "\n",
    "ax1.grid(axis=\"y\")\n",
    "\n",
    "#######\n",
    "\n",
    "ax2.bar(genre_gross_bottom.Genres, wwg_bottom.worldwide_gross, width=-0.45, color=\"r\",align=\"edge\")\n",
    "ax2.bar(genre_gross_bottom.Genres, wwg_bottom.production_budget, width=0.45, color=\"orange\", align=\"edge\")\n",
    "\n",
    "ax2.set_title(\"Worldwide Income of Movies by Genre and Budget\", fontdict={\"fontsize\":ft})\n",
    "\n",
    "plt.draw()\n",
    "ax2.set_xticks(ax2.get_xticks())\n",
    "ax2.set_xticklabels(ax2.get_xticklabels(), rotation=90, fontdict={\"fontsize\":fx})\n",
    "ax2.ticklabel_format(style=\"plain\", axis=\"y\")\n",
    "ax2.get_yaxis().set_major_formatter(\n",
    "    matplotlib.ticker.FuncFormatter(lambda x, p: format(int(x), ',')))\n",
    "\n",
    "ax2.set_xlabel(\"Genre\", fontdict={\"fontsize\":ft})\n",
    "ax2.set_ylabel(\"USD\", fontdict={\"fontsize\":ft})\n",
    "ax2.legend(labels=['Worldwide Income', 'Budget'])\n",
    "\n",
    "ax2.grid(axis=\"y\")\n",
    "\n",
    "#######\n",
    "plt.subplots_adjust(hspace=hs)\n",
    "plt.show()"
   ]
  },
  {
   "cell_type": "markdown",
   "metadata": {},
   "source": [
    "It would be convenient to also do an analysis based on the relationship between the budget and the revenue; because, as we can see in the previous tables, some movies barely earn or loss the production budgets amount than others which may have even surpass it."
   ]
  },
  {
   "cell_type": "code",
   "execution_count": 1934,
   "metadata": {},
   "outputs": [],
   "source": [
    "relation_top = genre_gross_top.sort_values(by=\"relation_pro_los\", ascending=False)\n",
    "relation_bottom = genre_gross_bottom.sort_values(by=\"relation_pro_los\", ascending=False)"
   ]
  },
  {
   "cell_type": "markdown",
   "metadata": {},
   "source": [
    "We plot again."
   ]
  },
  {
   "cell_type": "code",
   "execution_count": 1935,
   "metadata": {
    "scrolled": false
   },
   "outputs": [
    {
     "data": {
      "image/png": "[encoded data removed]",
      "text/plain": [
       "<Figure size 1440x720 with 2 Axes>"
      ]
     },
     "metadata": {
      "needs_background": "light"
     },
     "output_type": "display_data"
    }
   ],
   "source": [
    "fig, (ax1, ax2) = plt.subplots(figsize=(f1,f2), nrows=2, ncols=1)\n",
    "\n",
    "ax1.bar(relation_top.Genres, relation_top.relation_pro_los, color=\"g\")\n",
    "\n",
    "ax1.set_title(\"Percentage of Profits\", fontdict={\"fontsize\":ft})\n",
    "\n",
    "plt.draw()\n",
    "ax1.set_xticks(ax1.get_xticks())\n",
    "ax1.set_xticklabels(ax1.get_xticklabels(), rotation=90, fontdict={\"fontsize\":fx})\n",
    "\n",
    "ax1.set_xlabel(\"Genre\", fontdict={\"fontsize\":ft})\n",
    "ax1.set_ylabel(\"Percentage (x100)\", fontdict={\"fontsize\":ft})\n",
    "ax1.grid(axis=\"y\")\n",
    "\n",
    "#######\n",
    "\n",
    "ax2.bar(relation_bottom.Genres, relation_bottom.relation_pro_los, color=\"r\")\n",
    "ax2.set_title(\"Percentage of Losses\", fontdict={\"fontsize\":ft})\n",
    "\n",
    "plt.draw()\n",
    "ax2.set_xticks(ax2.get_xticks())\n",
    "ax2.set_xticklabels(ax2.get_xticklabels(), rotation=90, fontdict={\"fontsize\":fx})\n",
    "\n",
    "ax2.set_xlabel(\"Genre\", fontdict={\"fontsize\":ft})\n",
    "ax2.set_ylabel(\"Percentage (x100)\", fontdict={\"fontsize\":ft})\n",
    "ax2.grid(axis=\"y\")\n",
    "\n",
    "#######\n",
    "\n",
    "plt.subplots_adjust(hspace=hs)\n",
    "plt.show()"
   ]
  },
  {
   "cell_type": "markdown",
   "metadata": {},
   "source": [
    "As we can see, even if the plots are somewhat similar, they have key differences that may be relevant for later analysis."
   ]
  },
  {
   "cell_type": "markdown",
   "metadata": {},
   "source": [
    "## Statistical Analysis"
   ]
  },
  {
   "cell_type": "markdown",
   "metadata": {},
   "source": [
    "Now that we have got a bunch of information from visualization, it is time to be certain of what we are proposing, and for that matter we ougth to perform a statistical analysis which will let us know if our results are significant or not."
   ]
  },
  {
   "cell_type": "markdown",
   "metadata": {},
   "source": [
    "For that purpose we shall stablish what are we are trying to demonstrate: which genre is the most profitable in terms of budget and income? Before we saw visually that it could be the **Horror/Mystery/Thriller** group genre which had around $3 billion USD profit in relation to its budget. Now we will put statistics into it for more sifnificant results.\n",
    "\n",
    "A good kind of hypotheses that would answer our question would be the following ones:"
   ]
  },
  {
   "cell_type": "markdown",
   "metadata": {},
   "source": [
    "$H_0$: *Having a higher budget will not produce higher profit movies.*"
   ]
  },
  {
   "cell_type": "markdown",
   "metadata": {},
   "source": [
    "$H_1$: *Having a higher budget will produce higher profit movies.*"
   ]
  },
  {
   "cell_type": "markdown",
   "metadata": {},
   "source": [
    "We are dealing with a "
   ]
  },
  {
   "cell_type": "markdown",
   "metadata": {},
   "source": [
    "Now we develop statistical analysis to find out which hypotheses would be correct. For that purpose we have to get some basic statistic values from our population to start working with, for example: mean, median, standard deviation and some more."
   ]
  },
  {
   "cell_type": "markdown",
   "metadata": {},
   "source": [
    "Our population is contained within the `genre_gross_grouped` dataframe."
   ]
  },
  {
   "cell_type": "code",
   "execution_count": 1936,
   "metadata": {
    "scrolled": true
   },
   "outputs": [
    {
     "data": {
      "text/html": [
       "<div>\n",
       "<style scoped>\n",
       "    .dataframe tbody tr th:only-of-type {\n",
       "        vertical-align: middle;\n",
       "    }\n",
       "\n",
       "    .dataframe tbody tr th {\n",
       "        vertical-align: top;\n",
       "    }\n",
       "\n",
       "    .dataframe thead th {\n",
       "        text-align: right;\n",
       "    }\n",
       "</style>\n",
       "<table border=\"1\" class=\"dataframe\">\n",
       "  <thead>\n",
       "    <tr style=\"text-align: right;\">\n",
       "      <th></th>\n",
       "      <th>production_budget</th>\n",
       "      <th>domestic_gross</th>\n",
       "      <th>worldwide_gross</th>\n",
       "      <th>profit_or_loss</th>\n",
       "      <th>relation_pro_los</th>\n",
       "    </tr>\n",
       "  </thead>\n",
       "  <tbody>\n",
       "    <tr>\n",
       "      <th>count</th>\n",
       "      <td>2.810000e+02</td>\n",
       "      <td>2.810000e+02</td>\n",
       "      <td>2.810000e+02</td>\n",
       "      <td>2.810000e+02</td>\n",
       "      <td>281.000000</td>\n",
       "    </tr>\n",
       "    <tr>\n",
       "      <th>mean</th>\n",
       "      <td>2.804280e+08</td>\n",
       "      <td>3.498363e+08</td>\n",
       "      <td>8.555138e+08</td>\n",
       "      <td>5.750858e+08</td>\n",
       "      <td>2.679059</td>\n",
       "    </tr>\n",
       "    <tr>\n",
       "      <th>std</th>\n",
       "      <td>8.105352e+08</td>\n",
       "      <td>1.047753e+09</td>\n",
       "      <td>2.837679e+09</td>\n",
       "      <td>2.049457e+09</td>\n",
       "      <td>2.610660</td>\n",
       "    </tr>\n",
       "    <tr>\n",
       "      <th>min</th>\n",
       "      <td>1.750000e+05</td>\n",
       "      <td>0.000000e+00</td>\n",
       "      <td>0.000000e+00</td>\n",
       "      <td>-9.000000e+07</td>\n",
       "      <td>0.000000</td>\n",
       "    </tr>\n",
       "    <tr>\n",
       "      <th>25%</th>\n",
       "      <td>2.590800e+07</td>\n",
       "      <td>1.811593e+07</td>\n",
       "      <td>3.019910e+07</td>\n",
       "      <td>2.714573e+06</td>\n",
       "      <td>1.079408</td>\n",
       "    </tr>\n",
       "    <tr>\n",
       "      <th>50%</th>\n",
       "      <td>7.810000e+07</td>\n",
       "      <td>7.604915e+07</td>\n",
       "      <td>1.569076e+08</td>\n",
       "      <td>7.471642e+07</td>\n",
       "      <td>2.224965</td>\n",
       "    </tr>\n",
       "    <tr>\n",
       "      <th>75%</th>\n",
       "      <td>2.095500e+08</td>\n",
       "      <td>2.839318e+08</td>\n",
       "      <td>6.153458e+08</td>\n",
       "      <td>4.099110e+08</td>\n",
       "      <td>3.393930</td>\n",
       "    </tr>\n",
       "    <tr>\n",
       "      <th>max</th>\n",
       "      <td>9.070400e+09</td>\n",
       "      <td>1.258900e+10</td>\n",
       "      <td>3.429490e+10</td>\n",
       "      <td>2.522450e+10</td>\n",
       "      <td>19.534452</td>\n",
       "    </tr>\n",
       "  </tbody>\n",
       "</table>\n",
       "</div>"
      ],
      "text/plain": [
       "       production_budget  domestic_gross  worldwide_gross  profit_or_loss  \\\n",
       "count       2.810000e+02    2.810000e+02     2.810000e+02    2.810000e+02   \n",
       "mean        2.804280e+08    3.498363e+08     8.555138e+08    5.750858e+08   \n",
       "std         8.105352e+08    1.047753e+09     2.837679e+09    2.049457e+09   \n",
       "min         1.750000e+05    0.000000e+00     0.000000e+00   -9.000000e+07   \n",
       "25%         2.590800e+07    1.811593e+07     3.019910e+07    2.714573e+06   \n",
       "50%         7.810000e+07    7.604915e+07     1.569076e+08    7.471642e+07   \n",
       "75%         2.095500e+08    2.839318e+08     6.153458e+08    4.099110e+08   \n",
       "max         9.070400e+09    1.258900e+10     3.429490e+10    2.522450e+10   \n",
       "\n",
       "       relation_pro_los  \n",
       "count        281.000000  \n",
       "mean           2.679059  \n",
       "std            2.610660  \n",
       "min            0.000000  \n",
       "25%            1.079408  \n",
       "50%            2.224965  \n",
       "75%            3.393930  \n",
       "max           19.534452  "
      ]
     },
     "execution_count": 1936,
     "metadata": {},
     "output_type": "execute_result"
    }
   ],
   "source": [
    "genre_gross_grouped.describe()"
   ]
  },
  {
   "cell_type": "markdown",
   "metadata": {},
   "source": [
    "We also need to get our population sample, which we have decided that will be of 20 samples."
   ]
  },
  {
   "cell_type": "code",
   "execution_count": 1938,
   "metadata": {},
   "outputs": [],
   "source": [
    "sample_genres = genre_gross_grouped.sample(n=20)"
   ]
  },
  {
   "cell_type": "markdown",
   "metadata": {},
   "source": [
    "We have to keep in mind that this sample will change everytime the code is run."
   ]
  },
  {
   "cell_type": "code",
   "execution_count": 1939,
   "metadata": {},
   "outputs": [
    {
     "data": {
      "text/html": [
       "<div>\n",
       "<style scoped>\n",
       "    .dataframe tbody tr th:only-of-type {\n",
       "        vertical-align: middle;\n",
       "    }\n",
       "\n",
       "    .dataframe tbody tr th {\n",
       "        vertical-align: top;\n",
       "    }\n",
       "\n",
       "    .dataframe thead th {\n",
       "        text-align: right;\n",
       "    }\n",
       "</style>\n",
       "<table border=\"1\" class=\"dataframe\">\n",
       "  <thead>\n",
       "    <tr style=\"text-align: right;\">\n",
       "      <th></th>\n",
       "      <th>Genres</th>\n",
       "      <th>production_budget</th>\n",
       "      <th>domestic_gross</th>\n",
       "      <th>worldwide_gross</th>\n",
       "      <th>profit_or_loss</th>\n",
       "      <th>relation_pro_los</th>\n",
       "    </tr>\n",
       "  </thead>\n",
       "  <tbody>\n",
       "    <tr>\n",
       "      <th>223</th>\n",
       "      <td>Drama,Fantasy,Romance</td>\n",
       "      <td>4.021000e+08</td>\n",
       "      <td>6.601804e+08</td>\n",
       "      <td>1.614030e+09</td>\n",
       "      <td>1.211930e+09</td>\n",
       "      <td>4.014001</td>\n",
       "    </tr>\n",
       "    <tr>\n",
       "      <th>182</th>\n",
       "      <td>Comedy,Thriller</td>\n",
       "      <td>7.000000e+06</td>\n",
       "      <td>1.991000e+07</td>\n",
       "      <td>1.991000e+07</td>\n",
       "      <td>1.291000e+07</td>\n",
       "      <td>2.844286</td>\n",
       "    </tr>\n",
       "    <tr>\n",
       "      <th>164</th>\n",
       "      <td>Comedy,Fantasy,Thriller</td>\n",
       "      <td>9.000000e+05</td>\n",
       "      <td>6.997000e+03</td>\n",
       "      <td>4.137330e+05</td>\n",
       "      <td>-4.862670e+05</td>\n",
       "      <td>0.459703</td>\n",
       "    </tr>\n",
       "    <tr>\n",
       "      <th>248</th>\n",
       "      <td>Drama,Sci-Fi</td>\n",
       "      <td>8.840000e+07</td>\n",
       "      <td>2.768084e+07</td>\n",
       "      <td>8.229328e+07</td>\n",
       "      <td>-6.106715e+06</td>\n",
       "      <td>0.930920</td>\n",
       "    </tr>\n",
       "    <tr>\n",
       "      <th>244</th>\n",
       "      <td>Drama,Romance</td>\n",
       "      <td>1.129290e+09</td>\n",
       "      <td>1.309746e+09</td>\n",
       "      <td>3.152052e+09</td>\n",
       "      <td>2.022762e+09</td>\n",
       "      <td>2.791181</td>\n",
       "    </tr>\n",
       "    <tr>\n",
       "      <th>233</th>\n",
       "      <td>Drama,Horror,Sci-Fi</td>\n",
       "      <td>9.210000e+07</td>\n",
       "      <td>1.050298e+07</td>\n",
       "      <td>4.125255e+07</td>\n",
       "      <td>-5.084745e+07</td>\n",
       "      <td>0.447910</td>\n",
       "    </tr>\n",
       "    <tr>\n",
       "      <th>183</th>\n",
       "      <td>Comedy,Western</td>\n",
       "      <td>6.600000e+07</td>\n",
       "      <td>5.909483e+06</td>\n",
       "      <td>8.446952e+06</td>\n",
       "      <td>-5.755305e+07</td>\n",
       "      <td>0.127984</td>\n",
       "    </tr>\n",
       "    <tr>\n",
       "      <th>33</th>\n",
       "      <td>Action,Crime,Horror</td>\n",
       "      <td>4.000000e+06</td>\n",
       "      <td>1.065429e+06</td>\n",
       "      <td>1.983596e+06</td>\n",
       "      <td>-2.016404e+06</td>\n",
       "      <td>0.495899</td>\n",
       "    </tr>\n",
       "    <tr>\n",
       "      <th>190</th>\n",
       "      <td>Crime,Drama,History</td>\n",
       "      <td>9.200000e+07</td>\n",
       "      <td>1.295833e+07</td>\n",
       "      <td>2.782931e+07</td>\n",
       "      <td>-6.417069e+07</td>\n",
       "      <td>0.302493</td>\n",
       "    </tr>\n",
       "    <tr>\n",
       "      <th>50</th>\n",
       "      <td>Action,Drama,Western</td>\n",
       "      <td>4.300000e+07</td>\n",
       "      <td>1.513793e+06</td>\n",
       "      <td>3.771345e+06</td>\n",
       "      <td>-3.922866e+07</td>\n",
       "      <td>0.087706</td>\n",
       "    </tr>\n",
       "    <tr>\n",
       "      <th>77</th>\n",
       "      <td>Adventure,Comedy,Crime</td>\n",
       "      <td>2.010000e+08</td>\n",
       "      <td>2.784736e+08</td>\n",
       "      <td>4.737248e+08</td>\n",
       "      <td>2.727248e+08</td>\n",
       "      <td>2.356840</td>\n",
       "    </tr>\n",
       "    <tr>\n",
       "      <th>8</th>\n",
       "      <td>Action,Adventure,Fantasy</td>\n",
       "      <td>4.935600e+09</td>\n",
       "      <td>4.149066e+09</td>\n",
       "      <td>1.306933e+10</td>\n",
       "      <td>8.133729e+09</td>\n",
       "      <td>2.647972</td>\n",
       "    </tr>\n",
       "    <tr>\n",
       "      <th>4</th>\n",
       "      <td>Action,Adventure,Comedy</td>\n",
       "      <td>2.351500e+09</td>\n",
       "      <td>3.323180e+09</td>\n",
       "      <td>9.215448e+09</td>\n",
       "      <td>6.863948e+09</td>\n",
       "      <td>3.918966</td>\n",
       "    </tr>\n",
       "    <tr>\n",
       "      <th>213</th>\n",
       "      <td>Drama,Family</td>\n",
       "      <td>1.842500e+08</td>\n",
       "      <td>3.398119e+08</td>\n",
       "      <td>6.359190e+08</td>\n",
       "      <td>4.516690e+08</td>\n",
       "      <td>3.451392</td>\n",
       "    </tr>\n",
       "    <tr>\n",
       "      <th>86</th>\n",
       "      <td>Adventure,Documentary</td>\n",
       "      <td>3.000000e+07</td>\n",
       "      <td>6.417225e+07</td>\n",
       "      <td>7.117225e+07</td>\n",
       "      <td>4.117225e+07</td>\n",
       "      <td>2.372408</td>\n",
       "    </tr>\n",
       "    <tr>\n",
       "      <th>89</th>\n",
       "      <td>Adventure,Drama</td>\n",
       "      <td>1.050000e+08</td>\n",
       "      <td>2.349454e+08</td>\n",
       "      <td>4.298357e+08</td>\n",
       "      <td>3.248357e+08</td>\n",
       "      <td>4.093674</td>\n",
       "    </tr>\n",
       "    <tr>\n",
       "      <th>58</th>\n",
       "      <td>Action,Horror,Sci-Fi</td>\n",
       "      <td>3.212000e+08</td>\n",
       "      <td>4.347277e+08</td>\n",
       "      <td>1.450946e+09</td>\n",
       "      <td>1.129746e+09</td>\n",
       "      <td>4.517268</td>\n",
       "    </tr>\n",
       "    <tr>\n",
       "      <th>139</th>\n",
       "      <td>Comedy,Crime</td>\n",
       "      <td>1.965000e+08</td>\n",
       "      <td>4.728321e+08</td>\n",
       "      <td>8.043990e+08</td>\n",
       "      <td>6.078990e+08</td>\n",
       "      <td>4.093634</td>\n",
       "    </tr>\n",
       "    <tr>\n",
       "      <th>274</th>\n",
       "      <td>Mystery,Thriller</td>\n",
       "      <td>8.085000e+07</td>\n",
       "      <td>1.280162e+08</td>\n",
       "      <td>2.994650e+08</td>\n",
       "      <td>2.186150e+08</td>\n",
       "      <td>3.703958</td>\n",
       "    </tr>\n",
       "    <tr>\n",
       "      <th>108</th>\n",
       "      <td>Animation</td>\n",
       "      <td>4.540000e+08</td>\n",
       "      <td>6.029492e+08</td>\n",
       "      <td>1.671834e+09</td>\n",
       "      <td>1.217834e+09</td>\n",
       "      <td>3.682453</td>\n",
       "    </tr>\n",
       "  </tbody>\n",
       "</table>\n",
       "</div>"
      ],
      "text/plain": [
       "                       Genres  production_budget  domestic_gross  \\\n",
       "223     Drama,Fantasy,Romance       4.021000e+08    6.601804e+08   \n",
       "182           Comedy,Thriller       7.000000e+06    1.991000e+07   \n",
       "164   Comedy,Fantasy,Thriller       9.000000e+05    6.997000e+03   \n",
       "248              Drama,Sci-Fi       8.840000e+07    2.768084e+07   \n",
       "244             Drama,Romance       1.129290e+09    1.309746e+09   \n",
       "233       Drama,Horror,Sci-Fi       9.210000e+07    1.050298e+07   \n",
       "183            Comedy,Western       6.600000e+07    5.909483e+06   \n",
       "33        Action,Crime,Horror       4.000000e+06    1.065429e+06   \n",
       "190       Crime,Drama,History       9.200000e+07    1.295833e+07   \n",
       "50       Action,Drama,Western       4.300000e+07    1.513793e+06   \n",
       "77     Adventure,Comedy,Crime       2.010000e+08    2.784736e+08   \n",
       "8    Action,Adventure,Fantasy       4.935600e+09    4.149066e+09   \n",
       "4     Action,Adventure,Comedy       2.351500e+09    3.323180e+09   \n",
       "213              Drama,Family       1.842500e+08    3.398119e+08   \n",
       "86      Adventure,Documentary       3.000000e+07    6.417225e+07   \n",
       "89            Adventure,Drama       1.050000e+08    2.349454e+08   \n",
       "58       Action,Horror,Sci-Fi       3.212000e+08    4.347277e+08   \n",
       "139              Comedy,Crime       1.965000e+08    4.728321e+08   \n",
       "274          Mystery,Thriller       8.085000e+07    1.280162e+08   \n",
       "108                 Animation       4.540000e+08    6.029492e+08   \n",
       "\n",
       "     worldwide_gross  profit_or_loss  relation_pro_los  \n",
       "223     1.614030e+09    1.211930e+09          4.014001  \n",
       "182     1.991000e+07    1.291000e+07          2.844286  \n",
       "164     4.137330e+05   -4.862670e+05          0.459703  \n",
       "248     8.229328e+07   -6.106715e+06          0.930920  \n",
       "244     3.152052e+09    2.022762e+09          2.791181  \n",
       "233     4.125255e+07   -5.084745e+07          0.447910  \n",
       "183     8.446952e+06   -5.755305e+07          0.127984  \n",
       "33      1.983596e+06   -2.016404e+06          0.495899  \n",
       "190     2.782931e+07   -6.417069e+07          0.302493  \n",
       "50      3.771345e+06   -3.922866e+07          0.087706  \n",
       "77      4.737248e+08    2.727248e+08          2.356840  \n",
       "8       1.306933e+10    8.133729e+09          2.647972  \n",
       "4       9.215448e+09    6.863948e+09          3.918966  \n",
       "213     6.359190e+08    4.516690e+08          3.451392  \n",
       "86      7.117225e+07    4.117225e+07          2.372408  \n",
       "89      4.298357e+08    3.248357e+08          4.093674  \n",
       "58      1.450946e+09    1.129746e+09          4.517268  \n",
       "139     8.043990e+08    6.078990e+08          4.093634  \n",
       "274     2.994650e+08    2.186150e+08          3.703958  \n",
       "108     1.671834e+09    1.217834e+09          3.682453  "
      ]
     },
     "execution_count": 1939,
     "metadata": {},
     "output_type": "execute_result"
    }
   ],
   "source": [
    "sample_genres"
   ]
  },
  {
   "cell_type": "code",
   "execution_count": null,
   "metadata": {},
   "outputs": [],
   "source": []
  }
 ],
 "metadata": {
  "kernelspec": {
   "display_name": "Python (learn-env)",
   "language": "python",
   "name": "learn-env"
  },
  "language_info": {
   "codemirror_mode": {
    "name": "ipython",
    "version": 3
   },
   "file_extension": ".py",
   "mimetype": "text/x-python",
   "name": "python",
   "nbconvert_exporter": "python",
   "pygments_lexer": "ipython3",
   "version": "3.8.5"
  }
 },
 "nbformat": 4,
 "nbformat_minor": 4
}
