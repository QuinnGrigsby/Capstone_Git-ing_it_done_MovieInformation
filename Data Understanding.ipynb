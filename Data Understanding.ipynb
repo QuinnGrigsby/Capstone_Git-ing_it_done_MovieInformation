{
 "cells": [
  {
   "cell_type": "markdown",
   "metadata": {},
   "source": [
    "##### Importing libraries to be utilized"
   ]
  },
  {
   "cell_type": "code",
   "execution_count": 1,
   "metadata": {},
   "outputs": [],
   "source": [
    "import pandas as pd\n",
    "import numpy as np\n",
    "import matplotlib.pyplot as plt\n",
    "import scipy as stats\n",
    "import seaborn as sns\n",
    "import zipfile\n",
    "import sqlite3"
   ]
  },
  {
   "cell_type": "markdown",
   "metadata": {},
   "source": [
    "##### Opening the movie_gross csv and assigning to a data fram\n",
    "##### Replacing the empty values in foreign and domestic gross with 0 instead of NaN\n",
    "##### Dropping the 5 rows that had null values included in the Studio"
   ]
  },
  {
   "cell_type": "code",
   "execution_count": 2,
   "metadata": {},
   "outputs": [
    {
     "name": "stdout",
     "output_type": "stream",
     "text": [
      "                                            title      studio  domestic_gross  \\\n",
      "0                                     Toy Story 3          BV     415000000.0   \n",
      "1                      Alice in Wonderland (2010)          BV     334200000.0   \n",
      "2     Harry Potter and the Deathly Hallows Part 1          WB     296000000.0   \n",
      "3                                       Inception          WB     292600000.0   \n",
      "4                             Shrek Forever After        P/DW     238700000.0   \n",
      "...                                           ...         ...             ...   \n",
      "3382                                    The Quake       Magn.          6200.0   \n",
      "3383                  Edward II (2018 re-release)          FM          4800.0   \n",
      "3384                                     El Pacto        Sony          2500.0   \n",
      "3385                                     The Swan  Synergetic          2400.0   \n",
      "3386                            An Actor Prepares       Grav.          1700.0   \n",
      "\n",
      "     foreign_gross  year  \n",
      "0        652000000  2010  \n",
      "1        691300000  2010  \n",
      "2        664300000  2010  \n",
      "3        535700000  2010  \n",
      "4        513900000  2010  \n",
      "...            ...   ...  \n",
      "3382             0  2018  \n",
      "3383             0  2018  \n",
      "3384             0  2018  \n",
      "3385             0  2018  \n",
      "3386             0  2018  \n",
      "\n",
      "[3382 rows x 5 columns]\n"
     ]
    }
   ],
   "source": [
    "movie_gross_data = pd.read_csv(\"zippedData/bom.movie_gross.csv.gz\")\n",
    "movie_gross_data[\"foreign_gross\"].fillna(0, inplace = True)\n",
    "movie_gross_data[\"domestic_gross\"].fillna(0, inplace = True)\n",
    "movie_gross_data.dropna(inplace = True)\n",
    "print(movie_gross_data)"
   ]
  },
  {
   "cell_type": "code",
   "execution_count": 3,
   "metadata": {},
   "outputs": [
    {
     "name": "stdout",
     "output_type": "stream",
     "text": [
      "<class 'pandas.core.frame.DataFrame'>\n",
      "Int64Index: 3382 entries, 0 to 3386\n",
      "Data columns (total 5 columns):\n",
      " #   Column          Non-Null Count  Dtype  \n",
      "---  ------          --------------  -----  \n",
      " 0   title           3382 non-null   object \n",
      " 1   studio          3382 non-null   object \n",
      " 2   domestic_gross  3382 non-null   float64\n",
      " 3   foreign_gross   3382 non-null   object \n",
      " 4   year            3382 non-null   int64  \n",
      "dtypes: float64(1), int64(1), object(3)\n",
      "memory usage: 158.5+ KB\n"
     ]
    }
   ],
   "source": [
    "movie_gross_data.info()"
   ]
  },
  {
   "cell_type": "markdown",
   "metadata": {},
   "source": [
    "##### Removing any commas that are included in the foreign and domestic gross columns to standardize the data"
   ]
  },
  {
   "cell_type": "code",
   "execution_count": 4,
   "metadata": {},
   "outputs": [
    {
     "data": {
      "text/plain": [
       "dtype('float64')"
      ]
     },
     "execution_count": 4,
     "metadata": {},
     "output_type": "execute_result"
    }
   ],
   "source": [
    "movie_gross_data[\"domestic_gross\"].replace(',','', regex = True, inplace = True)\n",
    "movie_gross_data[\"foreign_gross\"].replace(',','', regex = True, inplace = True)\n",
    "movie_gross_data[\"foreign_gross\"] = movie_gross_data[\"foreign_gross\"].astype(float)\n",
    "movie_gross_data.foreign_gross.dtype"
   ]
  },
  {
   "cell_type": "markdown",
   "metadata": {},
   "source": [
    "##### Creating a new column total gross which combines any foreign and domestic sales by movie"
   ]
  },
  {
   "cell_type": "code",
   "execution_count": 5,
   "metadata": {},
   "outputs": [
    {
     "name": "stdout",
     "output_type": "stream",
     "text": [
      "                                            title      studio  domestic_gross  \\\n",
      "0                                     Toy Story 3          BV     415000000.0   \n",
      "1                      Alice in Wonderland (2010)          BV     334200000.0   \n",
      "2     Harry Potter and the Deathly Hallows Part 1          WB     296000000.0   \n",
      "3                                       Inception          WB     292600000.0   \n",
      "4                             Shrek Forever After        P/DW     238700000.0   \n",
      "...                                           ...         ...             ...   \n",
      "3382                                    The Quake       Magn.          6200.0   \n",
      "3383                  Edward II (2018 re-release)          FM          4800.0   \n",
      "3384                                     El Pacto        Sony          2500.0   \n",
      "3385                                     The Swan  Synergetic          2400.0   \n",
      "3386                            An Actor Prepares       Grav.          1700.0   \n",
      "\n",
      "      foreign_gross  year   total_gross  \n",
      "0       652000000.0  2010  1.067000e+09  \n",
      "1       691300000.0  2010  1.025500e+09  \n",
      "2       664300000.0  2010  9.603000e+08  \n",
      "3       535700000.0  2010  8.283000e+08  \n",
      "4       513900000.0  2010  7.526000e+08  \n",
      "...             ...   ...           ...  \n",
      "3382            0.0  2018  6.200000e+03  \n",
      "3383            0.0  2018  4.800000e+03  \n",
      "3384            0.0  2018  2.500000e+03  \n",
      "3385            0.0  2018  2.400000e+03  \n",
      "3386            0.0  2018  1.700000e+03  \n",
      "\n",
      "[3382 rows x 6 columns]\n"
     ]
    }
   ],
   "source": [
    "movie_gross_data[\"total_gross\"] = movie_gross_data[\"foreign_gross\"].astype(float) + movie_gross_data[\"domestic_gross\"].astype(float)\n",
    "print(movie_gross_data)"
   ]
  },
  {
   "cell_type": "markdown",
   "metadata": {},
   "source": [
    "##### Using zipfile to unzip the imdb database"
   ]
  },
  {
   "cell_type": "code",
   "execution_count": 6,
   "metadata": {},
   "outputs": [],
   "source": [
    "with zipfile.ZipFile(\"zippedData/im.db.zip\", \"r\") as zObject:\n",
    "        zObject.extractall()"
   ]
  },
  {
   "cell_type": "markdown",
   "metadata": {},
   "source": [
    "##### Creating a connection to the database"
   ]
  },
  {
   "cell_type": "code",
   "execution_count": 7,
   "metadata": {},
   "outputs": [],
   "source": [
    "conn = sqlite3.connect(\"im.db\")\n",
    "cur = conn.cursor()"
   ]
  },
  {
   "cell_type": "markdown",
   "metadata": {},
   "source": [
    "### My question - is there a benefit to releasing domestic vs foreign or a particular genre that does well by region"
   ]
  },
  {
   "cell_type": "markdown",
   "metadata": {},
   "source": [
    "##### Creating a dataframe that only includes movie that have launched both domesting and foreign to compare by genre "
   ]
  },
  {
   "cell_type": "code",
   "execution_count": 8,
   "metadata": {},
   "outputs": [
    {
     "name": "stdout",
     "output_type": "stream",
     "text": [
      "                             title  studio  domestic_gross  foreign_gross  \\\n",
      "1872  Star Wars: The Force Awakens      BV     936700000.0         1131.6   \n",
      "3080                 Black Panther      BV     700100000.0    646900000.0   \n",
      "3079        Avengers: Infinity War      BV     678800000.0         1369.5   \n",
      "1873                Jurassic World    Uni.     652300000.0         1019.4   \n",
      "727          Marvel's The Avengers      BV     623400000.0    895500000.0   \n",
      "...                            ...     ...             ...            ...   \n",
      "292               Perrier's Bounty     IFC           800.0       167000.0   \n",
      "1738                       Jackpot      DR           800.0      1100000.0   \n",
      "2920     Amityville: The Awakening  W/Dim.           700.0      7700000.0   \n",
      "642                 Illegal (2011)      FM           700.0       289000.0   \n",
      "1018                 Apartment 143   Magn.           400.0       426000.0   \n",
      "\n",
      "      year   total_gross  \n",
      "1872  2015  9.367011e+08  \n",
      "3080  2018  1.347000e+09  \n",
      "3079  2018  6.788014e+08  \n",
      "1873  2015  6.523010e+08  \n",
      "727   2012  1.518900e+09  \n",
      "...    ...           ...  \n",
      "292   2010  1.678000e+05  \n",
      "1738  2014  1.100800e+06  \n",
      "2920  2017  7.700700e+06  \n",
      "642   2011  2.897000e+05  \n",
      "1018  2012  4.264000e+05  \n",
      "\n",
      "[2007 rows x 6 columns]\n"
     ]
    }
   ],
   "source": [
    "movie_domestic_foreign_comp = movie_gross_data[movie_gross_data[\"foreign_gross\"] != 0]\n",
    "movie_domestic_foreign_comp = movie_domestic_foreign_comp[movie_domestic_foreign_comp[\"domestic_gross\"] != 0]\n",
    "print(movie_domestic_foreign_comp.sort_values(by = [\"domestic_gross\"], ascending = False))"
   ]
  },
  {
   "cell_type": "markdown",
   "metadata": {},
   "source": [
    "##### Accessing the movie basics information from the imdb database and turning it to a df"
   ]
  },
  {
   "cell_type": "code",
   "execution_count": 9,
   "metadata": {},
   "outputs": [
    {
     "name": "stdout",
     "output_type": "stream",
     "text": [
      "         movie_id                                primary_title  \\\n",
      "0       tt0063540                                    Sunghursh   \n",
      "1       tt0066787              One Day Before the Rainy Season   \n",
      "2       tt0069049                   The Other Side of the Wind   \n",
      "3       tt0069204                              Sabse Bada Sukh   \n",
      "4       tt0100275                     The Wandering Soap Opera   \n",
      "...           ...                                          ...   \n",
      "146139  tt9916538                          Kuambil Lagi Hatiku   \n",
      "146140  tt9916622  Rodolpho Teóphilo - O Legado de um Pioneiro   \n",
      "146141  tt9916706                              Dankyavar Danka   \n",
      "146142  tt9916730                                       6 Gunn   \n",
      "146143  tt9916754               Chico Albuquerque - Revelações   \n",
      "\n",
      "                                     original_title  start_year  \\\n",
      "0                                         Sunghursh        2013   \n",
      "1                                   Ashad Ka Ek Din        2019   \n",
      "2                        The Other Side of the Wind        2018   \n",
      "3                                   Sabse Bada Sukh        2018   \n",
      "4                             La Telenovela Errante        2017   \n",
      "...                                             ...         ...   \n",
      "146139                          Kuambil Lagi Hatiku        2019   \n",
      "146140  Rodolpho Teóphilo - O Legado de um Pioneiro        2015   \n",
      "146141                              Dankyavar Danka        2013   \n",
      "146142                                       6 Gunn        2017   \n",
      "146143               Chico Albuquerque - Revelações        2013   \n",
      "\n",
      "        runtime_minutes                genres  \n",
      "0                 175.0    Action,Crime,Drama  \n",
      "1                 114.0       Biography,Drama  \n",
      "2                 122.0                 Drama  \n",
      "3                   NaN          Comedy,Drama  \n",
      "4                  80.0  Comedy,Drama,Fantasy  \n",
      "...                 ...                   ...  \n",
      "146139            123.0                 Drama  \n",
      "146140              NaN           Documentary  \n",
      "146141              NaN                Comedy  \n",
      "146142            116.0                  None  \n",
      "146143              NaN           Documentary  \n",
      "\n",
      "[146144 rows x 6 columns]\n"
     ]
    }
   ],
   "source": [
    "Query_Ratings = \"\"\"\n",
    "SELECT *\n",
    "FROM movie_basics\n",
    ";\n",
    "\"\"\"\n",
    "imdb_movie_infor = pd.read_sql(Query_Ratings, conn)\n",
    "print(imdb_movie_infor)"
   ]
  },
  {
   "cell_type": "markdown",
   "metadata": {},
   "source": [
    "##### Cleaning the df from the imdb data"
   ]
  },
  {
   "cell_type": "code",
   "execution_count": 10,
   "metadata": {},
   "outputs": [
    {
     "name": "stdout",
     "output_type": "stream",
     "text": [
      "         movie_id                                primary_title  start_year  \\\n",
      "0       tt0063540                                    Sunghursh        2013   \n",
      "1       tt0066787              One Day Before the Rainy Season        2019   \n",
      "2       tt0069049                   The Other Side of the Wind        2018   \n",
      "3       tt0069204                              Sabse Bada Sukh        2018   \n",
      "4       tt0100275                     The Wandering Soap Opera        2017   \n",
      "...           ...                                          ...         ...   \n",
      "146138  tt9916428                          The Secret of China        2019   \n",
      "146139  tt9916538                          Kuambil Lagi Hatiku        2019   \n",
      "146140  tt9916622  Rodolpho Teóphilo - O Legado de um Pioneiro        2015   \n",
      "146141  tt9916706                              Dankyavar Danka        2013   \n",
      "146143  tt9916754               Chico Albuquerque - Revelações        2013   \n",
      "\n",
      "        runtime_minutes                 genres  \n",
      "0                 175.0     Action,Crime,Drama  \n",
      "1                 114.0        Biography,Drama  \n",
      "2                 122.0                  Drama  \n",
      "3                   NaN           Comedy,Drama  \n",
      "4                  80.0   Comedy,Drama,Fantasy  \n",
      "...                 ...                    ...  \n",
      "146138              NaN  Adventure,History,War  \n",
      "146139            123.0                  Drama  \n",
      "146140              NaN            Documentary  \n",
      "146141              NaN                 Comedy  \n",
      "146143              NaN            Documentary  \n",
      "\n",
      "[131180 rows x 5 columns]\n"
     ]
    }
   ],
   "source": [
    "imdb_movie_infor.drop_duplicates(subset = [\"primary_title\"], inplace = True)\n",
    "imdb_movie_infor.drop([\"original_title\"], axis = 1, inplace = True)\n",
    "imdb_movie_infor = imdb_movie_infor[imdb_movie_infor[\"genres\"].str.contains(\"None\") == False]\n",
    "print(imdb_movie_infor)"
   ]
  },
  {
   "cell_type": "markdown",
   "metadata": {},
   "source": [
    "##### Completing a merge between the dataframs where the title matches"
   ]
  },
  {
   "cell_type": "code",
   "execution_count": 11,
   "metadata": {},
   "outputs": [
    {
     "name": "stdout",
     "output_type": "stream",
     "text": [
      "       movie_id                    primary_title  start_year  runtime_minutes  \\\n",
      "0     tt0337692                      On the Road        2012            124.0   \n",
      "1     tt0359950  The Secret Life of Walter Mitty        2013            114.0   \n",
      "2     tt0365907      A Walk Among the Tombstones        2014            114.0   \n",
      "3     tt0369610                   Jurassic World        2015            124.0   \n",
      "4     tt0372538                              Spy        2011            110.0   \n",
      "...         ...                              ...         ...              ...   \n",
      "1535  tt7784604                       Hereditary        2018            127.0   \n",
      "1536  tt8097306                    Nobody's Fool        2018            110.0   \n",
      "1537  tt8404272           How Long Will I Love U        2018            101.0   \n",
      "1538  tt8851262                     Spring Fever        2019              NaN   \n",
      "1539  tt9151704        Burn the Stage: The Movie        2018             84.0   \n",
      "\n",
      "                       genres                            title     studio  \\\n",
      "0     Adventure,Drama,Romance                      On the Road        IFC   \n",
      "1      Adventure,Comedy,Drama  The Secret Life of Walter Mitty        Fox   \n",
      "2          Action,Crime,Drama      A Walk Among the Tombstones       Uni.   \n",
      "3     Action,Adventure,Sci-Fi                   Jurassic World       Uni.   \n",
      "4          Action,Crime,Drama                              Spy        Fox   \n",
      "...                       ...                              ...        ...   \n",
      "1535     Drama,Horror,Mystery                       Hereditary        A24   \n",
      "1536     Comedy,Drama,Romance                    Nobody's Fool       Par.   \n",
      "1537                  Romance           How Long Will I Love U      WGUSA   \n",
      "1538            Comedy,Horror                     Spring Fever     Strand   \n",
      "1539        Documentary,Music        Burn the Stage: The Movie  Trafalgar   \n",
      "\n",
      "      domestic_gross  foreign_gross  year  total_gross  \n",
      "0           744000.0      8000000.0  2012    8744000.0  \n",
      "1         58200000.0    129900000.0  2013  188100000.0  \n",
      "2         26300000.0     26900000.0  2014   53200000.0  \n",
      "3        652300000.0         1019.4  2015  652301019.4  \n",
      "4        110800000.0    124800000.0  2015  235600000.0  \n",
      "...              ...            ...   ...          ...  \n",
      "1535      44100000.0     35300000.0  2018   79400000.0  \n",
      "1536      31700000.0      1800000.0  2018   33500000.0  \n",
      "1537        747000.0     82100000.0  2018   82847000.0  \n",
      "1538         10800.0       150000.0  2010     160800.0  \n",
      "1539       4200000.0     16100000.0  2018   20300000.0  \n",
      "\n",
      "[1540 rows x 11 columns]\n"
     ]
    }
   ],
   "source": [
    "merged_imdb_domestic_and_foreign = pd.merge(imdb_movie_infor, movie_domestic_foreign_comp, how = \"inner\", left_on= \"primary_title\", right_on= \"title\")\n",
    "print(merged_imdb_domestic_and_foreign)"
   ]
  },
  {
   "cell_type": "markdown",
   "metadata": {},
   "source": [
    "##### Cleaning up the new dataframe by removing the duplicated column"
   ]
  },
  {
   "cell_type": "code",
   "execution_count": 12,
   "metadata": {},
   "outputs": [],
   "source": [
    "merged_imdb_domestic_and_foreign.drop([\"title\"], axis = 1, inplace = True)\n",
    "merged_imdb_domestic_and_foreign.drop([\"year\"], axis = 1, inplace = True)\n",
    "merged_imdb_domestic_and_foreign.drop([\"movie_id\"], axis = 1, inplace = True)\n",
    "merged_imdb_domestic_and_foreign.dropna(inplace = True)"
   ]
  },
  {
   "cell_type": "code",
   "execution_count": 13,
   "metadata": {},
   "outputs": [
    {
     "name": "stdout",
     "output_type": "stream",
     "text": [
      "<class 'pandas.core.frame.DataFrame'>\n",
      "Int64Index: 1523 entries, 0 to 1539\n",
      "Data columns (total 8 columns):\n",
      " #   Column           Non-Null Count  Dtype  \n",
      "---  ------           --------------  -----  \n",
      " 0   primary_title    1523 non-null   object \n",
      " 1   start_year       1523 non-null   int64  \n",
      " 2   runtime_minutes  1523 non-null   float64\n",
      " 3   genres           1523 non-null   object \n",
      " 4   studio           1523 non-null   object \n",
      " 5   domestic_gross   1523 non-null   float64\n",
      " 6   foreign_gross    1523 non-null   float64\n",
      " 7   total_gross      1523 non-null   float64\n",
      "dtypes: float64(4), int64(1), object(3)\n",
      "memory usage: 107.1+ KB\n",
      "                        primary_title  start_year  runtime_minutes  \\\n",
      "0                         On the Road        2012            124.0   \n",
      "1     The Secret Life of Walter Mitty        2013            114.0   \n",
      "2         A Walk Among the Tombstones        2014            114.0   \n",
      "3                      Jurassic World        2015            124.0   \n",
      "4                                 Spy        2011            110.0   \n",
      "...                               ...         ...              ...   \n",
      "1534            Detective Chinatown 2        2018            121.0   \n",
      "1535                       Hereditary        2018            127.0   \n",
      "1536                    Nobody's Fool        2018            110.0   \n",
      "1537           How Long Will I Love U        2018            101.0   \n",
      "1539        Burn the Stage: The Movie        2018             84.0   \n",
      "\n",
      "                       genres     studio  domestic_gross  foreign_gross  \\\n",
      "0     Adventure,Drama,Romance        IFC        744000.0      8000000.0   \n",
      "1      Adventure,Comedy,Drama        Fox      58200000.0    129900000.0   \n",
      "2          Action,Crime,Drama       Uni.      26300000.0     26900000.0   \n",
      "3     Action,Adventure,Sci-Fi       Uni.     652300000.0         1019.4   \n",
      "4          Action,Crime,Drama        Fox     110800000.0    124800000.0   \n",
      "...                       ...        ...             ...            ...   \n",
      "1534    Action,Comedy,Mystery         WB       2000000.0    542100000.0   \n",
      "1535     Drama,Horror,Mystery        A24      44100000.0     35300000.0   \n",
      "1536     Comedy,Drama,Romance       Par.      31700000.0      1800000.0   \n",
      "1537                  Romance      WGUSA        747000.0     82100000.0   \n",
      "1539        Documentary,Music  Trafalgar       4200000.0     16100000.0   \n",
      "\n",
      "      total_gross  \n",
      "0       8744000.0  \n",
      "1     188100000.0  \n",
      "2      53200000.0  \n",
      "3     652301019.4  \n",
      "4     235600000.0  \n",
      "...           ...  \n",
      "1534  544100000.0  \n",
      "1535   79400000.0  \n",
      "1536   33500000.0  \n",
      "1537   82847000.0  \n",
      "1539   20300000.0  \n",
      "\n",
      "[1523 rows x 8 columns]\n"
     ]
    }
   ],
   "source": [
    "merged_imdb_domestic_and_foreign.info()\n",
    "print(merged_imdb_domestic_and_foreign)"
   ]
  },
  {
   "cell_type": "markdown",
   "metadata": {},
   "source": [
    "##### Cutting down the data frame a bit more to have access to only the columns that I want"
   ]
  },
  {
   "cell_type": "code",
   "execution_count": 14,
   "metadata": {},
   "outputs": [
    {
     "name": "stdout",
     "output_type": "stream",
     "text": [
      "                       genres  domestic_gross  foreign_gross  total_gross\n",
      "0     Adventure,Drama,Romance        744000.0      8000000.0    8744000.0\n",
      "1      Adventure,Comedy,Drama      58200000.0    129900000.0  188100000.0\n",
      "2          Action,Crime,Drama      26300000.0     26900000.0   53200000.0\n",
      "3     Action,Adventure,Sci-Fi     652300000.0         1019.4  652301019.4\n",
      "4          Action,Crime,Drama     110800000.0    124800000.0  235600000.0\n",
      "...                       ...             ...            ...          ...\n",
      "1534    Action,Comedy,Mystery       2000000.0    542100000.0  544100000.0\n",
      "1535     Drama,Horror,Mystery      44100000.0     35300000.0   79400000.0\n",
      "1536     Comedy,Drama,Romance      31700000.0      1800000.0   33500000.0\n",
      "1537                  Romance        747000.0     82100000.0   82847000.0\n",
      "1539        Documentary,Music       4200000.0     16100000.0   20300000.0\n",
      "\n",
      "[1523 rows x 4 columns]\n"
     ]
    }
   ],
   "source": [
    "data_for_analysis = merged_imdb_domestic_and_foreign[[\"genres\",'domestic_gross','foreign_gross','total_gross']]\n",
    "print(data_for_analysis)"
   ]
  },
  {
   "cell_type": "markdown",
   "metadata": {},
   "source": [
    "##### Grouping by genre before perfoming analytics"
   ]
  },
  {
   "cell_type": "code",
   "execution_count": 15,
   "metadata": {},
   "outputs": [
    {
     "name": "stdout",
     "output_type": "stream",
     "text": [
      "                            genres  domestic_gross  foreign_gross  \\\n",
      "11         Action,Adventure,Sci-Fi    1.102250e+10   1.661140e+10   \n",
      "58      Adventure,Animation,Comedy    8.651431e+09   1.596340e+10   \n",
      "8         Action,Adventure,Fantasy    4.378787e+09   8.936100e+09   \n",
      "4          Action,Adventure,Comedy    3.122514e+09   6.439700e+09   \n",
      "2       Action,Adventure,Animation    2.168615e+09   4.269500e+09   \n",
      "..                             ...             ...            ...   \n",
      "239               Thriller,Western    2.110000e+04   3.000000e+05   \n",
      "72           Adventure,Crime,Drama    3.810000e+04   2.670000e+05   \n",
      "108    Biography,Documentary,Drama    2.160000e+04   1.050000e+05   \n",
      "110  Biography,Documentary,History    6.720000e+04   5.010000e+04   \n",
      "107          Biography,Documentary    4.320000e+04   3.000000e+04   \n",
      "\n",
      "      total_gross  \n",
      "11   2.763390e+10  \n",
      "58   2.461483e+10  \n",
      "8    1.331489e+10  \n",
      "4    9.562214e+09  \n",
      "2    6.438115e+09  \n",
      "..            ...  \n",
      "239  3.211000e+05  \n",
      "72   3.051000e+05  \n",
      "108  1.266000e+05  \n",
      "110  1.173000e+05  \n",
      "107  7.320000e+04  \n",
      "\n",
      "[240 rows x 4 columns]\n"
     ]
    }
   ],
   "source": [
    "data_for_analysis_by_genre = data_for_analysis.groupby(by=\"genres\", as_index=False).sum()\n",
    "data_for_analysis_by_genre.sort_values(by=\"total_gross\", ascending=False, inplace = True)\n",
    "print(data_for_analysis_by_genre)"
   ]
  },
  {
   "cell_type": "markdown",
   "metadata": {},
   "source": [
    "### Creating visualizations to learn about the data"
   ]
  },
  {
   "cell_type": "markdown",
   "metadata": {},
   "source": [
    "##### Chopping Dataframe to only take genres that are most relevant"
   ]
  },
  {
   "cell_type": "code",
   "execution_count": 16,
   "metadata": {},
   "outputs": [
    {
     "name": "stdout",
     "output_type": "stream",
     "text": [
      "                         genres  domestic_gross  foreign_gross   total_gross\n",
      "11      Action,Adventure,Sci-Fi    1.102250e+10   1.661140e+10  2.763390e+10\n",
      "58   Adventure,Animation,Comedy    8.651431e+09   1.596340e+10  2.461483e+10\n",
      "8      Action,Adventure,Fantasy    4.378787e+09   8.936100e+09  1.331489e+10\n",
      "4       Action,Adventure,Comedy    3.122514e+09   6.439700e+09  9.562214e+09\n",
      "2    Action,Adventure,Animation    2.168615e+09   4.269500e+09  6.438115e+09\n",
      "12    Action,Adventure,Thriller    1.745800e+09   4.531900e+09  6.277700e+09\n",
      "6        Action,Adventure,Drama    1.601612e+09   3.329132e+09  4.930744e+09\n",
      "123                      Comedy    2.136065e+09   2.124036e+09  4.260100e+09\n",
      "57              Action,Thriller    1.352923e+09   2.409400e+09  3.762323e+09\n",
      "36        Action,Crime,Thriller    1.653300e+09   1.710002e+09  3.363302e+09\n",
      "141        Comedy,Drama,Romance    1.457426e+09   1.744604e+09  3.202031e+09\n",
      "160              Comedy,Romance    1.682196e+09   1.483227e+09  3.165422e+09\n",
      "84     Adventure,Family,Fantasy    9.235000e+08   2.156400e+09  3.079900e+09\n",
      "20          Action,Comedy,Crime    1.601157e+09   1.248069e+09  2.849226e+09\n",
      "227     Horror,Mystery,Thriller    1.265466e+09   1.519900e+09  2.785366e+09\n",
      "133                Comedy,Drama    1.399520e+09   1.250280e+09  2.649801e+09\n",
      "44        Action,Drama,Thriller    4.418080e+08   2.062355e+09  2.504163e+09\n",
      "116     Biography,Drama,History    1.151385e+09   1.195508e+09  2.346893e+09\n",
      "185                       Drama    1.132503e+09   1.145902e+09  2.278405e+09\n",
      "210               Drama,Romance    8.885055e+08   1.355309e+09  2.243815e+09\n",
      "94      Animation,Comedy,Family    8.753285e+08   1.244400e+09  2.119728e+09\n",
      "86            Adventure,Fantasy    5.787000e+08   1.533400e+09  2.112100e+09\n",
      "33           Action,Crime,Drama    9.568016e+08   1.111112e+09  2.067914e+09\n",
      "76      Adventure,Drama,Fantasy    5.894000e+08   1.230900e+09  1.820300e+09\n",
      "66      Adventure,Comedy,Family    5.915000e+08   1.147800e+09  1.739300e+09\n",
      "167                 Crime,Drama    7.587802e+08   8.848000e+08  1.643580e+09\n",
      "7       Action,Adventure,Family    5.336000e+08   9.753000e+08  1.508900e+09\n",
      "51         Action,Horror,Sci-Fi    4.352000e+08   1.014800e+09  1.450000e+09\n",
      "80       Adventure,Drama,Sci-Fi    4.164000e+08   8.911000e+08  1.307500e+09\n",
      "56       Action,Sci-Fi,Thriller    3.900000e+08   8.955000e+08  1.285500e+09\n"
     ]
    }
   ],
   "source": [
    "top_30 = data_for_analysis_by_genre.iloc[:30]\n",
    "print(top_30)"
   ]
  },
  {
   "cell_type": "code",
   "execution_count": 17,
   "metadata": {},
   "outputs": [
    {
     "data": {
      "image/png": "[encoded data removed]",
      "text/plain": [
       "<Figure size 720x360 with 1 Axes>"
      ]
     },
     "metadata": {
      "needs_background": "light"
     },
     "output_type": "display_data"
    }
   ],
   "source": [
    "top_30.plot(\"genres\", kind=\"bar\", figsize = (10,5))\n",
    "\n",
    "plt.xlabel(\"Genres\")\n",
    "plt.xticks(rotation = 90)\n",
    "plt.ylabel(\"Gross Income\")\n",
    "plt.title(\"Domestic vs Foreign Gross\")\n",
    "plt.legend(labels=['Domestic', 'Foreign'])\n",
    "plt.show()"
   ]
  },
  {
   "cell_type": "markdown",
   "metadata": {},
   "source": [
    "##### Dropping to total_gross column on the top 30 for a nicer visualization"
   ]
  },
  {
   "cell_type": "code",
   "execution_count": 18,
   "metadata": {},
   "outputs": [
    {
     "name": "stderr",
     "output_type": "stream",
     "text": [
      "C:\\Users\\qsencenbaugh\\Anaconda3\\envs\\learn-env\\lib\\site-packages\\pandas\\core\\frame.py:4163: SettingWithCopyWarning: \n",
      "A value is trying to be set on a copy of a slice from a DataFrame\n",
      "\n",
      "See the caveats in the documentation: https://pandas.pydata.org/pandas-docs/stable/user_guide/indexing.html#returning-a-view-versus-a-copy\n",
      "  return super().drop(\n"
     ]
    }
   ],
   "source": [
    "top_30.drop([\"total_gross\"], axis = 1, inplace = True)"
   ]
  },
  {
   "cell_type": "code",
   "execution_count": 19,
   "metadata": {},
   "outputs": [
    {
     "data": {
      "image/png": "[encoded data removed]",
      "text/plain": [
       "<Figure size 720x360 with 1 Axes>"
      ]
     },
     "metadata": {
      "needs_background": "light"
     },
     "output_type": "display_data"
    }
   ],
   "source": [
    "top_30.plot(\"genres\", kind=\"bar\", figsize = (10,5))\n",
    "\n",
    "plt.xlabel(\"Genres\")\n",
    "plt.xticks(rotation = 90)\n",
    "plt.ylabel(\"Gross Income\")\n",
    "plt.title(\"Domestic vs Foreign Gross\")\n",
    "plt.legend(labels=['Domestic', 'Foreign'])\n",
    "plt.show()"
   ]
  },
  {
   "cell_type": "code",
   "execution_count": null,
   "metadata": {},
   "outputs": [],
   "source": []
  }
 ],
 "metadata": {
  "kernelspec": {
   "display_name": "Python (learn-env)",
   "language": "python",
   "name": "learn-env"
  },
  "language_info": {
   "codemirror_mode": {
    "name": "ipython",
    "version": 3
   },
   "file_extension": ".py",
   "mimetype": "text/x-python",
   "name": "python",
   "nbconvert_exporter": "python",
   "pygments_lexer": "ipython3",
   "version": "3.8.5"
  }
 },
 "nbformat": 4,
 "nbformat_minor": 4
}
