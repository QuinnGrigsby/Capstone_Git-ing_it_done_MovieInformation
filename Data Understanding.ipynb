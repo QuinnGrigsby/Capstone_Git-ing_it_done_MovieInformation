{
 "cells": [
  {
   "cell_type": "markdown",
   "metadata": {},
   "source": [
    "# Semester 1 Project Submission\n",
    "\n",
    "Please fill out:\n",
    "* Student name: Cristian González Ramírez\n",
    "* Instructor name: Nick McCarty & Julian Ward"
   ]
  },
  {
   "cell_type": "markdown",
   "metadata": {},
   "source": [
    "We will start by adding the basic libraries to our notebook, so it runs nice and smoothly."
   ]
  },
  {
   "cell_type": "code",
   "execution_count": 249,
   "metadata": {},
   "outputs": [],
   "source": [
    "# Import all libraries the project will requiere\n",
    "\n",
    "#For retreiving data\n",
    "import pandas as pd\n",
    "import sqlite3\n",
    "import zipfile\n",
    "\n",
    "#For analyzing data\n",
    "from scipy import stats\n",
    "\n",
    "#For plotting and visulaizations\n",
    "from matplotlib import pyplot as plt\n",
    "import seaborn as sns\n",
    "%matplotlib inline"
   ]
  },
  {
   "cell_type": "markdown",
   "metadata": {},
   "source": [
    "Then, we insert the data we will be working with."
   ]
  },
  {
   "cell_type": "code",
   "execution_count": 250,
   "metadata": {},
   "outputs": [],
   "source": [
    "#Retrieving data to work with\n",
    "movie_gross_data = pd.read_csv(\"zippedData/bom.movie_gross.csv.gz\")\n",
    "movies           = pd.read_csv(\"zippedData/tmdb.movies.csv.gz\")\n",
    "movie_budgets    = pd.read_csv(\"zippedData/tn.movie_budgets.csv.gz\")\n",
    "\n",
    "movie_info_data  = pd.read_csv(\"zippedData/rt.movie_info.tsv.gz\", sep=\"\\t\")"
   ]
  },
  {
   "cell_type": "code",
   "execution_count": 251,
   "metadata": {},
   "outputs": [],
   "source": [
    "#Oppening SQLite3 zip\n",
    "with zipfile.ZipFile(\"zippedData/im.db.zip\", \"r\") as zObject:\n",
    "        zObject.extractall()\n",
    "\n",
    "conn = sqlite3.connect(\"im.db\")\n",
    "cur = conn.cursor()"
   ]
  },
  {
   "cell_type": "markdown",
   "metadata": {},
   "source": [
    "Specifically, we are interested in knowing which was the gross revenue so the `movie_gross_data` table will be of major interest for us."
   ]
  },
  {
   "cell_type": "code",
   "execution_count": 252,
   "metadata": {},
   "outputs": [
    {
     "name": "stdout",
     "output_type": "stream",
     "text": [
      "<class 'pandas.core.frame.DataFrame'>\n",
      "RangeIndex: 3387 entries, 0 to 3386\n",
      "Data columns (total 5 columns):\n",
      " #   Column          Non-Null Count  Dtype  \n",
      "---  ------          --------------  -----  \n",
      " 0   title           3387 non-null   object \n",
      " 1   studio          3382 non-null   object \n",
      " 2   domestic_gross  3359 non-null   float64\n",
      " 3   foreign_gross   2037 non-null   object \n",
      " 4   year            3387 non-null   int64  \n",
      "dtypes: float64(1), int64(1), object(3)\n",
      "memory usage: 132.4+ KB\n"
     ]
    }
   ],
   "source": [
    "movie_gross_data.info()"
   ]
  },
  {
   "cell_type": "markdown",
   "metadata": {},
   "source": [
    "As seen in the table above, there are a couple of Null values in the `studio`, `domestic_gross` and `foreign_gross` columns, so we must clean this data out using the most convenient approach.\n",
    "\n",
    "The `movie_gross_data.info()` command also showed us that `foreign_gross` is an object, when we need it to be a number (either an integer or a float), so we will first fix that."
   ]
  },
  {
   "cell_type": "code",
   "execution_count": 253,
   "metadata": {},
   "outputs": [],
   "source": [
    "#Getting rid off commas so it can be casted\n",
    "movie_gross_data.foreign_gross.replace(\",\",\"\",regex=True, inplace=True)\n",
    "\n",
    "#Casting foreign_gross as a float\n",
    "movie_gross_data[\"foreign_gross\"] = movie_gross_data.foreign_gross.astype(float)"
   ]
  },
  {
   "cell_type": "markdown",
   "metadata": {},
   "source": [
    "As we saw, many numerical values were missing, but we actually do not know wheter the film was profitable or not, and assigning any significant value to it, such as the mean of grosses or the median, could bias our analysis, so we are assigning them a `0`, in order to keep those results away from significant data."
   ]
  },
  {
   "cell_type": "code",
   "execution_count": 254,
   "metadata": {},
   "outputs": [],
   "source": [
    "#If any, filling null values with 0\n",
    "movie_gross_data.foreign_gross.fillna(0, inplace=True)\n",
    "movie_gross_data.domestic_gross.fillna(0, inplace=True)"
   ]
  },
  {
   "cell_type": "code",
   "execution_count": 255,
   "metadata": {},
   "outputs": [],
   "source": [
    "#Getting read of NaN\n",
    "movie_gross_data.dropna(inplace = True)"
   ]
  },
  {
   "cell_type": "code",
   "execution_count": 256,
   "metadata": {},
   "outputs": [],
   "source": [
    "#Creating a new column for total gross\n",
    "movie_gross_data[\"total_gross\"] = movie_gross_data.foreign_gross.astype(float) +\\\n",
    "                                  movie_gross_data.domestic_gross.astype(float)"
   ]
  },
  {
   "cell_type": "markdown",
   "metadata": {},
   "source": [
    "Now we check our results."
   ]
  },
  {
   "cell_type": "code",
   "execution_count": 257,
   "metadata": {},
   "outputs": [
    {
     "name": "stdout",
     "output_type": "stream",
     "text": [
      "<class 'pandas.core.frame.DataFrame'>\n",
      "Int64Index: 3382 entries, 0 to 3386\n",
      "Data columns (total 6 columns):\n",
      " #   Column          Non-Null Count  Dtype  \n",
      "---  ------          --------------  -----  \n",
      " 0   title           3382 non-null   object \n",
      " 1   studio          3382 non-null   object \n",
      " 2   domestic_gross  3382 non-null   float64\n",
      " 3   foreign_gross   3382 non-null   float64\n",
      " 4   year            3382 non-null   int64  \n",
      " 5   total_gross     3382 non-null   float64\n",
      "dtypes: float64(3), int64(1), object(2)\n",
      "memory usage: 185.0+ KB\n"
     ]
    }
   ],
   "source": [
    "movie_gross_data.info()"
   ]
  },
  {
   "cell_type": "code",
   "execution_count": 258,
   "metadata": {
    "scrolled": true
   },
   "outputs": [
    {
     "data": {
      "text/html": [
       "<div>\n",
       "<style scoped>\n",
       "    .dataframe tbody tr th:only-of-type {\n",
       "        vertical-align: middle;\n",
       "    }\n",
       "\n",
       "    .dataframe tbody tr th {\n",
       "        vertical-align: top;\n",
       "    }\n",
       "\n",
       "    .dataframe thead th {\n",
       "        text-align: right;\n",
       "    }\n",
       "</style>\n",
       "<table border=\"1\" class=\"dataframe\">\n",
       "  <thead>\n",
       "    <tr style=\"text-align: right;\">\n",
       "      <th></th>\n",
       "      <th>title</th>\n",
       "      <th>studio</th>\n",
       "      <th>domestic_gross</th>\n",
       "      <th>foreign_gross</th>\n",
       "      <th>year</th>\n",
       "      <th>total_gross</th>\n",
       "    </tr>\n",
       "  </thead>\n",
       "  <tbody>\n",
       "    <tr>\n",
       "      <th>0</th>\n",
       "      <td>Toy Story 3</td>\n",
       "      <td>BV</td>\n",
       "      <td>415000000.0</td>\n",
       "      <td>652000000.0</td>\n",
       "      <td>2010</td>\n",
       "      <td>1.067000e+09</td>\n",
       "    </tr>\n",
       "    <tr>\n",
       "      <th>1</th>\n",
       "      <td>Alice in Wonderland (2010)</td>\n",
       "      <td>BV</td>\n",
       "      <td>334200000.0</td>\n",
       "      <td>691300000.0</td>\n",
       "      <td>2010</td>\n",
       "      <td>1.025500e+09</td>\n",
       "    </tr>\n",
       "    <tr>\n",
       "      <th>2</th>\n",
       "      <td>Harry Potter and the Deathly Hallows Part 1</td>\n",
       "      <td>WB</td>\n",
       "      <td>296000000.0</td>\n",
       "      <td>664300000.0</td>\n",
       "      <td>2010</td>\n",
       "      <td>9.603000e+08</td>\n",
       "    </tr>\n",
       "    <tr>\n",
       "      <th>3</th>\n",
       "      <td>Inception</td>\n",
       "      <td>WB</td>\n",
       "      <td>292600000.0</td>\n",
       "      <td>535700000.0</td>\n",
       "      <td>2010</td>\n",
       "      <td>8.283000e+08</td>\n",
       "    </tr>\n",
       "    <tr>\n",
       "      <th>4</th>\n",
       "      <td>Shrek Forever After</td>\n",
       "      <td>P/DW</td>\n",
       "      <td>238700000.0</td>\n",
       "      <td>513900000.0</td>\n",
       "      <td>2010</td>\n",
       "      <td>7.526000e+08</td>\n",
       "    </tr>\n",
       "  </tbody>\n",
       "</table>\n",
       "</div>"
      ],
      "text/plain": [
       "                                         title studio  domestic_gross  \\\n",
       "0                                  Toy Story 3     BV     415000000.0   \n",
       "1                   Alice in Wonderland (2010)     BV     334200000.0   \n",
       "2  Harry Potter and the Deathly Hallows Part 1     WB     296000000.0   \n",
       "3                                    Inception     WB     292600000.0   \n",
       "4                          Shrek Forever After   P/DW     238700000.0   \n",
       "\n",
       "   foreign_gross  year   total_gross  \n",
       "0    652000000.0  2010  1.067000e+09  \n",
       "1    691300000.0  2010  1.025500e+09  \n",
       "2    664300000.0  2010  9.603000e+08  \n",
       "3    535700000.0  2010  8.283000e+08  \n",
       "4    513900000.0  2010  7.526000e+08  "
      ]
     },
     "execution_count": 258,
     "metadata": {},
     "output_type": "execute_result"
    }
   ],
   "source": [
    "movie_gross_data.head()"
   ]
  },
  {
   "cell_type": "markdown",
   "metadata": {},
   "source": [
    "We can see most of it is clean and we didn't take away that many rows to make the analysis less significant."
   ]
  },
  {
   "cell_type": "markdown",
   "metadata": {},
   "source": [
    "## In the following cells I am trying to give an answer to the following question:\n",
    "\n",
    "How are the production budgets for movies of different genres in comparison to their income? Would it be profitable?"
   ]
  },
  {
   "cell_type": "markdown",
   "metadata": {},
   "source": [
    "There are a lot of values in movie_gross_data in which we are not interested, must of them being the $0 USD revenue. Those values may result as strong outliers for future analysis, so it will be convenient to manage our data without them."
   ]
  },
  {
   "cell_type": "code",
   "execution_count": 259,
   "metadata": {},
   "outputs": [
    {
     "data": {
      "text/html": [
       "<div>\n",
       "<style scoped>\n",
       "    .dataframe tbody tr th:only-of-type {\n",
       "        vertical-align: middle;\n",
       "    }\n",
       "\n",
       "    .dataframe tbody tr th {\n",
       "        vertical-align: top;\n",
       "    }\n",
       "\n",
       "    .dataframe thead th {\n",
       "        text-align: right;\n",
       "    }\n",
       "</style>\n",
       "<table border=\"1\" class=\"dataframe\">\n",
       "  <thead>\n",
       "    <tr style=\"text-align: right;\">\n",
       "      <th></th>\n",
       "      <th>title</th>\n",
       "      <th>studio</th>\n",
       "      <th>domestic_gross</th>\n",
       "      <th>foreign_gross</th>\n",
       "      <th>year</th>\n",
       "      <th>total_gross</th>\n",
       "    </tr>\n",
       "  </thead>\n",
       "  <tbody>\n",
       "    <tr>\n",
       "      <th>727</th>\n",
       "      <td>Marvel's The Avengers</td>\n",
       "      <td>BV</td>\n",
       "      <td>623400000.0</td>\n",
       "      <td>895500000.0</td>\n",
       "      <td>2012</td>\n",
       "      <td>1.518900e+09</td>\n",
       "    </tr>\n",
       "    <tr>\n",
       "      <th>1875</th>\n",
       "      <td>Avengers: Age of Ultron</td>\n",
       "      <td>BV</td>\n",
       "      <td>459000000.0</td>\n",
       "      <td>946400000.0</td>\n",
       "      <td>2015</td>\n",
       "      <td>1.405400e+09</td>\n",
       "    </tr>\n",
       "    <tr>\n",
       "      <th>3080</th>\n",
       "      <td>Black Panther</td>\n",
       "      <td>BV</td>\n",
       "      <td>700100000.0</td>\n",
       "      <td>646900000.0</td>\n",
       "      <td>2018</td>\n",
       "      <td>1.347000e+09</td>\n",
       "    </tr>\n",
       "    <tr>\n",
       "      <th>328</th>\n",
       "      <td>Harry Potter and the Deathly Hallows Part 2</td>\n",
       "      <td>WB</td>\n",
       "      <td>381000000.0</td>\n",
       "      <td>960500000.0</td>\n",
       "      <td>2011</td>\n",
       "      <td>1.341500e+09</td>\n",
       "    </tr>\n",
       "    <tr>\n",
       "      <th>2758</th>\n",
       "      <td>Star Wars: The Last Jedi</td>\n",
       "      <td>BV</td>\n",
       "      <td>620200000.0</td>\n",
       "      <td>712400000.0</td>\n",
       "      <td>2017</td>\n",
       "      <td>1.332600e+09</td>\n",
       "    </tr>\n",
       "    <tr>\n",
       "      <th>...</th>\n",
       "      <td>...</td>\n",
       "      <td>...</td>\n",
       "      <td>...</td>\n",
       "      <td>...</td>\n",
       "      <td>...</td>\n",
       "      <td>...</td>\n",
       "    </tr>\n",
       "    <tr>\n",
       "      <th>711</th>\n",
       "      <td>I'm Glad My Mother is Alive</td>\n",
       "      <td>Strand</td>\n",
       "      <td>8700.0</td>\n",
       "      <td>13200.0</td>\n",
       "      <td>2011</td>\n",
       "      <td>2.190000e+04</td>\n",
       "    </tr>\n",
       "    <tr>\n",
       "      <th>322</th>\n",
       "      <td>The Thorn in the Heart</td>\n",
       "      <td>Osci.</td>\n",
       "      <td>7400.0</td>\n",
       "      <td>10500.0</td>\n",
       "      <td>2010</td>\n",
       "      <td>1.790000e+04</td>\n",
       "    </tr>\n",
       "    <tr>\n",
       "      <th>1110</th>\n",
       "      <td>Cirkus Columbia</td>\n",
       "      <td>Strand</td>\n",
       "      <td>3500.0</td>\n",
       "      <td>9500.0</td>\n",
       "      <td>2012</td>\n",
       "      <td>1.300000e+04</td>\n",
       "    </tr>\n",
       "    <tr>\n",
       "      <th>715</th>\n",
       "      <td>Aurora</td>\n",
       "      <td>CGld</td>\n",
       "      <td>5700.0</td>\n",
       "      <td>5100.0</td>\n",
       "      <td>2011</td>\n",
       "      <td>1.080000e+04</td>\n",
       "    </tr>\n",
       "    <tr>\n",
       "      <th>721</th>\n",
       "      <td>To Die Like a Man</td>\n",
       "      <td>Strand</td>\n",
       "      <td>4000.0</td>\n",
       "      <td>900.0</td>\n",
       "      <td>2011</td>\n",
       "      <td>4.900000e+03</td>\n",
       "    </tr>\n",
       "  </tbody>\n",
       "</table>\n",
       "<p>2007 rows × 6 columns</p>\n",
       "</div>"
      ],
      "text/plain": [
       "                                            title  studio  domestic_gross  \\\n",
       "727                         Marvel's The Avengers      BV     623400000.0   \n",
       "1875                      Avengers: Age of Ultron      BV     459000000.0   \n",
       "3080                                Black Panther      BV     700100000.0   \n",
       "328   Harry Potter and the Deathly Hallows Part 2      WB     381000000.0   \n",
       "2758                     Star Wars: The Last Jedi      BV     620200000.0   \n",
       "...                                           ...     ...             ...   \n",
       "711                   I'm Glad My Mother is Alive  Strand          8700.0   \n",
       "322                        The Thorn in the Heart   Osci.          7400.0   \n",
       "1110                              Cirkus Columbia  Strand          3500.0   \n",
       "715                                        Aurora    CGld          5700.0   \n",
       "721                             To Die Like a Man  Strand          4000.0   \n",
       "\n",
       "      foreign_gross  year   total_gross  \n",
       "727     895500000.0  2012  1.518900e+09  \n",
       "1875    946400000.0  2015  1.405400e+09  \n",
       "3080    646900000.0  2018  1.347000e+09  \n",
       "328     960500000.0  2011  1.341500e+09  \n",
       "2758    712400000.0  2017  1.332600e+09  \n",
       "...             ...   ...           ...  \n",
       "711         13200.0  2011  2.190000e+04  \n",
       "322         10500.0  2010  1.790000e+04  \n",
       "1110         9500.0  2012  1.300000e+04  \n",
       "715          5100.0  2011  1.080000e+04  \n",
       "721           900.0  2011  4.900000e+03  \n",
       "\n",
       "[2007 rows x 6 columns]"
      ]
     },
     "execution_count": 259,
     "metadata": {},
     "output_type": "execute_result"
    }
   ],
   "source": [
    "movie_general_gross = movie_gross_data[(movie_gross_data.foreign_gross != 0) &\n",
    "                                       (movie_gross_data.domestic_gross !=0)\n",
    "                                      ].sort_values(by=[\"total_gross\"], ascending=False)\n",
    "movie_general_gross"
   ]
  },
  {
   "cell_type": "code",
   "execution_count": 260,
   "metadata": {},
   "outputs": [],
   "source": [
    "#Obtain relevant information from SQL database\n",
    "query = '''\n",
    "    SELECT\n",
    "        movie_id AS \"ID\",\n",
    "        primary_title AS \"Title\",\n",
    "        original_title AS \"Original Title\",\n",
    "        genres AS \"Genres\",\n",
    "        averagerating AS \"Rating\",\n",
    "        numvotes AS \"Number of Votes\"\n",
    "    FROM movie_basics\n",
    "        JOIN movie_ratings\n",
    "        USING (movie_id)\n",
    "'''\n",
    "\n",
    "#Assign the query to a pandas dataframe\n",
    "rating_by_title = pd.read_sql(query,conn)"
   ]
  },
  {
   "cell_type": "code",
   "execution_count": 261,
   "metadata": {},
   "outputs": [
    {
     "data": {
      "text/html": [
       "<div>\n",
       "<style scoped>\n",
       "    .dataframe tbody tr th:only-of-type {\n",
       "        vertical-align: middle;\n",
       "    }\n",
       "\n",
       "    .dataframe tbody tr th {\n",
       "        vertical-align: top;\n",
       "    }\n",
       "\n",
       "    .dataframe thead th {\n",
       "        text-align: right;\n",
       "    }\n",
       "</style>\n",
       "<table border=\"1\" class=\"dataframe\">\n",
       "  <thead>\n",
       "    <tr style=\"text-align: right;\">\n",
       "      <th></th>\n",
       "      <th>ID</th>\n",
       "      <th>Title</th>\n",
       "      <th>Original Title</th>\n",
       "      <th>Genres</th>\n",
       "      <th>Rating</th>\n",
       "      <th>Number of Votes</th>\n",
       "    </tr>\n",
       "  </thead>\n",
       "  <tbody>\n",
       "    <tr>\n",
       "      <th>0</th>\n",
       "      <td>tt0063540</td>\n",
       "      <td>Sunghursh</td>\n",
       "      <td>Sunghursh</td>\n",
       "      <td>Action,Crime,Drama</td>\n",
       "      <td>7.0</td>\n",
       "      <td>77</td>\n",
       "    </tr>\n",
       "    <tr>\n",
       "      <th>1</th>\n",
       "      <td>tt0066787</td>\n",
       "      <td>One Day Before the Rainy Season</td>\n",
       "      <td>Ashad Ka Ek Din</td>\n",
       "      <td>Biography,Drama</td>\n",
       "      <td>7.2</td>\n",
       "      <td>43</td>\n",
       "    </tr>\n",
       "    <tr>\n",
       "      <th>2</th>\n",
       "      <td>tt0069049</td>\n",
       "      <td>The Other Side of the Wind</td>\n",
       "      <td>The Other Side of the Wind</td>\n",
       "      <td>Drama</td>\n",
       "      <td>6.9</td>\n",
       "      <td>4517</td>\n",
       "    </tr>\n",
       "    <tr>\n",
       "      <th>3</th>\n",
       "      <td>tt0069204</td>\n",
       "      <td>Sabse Bada Sukh</td>\n",
       "      <td>Sabse Bada Sukh</td>\n",
       "      <td>Comedy,Drama</td>\n",
       "      <td>6.1</td>\n",
       "      <td>13</td>\n",
       "    </tr>\n",
       "    <tr>\n",
       "      <th>4</th>\n",
       "      <td>tt0100275</td>\n",
       "      <td>The Wandering Soap Opera</td>\n",
       "      <td>La Telenovela Errante</td>\n",
       "      <td>Comedy,Drama,Fantasy</td>\n",
       "      <td>6.5</td>\n",
       "      <td>119</td>\n",
       "    </tr>\n",
       "    <tr>\n",
       "      <th>5</th>\n",
       "      <td>tt0112502</td>\n",
       "      <td>Bigfoot</td>\n",
       "      <td>Bigfoot</td>\n",
       "      <td>Horror,Thriller</td>\n",
       "      <td>4.1</td>\n",
       "      <td>32</td>\n",
       "    </tr>\n",
       "    <tr>\n",
       "      <th>6</th>\n",
       "      <td>tt0137204</td>\n",
       "      <td>Joe Finds Grace</td>\n",
       "      <td>Joe Finds Grace</td>\n",
       "      <td>Adventure,Animation,Comedy</td>\n",
       "      <td>8.1</td>\n",
       "      <td>263</td>\n",
       "    </tr>\n",
       "    <tr>\n",
       "      <th>7</th>\n",
       "      <td>tt0146592</td>\n",
       "      <td>Pál Adrienn</td>\n",
       "      <td>Pál Adrienn</td>\n",
       "      <td>Drama</td>\n",
       "      <td>6.8</td>\n",
       "      <td>451</td>\n",
       "    </tr>\n",
       "    <tr>\n",
       "      <th>8</th>\n",
       "      <td>tt0154039</td>\n",
       "      <td>So Much for Justice!</td>\n",
       "      <td>Oda az igazság</td>\n",
       "      <td>History</td>\n",
       "      <td>4.6</td>\n",
       "      <td>64</td>\n",
       "    </tr>\n",
       "    <tr>\n",
       "      <th>9</th>\n",
       "      <td>tt0159369</td>\n",
       "      <td>Cooper and Hemingway: The True Gen</td>\n",
       "      <td>Cooper and Hemingway: The True Gen</td>\n",
       "      <td>Documentary</td>\n",
       "      <td>7.6</td>\n",
       "      <td>53</td>\n",
       "    </tr>\n",
       "  </tbody>\n",
       "</table>\n",
       "</div>"
      ],
      "text/plain": [
       "          ID                               Title  \\\n",
       "0  tt0063540                           Sunghursh   \n",
       "1  tt0066787     One Day Before the Rainy Season   \n",
       "2  tt0069049          The Other Side of the Wind   \n",
       "3  tt0069204                     Sabse Bada Sukh   \n",
       "4  tt0100275            The Wandering Soap Opera   \n",
       "5  tt0112502                             Bigfoot   \n",
       "6  tt0137204                     Joe Finds Grace   \n",
       "7  tt0146592                         Pál Adrienn   \n",
       "8  tt0154039                So Much for Justice!   \n",
       "9  tt0159369  Cooper and Hemingway: The True Gen   \n",
       "\n",
       "                       Original Title                      Genres  Rating  \\\n",
       "0                           Sunghursh          Action,Crime,Drama     7.0   \n",
       "1                     Ashad Ka Ek Din             Biography,Drama     7.2   \n",
       "2          The Other Side of the Wind                       Drama     6.9   \n",
       "3                     Sabse Bada Sukh                Comedy,Drama     6.1   \n",
       "4               La Telenovela Errante        Comedy,Drama,Fantasy     6.5   \n",
       "5                             Bigfoot             Horror,Thriller     4.1   \n",
       "6                     Joe Finds Grace  Adventure,Animation,Comedy     8.1   \n",
       "7                         Pál Adrienn                       Drama     6.8   \n",
       "8                      Oda az igazság                     History     4.6   \n",
       "9  Cooper and Hemingway: The True Gen                 Documentary     7.6   \n",
       "\n",
       "   Number of Votes  \n",
       "0               77  \n",
       "1               43  \n",
       "2             4517  \n",
       "3               13  \n",
       "4              119  \n",
       "5               32  \n",
       "6              263  \n",
       "7              451  \n",
       "8               64  \n",
       "9               53  "
      ]
     },
     "execution_count": 261,
     "metadata": {},
     "output_type": "execute_result"
    }
   ],
   "source": [
    "rating_by_title.head(10)"
   ]
  },
  {
   "cell_type": "code",
   "execution_count": 262,
   "metadata": {},
   "outputs": [
    {
     "name": "stdout",
     "output_type": "stream",
     "text": [
      "<class 'pandas.core.frame.DataFrame'>\n",
      "RangeIndex: 73856 entries, 0 to 73855\n",
      "Data columns (total 6 columns):\n",
      " #   Column           Non-Null Count  Dtype  \n",
      "---  ------           --------------  -----  \n",
      " 0   ID               73856 non-null  object \n",
      " 1   Title            73856 non-null  object \n",
      " 2   Original Title   73856 non-null  object \n",
      " 3   Genres           73052 non-null  object \n",
      " 4   Rating           73856 non-null  float64\n",
      " 5   Number of Votes  73856 non-null  int64  \n",
      "dtypes: float64(1), int64(1), object(4)\n",
      "memory usage: 3.4+ MB\n"
     ]
    }
   ],
   "source": [
    "rating_by_title.info()"
   ]
  },
  {
   "cell_type": "markdown",
   "metadata": {},
   "source": [
    "As we can see, most of the data we obtain is complete, but there may still be some values that could mess up our analysis, so we better clean this data as well!"
   ]
  },
  {
   "cell_type": "code",
   "execution_count": 263,
   "metadata": {},
   "outputs": [
    {
     "data": {
      "text/plain": [
       "The Return              11\n",
       "Broken                  10\n",
       "Together                 9\n",
       "Lucky                    9\n",
       "Homecoming               9\n",
       "                        ..\n",
       "Peculiar Pets            1\n",
       "Pour l'amour de Dieu     1\n",
       "After Party              1\n",
       "Red Cow                  1\n",
       "Shilo                    1\n",
       "Name: Title, Length: 69993, dtype: int64"
      ]
     },
     "execution_count": 263,
     "metadata": {},
     "output_type": "execute_result"
    }
   ],
   "source": [
    "rating_by_title.Title.value_counts()"
   ]
  },
  {
   "cell_type": "code",
   "execution_count": 264,
   "metadata": {},
   "outputs": [],
   "source": [
    "rating_by_title.drop_duplicates(subset=[\"Title\"], inplace = True)"
   ]
  },
  {
   "cell_type": "code",
   "execution_count": 265,
   "metadata": {},
   "outputs": [
    {
     "data": {
      "text/plain": [
       "Violentia                 1\n",
       "Searching                 1\n",
       "Money and Medicine        1\n",
       "The Funhouse Massacre     1\n",
       "Senza lasciare traccia    1\n",
       "                         ..\n",
       "These Birds Walk          1\n",
       "Trumpocalypse Now!        1\n",
       "Night School              1\n",
       "Deadfall                  1\n",
       "Shilo                     1\n",
       "Name: Title, Length: 69993, dtype: int64"
      ]
     },
     "execution_count": 265,
     "metadata": {},
     "output_type": "execute_result"
    }
   ],
   "source": [
    "rating_by_title.Title.value_counts()"
   ]
  },
  {
   "cell_type": "code",
   "execution_count": 266,
   "metadata": {},
   "outputs": [
    {
     "data": {
      "text/plain": [
       "Missed Connections          3\n",
       "Mundo Cão                   2\n",
       "Iris                        2\n",
       "Ra                          2\n",
       "Snatched                    2\n",
       "                           ..\n",
       "Auf den zweiten Blick       1\n",
       "Angelus Hiroshimae          1\n",
       "Molly's Girl                1\n",
       "The Melancholy Fantastic    1\n",
       "Shilo                       1\n",
       "Name: Original Title, Length: 69820, dtype: int64"
      ]
     },
     "execution_count": 266,
     "metadata": {},
     "output_type": "execute_result"
    }
   ],
   "source": [
    "rating_by_title[\"Original Title\"].value_counts()"
   ]
  },
  {
   "cell_type": "code",
   "execution_count": 267,
   "metadata": {},
   "outputs": [],
   "source": [
    "rating_by_title.drop_duplicates(subset=[\"Original Title\"], inplace = True)"
   ]
  },
  {
   "cell_type": "code",
   "execution_count": 268,
   "metadata": {},
   "outputs": [
    {
     "data": {
      "text/plain": [
       "Violentia                       1\n",
       "C'est tout pour moi             1\n",
       "And Who Taught You to Drive?    1\n",
       "Dhairyam                        1\n",
       "Satri lek tob lok taek          1\n",
       "                               ..\n",
       "Qian Xuesen                     1\n",
       "Die Präsenz                     1\n",
       "Life of a King                  1\n",
       "El Teniente Amado               1\n",
       "Shilo                           1\n",
       "Name: Original Title, Length: 69820, dtype: int64"
      ]
     },
     "execution_count": 268,
     "metadata": {},
     "output_type": "execute_result"
    }
   ],
   "source": [
    "rating_by_title[\"Original Title\"].value_counts()"
   ]
  },
  {
   "cell_type": "code",
   "execution_count": 269,
   "metadata": {},
   "outputs": [
    {
     "data": {
      "text/plain": [
       "array([ 7. ,  7.2,  6.9,  6.1,  6.5,  4.1,  8.1,  6.8,  4.6,  7.6,  7.5,\n",
       "        7.8,  4. ,  8.8,  1.9,  6.7,  6.6,  5.9,  7.1,  7.4,  3.9,  5.5,\n",
       "        5.1,  7.9,  6.2,  6.3,  5. ,  6. ,  5.6,  7.3,  4.9,  6.4,  3.3,\n",
       "        5.7,  8.6,  4.8,  4.5,  4.2,  8.7,  4.7,  5.2,  8.3,  9.1,  3.4,\n",
       "        5.8,  5.4,  8.5,  3.2,  3.6,  8. ,  3.8,  7.7,  4.3,  3. ,  5.3,\n",
       "        3.7,  3.5,  9.3,  8.9,  9. ,  2.3,  8.2,  2.7,  2.8,  1.7,  4.4,\n",
       "        2.2,  9.4,  8.4,  9.2,  9.7,  3.1, 10. ,  9.8,  2.6,  2.5,  1.4,\n",
       "        2.1,  2.4,  2.9,  1.8,  1.6,  2. ,  1. ,  1.2,  1.5,  1.3,  1.1,\n",
       "        9.5,  9.6,  9.9])"
      ]
     },
     "execution_count": 269,
     "metadata": {},
     "output_type": "execute_result"
    }
   ],
   "source": [
    "rating_by_title.Rating.unique()"
   ]
  },
  {
   "cell_type": "markdown",
   "metadata": {},
   "source": [
    "We can see there is no apparent problem in the Rating column"
   ]
  },
  {
   "cell_type": "code",
   "execution_count": 270,
   "metadata": {},
   "outputs": [
    {
     "data": {
      "text/plain": [
       "tt8428316    1\n",
       "tt2354215    1\n",
       "tt7054868    1\n",
       "tt1334455    1\n",
       "tt7397958    1\n",
       "            ..\n",
       "tt1795046    1\n",
       "tt6096958    1\n",
       "tt6202264    1\n",
       "tt8998610    1\n",
       "tt1619814    1\n",
       "Name: ID, Length: 69820, dtype: int64"
      ]
     },
     "execution_count": 270,
     "metadata": {},
     "output_type": "execute_result"
    }
   ],
   "source": [
    "rating_by_title.ID.value_counts().sort_values(ascending = True)"
   ]
  },
  {
   "cell_type": "markdown",
   "metadata": {},
   "source": [
    "Nor there is any in the ID column. \n",
    "\n",
    "Most of the cleaning of this Dataframe is done. The next step to do is to decide how to procede with the missing values we saw in the Genres column. There are around 800 missing values, and dropping those columns won't represent as much of a loss, so we will proceed with this approach."
   ]
  },
  {
   "cell_type": "code",
   "execution_count": 271,
   "metadata": {},
   "outputs": [],
   "source": [
    "rating_by_title = rating_by_title[rating_by_title.Genres.str.contains(\"None\") == False]"
   ]
  },
  {
   "cell_type": "code",
   "execution_count": 272,
   "metadata": {},
   "outputs": [
    {
     "name": "stdout",
     "output_type": "stream",
     "text": [
      "<class 'pandas.core.frame.DataFrame'>\n",
      "Int64Index: 69059 entries, 0 to 73852\n",
      "Data columns (total 6 columns):\n",
      " #   Column           Non-Null Count  Dtype  \n",
      "---  ------           --------------  -----  \n",
      " 0   ID               69059 non-null  object \n",
      " 1   Title            69059 non-null  object \n",
      " 2   Original Title   69059 non-null  object \n",
      " 3   Genres           69059 non-null  object \n",
      " 4   Rating           69059 non-null  float64\n",
      " 5   Number of Votes  69059 non-null  int64  \n",
      "dtypes: float64(1), int64(1), object(4)\n",
      "memory usage: 3.7+ MB\n"
     ]
    }
   ],
   "source": [
    "rating_by_title.info()"
   ]
  },
  {
   "cell_type": "markdown",
   "metadata": {},
   "source": [
    "We can see we have a dataframe without any null value or duplicates. We can consider this dataframe to be clean!"
   ]
  },
  {
   "cell_type": "markdown",
   "metadata": {},
   "source": [
    "Nevertheless, before moving forward, I will consider an extra step for singificance in later analysis; which is getting the percentage of rating base on the number of votes. Where we will use the greatest `Number of votes` as reference to all the movies, i.e. the movie with its `Number of voters` value equal to `max_voters` will have a significance of `1`."
   ]
  },
  {
   "cell_type": "code",
   "execution_count": 273,
   "metadata": {},
   "outputs": [],
   "source": [
    "max_voters = rating_by_title[\"Number of Votes\"].max()\n",
    "rating_by_title[\"Significance\"] = (rating_by_title[\"Number of Votes\"]/max_voters)"
   ]
  },
  {
   "cell_type": "code",
   "execution_count": 274,
   "metadata": {
    "scrolled": false
   },
   "outputs": [
    {
     "data": {
      "text/html": [
       "<div>\n",
       "<style scoped>\n",
       "    .dataframe tbody tr th:only-of-type {\n",
       "        vertical-align: middle;\n",
       "    }\n",
       "\n",
       "    .dataframe tbody tr th {\n",
       "        vertical-align: top;\n",
       "    }\n",
       "\n",
       "    .dataframe thead th {\n",
       "        text-align: right;\n",
       "    }\n",
       "</style>\n",
       "<table border=\"1\" class=\"dataframe\">\n",
       "  <thead>\n",
       "    <tr style=\"text-align: right;\">\n",
       "      <th></th>\n",
       "      <th>ID</th>\n",
       "      <th>Title</th>\n",
       "      <th>Original Title</th>\n",
       "      <th>Genres</th>\n",
       "      <th>Rating</th>\n",
       "      <th>Number of Votes</th>\n",
       "      <th>Significance</th>\n",
       "    </tr>\n",
       "  </thead>\n",
       "  <tbody>\n",
       "    <tr>\n",
       "      <th>0</th>\n",
       "      <td>tt0063540</td>\n",
       "      <td>Sunghursh</td>\n",
       "      <td>Sunghursh</td>\n",
       "      <td>Action,Crime,Drama</td>\n",
       "      <td>7.0</td>\n",
       "      <td>77</td>\n",
       "      <td>0.000042</td>\n",
       "    </tr>\n",
       "    <tr>\n",
       "      <th>1</th>\n",
       "      <td>tt0066787</td>\n",
       "      <td>One Day Before the Rainy Season</td>\n",
       "      <td>Ashad Ka Ek Din</td>\n",
       "      <td>Biography,Drama</td>\n",
       "      <td>7.2</td>\n",
       "      <td>43</td>\n",
       "      <td>0.000023</td>\n",
       "    </tr>\n",
       "    <tr>\n",
       "      <th>2</th>\n",
       "      <td>tt0069049</td>\n",
       "      <td>The Other Side of the Wind</td>\n",
       "      <td>The Other Side of the Wind</td>\n",
       "      <td>Drama</td>\n",
       "      <td>6.9</td>\n",
       "      <td>4517</td>\n",
       "      <td>0.002453</td>\n",
       "    </tr>\n",
       "    <tr>\n",
       "      <th>3</th>\n",
       "      <td>tt0069204</td>\n",
       "      <td>Sabse Bada Sukh</td>\n",
       "      <td>Sabse Bada Sukh</td>\n",
       "      <td>Comedy,Drama</td>\n",
       "      <td>6.1</td>\n",
       "      <td>13</td>\n",
       "      <td>0.000007</td>\n",
       "    </tr>\n",
       "    <tr>\n",
       "      <th>4</th>\n",
       "      <td>tt0100275</td>\n",
       "      <td>The Wandering Soap Opera</td>\n",
       "      <td>La Telenovela Errante</td>\n",
       "      <td>Comedy,Drama,Fantasy</td>\n",
       "      <td>6.5</td>\n",
       "      <td>119</td>\n",
       "      <td>0.000065</td>\n",
       "    </tr>\n",
       "  </tbody>\n",
       "</table>\n",
       "</div>"
      ],
      "text/plain": [
       "          ID                            Title              Original Title  \\\n",
       "0  tt0063540                        Sunghursh                   Sunghursh   \n",
       "1  tt0066787  One Day Before the Rainy Season             Ashad Ka Ek Din   \n",
       "2  tt0069049       The Other Side of the Wind  The Other Side of the Wind   \n",
       "3  tt0069204                  Sabse Bada Sukh             Sabse Bada Sukh   \n",
       "4  tt0100275         The Wandering Soap Opera       La Telenovela Errante   \n",
       "\n",
       "                 Genres  Rating  Number of Votes  Significance  \n",
       "0    Action,Crime,Drama     7.0               77      0.000042  \n",
       "1       Biography,Drama     7.2               43      0.000023  \n",
       "2                 Drama     6.9             4517      0.002453  \n",
       "3          Comedy,Drama     6.1               13      0.000007  \n",
       "4  Comedy,Drama,Fantasy     6.5              119      0.000065  "
      ]
     },
     "execution_count": 274,
     "metadata": {},
     "output_type": "execute_result"
    }
   ],
   "source": [
    "rating_by_title.head()"
   ]
  },
  {
   "cell_type": "code",
   "execution_count": 275,
   "metadata": {},
   "outputs": [
    {
     "data": {
      "text/html": [
       "<div>\n",
       "<style scoped>\n",
       "    .dataframe tbody tr th:only-of-type {\n",
       "        vertical-align: middle;\n",
       "    }\n",
       "\n",
       "    .dataframe tbody tr th {\n",
       "        vertical-align: top;\n",
       "    }\n",
       "\n",
       "    .dataframe thead th {\n",
       "        text-align: right;\n",
       "    }\n",
       "</style>\n",
       "<table border=\"1\" class=\"dataframe\">\n",
       "  <thead>\n",
       "    <tr style=\"text-align: right;\">\n",
       "      <th></th>\n",
       "      <th>ID</th>\n",
       "      <th>Title</th>\n",
       "      <th>Original Title</th>\n",
       "      <th>Genres</th>\n",
       "      <th>Rating</th>\n",
       "      <th>Number of Votes</th>\n",
       "      <th>Significance</th>\n",
       "    </tr>\n",
       "  </thead>\n",
       "  <tbody>\n",
       "    <tr>\n",
       "      <th>2387</th>\n",
       "      <td>tt1375666</td>\n",
       "      <td>Inception</td>\n",
       "      <td>Inception</td>\n",
       "      <td>Action,Adventure,Sci-Fi</td>\n",
       "      <td>8.8</td>\n",
       "      <td>1841066</td>\n",
       "      <td>1.0</td>\n",
       "    </tr>\n",
       "  </tbody>\n",
       "</table>\n",
       "</div>"
      ],
      "text/plain": [
       "             ID      Title Original Title                   Genres  Rating  \\\n",
       "2387  tt1375666  Inception      Inception  Action,Adventure,Sci-Fi     8.8   \n",
       "\n",
       "      Number of Votes  Significance  \n",
       "2387          1841066           1.0  "
      ]
     },
     "execution_count": 275,
     "metadata": {},
     "output_type": "execute_result"
    }
   ],
   "source": [
    "rating_by_title.loc[(rating_by_title[\"Number of Votes\"]) == max_voters]"
   ]
  },
  {
   "cell_type": "markdown",
   "metadata": {},
   "source": [
    "Now, we shall proceed with joining the `rating_by_title` table with the `movie_general_gross` one to proceed with the analysis."
   ]
  },
  {
   "cell_type": "code",
   "execution_count": 276,
   "metadata": {},
   "outputs": [],
   "source": [
    "#Create a new Dataframe\n",
    "#gross_and_rating = "
   ]
  }
 ],
 "metadata": {
  "kernelspec": {
   "display_name": "Python (learn-env)",
   "language": "python",
   "name": "learn-env"
  },
  "language_info": {
   "codemirror_mode": {
    "name": "ipython",
    "version": 3
   },
   "file_extension": ".py",
   "mimetype": "text/x-python",
   "name": "python",
   "nbconvert_exporter": "python",
   "pygments_lexer": "ipython3",
   "version": "3.8.5"
  }
 },
 "nbformat": 4,
 "nbformat_minor": 4
}
