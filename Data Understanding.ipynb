{
 "cells": [
  {
   "cell_type": "markdown",
   "metadata": {},
   "source": [
    "# Importing libraries"
   ]
  },
  {
   "cell_type": "code",
   "execution_count": 1,
   "metadata": {},
   "outputs": [],
   "source": [
    "import pandas as pd\n",
    "import matplotlib.pyplot as plt\n",
    "import scipy as stats\n",
    "import seaborn as sns\n",
    "import zipfile\n",
    "import sqlite3"
   ]
  },
  {
   "cell_type": "markdown",
   "metadata": {},
   "source": [
    "# Opening data files, cleaning and assigning to dataframes so team is working from the same dataset"
   ]
  },
  {
   "cell_type": "code",
   "execution_count": 2,
   "metadata": {
    "scrolled": true
   },
   "outputs": [
    {
     "name": "stdout",
     "output_type": "stream",
     "text": [
      "                                            title      studio  domestic_gross  \\\n",
      "0                                     Toy Story 3          BV     415000000.0   \n",
      "1                      Alice in Wonderland (2010)          BV     334200000.0   \n",
      "2     Harry Potter and the Deathly Hallows Part 1          WB     296000000.0   \n",
      "3                                       Inception          WB     292600000.0   \n",
      "4                             Shrek Forever After        P/DW     238700000.0   \n",
      "...                                           ...         ...             ...   \n",
      "3382                                    The Quake       Magn.          6200.0   \n",
      "3383                  Edward II (2018 re-release)          FM          4800.0   \n",
      "3384                                     El Pacto        Sony          2500.0   \n",
      "3385                                     The Swan  Synergetic          2400.0   \n",
      "3386                            An Actor Prepares       Grav.          1700.0   \n",
      "\n",
      "     foreign_gross  year  \n",
      "0        652000000  2010  \n",
      "1        691300000  2010  \n",
      "2        664300000  2010  \n",
      "3        535700000  2010  \n",
      "4        513900000  2010  \n",
      "...            ...   ...  \n",
      "3382           NaN  2018  \n",
      "3383           NaN  2018  \n",
      "3384           NaN  2018  \n",
      "3385           NaN  2018  \n",
      "3386           NaN  2018  \n",
      "\n",
      "[3387 rows x 5 columns]\n"
     ]
    }
   ],
   "source": [
    "movie_gross_data = pd.read_csv(\"zippedData/bom.movie_gross.csv.gz\")\n",
    "print(movie_gross_data)"
   ]
  },
  {
   "cell_type": "code",
   "execution_count": 3,
   "metadata": {},
   "outputs": [
    {
     "name": "stdout",
     "output_type": "stream",
     "text": [
      "       Unnamed: 0            genre_ids      id original_language  \\\n",
      "0               0      [12, 14, 10751]   12444                en   \n",
      "1               1  [14, 12, 16, 10751]   10191                en   \n",
      "2               2        [12, 28, 878]   10138                en   \n",
      "3               3      [16, 35, 10751]     862                en   \n",
      "4               4        [28, 878, 12]   27205                en   \n",
      "...           ...                  ...     ...               ...   \n",
      "26512       26512             [27, 18]  488143                en   \n",
      "26513       26513             [18, 53]  485975                en   \n",
      "26514       26514         [14, 28, 12]  381231                en   \n",
      "26515       26515      [10751, 12, 28]  366854                en   \n",
      "26516       26516             [53, 27]  309885                en   \n",
      "\n",
      "                                     original_title  popularity release_date  \\\n",
      "0      Harry Potter and the Deathly Hallows: Part 1      33.533   2010-11-19   \n",
      "1                          How to Train Your Dragon      28.734   2010-03-26   \n",
      "2                                        Iron Man 2      28.515   2010-05-07   \n",
      "3                                         Toy Story      28.005   1995-11-22   \n",
      "4                                         Inception      27.920   2010-07-16   \n",
      "...                                             ...         ...          ...   \n",
      "26512                         Laboratory Conditions       0.600   2018-10-13   \n",
      "26513                               _EXHIBIT_84xxx_       0.600   2018-05-01   \n",
      "26514                                  The Last One       0.600   2018-10-01   \n",
      "26515                                  Trailer Made       0.600   2018-06-22   \n",
      "26516                                    The Church       0.600   2018-10-05   \n",
      "\n",
      "                                              title  vote_average  vote_count  \n",
      "0      Harry Potter and the Deathly Hallows: Part 1           7.7       10788  \n",
      "1                          How to Train Your Dragon           7.7        7610  \n",
      "2                                        Iron Man 2           6.8       12368  \n",
      "3                                         Toy Story           7.9       10174  \n",
      "4                                         Inception           8.3       22186  \n",
      "...                                             ...           ...         ...  \n",
      "26512                         Laboratory Conditions           0.0           1  \n",
      "26513                               _EXHIBIT_84xxx_           0.0           1  \n",
      "26514                                  The Last One           0.0           1  \n",
      "26515                                  Trailer Made           0.0           1  \n",
      "26516                                    The Church           0.0           1  \n",
      "\n",
      "[26517 rows x 10 columns]\n"
     ]
    }
   ],
   "source": [
    "movie_popularity = pd.read_csv(\"zippedData/tmdb.movies.csv.gz\")\n",
    "print(movie_popularity)"
   ]
  },
  {
   "cell_type": "code",
   "execution_count": 4,
   "metadata": {},
   "outputs": [
    {
     "name": "stdout",
     "output_type": "stream",
     "text": [
      "                                            title      studio  domestic_gross  \\\n",
      "0                                     Toy Story 3          BV     415000000.0   \n",
      "1                      Alice in Wonderland (2010)          BV     334200000.0   \n",
      "2     Harry Potter and the Deathly Hallows Part 1          WB     296000000.0   \n",
      "3                                       Inception          WB     292600000.0   \n",
      "4                             Shrek Forever After        P/DW     238700000.0   \n",
      "...                                           ...         ...             ...   \n",
      "3382                                    The Quake       Magn.          6200.0   \n",
      "3383                  Edward II (2018 re-release)          FM          4800.0   \n",
      "3384                                     El Pacto        Sony          2500.0   \n",
      "3385                                     The Swan  Synergetic          2400.0   \n",
      "3386                            An Actor Prepares       Grav.          1700.0   \n",
      "\n",
      "     foreign_gross  year  \n",
      "0        652000000  2010  \n",
      "1        691300000  2010  \n",
      "2        664300000  2010  \n",
      "3        535700000  2010  \n",
      "4        513900000  2010  \n",
      "...            ...   ...  \n",
      "3382             0  2018  \n",
      "3383             0  2018  \n",
      "3384             0  2018  \n",
      "3385             0  2018  \n",
      "3386             0  2018  \n",
      "\n",
      "[3382 rows x 5 columns]\n"
     ]
    }
   ],
   "source": [
    "#cleaning \n",
    "movie_gross_data = pd.read_csv(\"zippedData/bom.movie_gross.csv.gz\")\n",
    "movie_gross_data[\"foreign_gross\"].fillna(0, inplace = True)\n",
    "movie_gross_data[\"domestic_gross\"].fillna(0, inplace = True)\n",
    "movie_gross_data.dropna(inplace = True)\n",
    "print(movie_gross_data)"
   ]
  },
  {
   "cell_type": "code",
   "execution_count": 5,
   "metadata": {},
   "outputs": [],
   "source": [
    "#cleaning \n",
    "movie_gross_data[\"domestic_gross\"].replace(',','', regex = True, inplace = True)\n",
    "movie_gross_data[\"foreign_gross\"].replace(',','', regex = True, inplace = True)"
   ]
  },
  {
   "cell_type": "code",
   "execution_count": 6,
   "metadata": {},
   "outputs": [
    {
     "name": "stdout",
     "output_type": "stream",
     "text": [
      "                                            title      studio  domestic_gross  \\\n",
      "0                                     Toy Story 3          BV     415000000.0   \n",
      "1                      Alice in Wonderland (2010)          BV     334200000.0   \n",
      "2     Harry Potter and the Deathly Hallows Part 1          WB     296000000.0   \n",
      "3                                       Inception          WB     292600000.0   \n",
      "4                             Shrek Forever After        P/DW     238700000.0   \n",
      "...                                           ...         ...             ...   \n",
      "3382                                    The Quake       Magn.          6200.0   \n",
      "3383                  Edward II (2018 re-release)          FM          4800.0   \n",
      "3384                                     El Pacto        Sony          2500.0   \n",
      "3385                                     The Swan  Synergetic          2400.0   \n",
      "3386                            An Actor Prepares       Grav.          1700.0   \n",
      "\n",
      "     foreign_gross  year   total_gross  \n",
      "0        652000000  2010  1.067000e+09  \n",
      "1        691300000  2010  1.025500e+09  \n",
      "2        664300000  2010  9.603000e+08  \n",
      "3        535700000  2010  8.283000e+08  \n",
      "4        513900000  2010  7.526000e+08  \n",
      "...            ...   ...           ...  \n",
      "3382             0  2018  6.200000e+03  \n",
      "3383             0  2018  4.800000e+03  \n",
      "3384             0  2018  2.500000e+03  \n",
      "3385             0  2018  2.400000e+03  \n",
      "3386             0  2018  1.700000e+03  \n",
      "\n",
      "[3382 rows x 6 columns]\n"
     ]
    }
   ],
   "source": [
    "movie_gross_data[\"total_gross\"] = movie_gross_data[\"foreign_gross\"].astype(float) + movie_gross_data[\"domestic_gross\"].astype(float)\n",
    "print(movie_gross_data)"
   ]
  },
  {
   "cell_type": "markdown",
   "metadata": {},
   "source": [
    "Using zipfile to unzip imdb database and creating connection to the database"
   ]
  },
  {
   "cell_type": "code",
   "execution_count": 7,
   "metadata": {},
   "outputs": [],
   "source": [
    "with zipfile.ZipFile(\"zippedData/im.db.zip\", \"r\") as zObject:\n",
    "        zObject.extractall()"
   ]
  },
  {
   "cell_type": "code",
   "execution_count": 8,
   "metadata": {},
   "outputs": [],
   "source": [
    "conn = sqlite3.connect(\"im.db\")\n",
    "cur = conn.cursor()"
   ]
  },
  {
   "cell_type": "markdown",
   "metadata": {},
   "source": [
    "Ensuring database is pulling correctly by running simple queries, analyzing columns to see where movie_basics and movie_ratings tables join"
   ]
  },
  {
   "cell_type": "code",
   "execution_count": 9,
   "metadata": {},
   "outputs": [
    {
     "data": {
      "text/html": [
       "<div>\n",
       "<style scoped>\n",
       "    .dataframe tbody tr th:only-of-type {\n",
       "        vertical-align: middle;\n",
       "    }\n",
       "\n",
       "    .dataframe tbody tr th {\n",
       "        vertical-align: top;\n",
       "    }\n",
       "\n",
       "    .dataframe thead th {\n",
       "        text-align: right;\n",
       "    }\n",
       "</style>\n",
       "<table border=\"1\" class=\"dataframe\">\n",
       "  <thead>\n",
       "    <tr style=\"text-align: right;\">\n",
       "      <th></th>\n",
       "      <th>movie_id</th>\n",
       "      <th>primary_title</th>\n",
       "      <th>original_title</th>\n",
       "      <th>start_year</th>\n",
       "      <th>runtime_minutes</th>\n",
       "      <th>genres</th>\n",
       "    </tr>\n",
       "  </thead>\n",
       "  <tbody>\n",
       "    <tr>\n",
       "      <th>0</th>\n",
       "      <td>tt0187902</td>\n",
       "      <td>How Huang Fei-hong Rescued the Orphan from the...</td>\n",
       "      <td>How Huang Fei-hong Rescued the Orphan from the...</td>\n",
       "      <td>2011</td>\n",
       "      <td>NaN</td>\n",
       "      <td>None</td>\n",
       "    </tr>\n",
       "    <tr>\n",
       "      <th>1</th>\n",
       "      <td>tt0364201</td>\n",
       "      <td>Aman Ke Farishtey</td>\n",
       "      <td>Aman Ke Farishtey</td>\n",
       "      <td>2016</td>\n",
       "      <td>137.0</td>\n",
       "      <td>Action</td>\n",
       "    </tr>\n",
       "    <tr>\n",
       "      <th>2</th>\n",
       "      <td>tt6848590</td>\n",
       "      <td>Moonshine Meat Market Mayhem</td>\n",
       "      <td>Moonshine Meat Market Mayhem</td>\n",
       "      <td>2016</td>\n",
       "      <td>NaN</td>\n",
       "      <td>Action,Adult,Comedy</td>\n",
       "    </tr>\n",
       "    <tr>\n",
       "      <th>3</th>\n",
       "      <td>tt10097958</td>\n",
       "      <td>Gripped: Climbing Killer Pillar</td>\n",
       "      <td>Gripped: Climbing Killer Pillar</td>\n",
       "      <td>2019</td>\n",
       "      <td>NaN</td>\n",
       "      <td>Action,Adventure</td>\n",
       "    </tr>\n",
       "    <tr>\n",
       "      <th>4</th>\n",
       "      <td>tt0448694</td>\n",
       "      <td>Puss in Boots</td>\n",
       "      <td>Puss in Boots</td>\n",
       "      <td>2011</td>\n",
       "      <td>90.0</td>\n",
       "      <td>Action,Adventure,Animation</td>\n",
       "    </tr>\n",
       "  </tbody>\n",
       "</table>\n",
       "</div>"
      ],
      "text/plain": [
       "     movie_id                                      primary_title  \\\n",
       "0   tt0187902  How Huang Fei-hong Rescued the Orphan from the...   \n",
       "1   tt0364201                                  Aman Ke Farishtey   \n",
       "2   tt6848590                       Moonshine Meat Market Mayhem   \n",
       "3  tt10097958                    Gripped: Climbing Killer Pillar   \n",
       "4   tt0448694                                      Puss in Boots   \n",
       "\n",
       "                                      original_title  start_year  \\\n",
       "0  How Huang Fei-hong Rescued the Orphan from the...        2011   \n",
       "1                                  Aman Ke Farishtey        2016   \n",
       "2                       Moonshine Meat Market Mayhem        2016   \n",
       "3                    Gripped: Climbing Killer Pillar        2019   \n",
       "4                                      Puss in Boots        2011   \n",
       "\n",
       "   runtime_minutes                      genres  \n",
       "0              NaN                        None  \n",
       "1            137.0                      Action  \n",
       "2              NaN         Action,Adult,Comedy  \n",
       "3              NaN            Action,Adventure  \n",
       "4             90.0  Action,Adventure,Animation  "
      ]
     },
     "execution_count": 9,
     "metadata": {},
     "output_type": "execute_result"
    }
   ],
   "source": [
    "pd.read_sql(\"\"\"\n",
    "SELECT *\n",
    "FROM movie_basics\n",
    "GROUP BY genres\n",
    ";\n",
    "\"\"\", conn).head()"
   ]
  },
  {
   "cell_type": "code",
   "execution_count": 10,
   "metadata": {
    "scrolled": true
   },
   "outputs": [
    {
     "data": {
      "text/html": [
       "<div>\n",
       "<style scoped>\n",
       "    .dataframe tbody tr th:only-of-type {\n",
       "        vertical-align: middle;\n",
       "    }\n",
       "\n",
       "    .dataframe tbody tr th {\n",
       "        vertical-align: top;\n",
       "    }\n",
       "\n",
       "    .dataframe thead th {\n",
       "        text-align: right;\n",
       "    }\n",
       "</style>\n",
       "<table border=\"1\" class=\"dataframe\">\n",
       "  <thead>\n",
       "    <tr style=\"text-align: right;\">\n",
       "      <th></th>\n",
       "      <th>movie_id</th>\n",
       "      <th>averagerating</th>\n",
       "      <th>numvotes</th>\n",
       "    </tr>\n",
       "  </thead>\n",
       "  <tbody>\n",
       "    <tr>\n",
       "      <th>0</th>\n",
       "      <td>tt10356526</td>\n",
       "      <td>8.3</td>\n",
       "      <td>31</td>\n",
       "    </tr>\n",
       "    <tr>\n",
       "      <th>1</th>\n",
       "      <td>tt10384606</td>\n",
       "      <td>8.9</td>\n",
       "      <td>559</td>\n",
       "    </tr>\n",
       "    <tr>\n",
       "      <th>2</th>\n",
       "      <td>tt1042974</td>\n",
       "      <td>6.4</td>\n",
       "      <td>20</td>\n",
       "    </tr>\n",
       "    <tr>\n",
       "      <th>3</th>\n",
       "      <td>tt1043726</td>\n",
       "      <td>4.2</td>\n",
       "      <td>50352</td>\n",
       "    </tr>\n",
       "    <tr>\n",
       "      <th>4</th>\n",
       "      <td>tt1060240</td>\n",
       "      <td>6.5</td>\n",
       "      <td>21</td>\n",
       "    </tr>\n",
       "  </tbody>\n",
       "</table>\n",
       "</div>"
      ],
      "text/plain": [
       "     movie_id  averagerating  numvotes\n",
       "0  tt10356526            8.3        31\n",
       "1  tt10384606            8.9       559\n",
       "2   tt1042974            6.4        20\n",
       "3   tt1043726            4.2     50352\n",
       "4   tt1060240            6.5        21"
      ]
     },
     "execution_count": 10,
     "metadata": {},
     "output_type": "execute_result"
    }
   ],
   "source": [
    "pd.read_sql(\"\"\"\n",
    "SELECT *\n",
    "FROM movie_ratings\n",
    ";\n",
    "\"\"\", conn).head()"
   ]
  },
  {
   "cell_type": "markdown",
   "metadata": {},
   "source": [
    "# Question: What movies are doing well at the box office by genre and ratings? "
   ]
  },
  {
   "cell_type": "markdown",
   "metadata": {},
   "source": [
    "Below is the query I ran to find join the movie_ratings and movie_basics tables from the imdb database to pull genres and movie ratings. I wanted to pull genres with a rating of 8.4 or higher and to exclude those rows that have a null value for genre. I wanted the results in descendingorder so I have ratings of 10 at the top. I then made the query into a dataframe so I can graph it and group the genres so I have a more concise and accurate dataset."
   ]
  },
  {
   "cell_type": "code",
   "execution_count": 11,
   "metadata": {
    "scrolled": true
   },
   "outputs": [
    {
     "name": "stdout",
     "output_type": "stream",
     "text": [
      "     avg_rating                        genres\n",
      "0           9.8            Comedy,Documentary\n",
      "1           9.7               Documentary,War\n",
      "2           9.7    Documentary,Family,Romance\n",
      "3           9.7      Comedy,Documentary,Sport\n",
      "4           9.6  Animation,Documentary,Family\n",
      "..          ...                           ...\n",
      "285         8.5      Action,Documentary,Sport\n",
      "286         8.5          Action,Crime,Mystery\n",
      "287         8.5            Action,Crime,Drama\n",
      "288         8.5      Action,Adventure,History\n",
      "289         8.5              Action,Adventure\n",
      "\n",
      "[290 rows x 2 columns]\n"
     ]
    }
   ],
   "source": [
    "q = \"\"\"\n",
    "SELECT averagerating as avg_rating, genres\n",
    "FROM movie_ratings\n",
    "JOIN movie_basics\n",
    "    USING (movie_id)\n",
    "WHERE averagerating >= 8.5\n",
    "AND genres IS NOT NULL\n",
    "GROUP BY genres\n",
    "ORDER BY avg_rating DESC\n",
    ";\n",
    "\"\"\"\n",
    "high_ratings = pd.read_sql(q, conn)\n",
    "print(high_ratings)"
   ]
  },
  {
   "cell_type": "markdown",
   "metadata": {},
   "source": [
    "Pulling top 30 rows from the dataframe as these are the most relevant to helping support my original question "
   ]
  },
  {
   "cell_type": "code",
   "execution_count": 12,
   "metadata": {},
   "outputs": [
    {
     "name": "stdout",
     "output_type": "stream",
     "text": [
      "    avg_rating                         genres\n",
      "0          9.8             Comedy,Documentary\n",
      "1          9.7                Documentary,War\n",
      "2          9.7     Documentary,Family,Romance\n",
      "3          9.7       Comedy,Documentary,Sport\n",
      "4          9.6   Animation,Documentary,Family\n",
      "5          9.5                  Drama,History\n",
      "6          9.4          Documentary,Drama,War\n",
      "7          9.4         Crime,Documentary,News\n",
      "8          9.4     Comedy,Documentary,Fantasy\n",
      "9          9.4               Adventure,Family\n",
      "10         9.4             Action,Documentary\n",
      "11         9.3                        Musical\n",
      "12         9.3     Documentary,Family,Musical\n",
      "13         9.3        Documentary,Drama,Music\n",
      "14         9.3         Crime,Mystery,Thriller\n",
      "15         9.3  Adventure,Documentary,History\n",
      "16         9.3   Adventure,Documentary,Family\n",
      "17         9.3               Action,Drama,War\n",
      "18         9.3   Action,Biography,Documentary\n",
      "19         9.2                            War\n",
      "20         9.2                          Sport\n",
      "21         9.2                Mystery,Romance\n",
      "22         9.2                  History,Sport\n",
      "23         9.2                  Drama,Fantasy\n",
      "24         9.2                          Drama\n",
      "25         9.2              Documentary,Sport\n",
      "26         9.2           Documentary,News,War\n",
      "27         9.2        Documentary,History,War\n",
      "28         9.2       Documentary,Family,Music\n",
      "29         9.2     Documentary,Family,Fantasy\n"
     ]
    }
   ],
   "source": [
    "top_30 = high_ratings.iloc[:30]\n",
    "\n",
    "print(top_30)"
   ]
  },
  {
   "cell_type": "markdown",
   "metadata": {},
   "source": [
    "# Visualization to learn more about the data and form recommendation"
   ]
  },
  {
   "cell_type": "code",
   "execution_count": 13,
   "metadata": {
    "scrolled": true
   },
   "outputs": [
    {
     "data": {
      "image/png": "[encoded data removed]",
      "text/plain": [
       "<Figure size 1296x360 with 1 Axes>"
      ]
     },
     "metadata": {
      "needs_background": "light"
     },
     "output_type": "display_data"
    }
   ],
   "source": [
    "plt.figure(figsize=(18, 5))\n",
    "plt.bar(top_30[\"genres\"], top_30[\"avg_rating\"], color = \"b\")\n",
    "plt.xlabel(\"Genres\")\n",
    "plt.xticks(rotation = 90)\n",
    "plt.ylabel(\"Average Rating\")\n",
    "plt.title(\"Genres with the Highest Ratings\")\n",
    "plt.legend(labels=['Average Rating'])\n",
    "plt.show()"
   ]
  },
  {
   "cell_type": "markdown",
   "metadata": {},
   "source": [
    "# Information about genres with the lowest ratings to help support our recommendation"
   ]
  },
  {
   "cell_type": "code",
   "execution_count": 14,
   "metadata": {},
   "outputs": [
    {
     "name": "stdout",
     "output_type": "stream",
     "text": [
      "     avg_rating                      genres\n",
      "0           2.0             Sci-Fi,Thriller\n",
      "1           2.0                     Romance\n",
      "2           2.0                        News\n",
      "3           2.0       Drama,Mystery,Romance\n",
      "4           2.0                       Crime\n",
      "..          ...                         ...\n",
      "119         1.0         Comedy,Drama,Horror\n",
      "120         1.0      Adventure,Drama,Sci-Fi\n",
      "121         1.0            Adventure,Comedy\n",
      "122         1.0  Adventure,Biography,Comedy\n",
      "123         1.0  Adventure,Animation,Family\n",
      "\n",
      "[124 rows x 2 columns]\n"
     ]
    }
   ],
   "source": [
    "q2 = \"\"\"\n",
    "SELECT averagerating as avg_rating, genres\n",
    "FROM movie_ratings\n",
    "JOIN movie_basics\n",
    "    USING (movie_id)\n",
    "WHERE averagerating <= 2\n",
    "AND genres IS NOT NULL\n",
    "GROUP BY genres\n",
    "ORDER BY avg_rating DESC\n",
    ";\n",
    "\"\"\"\n",
    "low_ratings = pd.read_sql(q2, conn)\n",
    "print(low_ratings)"
   ]
  },
  {
   "cell_type": "code",
   "execution_count": 15,
   "metadata": {},
   "outputs": [
    {
     "name": "stdout",
     "output_type": "stream",
     "text": [
      "    avg_rating                   genres\n",
      "0          2.0          Sci-Fi,Thriller\n",
      "1          2.0                  Romance\n",
      "2          2.0                     News\n",
      "3          2.0    Drama,Mystery,Romance\n",
      "4          2.0                    Crime\n",
      "5          2.0           Comedy,Fantasy\n",
      "6          2.0                   Comedy\n",
      "7          2.0                Biography\n",
      "8          2.0                Animation\n",
      "9          2.0             Adult,Horror\n",
      "10         2.0   Action,Horror,Thriller\n",
      "11         2.0  Action,Adventure,Horror\n",
      "12         1.9                   Sci-Fi\n",
      "13         1.9         Romance,Thriller\n",
      "14         1.9   Horror,Sci-Fi,Thriller\n",
      "15         1.9  Horror,Mystery,Thriller\n",
      "16         1.9           Fantasy,Horror\n",
      "17         1.9              Documentary\n",
      "18         1.9   Comedy,Musical,Romance\n",
      "19         1.9    Comedy,Fantasy,Horror\n",
      "20         1.9            Comedy,Family\n",
      "21         1.9     Comedy,Crime,Romance\n",
      "22         1.9      Action,Thriller,War\n",
      "23         1.9   Action,Sci-Fi,Thriller\n",
      "24         1.9      Action,Drama,Sci-Fi\n",
      "25         1.9             Action,Drama\n",
      "26         1.9       Action,Crime,Drama\n",
      "27         1.9  Action,Animation,Comedy\n",
      "28         1.9                   Action\n",
      "29         1.8                  Western\n"
     ]
    }
   ],
   "source": [
    "top_30_low = low_ratings.iloc[:30]\n",
    "\n",
    "print(top_30_low)"
   ]
  },
  {
   "cell_type": "code",
   "execution_count": 18,
   "metadata": {
    "scrolled": true
   },
   "outputs": [
    {
     "data": {
      "image/png": "[encoded data removed]",
      "text/plain": [
       "<Figure size 1296x360 with 1 Axes>"
      ]
     },
     "metadata": {
      "needs_background": "light"
     },
     "output_type": "display_data"
    }
   ],
   "source": [
    "plt.figure(figsize=(18, 5))\n",
    "plt.bar(top_30_low[\"genres\"], top_30_low[\"avg_rating\"], color = \"r\")\n",
    "plt.xlabel(\"Genres\")\n",
    "plt.xticks(rotation = 90)\n",
    "plt.ylabel(\"Average Rating\")\n",
    "plt.title(\"Genres with the Highest Ratings\")\n",
    "plt.legend(labels=['Average Rating'])\n",
    "plt.show()"
   ]
  },
  {
   "cell_type": "code",
   "execution_count": null,
   "metadata": {},
   "outputs": [],
   "source": []
  }
 ],
 "metadata": {
  "kernelspec": {
   "display_name": "Python (learn-env)",
   "language": "python",
   "name": "learn-env"
  },
  "language_info": {
   "codemirror_mode": {
    "name": "ipython",
    "version": 3
   },
   "file_extension": ".py",
   "mimetype": "text/x-python",
   "name": "python",
   "nbconvert_exporter": "python",
   "pygments_lexer": "ipython3",
   "version": "3.8.5"
  }
 },
 "nbformat": 4,
 "nbformat_minor": 4
}
